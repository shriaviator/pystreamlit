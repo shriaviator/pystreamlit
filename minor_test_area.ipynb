{
 "cells": [
  {
   "source": [
    "- [ ] sheet 2 intl departure needs to be taken into account \n",
    "- [ ] eng arrival and base departure needs to be finalised\n",
    "- [ ] move entire code into seperate repositiory \n",
    "- [ ] understand stremlit "
   ],
   "cell_type": "markdown",
   "metadata": {}
  },
  {
   "cell_type": "code",
   "execution_count": 1,
   "metadata": {},
   "outputs": [],
   "source": [
    "import matplotlib.pyplot as plt\n",
    "import numpy as np\n",
    "import pandas as pd\n",
    "import pickle\n",
    "import gspread\n",
    "from oauth2client.service_account import ServiceAccountCredentials\n",
    "import datetime\n",
    "import pickle\n",
    "import re\n",
    "from vega_datasets import data\n",
    "\n",
    "temp_list = pickle.load(open(\"gsheet_pickle.p\", \"rb\"))\n",
    "# importing from pickle \n",
    "alpha = temp_list[0]\n",
    "# seperate master datframe being created for all details after all modification\n",
    "master_df = pd.DataFrame(columns =['Dept Arp', 'engg_arr', 'engg_dep', 'deptype', 'Arvl Arp', 'Flt Desg',\n",
    "       'Block Time', 'aocs_dep', 'aocs_arr', 'Text Comment'])\n",
    "\n",
    "\n"
   ]
  },
  {
   "cell_type": "code",
   "execution_count": 2,
   "metadata": {},
   "outputs": [
    {
     "output_type": "execute_result",
     "data": {
      "text/plain": [
       "  Dept Arp  engg_arr  deptype Arvl Arp Flt Desg Text Comment Block Time  \\\n",
       "0      IXC     False    False      GOI  6E 0389          A10       2:45   \n",
       "1      GOI     False    False      IXC  6E 0391          A10       2:40   \n",
       "2      BLR     False    False      RPR  6E 0378         A100       2:00   \n",
       "3      RPR     False    False      BLR  6E 0382         A100       1:35   \n",
       "4      BLR     False    False      VGA  6E 0507         A100       1:20   \n",
       "\n",
       "  variable                value  \n",
       "0       D1  2021-02-01 14:25:00  \n",
       "1       D1  2021-02-01 17:40:00  \n",
       "2       D1  2021-02-01 08:30:00  \n",
       "3       D1  2021-02-01 11:10:00  \n",
       "4       D1  2021-02-01 13:20:00  "
      ],
      "text/html": "<div>\n<style scoped>\n    .dataframe tbody tr th:only-of-type {\n        vertical-align: middle;\n    }\n\n    .dataframe tbody tr th {\n        vertical-align: top;\n    }\n\n    .dataframe thead th {\n        text-align: right;\n    }\n</style>\n<table border=\"1\" class=\"dataframe\">\n  <thead>\n    <tr style=\"text-align: right;\">\n      <th></th>\n      <th>Dept Arp</th>\n      <th>engg_arr</th>\n      <th>deptype</th>\n      <th>Arvl Arp</th>\n      <th>Flt Desg</th>\n      <th>Text Comment</th>\n      <th>Block Time</th>\n      <th>variable</th>\n      <th>value</th>\n    </tr>\n  </thead>\n  <tbody>\n    <tr>\n      <th>0</th>\n      <td>IXC</td>\n      <td>False</td>\n      <td>False</td>\n      <td>GOI</td>\n      <td>6E 0389</td>\n      <td>A10</td>\n      <td>2:45</td>\n      <td>D1</td>\n      <td>2021-02-01 14:25:00</td>\n    </tr>\n    <tr>\n      <th>1</th>\n      <td>GOI</td>\n      <td>False</td>\n      <td>False</td>\n      <td>IXC</td>\n      <td>6E 0391</td>\n      <td>A10</td>\n      <td>2:40</td>\n      <td>D1</td>\n      <td>2021-02-01 17:40:00</td>\n    </tr>\n    <tr>\n      <th>2</th>\n      <td>BLR</td>\n      <td>False</td>\n      <td>False</td>\n      <td>RPR</td>\n      <td>6E 0378</td>\n      <td>A100</td>\n      <td>2:00</td>\n      <td>D1</td>\n      <td>2021-02-01 08:30:00</td>\n    </tr>\n    <tr>\n      <th>3</th>\n      <td>RPR</td>\n      <td>False</td>\n      <td>False</td>\n      <td>BLR</td>\n      <td>6E 0382</td>\n      <td>A100</td>\n      <td>1:35</td>\n      <td>D1</td>\n      <td>2021-02-01 11:10:00</td>\n    </tr>\n    <tr>\n      <th>4</th>\n      <td>BLR</td>\n      <td>False</td>\n      <td>False</td>\n      <td>VGA</td>\n      <td>6E 0507</td>\n      <td>A100</td>\n      <td>1:20</td>\n      <td>D1</td>\n      <td>2021-02-01 13:20:00</td>\n    </tr>\n  </tbody>\n</table>\n</div>"
     },
     "metadata": {},
     "execution_count": 2
    }
   ],
   "source": [
    "alpha.head()\n"
   ]
  },
  {
   "cell_type": "code",
   "execution_count": 3,
   "metadata": {},
   "outputs": [],
   "source": [
    "# pseudo code \n",
    "# sort as per column \"D2 \"\n",
    "# last row copy and add a new row for base arrival case \n",
    "# first row  make engg equal to D2 \n",
    "# all middle rows make engg arrival  previous row A2 \n",
    "# add a day column at the last reprenting the day "
   ]
  },
  {
   "cell_type": "code",
   "execution_count": 4,
   "metadata": {},
   "outputs": [],
   "source": [
    "\n",
    "def make_last_row(onedf ,arr_D):\n",
    "    temp_false_list = []\n",
    "    for india in range(onedf.shape[1]):\n",
    "        temp_false_list.append(False)\n",
    "    temp_false_list\n",
    "    onedf.loc[len(onedf)] = temp_false_list\n",
    "    onedf.loc[(len(onedf)-1), \"Dept Arp\" ] =onedf.loc[(len(onedf)-2), \"Arvl Arp\" ]\n",
    "    onedf.loc[(len(onedf)-1), \"engg_arr\" ] =onedf.loc[(len(onedf)-2), arr_D]\n",
    "    onedf.loc[(len(onedf)-1), \"Text Comment\" ] =onedf.loc[(len(onedf)-2), \"Text Comment\" ]\n",
    "    return onedf\n",
    "# right_df = make_last_row(right_df,arrDay)\n",
    "# right_df\n",
    "\n",
    "\n",
    "\n"
   ]
  },
  {
   "cell_type": "code",
   "execution_count": 5,
   "metadata": {},
   "outputs": [],
   "source": [
    "def AddBaseArrDep(onedf ,dep_day,arr_day):\n",
    "    '''\n",
    "    Modify first and last row for base Departure and base arrival model \n",
    "    '''\n",
    "    for xray in range(0,len(onedf)):\n",
    "        if xray  == 0:\n",
    "            onedf.loc[xray,\"deptype\"] = \"baseDep\"\n",
    "            onedf.loc[xray,\"engg_arr\"] = \"baseAcft\"\n",
    "            onedf.loc[xray,\"engg_dep\"] = onedf.loc[xray,dep_day]\n",
    "        elif xray == len(onedf)-1:\n",
    "            \n",
    "            onedf.loc[xray,\"deptype\"] = \"baseArr\"\n",
    "           \n",
    "        else:\n",
    "            onedf.loc[xray,\"engg_arr\"] = onedf.loc[(xray-1),arr_day]\n",
    "            onedf.loc[xray,\"engg_dep\"] = onedf.loc[(xray),dep_day]\n",
    "            onedf.loc[xray,\"deptype\"] = \"Transit\"\n",
    "    return onedf\n",
    "\n",
    "\n",
    "\n",
    "# onedf.columns\n",
    "\n",
    "\n",
    "\n",
    "\n"
   ]
  },
  {
   "cell_type": "code",
   "execution_count": 6,
   "metadata": {},
   "outputs": [],
   "source": [
    "# depDay = \"D4\"\n",
    "# arrDay = \"A4\"\n",
    "# textcomment is constant and is under manual \n",
    "# x_df =alpha.loc[(alpha[\"Text Comment\"]==\"A10\") & ((alpha[\"variable\"]==depDay) | (alpha[\"variable\"]==arrDay) )]\n",
    "# removing false entries and sorting as false entries cannot be sorted \n",
    "\n",
    "def df_flat_function(test_df , dep_D,arr_D):\n",
    "    test_df = test_df.sort_values(by=\"value\")\n",
    "    test_df =test_df.pivot(index = ['Dept Arp', 'engg_arr', 'deptype', 'Arvl Arp', 'Flt Desg','Text Comment', 'Block Time'] ,columns = \"variable\" ,values = 'value')\n",
    "    test_df = test_df.sort_values(by=dep_D)\n",
    "    flattened = pd.DataFrame(test_df.to_records())\n",
    "    flattened[\"engg_dep\"]=False\n",
    "    flattened =  flattened[['Dept Arp', 'engg_arr','engg_dep' ,'deptype', 'Arvl Arp', 'Flt Desg','Block Time', dep_D, arr_D,'Text Comment']]\n",
    "    \n",
    "    \n",
    "    return flattened\n",
    "\n",
    "\n",
    "# right_df"
   ]
  },
  {
   "cell_type": "code",
   "execution_count": 7,
   "metadata": {},
   "outputs": [],
   "source": [
    "# looping over for one month and keeping the comment constant manually \n",
    "# for india in range(1,32):\n",
    "#     depDay = \"D\"+str(india)\n",
    "#     arrDay = \"A\" +str(india)\n",
    "    \n",
    "#     x_df =alpha.loc[(alpha[\"Text Comment\"]==\"A10\") & ((alpha[\"variable\"]==depDay) | (alpha[\"variable\"]==arrDay) )]\n",
    "#     if ((depDay in x_df[\"variable\"].unique()) and (arrDay in x_df[\"variable\"].unique())):\n",
    "#         right_df = df_flat_function(x_df ,depDay,arrDay)\n",
    "#         make_last_row(right_df,arrDay)\n",
    "#         AddBaseArrDep(right_df,depDay,arrDay)\n",
    "#         right_df = right_df.rename(columns={depDay:'aocs_dep',arrDay:\"aocs_arr\"})\n",
    "#         master_df= master_df.append(right_df,ignore_index=True)\n",
    "\n"
   ]
  },
  {
   "cell_type": "code",
   "execution_count": 8,
   "metadata": {},
   "outputs": [
    {
     "output_type": "execute_result",
     "data": {
      "text/plain": [
       "Empty DataFrame\n",
       "Columns: [Dept Arp, engg_arr, engg_dep, deptype, Arvl Arp, Flt Desg, Block Time, aocs_dep, aocs_arr, Text Comment]\n",
       "Index: []"
      ],
      "text/html": "<div>\n<style scoped>\n    .dataframe tbody tr th:only-of-type {\n        vertical-align: middle;\n    }\n\n    .dataframe tbody tr th {\n        vertical-align: top;\n    }\n\n    .dataframe thead th {\n        text-align: right;\n    }\n</style>\n<table border=\"1\" class=\"dataframe\">\n  <thead>\n    <tr style=\"text-align: right;\">\n      <th></th>\n      <th>Dept Arp</th>\n      <th>engg_arr</th>\n      <th>engg_dep</th>\n      <th>deptype</th>\n      <th>Arvl Arp</th>\n      <th>Flt Desg</th>\n      <th>Block Time</th>\n      <th>aocs_dep</th>\n      <th>aocs_arr</th>\n      <th>Text Comment</th>\n    </tr>\n  </thead>\n  <tbody>\n  </tbody>\n</table>\n</div>"
     },
     "metadata": {},
     "execution_count": 8
    }
   ],
   "source": [
    "\n",
    "master_df.head(40)"
   ]
  },
  {
   "cell_type": "code",
   "execution_count": 9,
   "metadata": {},
   "outputs": [
    {
     "output_type": "stream",
     "name": "stdout",
     "text": [
      "Wall time: 9min 9s\n"
     ]
    }
   ],
   "source": [
    "%%time\n",
    "\n",
    "for iran in list(alpha[\"Text Comment\"].unique()):\n",
    "    for india in range(1,32):\n",
    "        depDay = \"D\"+str(india)\n",
    "        arrDay = \"A\" +str(india)\n",
    "    \n",
    "        x_df =alpha.loc[(alpha[\"Text Comment\"]== iran) & ((alpha[\"variable\"]==depDay) | (alpha[\"variable\"]==arrDay) )]\n",
    "        if ((depDay in x_df[\"variable\"].unique()) and (arrDay in x_df[\"variable\"].unique())):\n",
    "                right_df = df_flat_function(x_df ,depDay,arrDay)\n",
    "                make_last_row(right_df,arrDay)\n",
    "                AddBaseArrDep(right_df,depDay,arrDay)\n",
    "                right_df = right_df.rename(columns={depDay:'aocs_dep',arrDay:\"aocs_arr\"})\n",
    "                master_df= master_df.append(right_df,ignore_index=True)\n",
    "\n"
   ]
  },
  {
   "cell_type": "code",
   "execution_count": 10,
   "metadata": {},
   "outputs": [
    {
     "output_type": "execute_result",
     "data": {
      "text/plain": [
       "  Dept Arp             engg_arr             engg_dep  deptype Arvl Arp  \\\n",
       "0      IXC             baseAcft  2021-02-01 14:25:00  baseDep      GOI   \n",
       "1      GOI  2021-02-01 17:10:00  2021-02-01 17:40:00  Transit      IXC   \n",
       "2      IXC  2021-02-01 20:20:00                False  baseArr    False   \n",
       "3      IXC             baseAcft  2021-02-02 07:35:00  baseDep      PNQ   \n",
       "4      PNQ  2021-02-02 10:00:00  2021-02-02 10:30:00  Transit      IXC   \n",
       "\n",
       "  Flt Desg Block Time             aocs_dep             aocs_arr Text Comment  \n",
       "0  6E 0389       2:45  2021-02-01 14:25:00  2021-02-01 17:10:00          A10  \n",
       "1  6E 0391       2:40  2021-02-01 17:40:00  2021-02-01 20:20:00          A10  \n",
       "2    False      False                False                False          A10  \n",
       "3  6E 6514       2:25  2021-02-02 07:35:00  2021-02-02 10:00:00          A10  \n",
       "4  6E 6515       2:30  2021-02-02 10:30:00  2021-02-02 13:00:00          A10  "
      ],
      "text/html": "<div>\n<style scoped>\n    .dataframe tbody tr th:only-of-type {\n        vertical-align: middle;\n    }\n\n    .dataframe tbody tr th {\n        vertical-align: top;\n    }\n\n    .dataframe thead th {\n        text-align: right;\n    }\n</style>\n<table border=\"1\" class=\"dataframe\">\n  <thead>\n    <tr style=\"text-align: right;\">\n      <th></th>\n      <th>Dept Arp</th>\n      <th>engg_arr</th>\n      <th>engg_dep</th>\n      <th>deptype</th>\n      <th>Arvl Arp</th>\n      <th>Flt Desg</th>\n      <th>Block Time</th>\n      <th>aocs_dep</th>\n      <th>aocs_arr</th>\n      <th>Text Comment</th>\n    </tr>\n  </thead>\n  <tbody>\n    <tr>\n      <th>0</th>\n      <td>IXC</td>\n      <td>baseAcft</td>\n      <td>2021-02-01 14:25:00</td>\n      <td>baseDep</td>\n      <td>GOI</td>\n      <td>6E 0389</td>\n      <td>2:45</td>\n      <td>2021-02-01 14:25:00</td>\n      <td>2021-02-01 17:10:00</td>\n      <td>A10</td>\n    </tr>\n    <tr>\n      <th>1</th>\n      <td>GOI</td>\n      <td>2021-02-01 17:10:00</td>\n      <td>2021-02-01 17:40:00</td>\n      <td>Transit</td>\n      <td>IXC</td>\n      <td>6E 0391</td>\n      <td>2:40</td>\n      <td>2021-02-01 17:40:00</td>\n      <td>2021-02-01 20:20:00</td>\n      <td>A10</td>\n    </tr>\n    <tr>\n      <th>2</th>\n      <td>IXC</td>\n      <td>2021-02-01 20:20:00</td>\n      <td>False</td>\n      <td>baseArr</td>\n      <td>False</td>\n      <td>False</td>\n      <td>False</td>\n      <td>False</td>\n      <td>False</td>\n      <td>A10</td>\n    </tr>\n    <tr>\n      <th>3</th>\n      <td>IXC</td>\n      <td>baseAcft</td>\n      <td>2021-02-02 07:35:00</td>\n      <td>baseDep</td>\n      <td>PNQ</td>\n      <td>6E 6514</td>\n      <td>2:25</td>\n      <td>2021-02-02 07:35:00</td>\n      <td>2021-02-02 10:00:00</td>\n      <td>A10</td>\n    </tr>\n    <tr>\n      <th>4</th>\n      <td>PNQ</td>\n      <td>2021-02-02 10:00:00</td>\n      <td>2021-02-02 10:30:00</td>\n      <td>Transit</td>\n      <td>IXC</td>\n      <td>6E 6515</td>\n      <td>2:30</td>\n      <td>2021-02-02 10:30:00</td>\n      <td>2021-02-02 13:00:00</td>\n      <td>A10</td>\n    </tr>\n  </tbody>\n</table>\n</div>"
     },
     "metadata": {},
     "execution_count": 10
    }
   ],
   "source": [
    "master_df.head()"
   ]
  },
  {
   "cell_type": "code",
   "execution_count": 11,
   "metadata": {},
   "outputs": [
    {
     "output_type": "execute_result",
     "data": {
      "text/plain": [
       "261"
      ]
     },
     "metadata": {},
     "execution_count": 11
    }
   ],
   "source": [
    "len(list(alpha[\"Text Comment\"].unique()))\n",
    "    \n"
   ]
  },
  {
   "cell_type": "code",
   "execution_count": 12,
   "metadata": {},
   "outputs": [],
   "source": [
    "newdf = master_df\n",
    "newdf[\"depDay\"]=False\n",
    "for xray in range(0,len(newdf)):\n",
    "    if newdf.loc[xray,\"engg_dep\"] != False:\n",
    "        newdf.loc[xray,\"depDay\"] = \"D\" +str(newdf.loc[xray,\"engg_dep\"].day)\n",
    "    elif newdf.loc[xray,\"engg_dep\"] == False:\n",
    "        newdf.loc[xray,\"depDay\"] = \"D\" +str(newdf.loc[xray,\"engg_arr\"].day)"
   ]
  },
  {
   "cell_type": "code",
   "execution_count": 13,
   "metadata": {},
   "outputs": [
    {
     "output_type": "execute_result",
     "data": {
      "text/plain": [
       "True"
      ]
     },
     "metadata": {},
     "execution_count": 13
    }
   ],
   "source": [
    "pickle.dump(newdf, open(\"minortest_pickle.p\", \"wb\"))\n",
    "\n",
    "gamma = pickle.load(open(\"minortest_pickle.p\", \"rb\"))\n",
    "\n",
    "gamma.equals(newdf)"
   ]
  },
  {
   "cell_type": "code",
   "execution_count": 14,
   "metadata": {},
   "outputs": [
    {
     "output_type": "execute_result",
     "data": {
      "text/plain": [
       "      Dept Arp             engg_arr             engg_dep  deptype Arvl Arp  \\\n",
       "12266      HYD  2021-02-06 15:25:00  2021-02-06 16:50:00  Transit      TRZ   \n",
       "22178      HYD  2021-02-15 19:20:00  2021-02-15 20:20:00  Transit      BLR   \n",
       "13498      BLR  2021-02-20 23:35:00                False  baseArr    False   \n",
       "27516      HYD  2021-02-20 23:05:00                False  baseArr    False   \n",
       "32861      CNN  2021-02-15 15:15:00  2021-02-15 16:05:00  Transit      BLR   \n",
       "\n",
       "      Flt Desg Block Time             aocs_dep             aocs_arr  \\\n",
       "12266  6E 7318       1:55  2021-02-06 16:50:00  2021-02-06 18:45:00   \n",
       "22178  6E 6916       1:10  2021-02-15 20:20:00  2021-02-15 21:30:00   \n",
       "13498    False      False                False                False   \n",
       "27516    False      False                False                False   \n",
       "32861  6E 7973       1:15  2021-02-15 16:05:00  2021-02-15 17:20:00   \n",
       "\n",
       "      Text Comment depDay  \n",
       "12266     A320_110     D6  \n",
       "22178          A38    D15  \n",
       "13498     A320_201    D20  \n",
       "27516          A70    D20  \n",
       "32861       ATR003    D15  "
      ],
      "text/html": "<div>\n<style scoped>\n    .dataframe tbody tr th:only-of-type {\n        vertical-align: middle;\n    }\n\n    .dataframe tbody tr th {\n        vertical-align: top;\n    }\n\n    .dataframe thead th {\n        text-align: right;\n    }\n</style>\n<table border=\"1\" class=\"dataframe\">\n  <thead>\n    <tr style=\"text-align: right;\">\n      <th></th>\n      <th>Dept Arp</th>\n      <th>engg_arr</th>\n      <th>engg_dep</th>\n      <th>deptype</th>\n      <th>Arvl Arp</th>\n      <th>Flt Desg</th>\n      <th>Block Time</th>\n      <th>aocs_dep</th>\n      <th>aocs_arr</th>\n      <th>Text Comment</th>\n      <th>depDay</th>\n    </tr>\n  </thead>\n  <tbody>\n    <tr>\n      <th>12266</th>\n      <td>HYD</td>\n      <td>2021-02-06 15:25:00</td>\n      <td>2021-02-06 16:50:00</td>\n      <td>Transit</td>\n      <td>TRZ</td>\n      <td>6E 7318</td>\n      <td>1:55</td>\n      <td>2021-02-06 16:50:00</td>\n      <td>2021-02-06 18:45:00</td>\n      <td>A320_110</td>\n      <td>D6</td>\n    </tr>\n    <tr>\n      <th>22178</th>\n      <td>HYD</td>\n      <td>2021-02-15 19:20:00</td>\n      <td>2021-02-15 20:20:00</td>\n      <td>Transit</td>\n      <td>BLR</td>\n      <td>6E 6916</td>\n      <td>1:10</td>\n      <td>2021-02-15 20:20:00</td>\n      <td>2021-02-15 21:30:00</td>\n      <td>A38</td>\n      <td>D15</td>\n    </tr>\n    <tr>\n      <th>13498</th>\n      <td>BLR</td>\n      <td>2021-02-20 23:35:00</td>\n      <td>False</td>\n      <td>baseArr</td>\n      <td>False</td>\n      <td>False</td>\n      <td>False</td>\n      <td>False</td>\n      <td>False</td>\n      <td>A320_201</td>\n      <td>D20</td>\n    </tr>\n    <tr>\n      <th>27516</th>\n      <td>HYD</td>\n      <td>2021-02-20 23:05:00</td>\n      <td>False</td>\n      <td>baseArr</td>\n      <td>False</td>\n      <td>False</td>\n      <td>False</td>\n      <td>False</td>\n      <td>False</td>\n      <td>A70</td>\n      <td>D20</td>\n    </tr>\n    <tr>\n      <th>32861</th>\n      <td>CNN</td>\n      <td>2021-02-15 15:15:00</td>\n      <td>2021-02-15 16:05:00</td>\n      <td>Transit</td>\n      <td>BLR</td>\n      <td>6E 7973</td>\n      <td>1:15</td>\n      <td>2021-02-15 16:05:00</td>\n      <td>2021-02-15 17:20:00</td>\n      <td>ATR003</td>\n      <td>D15</td>\n    </tr>\n  </tbody>\n</table>\n</div>"
     },
     "metadata": {},
     "execution_count": 14
    }
   ],
   "source": [
    "# Manual Testing \n",
    "\n",
    "test_alpha = gamma.sample(n=5)\n",
    "test_alpha"
   ]
  },
  {
   "cell_type": "code",
   "execution_count": 2,
   "metadata": {},
   "outputs": [
    {
     "output_type": "error",
     "ename": "NameError",
     "evalue": "name 'data' is not defined",
     "traceback": [
      "\u001b[1;31m---------------------------------------------------------------------------\u001b[0m",
      "\u001b[1;31mNameError\u001b[0m                                 Traceback (most recent call last)",
      "\u001b[1;32m<ipython-input-2-9becaba24a23>\u001b[0m in \u001b[0;36m<module>\u001b[1;34m\u001b[0m\n\u001b[1;32m----> 1\u001b[1;33m \u001b[0msource\u001b[0m \u001b[1;33m=\u001b[0m \u001b[0mdata\u001b[0m\u001b[1;33m.\u001b[0m\u001b[0mstocks\u001b[0m\u001b[1;33m(\u001b[0m\u001b[1;33m)\u001b[0m\u001b[1;33m\u001b[0m\u001b[1;33m\u001b[0m\u001b[0m\n\u001b[0m\u001b[0;32m      2\u001b[0m \u001b[1;33m\u001b[0m\u001b[0m\n\u001b[0;32m      3\u001b[0m alt.Chart(source).mark_line().encode(\n\u001b[0;32m      4\u001b[0m         \u001b[0mx\u001b[0m\u001b[1;33m=\u001b[0m\u001b[1;34m'date'\u001b[0m\u001b[1;33m,\u001b[0m\u001b[1;33m\u001b[0m\u001b[1;33m\u001b[0m\u001b[0m\n\u001b[0;32m      5\u001b[0m         \u001b[0my\u001b[0m\u001b[1;33m=\u001b[0m\u001b[1;34m'price'\u001b[0m\u001b[1;33m,\u001b[0m\u001b[1;33m\u001b[0m\u001b[1;33m\u001b[0m\u001b[0m\n",
      "\u001b[1;31mNameError\u001b[0m: name 'data' is not defined"
     ]
    }
   ],
   "source": [
    "source = data.stocks()\n",
    "    \n",
    "alt.Chart(source).mark_line().encode(\n",
    "        x='date',\n",
    "        y='price',\n",
    "        color='symbol',\n",
    "        strokeDash='symbol',\n",
    "    )"
   ]
  }
 ],
 "metadata": {
  "kernelspec": {
   "display_name": "Python 3",
   "language": "python",
   "name": "python3"
  },
  "language_info": {
   "codemirror_mode": {
    "name": "ipython",
    "version": 3
   },
   "file_extension": ".py",
   "mimetype": "text/x-python",
   "name": "python",
   "nbconvert_exporter": "python",
   "pygments_lexer": "ipython3",
   "version": "3.8.7-final"
  }
 },
 "nbformat": 4,
 "nbformat_minor": 2
}