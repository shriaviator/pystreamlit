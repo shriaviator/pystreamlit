{
 "cells": [
  {
   "source": [
    "- [ ] sheet 2 intl departure needs to be taken into account \n",
    "- [ ] eng arrival and base departure needs to be finalised\n",
    "- [ ] move entire code into seperate repositiory \n",
    "- [ ] understand stremlit "
   ],
   "cell_type": "markdown",
   "metadata": {}
  },
  {
   "cell_type": "code",
   "execution_count": 1,
   "metadata": {},
   "outputs": [],
   "source": [
    "import matplotlib.pyplot as plt\n",
    "import numpy as np\n",
    "import pandas as pd\n",
    "import pickle\n",
    "import gspread\n",
    "from oauth2client.service_account import ServiceAccountCredentials\n",
    "import datetime\n",
    "import pickle\n",
    "import re\n",
    "\n",
    "temp_list = pickle.load(open(\"gsheet_pickle.p\", \"rb\"))\n",
    "alpha = temp_list[0]\n",
    "master_df = pd.DataFrame(columns =['Dept Arp', 'engg_arr', 'engg_dep', 'deptype', 'Arvl Arp', 'Flt Desg',\n",
    "       'Block Time', 'D2', 'A2', 'Text Comment'])\n",
    "\n",
    "\n"
   ]
  },
  {
   "cell_type": "code",
   "execution_count": 13,
   "metadata": {},
   "outputs": [
    {
     "output_type": "execute_result",
     "data": {
      "text/plain": [
       "  Dept Arp  engg_arr  engg_dep  deptype Arvl Arp Flt Desg Block Time  \\\n",
       "0      IXC     False     False    False      PNQ  6E 6514       2:25   \n",
       "1      PNQ     False     False    False      IXC  6E 6515       2:30   \n",
       "2      IXC     False     False    False      GOI  6E 0389       2:45   \n",
       "3      GOI     False     False    False      IXC  6E 0391       2:40   \n",
       "\n",
       "                   D4                  A4 Text Comment  \n",
       "0 2021-02-04 07:35:00 2021-02-04 10:00:00          A10  \n",
       "1 2021-02-04 10:30:00 2021-02-04 13:00:00          A10  \n",
       "2 2021-02-04 14:25:00 2021-02-04 17:10:00          A10  \n",
       "3 2021-02-04 17:40:00 2021-02-04 20:20:00          A10  "
      ],
      "text/html": "<div>\n<style scoped>\n    .dataframe tbody tr th:only-of-type {\n        vertical-align: middle;\n    }\n\n    .dataframe tbody tr th {\n        vertical-align: top;\n    }\n\n    .dataframe thead th {\n        text-align: right;\n    }\n</style>\n<table border=\"1\" class=\"dataframe\">\n  <thead>\n    <tr style=\"text-align: right;\">\n      <th></th>\n      <th>Dept Arp</th>\n      <th>engg_arr</th>\n      <th>engg_dep</th>\n      <th>deptype</th>\n      <th>Arvl Arp</th>\n      <th>Flt Desg</th>\n      <th>Block Time</th>\n      <th>D4</th>\n      <th>A4</th>\n      <th>Text Comment</th>\n    </tr>\n  </thead>\n  <tbody>\n    <tr>\n      <th>0</th>\n      <td>IXC</td>\n      <td>False</td>\n      <td>False</td>\n      <td>False</td>\n      <td>PNQ</td>\n      <td>6E 6514</td>\n      <td>2:25</td>\n      <td>2021-02-04 07:35:00</td>\n      <td>2021-02-04 10:00:00</td>\n      <td>A10</td>\n    </tr>\n    <tr>\n      <th>1</th>\n      <td>PNQ</td>\n      <td>False</td>\n      <td>False</td>\n      <td>False</td>\n      <td>IXC</td>\n      <td>6E 6515</td>\n      <td>2:30</td>\n      <td>2021-02-04 10:30:00</td>\n      <td>2021-02-04 13:00:00</td>\n      <td>A10</td>\n    </tr>\n    <tr>\n      <th>2</th>\n      <td>IXC</td>\n      <td>False</td>\n      <td>False</td>\n      <td>False</td>\n      <td>GOI</td>\n      <td>6E 0389</td>\n      <td>2:45</td>\n      <td>2021-02-04 14:25:00</td>\n      <td>2021-02-04 17:10:00</td>\n      <td>A10</td>\n    </tr>\n    <tr>\n      <th>3</th>\n      <td>GOI</td>\n      <td>False</td>\n      <td>False</td>\n      <td>False</td>\n      <td>IXC</td>\n      <td>6E 0391</td>\n      <td>2:40</td>\n      <td>2021-02-04 17:40:00</td>\n      <td>2021-02-04 20:20:00</td>\n      <td>A10</td>\n    </tr>\n  </tbody>\n</table>\n</div>"
     },
     "metadata": {},
     "execution_count": 13
    }
   ],
   "source": [
    "depDay = \"D4\"\n",
    "arrDay = \"A4\"\n",
    "\n",
    "x_df =alpha.loc[(alpha[\"Text Comment\"]==\"A10\") & ((alpha[\"variable\"]==depDay) | (alpha[\"variable\"]==arrDay) )]\n",
    "# removing false entries and sorting as false entries cannot be sorted \n",
    "\n",
    "def df_flat_function(test_df , dep_D,arr_D):\n",
    "    test_df = test_df.sort_values(by=\"value\")\n",
    "    test_df =test_df.pivot(index = ['Dept Arp', 'engg_arr', 'deptype', 'Arvl Arp', 'Flt Desg','Text Comment', 'Block Time'] ,columns = \"variable\" ,values = 'value')\n",
    "    test_df = test_df.sort_values(by=dep_D)\n",
    "    flattened = pd.DataFrame(test_df.to_records())\n",
    "    flattened[\"engg_dep\"]=False\n",
    "    flattened =  flattened[['Dept Arp', 'engg_arr','engg_dep' ,'deptype', 'Arvl Arp', 'Flt Desg','Block Time', dep_D, arr_D,'Text Comment']]\n",
    "    return flattened\n",
    "\n",
    "right_df = df_flat_function(x_df ,depDay,arrDay)\n",
    "right_df"
   ]
  },
  {
   "cell_type": "code",
   "execution_count": 3,
   "metadata": {},
   "outputs": [],
   "source": [
    "# pseudo code \n",
    "# sort as per column \"D2 \"\n",
    "# last row copy and add a new row for base arrival case \n",
    "# first row  make engg equal to D2 \n",
    "# all middle rows make engg arrival  previous row A2 \n",
    "# add a day column at the last reprenting the day "
   ]
  },
  {
   "cell_type": "code",
   "execution_count": 14,
   "metadata": {},
   "outputs": [
    {
     "output_type": "execute_result",
     "data": {
      "text/plain": [
       "  Dept Arp             engg_arr  engg_dep  deptype Arvl Arp Flt Desg  \\\n",
       "0      IXC                False     False    False      PNQ  6E 6514   \n",
       "1      PNQ                False     False    False      IXC  6E 6515   \n",
       "2      IXC                False     False    False      GOI  6E 0389   \n",
       "3      GOI                False     False    False      IXC  6E 0391   \n",
       "4      IXC  2021-02-04 20:20:00     False    False    False    False   \n",
       "\n",
       "  Block Time                   D4                   A4 Text Comment  \n",
       "0       2:25  2021-02-04 07:35:00  2021-02-04 10:00:00          A10  \n",
       "1       2:30  2021-02-04 10:30:00  2021-02-04 13:00:00          A10  \n",
       "2       2:45  2021-02-04 14:25:00  2021-02-04 17:10:00          A10  \n",
       "3       2:40  2021-02-04 17:40:00  2021-02-04 20:20:00          A10  \n",
       "4      False                False                False          A10  "
      ],
      "text/html": "<div>\n<style scoped>\n    .dataframe tbody tr th:only-of-type {\n        vertical-align: middle;\n    }\n\n    .dataframe tbody tr th {\n        vertical-align: top;\n    }\n\n    .dataframe thead th {\n        text-align: right;\n    }\n</style>\n<table border=\"1\" class=\"dataframe\">\n  <thead>\n    <tr style=\"text-align: right;\">\n      <th></th>\n      <th>Dept Arp</th>\n      <th>engg_arr</th>\n      <th>engg_dep</th>\n      <th>deptype</th>\n      <th>Arvl Arp</th>\n      <th>Flt Desg</th>\n      <th>Block Time</th>\n      <th>D4</th>\n      <th>A4</th>\n      <th>Text Comment</th>\n    </tr>\n  </thead>\n  <tbody>\n    <tr>\n      <th>0</th>\n      <td>IXC</td>\n      <td>False</td>\n      <td>False</td>\n      <td>False</td>\n      <td>PNQ</td>\n      <td>6E 6514</td>\n      <td>2:25</td>\n      <td>2021-02-04 07:35:00</td>\n      <td>2021-02-04 10:00:00</td>\n      <td>A10</td>\n    </tr>\n    <tr>\n      <th>1</th>\n      <td>PNQ</td>\n      <td>False</td>\n      <td>False</td>\n      <td>False</td>\n      <td>IXC</td>\n      <td>6E 6515</td>\n      <td>2:30</td>\n      <td>2021-02-04 10:30:00</td>\n      <td>2021-02-04 13:00:00</td>\n      <td>A10</td>\n    </tr>\n    <tr>\n      <th>2</th>\n      <td>IXC</td>\n      <td>False</td>\n      <td>False</td>\n      <td>False</td>\n      <td>GOI</td>\n      <td>6E 0389</td>\n      <td>2:45</td>\n      <td>2021-02-04 14:25:00</td>\n      <td>2021-02-04 17:10:00</td>\n      <td>A10</td>\n    </tr>\n    <tr>\n      <th>3</th>\n      <td>GOI</td>\n      <td>False</td>\n      <td>False</td>\n      <td>False</td>\n      <td>IXC</td>\n      <td>6E 0391</td>\n      <td>2:40</td>\n      <td>2021-02-04 17:40:00</td>\n      <td>2021-02-04 20:20:00</td>\n      <td>A10</td>\n    </tr>\n    <tr>\n      <th>4</th>\n      <td>IXC</td>\n      <td>2021-02-04 20:20:00</td>\n      <td>False</td>\n      <td>False</td>\n      <td>False</td>\n      <td>False</td>\n      <td>False</td>\n      <td>False</td>\n      <td>False</td>\n      <td>A10</td>\n    </tr>\n  </tbody>\n</table>\n</div>"
     },
     "metadata": {},
     "execution_count": 14
    }
   ],
   "source": [
    "\n",
    "def make_last_row(onedf ,arr_D):\n",
    "    temp_false_list = []\n",
    "    for india in range(flattened.shape[1]):\n",
    "        temp_false_list.append(False)\n",
    "    temp_false_list\n",
    "    onedf.loc[len(onedf)] = temp_false_list\n",
    "    onedf.loc[(len(onedf)-1), \"Dept Arp\" ] =onedf.loc[(len(onedf)-2), \"Arvl Arp\" ]\n",
    "    onedf.loc[(len(onedf)-1), \"engg_arr\" ] =onedf.loc[(len(onedf)-2), arr_D]\n",
    "    onedf.loc[(len(onedf)-1), \"Text Comment\" ] =onedf.loc[(len(onedf)-2), \"Text Comment\" ]\n",
    "    return onedf\n",
    "right_df = make_last_row(right_df,arrDay)\n",
    "right_df\n",
    "\n",
    "\n",
    "\n"
   ]
  },
  {
   "cell_type": "code",
   "execution_count": 7,
   "metadata": {},
   "outputs": [
    {
     "output_type": "stream",
     "name": "stdout",
     "text": [
      "lastroe\n"
     ]
    },
    {
     "output_type": "execute_result",
     "data": {
      "text/plain": [
       "   Dept Arp             engg_arr             engg_dep  deptype Arvl Arp  \\\n",
       "0       IXC             baseAcft  2021-02-02 07:35:00  baseDep      PNQ   \n",
       "1       PNQ  2021-02-02 10:00:00  2021-02-02 10:30:00    False      IXC   \n",
       "2       IXC  2021-02-02 13:00:00  2021-02-02 14:25:00    False      GOI   \n",
       "3       GOI  2021-02-02 17:10:00  2021-02-02 17:40:00    False      IXC   \n",
       "4       IXC  2021-02-02 20:20:00                False  baseArr    False   \n",
       "5       IXC             baseAcft  2021-02-02 07:35:00  baseDep      PNQ   \n",
       "6       PNQ  2021-02-02 10:00:00  2021-02-02 10:30:00    False      IXC   \n",
       "7       IXC  2021-02-02 13:00:00  2021-02-02 14:25:00    False      GOI   \n",
       "8       GOI  2021-02-02 17:10:00  2021-02-02 17:40:00    False      IXC   \n",
       "9       IXC  2021-02-02 20:20:00                False  baseArr    False   \n",
       "10      IXC  2021-02-02 20:20:00                False  baseArr    False   \n",
       "\n",
       "   Flt Desg Block Time                   D2                   A2 Text Comment  \n",
       "0   6E 6514       2:25  2021-02-02 07:35:00  2021-02-02 10:00:00          A10  \n",
       "1   6E 6515       2:30  2021-02-02 10:30:00  2021-02-02 13:00:00          A10  \n",
       "2   6E 0389       2:45  2021-02-02 14:25:00  2021-02-02 17:10:00          A10  \n",
       "3   6E 0391       2:40  2021-02-02 17:40:00  2021-02-02 20:20:00          A10  \n",
       "4     False      False                False                False          A10  \n",
       "5   6E 6514       2:25  2021-02-02 07:35:00  2021-02-02 10:00:00          A10  \n",
       "6   6E 6515       2:30  2021-02-02 10:30:00  2021-02-02 13:00:00          A10  \n",
       "7   6E 0389       2:45  2021-02-02 14:25:00  2021-02-02 17:10:00          A10  \n",
       "8   6E 0391       2:40  2021-02-02 17:40:00  2021-02-02 20:20:00          A10  \n",
       "9     False      False                False                False          A10  \n",
       "10    False      False                False                False          A10  "
      ],
      "text/html": "<div>\n<style scoped>\n    .dataframe tbody tr th:only-of-type {\n        vertical-align: middle;\n    }\n\n    .dataframe tbody tr th {\n        vertical-align: top;\n    }\n\n    .dataframe thead th {\n        text-align: right;\n    }\n</style>\n<table border=\"1\" class=\"dataframe\">\n  <thead>\n    <tr style=\"text-align: right;\">\n      <th></th>\n      <th>Dept Arp</th>\n      <th>engg_arr</th>\n      <th>engg_dep</th>\n      <th>deptype</th>\n      <th>Arvl Arp</th>\n      <th>Flt Desg</th>\n      <th>Block Time</th>\n      <th>D2</th>\n      <th>A2</th>\n      <th>Text Comment</th>\n    </tr>\n  </thead>\n  <tbody>\n    <tr>\n      <th>0</th>\n      <td>IXC</td>\n      <td>baseAcft</td>\n      <td>2021-02-02 07:35:00</td>\n      <td>baseDep</td>\n      <td>PNQ</td>\n      <td>6E 6514</td>\n      <td>2:25</td>\n      <td>2021-02-02 07:35:00</td>\n      <td>2021-02-02 10:00:00</td>\n      <td>A10</td>\n    </tr>\n    <tr>\n      <th>1</th>\n      <td>PNQ</td>\n      <td>2021-02-02 10:00:00</td>\n      <td>2021-02-02 10:30:00</td>\n      <td>False</td>\n      <td>IXC</td>\n      <td>6E 6515</td>\n      <td>2:30</td>\n      <td>2021-02-02 10:30:00</td>\n      <td>2021-02-02 13:00:00</td>\n      <td>A10</td>\n    </tr>\n    <tr>\n      <th>2</th>\n      <td>IXC</td>\n      <td>2021-02-02 13:00:00</td>\n      <td>2021-02-02 14:25:00</td>\n      <td>False</td>\n      <td>GOI</td>\n      <td>6E 0389</td>\n      <td>2:45</td>\n      <td>2021-02-02 14:25:00</td>\n      <td>2021-02-02 17:10:00</td>\n      <td>A10</td>\n    </tr>\n    <tr>\n      <th>3</th>\n      <td>GOI</td>\n      <td>2021-02-02 17:10:00</td>\n      <td>2021-02-02 17:40:00</td>\n      <td>False</td>\n      <td>IXC</td>\n      <td>6E 0391</td>\n      <td>2:40</td>\n      <td>2021-02-02 17:40:00</td>\n      <td>2021-02-02 20:20:00</td>\n      <td>A10</td>\n    </tr>\n    <tr>\n      <th>4</th>\n      <td>IXC</td>\n      <td>2021-02-02 20:20:00</td>\n      <td>False</td>\n      <td>baseArr</td>\n      <td>False</td>\n      <td>False</td>\n      <td>False</td>\n      <td>False</td>\n      <td>False</td>\n      <td>A10</td>\n    </tr>\n    <tr>\n      <th>5</th>\n      <td>IXC</td>\n      <td>baseAcft</td>\n      <td>2021-02-02 07:35:00</td>\n      <td>baseDep</td>\n      <td>PNQ</td>\n      <td>6E 6514</td>\n      <td>2:25</td>\n      <td>2021-02-02 07:35:00</td>\n      <td>2021-02-02 10:00:00</td>\n      <td>A10</td>\n    </tr>\n    <tr>\n      <th>6</th>\n      <td>PNQ</td>\n      <td>2021-02-02 10:00:00</td>\n      <td>2021-02-02 10:30:00</td>\n      <td>False</td>\n      <td>IXC</td>\n      <td>6E 6515</td>\n      <td>2:30</td>\n      <td>2021-02-02 10:30:00</td>\n      <td>2021-02-02 13:00:00</td>\n      <td>A10</td>\n    </tr>\n    <tr>\n      <th>7</th>\n      <td>IXC</td>\n      <td>2021-02-02 13:00:00</td>\n      <td>2021-02-02 14:25:00</td>\n      <td>False</td>\n      <td>GOI</td>\n      <td>6E 0389</td>\n      <td>2:45</td>\n      <td>2021-02-02 14:25:00</td>\n      <td>2021-02-02 17:10:00</td>\n      <td>A10</td>\n    </tr>\n    <tr>\n      <th>8</th>\n      <td>GOI</td>\n      <td>2021-02-02 17:10:00</td>\n      <td>2021-02-02 17:40:00</td>\n      <td>False</td>\n      <td>IXC</td>\n      <td>6E 0391</td>\n      <td>2:40</td>\n      <td>2021-02-02 17:40:00</td>\n      <td>2021-02-02 20:20:00</td>\n      <td>A10</td>\n    </tr>\n    <tr>\n      <th>9</th>\n      <td>IXC</td>\n      <td>2021-02-02 20:20:00</td>\n      <td>False</td>\n      <td>baseArr</td>\n      <td>False</td>\n      <td>False</td>\n      <td>False</td>\n      <td>False</td>\n      <td>False</td>\n      <td>A10</td>\n    </tr>\n    <tr>\n      <th>10</th>\n      <td>IXC</td>\n      <td>2021-02-02 20:20:00</td>\n      <td>False</td>\n      <td>baseArr</td>\n      <td>False</td>\n      <td>False</td>\n      <td>False</td>\n      <td>False</td>\n      <td>False</td>\n      <td>A10</td>\n    </tr>\n  </tbody>\n</table>\n</div>"
     },
     "metadata": {},
     "execution_count": 7
    }
   ],
   "source": [
    "for xray in range(0,len(onedf)):\n",
    "    if xray  == 0:\n",
    "        onedf.loc[xray,\"deptype\"] = \"baseDep\"\n",
    "        onedf.loc[xray,\"engg_arr\"] = \"baseAcft\"\n",
    "        onedf.loc[xray,\"engg_dep\"] = onedf.loc[xray,\"D2\"]\n",
    "    elif xray == len(onedf)-1:\n",
    "        \n",
    "        onedf.loc[xray,\"deptype\"] = \"baseArr\"\n",
    "        print(\"lastroe\")\n",
    "    else:\n",
    "        onedf.loc[xray,\"engg_arr\"] = onedf.loc[(xray-1),\"A2\"]\n",
    "        onedf.loc[xray,\"engg_dep\"] = onedf.loc[(xray),\"D2\"]\n",
    "\n",
    "\n",
    "\n",
    "onedf.columns\n",
    "\n",
    "\n",
    "master_df = master_df.append(onedf,ignore_index=True)\n",
    "master_df\n"
   ]
  }
 ],
 "metadata": {
  "kernelspec": {
   "display_name": "Python 3",
   "language": "python",
   "name": "python3"
  },
  "language_info": {
   "codemirror_mode": {
    "name": "ipython",
    "version": 3
   },
   "file_extension": ".py",
   "mimetype": "text/x-python",
   "name": "python",
   "nbconvert_exporter": "python",
   "pygments_lexer": "ipython3",
   "version": "3.8.7"
  }
 },
 "nbformat": 4,
 "nbformat_minor": 2
}