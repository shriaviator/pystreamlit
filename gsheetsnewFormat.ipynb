{
 "cells": [
  {
   "cell_type": "markdown",
   "id": "442db1cb-3228-4a04-a878-6b4edc1b49b0",
   "metadata": {},
   "source": [
    "- [ ] seperate intl and domestic departure count \n",
    "- [ ] seperate A320 and Atr count"
   ]
  },
  {
   "cell_type": "code",
   "execution_count": 2,
   "id": "75f76b48-090d-4411-893e-924955f16d64",
   "metadata": {
    "execution": {
     "iopub.execute_input": "2021-05-02T14:05:33.997457Z",
     "iopub.status.busy": "2021-05-02T14:05:33.996459Z",
     "iopub.status.idle": "2021-05-02T14:05:39.253202Z",
     "shell.execute_reply": "2021-05-02T14:05:39.250898Z",
     "shell.execute_reply.started": "2021-05-02T14:05:33.997457Z"
    },
    "tags": []
   },
   "outputs": [
    {
     "name": "stdout",
     "output_type": "stream",
     "text": [
      "Wall time: 5.23 s\n"
     ]
    }
   ],
   "source": [
    "%%time\n",
    "import datetime\n",
    "import pickle\n",
    "import re\n",
    "\n",
    "import gspread\n",
    "import matplotlib.pyplot as plt\n",
    "import numpy as np\n",
    "import pandas as pd\n",
    "\n",
    "from altair.vegalite.v4.schema.channels import Tooltip\n",
    "import altair as alt\n",
    "import math\n",
    "\n",
    "\n",
    "gc = gspread.service_account(filename='./crudg.json')\n",
    "sheet = gc.open(\"flightsched\").get_worksheet(3)\n",
    "dataframe = pd.DataFrame(sheet.get_all_records())\n",
    "\n"
   ]
  },
  {
   "cell_type": "code",
   "execution_count": 4,
   "id": "4e6efde5-285f-40db-8b6f-fef4c51483d3",
   "metadata": {
    "execution": {
     "iopub.execute_input": "2021-05-02T14:06:40.369252Z",
     "iopub.status.busy": "2021-05-02T14:06:40.369252Z",
     "iopub.status.idle": "2021-05-02T14:06:40.576815Z",
     "shell.execute_reply": "2021-05-02T14:06:40.576815Z",
     "shell.execute_reply.started": "2021-05-02T14:06:40.369252Z"
    },
    "tags": []
   },
   "outputs": [
    {
     "name": "stdout",
     "output_type": "stream",
     "text": [
      "<class 'pandas.core.frame.DataFrame'>\n",
      "RangeIndex: 28956 entries, 0 to 28955\n",
      "Data columns (total 11 columns):\n",
      " #   Column      Non-Null Count  Dtype \n",
      "---  ------      --------------  ----- \n",
      " 0   A/C No      28956 non-null  int64 \n",
      " 1   Flt Desg    28956 non-null  int64 \n",
      " 2   Freq        28956 non-null  int64 \n",
      " 3   Dept Arp    28956 non-null  object\n",
      " 4   Dept Time   28956 non-null  object\n",
      " 5   Arvl Arp    28956 non-null  object\n",
      " 6   Arrv Time   28956 non-null  object\n",
      " 7   Equip       28956 non-null  object\n",
      " 8   Block Time  28956 non-null  object\n",
      " 9   Eff Date    28956 non-null  object\n",
      " 10  Dis Date    28956 non-null  object\n",
      "dtypes: int64(3), object(8)\n",
      "memory usage: 2.4+ MB\n"
     ]
    }
   ],
   "source": [
    "dataframe.info()"
   ]
  },
  {
   "cell_type": "code",
   "execution_count": null,
   "id": "316ae182-32a2-46ab-ba5f-e5f99b425a1f",
   "metadata": {
    "tags": []
   },
   "outputs": [],
   "source": [
    "import IPython\n",
    "from IPython.core.interactiveshell import InteractiveShell\n",
    "InteractiveShell.ast_node_interactivity = \"all\"\n"
   ]
  },
  {
   "cell_type": "code",
   "execution_count": null,
   "id": "de64c0b8-fc6c-4758-953f-c2d8f565c1ae",
   "metadata": {
    "tags": []
   },
   "outputs": [],
   "source": [
    "dataframe[\"engg_dep\"]  = pd.to_datetime((dataframe[\"Eff Date\"].astype(str) + \"-\" + dataframe[\"Dept Time\"].astype(str)) , format='%d-%m-%y-%h:%M',\n",
    "                                   infer_datetime_format=True,utc=False )\n",
    "\n",
    "dataframe[\"aocs_arr\"] = pd.to_datetime((dataframe[\"Eff Date\"].astype(str) + \"-\" + dataframe[\"Arrv Time\"].astype(str)) , format='%d-%m-%y-%h:%M',\n",
    "                                   infer_datetime_format=True,utc=False )\n",
    "\n",
    "\n",
    "dataframe = dataframe.drop(columns  = ['Dept Time', 'Arrv Time',  'Eff Date',  'Dis Date',\"Freq\"])\n",
    "                                        \n",
    "dataframe.head()"
   ]
  },
  {
   "cell_type": "code",
   "execution_count": null,
   "id": "1f7ae2b5-77db-4c50-be64-27566b9f9977",
   "metadata": {
    "tags": []
   },
   "outputs": [],
   "source": [
    "testpd = dataframe.copy()\n",
    "testpd = testpd.loc[testpd[\"engg_dep\"].dt.month == 5]\n"
   ]
  },
  {
   "cell_type": "code",
   "execution_count": null,
   "id": "5124c107-7cb6-4634-aac6-7d93b4c9c01b",
   "metadata": {
    "tags": []
   },
   "outputs": [],
   "source": [
    "testpd.head(30)"
   ]
  },
  {
   "cell_type": "code",
   "execution_count": null,
   "id": "34895bd9-0ab0-4775-80fb-b86f264676b9",
   "metadata": {
    "tags": []
   },
   "outputs": [],
   "source": [
    "# adding column \"engg_arr\" and \"deptype\"\n",
    "testpd[\"engg_arr\"] = np.nan\n",
    "testpd[\"deptype\"] = np.nan\n",
    "testpd[\"cal_date\"] = testpd[\"engg_dep\"].dt.day\n",
    "\n",
    "# making block time as time delta in python\n",
    "testpd[\"Block Time\"] = testpd[\"Block Time\"].astype(\"str\")\n",
    "splitString = testpd[\"Block Time\"].str.split(':', expand=True).astype(int)\n",
    "testpd[\"Block Time\"] = pd.to_timedelta(\n",
    "    splitString[0], unit='h') + pd.to_timedelta(splitString[1], unit='m')\n",
    "\n",
    "testpd = testpd[['Dept Arp', 'engg_arr', 'Flt Desg', 'A/C No', 'Equip', 'Arvl Arp','engg_dep', 'aocs_arr', 'deptype', 'Block Time', 'cal_date']]\n"
   ]
  },
  {
   "cell_type": "code",
   "execution_count": null,
   "id": "6565219f-168d-47bb-b3f9-6a42a75f9461",
   "metadata": {
    "tags": []
   },
   "outputs": [],
   "source": [
    "x_df = testpd.loc[(testpd[\"A/C No\"] == 1) &\n",
    "                               (testpd[\"cal_date\"] == 1)]\n",
    "x_df = x_df.head(1)\n",
    "x_df"
   ]
  },
  {
   "cell_type": "code",
   "execution_count": null,
   "id": "c2cc12ab-831b-4e4e-afec-4396ceeb800f",
   "metadata": {
    "tags": []
   },
   "outputs": [],
   "source": [
    "def addlastRowArrDep(paramdf):\n",
    "    converted = paramdf.to_numpy()\n",
    "    emptyarray = np.full((1, 11), np.nan)\n",
    "    if (converted.shape[0] == 1):\n",
    "        temparray = converted\n",
    "        return temparray\n",
    "    else:\n",
    "        temparray = np.append(converted, emptyarray, axis=0)\n",
    "        lentemparray = temparray.shape[0]\n",
    "        temparray[lentemparray - 1][0:2] = temparray[lentemparray - 2][5:7]\n",
    "        temparray[lentemparray - 1][2:5] = temparray[lentemparray - 2][2:5]\n",
    "        for xray in range(0, lentemparray):\n",
    "            if xray == 0:\n",
    "                pass\n",
    "               \n",
    "            elif xray == lentemparray - 1:\n",
    "                pass\n",
    "               \n",
    "            else:\n",
    "                temparray[xray][1] = temparray[xray - 1][6]\n",
    "                \n",
    "        return temparray\n",
    "    "
   ]
  },
  {
   "cell_type": "code",
   "execution_count": null,
   "id": "b555dd8f-b3c0-4ea7-80cf-de2329ff7905",
   "metadata": {
    "tags": []
   },
   "outputs": [],
   "source": [
    "masterList = []\n",
    "ninedf = addlastRowArrDep(x_df)\n",
    "[masterList.append(zulu) for zulu in ninedf]\n",
    "cleanDf = pd.DataFrame(masterList,\n",
    "                       columns = ['Dept Arp', 'engg_arr', 'Flt Desg', 'A/C No', 'Equip', 'Arvl Arp','engg_dep', 'aocs_arr', 'deptype', 'Block Time', 'cal_date'])\n",
    "cleanDf.head(30)"
   ]
  },
  {
   "cell_type": "code",
   "execution_count": null,
   "id": "544d848a-d6d2-4b72-bcd0-8202e29619ad",
   "metadata": {
    "tags": []
   },
   "outputs": [],
   "source": [
    "def masterDfMaker(paramdf):\n",
    "\n",
    "    # list of Comment List which are unique\n",
    "    textCommentList = paramdf[\"A/C No\"].unique()\n",
    "    # list(array of all days in our data )\n",
    "    uniqueDates = np.sort(testpd[\"engg_dep\"].dt.day.unique())\n",
    "\n",
    "    masterList = []\n",
    "    for xray in textCommentList:\n",
    "        for alpha in uniqueDates:\n",
    "            # filtering dataframe on CommentValue and uniqueDateValue\n",
    "            x_df = paramdf.loc[(paramdf[\"A/C No\"] == xray) &\n",
    "                               (paramdf[\"cal_date\"] == alpha)]\n",
    "            # check if dataframe is empty\n",
    "            if len(x_df) == 0:\n",
    "                continue\n",
    "            # sorting by engg_dep for safety\n",
    "            x_df = x_df.sort_values(by=[\"engg_dep\"], ascending=True)\n",
    "            x_df = addlastRowArrDep(x_df)\n",
    "            [masterList.append(zulu) for zulu in x_df]\n",
    "    return masterList"
   ]
  },
  {
   "cell_type": "code",
   "execution_count": null,
   "id": "af379a2c-f650-4968-8042-d807e3eea3d1",
   "metadata": {
    "tags": []
   },
   "outputs": [],
   "source": [
    "masterList = masterDfMaker(testpd)"
   ]
  },
  {
   "cell_type": "code",
   "execution_count": null,
   "id": "4ca046ef-a4b9-4775-b4c0-147c5816cca9",
   "metadata": {
    "tags": []
   },
   "outputs": [],
   "source": [
    "cleanDf = pd.DataFrame(masterList,\n",
    "                       columns = ['Dept Arp', 'engg_arr', 'Flt Desg', 'A/C No', 'Equip', 'Arvl Arp','engg_dep', 'aocs_arr', 'deptype', 'Block Time', 'cal_date'])\n",
    "cleanDf.head(1)"
   ]
  },
  {
   "cell_type": "code",
   "execution_count": null,
   "id": "caa90551-fd40-4e2f-acf5-0321fd4a890e",
   "metadata": {
    "tags": []
   },
   "outputs": [],
   "source": [
    "cleanDf = cleanDf.copy()\n",
    "\n",
    "\n",
    "# adding columns cal_date and transit_time\n",
    "# already added before during refactor\n",
    "# cleanDf[\"cal_date\"]= np.nan\n",
    "cleanDf[\"transit_time\"] = np.nan\n",
    "# avoidy loc error hency copy\n",
    "cleanDf = cleanDf.copy()\n",
    "# cal_date calue for base dep/ pd isnull for time is something new\n",
    "cleanDf.loc[pd.isnull(cleanDf[\"engg_arr\"]),\n",
    "            \"cal_date\"] = cleanDf[\"engg_dep\"].dt.date\n",
    "# cal_date calue for base arr/\n",
    "cleanDf.loc[pd.isnull(cleanDf[\"engg_dep\"]),\n",
    "            \"cal_date\"] = cleanDf[\"engg_arr\"].dt.date\n",
    "# cal_date calue for transit using the notnull operator\n",
    "cleanDf.loc[(pd.notnull(cleanDf[\"engg_arr\"]) & pd.notnull(cleanDf[\"engg_dep\"])),\n",
    "            \"cal_date\"] = cleanDf[\"engg_dep\"].dt.date\n",
    "# departuretype as basedep\n",
    "cleanDf.loc[pd.isnull(cleanDf[\"engg_arr\"]), \"deptype\"] = \"baseDep\"\n",
    "#departure type as baseArr\n",
    "cleanDf.loc[pd.isnull(cleanDf[\"engg_dep\"]), \"deptype\"] = \"baseArr\"\n",
    "#deparure type as transit\n",
    "cleanDf.loc[(pd.notnull(cleanDf[\"engg_arr\"]) & pd.notnull(cleanDf[\"engg_dep\"])),\n",
    "            \"deptype\"] = \"Transit\"\n",
    "# setting type in a column cal_date\n",
    "cleanDf[\"cal_date\"] = cleanDf[\"cal_date\"].astype(\"datetime64[ns]\")\n",
    "# calculating transit time\n",
    "cleanDf.loc[cleanDf['deptype'] == \"Transit\",\n",
    "            \"transit_time\"] = cleanDf[\"engg_dep\"] - cleanDf[\"engg_arr\"]\n",
    "# setting transitime column type\n",
    "cleanDf[\"transit_time\"] = cleanDf[\"transit_time\"].astype(\"timedelta64[ns]\")\n",
    "cleanDf= cleanDf.astype({\"deptype\":\"category\",\"Dept Arp\":\"category\",\"Arvl Arp\":\"category\",\"A/C No\":\"category\",\"Equip\":\"category\",\"engg_arr\":\"datetime64[ns]\",\"engg_dep\":\"datetime64[ns]\",\"Flt Desg\":\"category\",\"Block Time\":\"timedelta64[ns]\"})\n",
    "\n",
    "# observed improvement of from 4.3 mb to 2.3 mb after setting of category "
   ]
  },
  {
   "cell_type": "code",
   "execution_count": null,
   "id": "93cb3c80-9b7e-4a62-b45a-388758429aef",
   "metadata": {
    "tags": []
   },
   "outputs": [],
   "source": [
    "cleanDf.info()"
   ]
  },
  {
   "cell_type": "code",
   "execution_count": null,
   "id": "24a009c3-e0d0-420c-9699-b1b1ba9273e4",
   "metadata": {
    "tags": []
   },
   "outputs": [],
   "source": [
    "def getMonthChart(dataframe: pd.DataFrame,stationList: list = None) -> alt.vegalite.v4.api.VConcatChart:\n",
    "    \"\"\"[summary]\n",
    "\n",
    "    Args:\n",
    "        month ([type]): [description]\n",
    "        station ([type]): [description]\n",
    "\n",
    "    Returns:\n",
    "        [type]: [description]\n",
    "    TODO : chart height claculation based on \n",
    "    \"\"\"\n",
    "    # checking Area\n",
    "    # test-One ensuring the type of keyword parameter and throwing error\n",
    "    if stationList != None:\n",
    "        assert isinstance(stationList,list) ,'stationList should be a (pythonType(List))'\n",
    "    # ensuring argument is of type pandas datafrme  \n",
    "    assert isinstance(dataframe,pd.DataFrame),\"dataframe should be of type #pandas Dataframe #\"\n",
    "        \n",
    "        \n",
    "\n",
    "    groupedDf = dataframe.copy()\n",
    "    groupedDf = groupedDf.groupby([\"cal_date\",\"deptype\",\"Dept Arp\"]).size().reset_index(name='count')\n",
    "    \n",
    "    if stationList != None:\n",
    "        # test three if stationList is subset of avilable stations\n",
    "        assert set(stationList).issubset(set(dataframe[\"Dept Arp\"].unique())),\"statonlist station not in dataframe['Dept Arp']\"\n",
    "        \n",
    "        groupedDf = groupedDf.loc[groupedDf[\"Dept Arp\"].isin(stationList)]\n",
    "      \n",
    "    listOperationsType = groupedDf[\"deptype\"].unique().tolist()\n",
    "    # claulating chart size for chart Height \n",
    "    \n",
    "    chartHeight = math.ceil(len(groupedDf[\"Dept Arp\"].unique())/5) *100\n",
    "    \n",
    "    # base Chart \n",
    "    base = alt.Chart().encode(alt.X('monthdate(cal_date):O', title='Days Of The Month',scale=alt.Scale(paddingInner=0)\n",
    "                ),\n",
    "        alt.Y('Dept Arp:N', title='Airport',scale=alt.Scale(paddingInner=0)))\n",
    "\n",
    "\n",
    "    # rect chart \n",
    "    alpha = base.mark_rect().encode(\n",
    "        color = alt.Color(\"count:Q\",\n",
    "        legend=alt.Legend(direction='horizontal')),\n",
    "        \n",
    "        tooltip=[ alt.Tooltip(\"cal_date\",title='Date'),alt.Tooltip('count',title='No-of-Ops'),\n",
    "                alt.Tooltip(\"deptype\",title='Type-Ops'), alt.Tooltip(\"Dept Arp\",title='Aiport')])\n",
    "    \n",
    "    # text chart \n",
    "    beta = base.mark_text( align='center', baseline='middle').encode(text='count:Q')\n",
    "\n",
    "    # chart with data as one of Transit . base Dep , base base Arr\n",
    "    chartOne = alt.layer(alpha, beta,data=groupedDf.loc[groupedDf[\"deptype\"] == listOperationsType[0]].copy()).properties(\n",
    "        title=str(listOperationsType[0])+' Ops in Station',\n",
    "        width=1000,\n",
    "    height=chartHeight).interactive()\n",
    "    # chart with data as one of Transit . base Dep , base base Arr\n",
    "    chartTwo = alt.layer(alpha, beta,data=groupedDf.loc[groupedDf[\"deptype\"] == listOperationsType[1]].copy()).properties(\n",
    "        title=str(listOperationsType[1])+' Ops in Station',\n",
    "        width=1000,\n",
    "    height=chartHeight).interactive()\n",
    "    # chart with data as one of Transit . base Dep , base base Arr\n",
    "    chartThree = alt.layer(alpha, beta,data=groupedDf.loc[groupedDf[\"deptype\"] == listOperationsType[2]].copy()).properties(\n",
    "        title= str(listOperationsType[2])+' Ops in Station',\n",
    "        width=1000,\n",
    "    height=chartHeight).interactive()\n",
    "    return alt.vconcat(chartOne,chartTwo,chartThree)\n",
    "    \n",
    "    \n",
    "\n",
    "\n"
   ]
  },
  {
   "cell_type": "code",
   "execution_count": null,
   "id": "1a6422bf-257e-47bb-8749-05fb2cceedc3",
   "metadata": {
    "tags": []
   },
   "outputs": [],
   "source": [
    "finalChart = getMonthChart(cleanDf)"
   ]
  },
  {
   "cell_type": "code",
   "execution_count": null,
   "id": "a8fe180d-fd0c-4a26-a84e-dd74cf73faba",
   "metadata": {
    "tags": []
   },
   "outputs": [],
   "source": [
    "finalChart"
   ]
  }
 ],
 "metadata": {
  "kernelspec": {
   "display_name": "Python 3",
   "language": "python",
   "name": "python3"
  },
  "language_info": {
   "codemirror_mode": {
    "name": "ipython",
    "version": 3
   },
   "file_extension": ".py",
   "mimetype": "text/x-python",
   "name": "python",
   "nbconvert_exporter": "python",
   "pygments_lexer": "ipython3",
   "version": "3.8.8"
  }
 },
 "nbformat": 4,
 "nbformat_minor": 5
}
