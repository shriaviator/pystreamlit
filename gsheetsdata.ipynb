{
 "metadata": {
  "language_info": {
   "codemirror_mode": {
    "name": "ipython",
    "version": 3
   },
   "file_extension": ".py",
   "mimetype": "text/x-python",
   "name": "python",
   "nbconvert_exporter": "python",
   "pygments_lexer": "ipython3",
   "version": "3.8.7-final"
  },
  "orig_nbformat": 2,
  "kernelspec": {
   "name": "python3",
   "display_name": "Python 3",
   "language": "python"
  }
 },
 "nbformat": 4,
 "nbformat_minor": 2,
 "cells": [
  {
   "source": [
    "- [ ] sheet 2 intl departure needs to be taken into account \n",
    "- [ ] eng arrival and base departure needs to be finalised\n",
    "- [ ] move entire code into seperate repositiory \n",
    "- [ ] understand stremlit "
   ],
   "cell_type": "markdown",
   "metadata": {}
  },
  {
   "source": [
    "- [ ] daily view {departure , base Arrival,base Departure}\n",
    "- [ ] weekly view{ 1- to 8 one week } {departure , base Arrival,base Departure}\n",
    "- [ ] monthly view {departure , base Arrival,base Departure}\n",
    "- [ ] in a station ex BLR how many flights how many transits in a day can have a gpu requirement \n",
    "- [ ] theoritical apu concumption versus actual apu consumption \n"
   ],
   "cell_type": "markdown",
   "metadata": {}
  },
  {
   "cell_type": "code",
   "execution_count": 7,
   "metadata": {},
   "outputs": [],
   "source": [
    "import matplotlib.pyplot as plt\n",
    "import numpy as np\n",
    "import pandas as pd\n",
    "import pickle\n",
    "import gspread\n",
    "from oauth2client.service_account import ServiceAccountCredentials\n",
    "import datetime\n",
    "import pickle\n",
    "import re\n",
    "scope = [\"https://spreadsheets.google.com/feeds\", 'https://www.googleapis.com/auth/spreadsheets',\n",
    "         \"https://www.googleapis.com/auth/drive.file\", \"https://www.googleapis.com/auth/drive\"]\n",
    "\n",
    "creds = ServiceAccountCredentials.from_json_keyfile_name(\"crudg.json\", scope)\n",
    "client = gspread.authorize(creds)\n",
    "sheet = client.open(\"flightsched\").get_worksheet(2)\n",
    "dataframe = pd.DataFrame(sheet.get_all_records())\n"
   ]
  },
  {
   "cell_type": "code",
   "execution_count": 8,
   "metadata": {},
   "outputs": [],
   "source": [
    "# Set ipython's max row display\n",
    "pd.set_option('display.max_row', 50)\n",
    "\n",
    "# Set iPython's max column width to 50\n",
    "pd.set_option('display.max_columns', 50)"
   ]
  },
  {
   "cell_type": "code",
   "execution_count": 9,
   "metadata": {
    "tags": []
   },
   "outputs": [],
   "source": [
    "\n",
    "dataframe[\"Modeffdate\"]= pd.to_datetime(dataframe[\"Modeffdate\"], unit=\"s\")\n",
    "dataframe[\"moddisdate\"]= pd.to_datetime(dataframe[\"moddisdate\"], unit=\"s\")\n",
    "dataframe[\"moddeptime\"]= pd.to_datetime(dataframe[\"moddeptime\"], unit=\"s\")\n",
    "dataframe[\"mod_arr_time\"]= pd.to_datetime(dataframe[\"mod_arr_time\"], unit=\"s\")\n",
    "dataframe = dataframe.drop(columns=[\"Dept Time\" ,\"Arrv Time\",\"Subfleet\",\"Service Type\",\"Eff Date\",\"Dis Date\",\"01-Jan-1970\"])\n",
    "dataframe[\"Freq\"] = dataframe[\"Freq\"].astype(str)\n",
    "dataframe[\"Freq\"] = dataframe[\"Freq\"].str.replace(\".\",\"\")\n",
    "dataframe[\"engg_arr\"]= False\n",
    "dataframe[\"engg_dep\"]=False\n",
    "dataframe[\"deptype\"]=False\n",
    "dataframe[\"actual_days\"]=\"\"\n",
    "cols = [ 'Dept Arp', 'engg_arr','engg_dep', 'deptype','Arvl Arp', 'Flt Desg',   'moddeptime', 'mod_arr_time'  ,'Text Comment', 'Freq','Block Time','Modeffdate', 'moddisdate',\"actual_days\"\n",
    ",]\n",
    "dataframe = dataframe[cols]\n",
    "\n",
    "#  modyfying actualdays column for complete dataset \n",
    "\n",
    "for xray in range(0,len(dataframe)):\n",
    "    bravo =  pd.to_datetime(str(dataframe.loc[xray,\"Modeffdate\"]))\n",
    "    while dataframe.loc[xray,\"moddisdate\"] >= bravo:\n",
    "        # one added as day of the week is different in pandas and data \n",
    "        if str(bravo.dayofweek + 1) in dataframe.loc[xray,\"Freq\"]:\n",
    "            dataframe.loc[xray,\"actual_days\"]+= \"/\"+ str(bravo.day)\n",
    "        bravo+= pd.DateOffset(1)\n",
    "\n",
    "# adding columns for each day of month \n",
    "col_name_list=[]\n",
    "nilList=[]\n",
    "StrArr = \"A\"\n",
    "StrDep =\"D\"\n",
    "for india in range(1,32):\n",
    "     col_name_list.append(StrDep + str(india))\n",
    "     col_name_list.append(StrArr + str(india))\n",
    "     nilList.append(False)\n",
    "     nilList.append(False)\n",
    "cols = cols +col_name_list\n",
    "dataframe = pd.concat([dataframe,pd.DataFrame([nilList],index=dataframe.index,columns = col_name_list)], axis=1)\n",
    "\n"
   ]
  },
  {
   "cell_type": "code",
   "execution_count": 10,
   "metadata": {},
   "outputs": [],
   "source": [
    "\n",
    "# first day of month set manually need to to check edge cases \n",
    "def remove_duplicate_flights (x_df):\n",
    "      temp_dict ={}\n",
    "      for xray in range(0,len(x_df)):\n",
    "        if not (str(x_df.loc[xray,'Flt Desg']) in temp_dict):\n",
    "            temp_dict[x_df.loc[xray,'Flt Desg']] ={}\n",
    "            temp_dict[x_df.loc[xray,'Flt Desg']][str(x_df.loc[xray,'Text Comment'])]=xray\n",
    "            alpha = pd.to_datetime(str(x_df.loc[xray,\"Modeffdate\"].date()) +\" \"+ x_df.loc[xray,\"moddeptime\"].strftime('%H:%M:%S'),format=\"%Y-%m-%d %H:%M:%S\").replace(day=1)\n",
    "            beta = pd.to_datetime(str(x_df.loc[xray,\"Modeffdate\"].date()) +\" \"+ x_df.loc[xray,\"mod_arr_time\"].strftime('%H:%M:%S'),format=\"%Y-%m-%d %H:%M:%S\").replace(day=1)\n",
    "            for india in range(1,32):\n",
    "                        if str(india) in x_df.loc[xray,'actual_days'].split(\"/\"):\n",
    "                              x_df.loc[xray,\"D\"+str(india)] = alpha\n",
    "                              x_df.loc[xray,\"A\"+str(india)] = beta\n",
    "                        alpha+=pd.DateOffset(1)\n",
    "                        beta+=pd.DateOffset(1)\n",
    "        elif (str(x_df.loc[xray,'Flt Desg']) in temp_dict):\n",
    "            if str(x_df.loc[xray,'Text Comment']) in temp_dict[x_df.loc[xray,'Flt Desg']]:\n",
    "                alpha = pd.to_datetime(str(x_df.loc[xray,\"Modeffdate\"].date()) +\" \"+ x_df.loc[xray,\"moddeptime\"].strftime('%H:%M:%S'),format=\"%Y-%m-%d %H:%M:%S\").replace(day=1)\n",
    "                beta = pd.to_datetime(str(x_df.loc[xray,\"Modeffdate\"].date()) +\" \"+ x_df.loc[xray,\"mod_arr_time\"].strftime('%H:%M:%S'),format=\"%Y-%m-%d %H:%M:%S\").replace(day=1)              \n",
    "                zulu = temp_dict[x_df.loc[xray,'Flt Desg']][x_df.loc[xray,'Text Comment']]\n",
    "                  \n",
    "                for india in range(1,32):\n",
    "                        if str(india) in x_df.loc[xray,'actual_days'].split(\"/\"):\n",
    "                              x_df.loc[zulu,\"D\"+str(india)] = alpha\n",
    "                              x_df.loc[zulu,\"A\"+str(india)] = beta\n",
    "                        alpha+=pd.DateOffset(1)\n",
    "                        beta+=pd.DateOffset(1)\n",
    "            elif not (str(x_df.loc[xray,'Text Comment']) in temp_dict[x_df.loc[xray,'Flt Desg']]):\n",
    "                temp_dict[x_df.loc[xray,'Flt Desg']][str(x_df.loc[xray,'Text Comment'])]=xray\n",
    "                alpha = pd.to_datetime(str(x_df.loc[xray,\"Modeffdate\"].date()) +\" \"+ x_df.loc[xray,\"moddeptime\"].strftime('%H:%M:%S'),format=\"%Y-%m-%d %H:%M:%S\").replace(day=1)\n",
    "                beta = pd.to_datetime(str(x_df.loc[xray,\"Modeffdate\"].date()) +\" \"+ x_df.loc[xray,\"mod_arr_time\"].strftime('%H:%M:%S'),format=\"%Y-%m-%d %H:%M:%S\").replace(day=1)              \n",
    "                zulu = temp_dict[x_df.loc[xray,'Flt Desg']][x_df.loc[xray,'Text Comment']]\n",
    "                  \n",
    "                for india in range(1,32):\n",
    "                        if str(india) in x_df.loc[xray,'actual_days'].split(\"/\"):\n",
    "                              x_df.loc[zulu,\"D\"+str(india)] = alpha\n",
    "                              x_df.loc[zulu,\"A\"+str(india)] = beta\n",
    "                        alpha+=pd.DateOffset(1)\n",
    "                        beta+=pd.DateOffset(1)\n",
    "        \n"
   ]
  },
  {
   "cell_type": "code",
   "execution_count": 12,
   "metadata": {},
   "outputs": [],
   "source": [
    "\n",
    "remove_duplicate_flights(dataframe)\n",
    "dataframe = dataframe.drop_duplicates(subset=['Flt Desg','Text Comment'],keep='first')\n",
    "\n",
    "# removing columns\n",
    "dataframe = dataframe.drop(['moddeptime', 'mod_arr_time', 'Freq',\n",
    "                    'Modeffdate', 'moddisdate', 'actual_days','engg_dep'], axis=1)\n",
    "\n",
    "# pivoting the dataset \n",
    "dataframe = pd.melt(dataframe, id_vars=['Dept Arp', 'engg_arr','deptype', 'Arvl Arp', 'Flt Desg',\n",
    "                                'Text Comment', 'Block Time'], value_vars=['D1', 'A1', 'D2', 'A2', 'D3', 'A3', 'D4',\n",
    "                                                                           'A4', 'D5', 'A5', 'D6', 'A6', 'D7', 'A7', 'D8', 'A8', 'D9', 'A9', 'D10',\n",
    "                                                                           'A10', 'D11', 'A11', 'D12', 'A12', 'D13', 'A13', 'D14', 'A14', 'D15',\n",
    "                                                                           'A15', 'D16', 'A16', 'D17', 'A17', 'D18', 'A18', 'D19', 'A19', 'D20',\n",
    "                                                                           'A20', 'D21', 'A21', 'D22', 'A22', 'D23', 'A23', 'D24', 'A24', 'D25',\n",
    "                                                                           'A25', 'D26', 'A26', 'D27', 'A27', 'D28', 'A28', 'D29', 'A29', 'D30',\n",
    "                                                                           'A30', 'D31', 'A31'])\n"
   ]
  },
  {
   "cell_type": "code",
   "execution_count": 13,
   "metadata": {},
   "outputs": [],
   "source": [
    "# Dropping dataframe with value equals false \n",
    "\n",
    "dataframe = dataframe[dataframe.value != False]"
   ]
  },
  {
   "cell_type": "code",
   "execution_count": 14,
   "metadata": {},
   "outputs": [],
   "source": [
    "# List of airports alphabetically \n",
    "dep_airport_list = list(dataframe['Dept Arp'].unique())\n",
    "dep_airport_list.sort()\n",
    "dep_airport_list.append(\"All_Stations\")\n",
    "# List of days daywise\n",
    "days_sorted_list= list(filter(lambda x: \"A\" not in x ,col_name_list))\n",
    "days_sorted_list\n",
    "dep_airport_list\n",
    "dataframe = dataframe.reset_index(drop=True)\n",
    "pickle_List = [dataframe,days_sorted_list,dep_airport_list]"
   ]
  },
  {
   "cell_type": "code",
   "execution_count": 15,
   "metadata": {},
   "outputs": [
    {
     "output_type": "execute_result",
     "data": {
      "text/plain": [
       "True"
      ]
     },
     "metadata": {},
     "execution_count": 15
    }
   ],
   "source": [
    "# Pickle the dataset\n",
    "pickle.dump(pickle_List, open(\"gsheet_pickle.p\", \"wb\"))\n",
    "\n",
    "alpha = pickle.load(open(\"gsheet_pickle.p\", \"rb\"))\n",
    "\n",
    "alpha[0].equals(dataframe)"
   ]
  },
  {
   "cell_type": "code",
   "execution_count": 16,
   "metadata": {},
   "outputs": [
    {
     "output_type": "execute_result",
     "data": {
      "text/plain": [
       "   Dept Arp  engg_arr  deptype Arvl Arp Flt Desg Text Comment Block Time  \\\n",
       "0       IXC     False    False      GOI  6E 0389          A10       2:45   \n",
       "1       GOI     False    False      IXC  6E 0391          A10       2:40   \n",
       "2       BLR     False    False      RPR  6E 0378         A100       2:00   \n",
       "3       RPR     False    False      BLR  6E 0382         A100       1:35   \n",
       "4       BLR     False    False      VGA  6E 0507         A100       1:20   \n",
       "5       VGA     False    False      BLR  6E 0506         A100       1:20   \n",
       "6       BLR     False    False      GOI  6E 0636         A100       1:20   \n",
       "7       GOI     False    False      BLR  6E 0369         A100       1:20   \n",
       "8       CCU     False    False      DIB  6E 0455         A101       1:35   \n",
       "9       DIB     False    False      CCU  6E 0206         A101       2:00   \n",
       "10      CCU     False    False      AMD  6E 6372         A101       3:05   \n",
       "11      CCU     False    False      HYD  6E 0946         A101       2:50   \n",
       "12      AMD     False    False      CCU  6E 6376         A101       2:40   \n",
       "13      HYD     False    False      CCU  6E 0944         A101       2:05   \n",
       "14      DEL     False    False      BDQ  6E 0494         A102       1:55   \n",
       "\n",
       "   variable                value  \n",
       "0        D1  2021-02-01 14:25:00  \n",
       "1        D1  2021-02-01 17:40:00  \n",
       "2        D1  2021-02-01 08:30:00  \n",
       "3        D1  2021-02-01 11:10:00  \n",
       "4        D1  2021-02-01 13:20:00  \n",
       "5        D1  2021-02-01 16:00:00  \n",
       "6        D1  2021-02-01 18:20:00  \n",
       "7        D1  2021-02-01 20:20:00  \n",
       "8        D1  2021-02-01 11:20:00  \n",
       "9        D1  2021-02-01 13:30:00  \n",
       "10       D1  2021-02-01 16:35:00  \n",
       "11       D1  2021-02-01 17:35:00  \n",
       "12       D1  2021-02-01 20:20:00  \n",
       "13       D1  2021-02-01 21:15:00  \n",
       "14       D1  2021-02-01 05:35:00  "
      ],
      "text/html": "<div>\n<style scoped>\n    .dataframe tbody tr th:only-of-type {\n        vertical-align: middle;\n    }\n\n    .dataframe tbody tr th {\n        vertical-align: top;\n    }\n\n    .dataframe thead th {\n        text-align: right;\n    }\n</style>\n<table border=\"1\" class=\"dataframe\">\n  <thead>\n    <tr style=\"text-align: right;\">\n      <th></th>\n      <th>Dept Arp</th>\n      <th>engg_arr</th>\n      <th>deptype</th>\n      <th>Arvl Arp</th>\n      <th>Flt Desg</th>\n      <th>Text Comment</th>\n      <th>Block Time</th>\n      <th>variable</th>\n      <th>value</th>\n    </tr>\n  </thead>\n  <tbody>\n    <tr>\n      <th>0</th>\n      <td>IXC</td>\n      <td>False</td>\n      <td>False</td>\n      <td>GOI</td>\n      <td>6E 0389</td>\n      <td>A10</td>\n      <td>2:45</td>\n      <td>D1</td>\n      <td>2021-02-01 14:25:00</td>\n    </tr>\n    <tr>\n      <th>1</th>\n      <td>GOI</td>\n      <td>False</td>\n      <td>False</td>\n      <td>IXC</td>\n      <td>6E 0391</td>\n      <td>A10</td>\n      <td>2:40</td>\n      <td>D1</td>\n      <td>2021-02-01 17:40:00</td>\n    </tr>\n    <tr>\n      <th>2</th>\n      <td>BLR</td>\n      <td>False</td>\n      <td>False</td>\n      <td>RPR</td>\n      <td>6E 0378</td>\n      <td>A100</td>\n      <td>2:00</td>\n      <td>D1</td>\n      <td>2021-02-01 08:30:00</td>\n    </tr>\n    <tr>\n      <th>3</th>\n      <td>RPR</td>\n      <td>False</td>\n      <td>False</td>\n      <td>BLR</td>\n      <td>6E 0382</td>\n      <td>A100</td>\n      <td>1:35</td>\n      <td>D1</td>\n      <td>2021-02-01 11:10:00</td>\n    </tr>\n    <tr>\n      <th>4</th>\n      <td>BLR</td>\n      <td>False</td>\n      <td>False</td>\n      <td>VGA</td>\n      <td>6E 0507</td>\n      <td>A100</td>\n      <td>1:20</td>\n      <td>D1</td>\n      <td>2021-02-01 13:20:00</td>\n    </tr>\n    <tr>\n      <th>5</th>\n      <td>VGA</td>\n      <td>False</td>\n      <td>False</td>\n      <td>BLR</td>\n      <td>6E 0506</td>\n      <td>A100</td>\n      <td>1:20</td>\n      <td>D1</td>\n      <td>2021-02-01 16:00:00</td>\n    </tr>\n    <tr>\n      <th>6</th>\n      <td>BLR</td>\n      <td>False</td>\n      <td>False</td>\n      <td>GOI</td>\n      <td>6E 0636</td>\n      <td>A100</td>\n      <td>1:20</td>\n      <td>D1</td>\n      <td>2021-02-01 18:20:00</td>\n    </tr>\n    <tr>\n      <th>7</th>\n      <td>GOI</td>\n      <td>False</td>\n      <td>False</td>\n      <td>BLR</td>\n      <td>6E 0369</td>\n      <td>A100</td>\n      <td>1:20</td>\n      <td>D1</td>\n      <td>2021-02-01 20:20:00</td>\n    </tr>\n    <tr>\n      <th>8</th>\n      <td>CCU</td>\n      <td>False</td>\n      <td>False</td>\n      <td>DIB</td>\n      <td>6E 0455</td>\n      <td>A101</td>\n      <td>1:35</td>\n      <td>D1</td>\n      <td>2021-02-01 11:20:00</td>\n    </tr>\n    <tr>\n      <th>9</th>\n      <td>DIB</td>\n      <td>False</td>\n      <td>False</td>\n      <td>CCU</td>\n      <td>6E 0206</td>\n      <td>A101</td>\n      <td>2:00</td>\n      <td>D1</td>\n      <td>2021-02-01 13:30:00</td>\n    </tr>\n    <tr>\n      <th>10</th>\n      <td>CCU</td>\n      <td>False</td>\n      <td>False</td>\n      <td>AMD</td>\n      <td>6E 6372</td>\n      <td>A101</td>\n      <td>3:05</td>\n      <td>D1</td>\n      <td>2021-02-01 16:35:00</td>\n    </tr>\n    <tr>\n      <th>11</th>\n      <td>CCU</td>\n      <td>False</td>\n      <td>False</td>\n      <td>HYD</td>\n      <td>6E 0946</td>\n      <td>A101</td>\n      <td>2:50</td>\n      <td>D1</td>\n      <td>2021-02-01 17:35:00</td>\n    </tr>\n    <tr>\n      <th>12</th>\n      <td>AMD</td>\n      <td>False</td>\n      <td>False</td>\n      <td>CCU</td>\n      <td>6E 6376</td>\n      <td>A101</td>\n      <td>2:40</td>\n      <td>D1</td>\n      <td>2021-02-01 20:20:00</td>\n    </tr>\n    <tr>\n      <th>13</th>\n      <td>HYD</td>\n      <td>False</td>\n      <td>False</td>\n      <td>CCU</td>\n      <td>6E 0944</td>\n      <td>A101</td>\n      <td>2:05</td>\n      <td>D1</td>\n      <td>2021-02-01 21:15:00</td>\n    </tr>\n    <tr>\n      <th>14</th>\n      <td>DEL</td>\n      <td>False</td>\n      <td>False</td>\n      <td>BDQ</td>\n      <td>6E 0494</td>\n      <td>A102</td>\n      <td>1:55</td>\n      <td>D1</td>\n      <td>2021-02-01 05:35:00</td>\n    </tr>\n  </tbody>\n</table>\n</div>"
     },
     "metadata": {},
     "execution_count": 16
    }
   ],
   "source": [
    "\n",
    "# dataframe from pickle list \n",
    "req_df = alpha[0]\n",
    "req_df.describe()\n",
    "req_df.head(15)\n"
   ]
  },
  {
   "cell_type": "code",
   "execution_count": 21,
   "metadata": {},
   "outputs": [
    {
     "output_type": "stream",
     "name": "stdout",
     "text": [
      "Wall time: 1.11 s\n"
     ]
    }
   ],
   "source": [
    "%%time\n",
    "import time\n",
    "time.sleep(1)\n"
   ]
  },
  {
   "cell_type": "code",
   "execution_count": 30,
   "metadata": {},
   "outputs": [
    {
     "output_type": "stream",
     "name": "stdout",
     "text": [
      "Wall time: 50 ms\n"
     ]
    },
    {
     "output_type": "execute_result",
     "data": {
      "text/plain": [
       "      Dept Arp  engg_arr  deptype Arvl Arp Flt Desg Text Comment Block Time  \\\n",
       "47859      LKO     False    False      GOI  6E 0396           A8       2:25   \n",
       "55731      MAA     False    False      PAT  6E 6758         A987       2:45   \n",
       "49502      CCU     False    False      DEL  6E 6324           A3       2:35   \n",
       "2020       TCR     False    False      BLR  6E 7242       ATR009       1:45   \n",
       "43488      BLR     False    False      JAI  6E 0469          A95       2:40   \n",
       "\n",
       "      variable                value  \n",
       "47859      A22  2021-02-22 17:50:00  \n",
       "55731      D26  2021-02-26 12:20:00  \n",
       "49502      A23  2021-02-23 09:40:00  \n",
       "2020        A1  2021-02-01 12:50:00  \n",
       "43488      A20  2021-02-20 08:20:00  "
      ],
      "text/html": "<div>\n<style scoped>\n    .dataframe tbody tr th:only-of-type {\n        vertical-align: middle;\n    }\n\n    .dataframe tbody tr th {\n        vertical-align: top;\n    }\n\n    .dataframe thead th {\n        text-align: right;\n    }\n</style>\n<table border=\"1\" class=\"dataframe\">\n  <thead>\n    <tr style=\"text-align: right;\">\n      <th></th>\n      <th>Dept Arp</th>\n      <th>engg_arr</th>\n      <th>deptype</th>\n      <th>Arvl Arp</th>\n      <th>Flt Desg</th>\n      <th>Text Comment</th>\n      <th>Block Time</th>\n      <th>variable</th>\n      <th>value</th>\n    </tr>\n  </thead>\n  <tbody>\n    <tr>\n      <th>47859</th>\n      <td>LKO</td>\n      <td>False</td>\n      <td>False</td>\n      <td>GOI</td>\n      <td>6E 0396</td>\n      <td>A8</td>\n      <td>2:25</td>\n      <td>A22</td>\n      <td>2021-02-22 17:50:00</td>\n    </tr>\n    <tr>\n      <th>55731</th>\n      <td>MAA</td>\n      <td>False</td>\n      <td>False</td>\n      <td>PAT</td>\n      <td>6E 6758</td>\n      <td>A987</td>\n      <td>2:45</td>\n      <td>D26</td>\n      <td>2021-02-26 12:20:00</td>\n    </tr>\n    <tr>\n      <th>49502</th>\n      <td>CCU</td>\n      <td>False</td>\n      <td>False</td>\n      <td>DEL</td>\n      <td>6E 6324</td>\n      <td>A3</td>\n      <td>2:35</td>\n      <td>A23</td>\n      <td>2021-02-23 09:40:00</td>\n    </tr>\n    <tr>\n      <th>2020</th>\n      <td>TCR</td>\n      <td>False</td>\n      <td>False</td>\n      <td>BLR</td>\n      <td>6E 7242</td>\n      <td>ATR009</td>\n      <td>1:45</td>\n      <td>A1</td>\n      <td>2021-02-01 12:50:00</td>\n    </tr>\n    <tr>\n      <th>43488</th>\n      <td>BLR</td>\n      <td>False</td>\n      <td>False</td>\n      <td>JAI</td>\n      <td>6E 0469</td>\n      <td>A95</td>\n      <td>2:40</td>\n      <td>A20</td>\n      <td>2021-02-20 08:20:00</td>\n    </tr>\n  </tbody>\n</table>\n</div>"
     },
     "metadata": {},
     "execution_count": 30
    }
   ],
   "source": [
    "%%time\n",
    "# manual testing \n",
    "test_alpha = req_df.sample(n=5)\n",
    "test_alpha\n"
   ]
  },
  {
   "cell_type": "code",
   "execution_count": 20,
   "metadata": {},
   "outputs": [
    {
     "output_type": "execute_result",
     "data": {
      "text/plain": [
       "      Dept Arp  engg_arr  deptype Arvl Arp Flt Desg Text Comment Block Time  \\\n",
       "33145      STV     False    False      DEL  6E 5035      A321_66       1:35   \n",
       "32722      STV     False    False      CCU  6E 0357         A131       2:30   \n",
       "33432      STV     False    False      HYD  6E 0497          A83       1:30   \n",
       "33004      STV     False    False      DEL  6E 2178      A320_23       1:55   \n",
       "33455      STV     False    False      GOI  6E 6294         A870       1:25   \n",
       "33192      STV     False    False      BLR  6E 0607     A32S_771       2:00   \n",
       "\n",
       "      variable                value  \n",
       "33145      D16  2021-02-16 09:15:00  \n",
       "32722      D16  2021-02-16 10:25:00  \n",
       "33432      D16  2021-02-16 12:00:00  \n",
       "33004      D16  2021-02-16 19:30:00  \n",
       "33455      D16  2021-02-16 20:50:00  \n",
       "33192      D16  2021-02-16 21:15:00  "
      ],
      "text/html": "<div>\n<style scoped>\n    .dataframe tbody tr th:only-of-type {\n        vertical-align: middle;\n    }\n\n    .dataframe tbody tr th {\n        vertical-align: top;\n    }\n\n    .dataframe thead th {\n        text-align: right;\n    }\n</style>\n<table border=\"1\" class=\"dataframe\">\n  <thead>\n    <tr style=\"text-align: right;\">\n      <th></th>\n      <th>Dept Arp</th>\n      <th>engg_arr</th>\n      <th>deptype</th>\n      <th>Arvl Arp</th>\n      <th>Flt Desg</th>\n      <th>Text Comment</th>\n      <th>Block Time</th>\n      <th>variable</th>\n      <th>value</th>\n    </tr>\n  </thead>\n  <tbody>\n    <tr>\n      <th>33145</th>\n      <td>STV</td>\n      <td>False</td>\n      <td>False</td>\n      <td>DEL</td>\n      <td>6E 5035</td>\n      <td>A321_66</td>\n      <td>1:35</td>\n      <td>D16</td>\n      <td>2021-02-16 09:15:00</td>\n    </tr>\n    <tr>\n      <th>32722</th>\n      <td>STV</td>\n      <td>False</td>\n      <td>False</td>\n      <td>CCU</td>\n      <td>6E 0357</td>\n      <td>A131</td>\n      <td>2:30</td>\n      <td>D16</td>\n      <td>2021-02-16 10:25:00</td>\n    </tr>\n    <tr>\n      <th>33432</th>\n      <td>STV</td>\n      <td>False</td>\n      <td>False</td>\n      <td>HYD</td>\n      <td>6E 0497</td>\n      <td>A83</td>\n      <td>1:30</td>\n      <td>D16</td>\n      <td>2021-02-16 12:00:00</td>\n    </tr>\n    <tr>\n      <th>33004</th>\n      <td>STV</td>\n      <td>False</td>\n      <td>False</td>\n      <td>DEL</td>\n      <td>6E 2178</td>\n      <td>A320_23</td>\n      <td>1:55</td>\n      <td>D16</td>\n      <td>2021-02-16 19:30:00</td>\n    </tr>\n    <tr>\n      <th>33455</th>\n      <td>STV</td>\n      <td>False</td>\n      <td>False</td>\n      <td>GOI</td>\n      <td>6E 6294</td>\n      <td>A870</td>\n      <td>1:25</td>\n      <td>D16</td>\n      <td>2021-02-16 20:50:00</td>\n    </tr>\n    <tr>\n      <th>33192</th>\n      <td>STV</td>\n      <td>False</td>\n      <td>False</td>\n      <td>BLR</td>\n      <td>6E 0607</td>\n      <td>A32S_771</td>\n      <td>2:00</td>\n      <td>D16</td>\n      <td>2021-02-16 21:15:00</td>\n    </tr>\n  </tbody>\n</table>\n</div>"
     },
     "metadata": {},
     "execution_count": 20
    }
   ],
   "source": [
    "# manual testing continued as cell excution creates a new random sample \n",
    "onedf=req_df.loc[(req_df[\"variable\"]==\"D16\") & (req_df[\"Dept Arp\"]==\"STV\")]\n",
    "onedf =onedf.sort_values(by=\"value\")\n",
    "onedf"
   ]
  },
  {
   "cell_type": "code",
   "execution_count": 19,
   "metadata": {},
   "outputs": [
    {
     "output_type": "error",
     "ename": "KeyError",
     "evalue": "'moddeptime'",
     "traceback": [
      "\u001b[1;31m---------------------------------------------------------------------------\u001b[0m",
      "\u001b[1;31mKeyError\u001b[0m                                  Traceback (most recent call last)",
      "\u001b[1;32m<ipython-input-19-6092c3979cff>\u001b[0m in \u001b[0;36m<module>\u001b[1;34m\u001b[0m\n\u001b[0;32m      3\u001b[0m \u001b[1;31m# sorting and operting on one rotation\u001b[0m\u001b[1;33m\u001b[0m\u001b[1;33m\u001b[0m\u001b[1;33m\u001b[0m\u001b[0m\n\u001b[0;32m      4\u001b[0m \u001b[1;33m\u001b[0m\u001b[0m\n\u001b[1;32m----> 5\u001b[1;33m \u001b[0monedf\u001b[0m \u001b[1;33m=\u001b[0m\u001b[0monedf\u001b[0m\u001b[1;33m.\u001b[0m\u001b[0msort_values\u001b[0m\u001b[1;33m(\u001b[0m\u001b[1;34m\"moddeptime\"\u001b[0m\u001b[1;33m)\u001b[0m\u001b[1;33m\u001b[0m\u001b[1;33m\u001b[0m\u001b[0m\n\u001b[0m\u001b[0;32m      6\u001b[0m \u001b[1;33m\u001b[0m\u001b[0m\n\u001b[0;32m      7\u001b[0m \u001b[1;33m\u001b[0m\u001b[0m\n",
      "\u001b[1;32md:\\COding\\Python Area\\Streamlit_Pandas\\pystreamlit\\env\\lib\\site-packages\\pandas\\core\\frame.py\u001b[0m in \u001b[0;36msort_values\u001b[1;34m(self, by, axis, ascending, inplace, kind, na_position, ignore_index, key)\u001b[0m\n\u001b[0;32m   5450\u001b[0m \u001b[1;33m\u001b[0m\u001b[0m\n\u001b[0;32m   5451\u001b[0m             \u001b[0mby\u001b[0m \u001b[1;33m=\u001b[0m \u001b[0mby\u001b[0m\u001b[1;33m[\u001b[0m\u001b[1;36m0\u001b[0m\u001b[1;33m]\u001b[0m\u001b[1;33m\u001b[0m\u001b[1;33m\u001b[0m\u001b[0m\n\u001b[1;32m-> 5452\u001b[1;33m             \u001b[0mk\u001b[0m \u001b[1;33m=\u001b[0m \u001b[0mself\u001b[0m\u001b[1;33m.\u001b[0m\u001b[0m_get_label_or_level_values\u001b[0m\u001b[1;33m(\u001b[0m\u001b[0mby\u001b[0m\u001b[1;33m,\u001b[0m \u001b[0maxis\u001b[0m\u001b[1;33m=\u001b[0m\u001b[0maxis\u001b[0m\u001b[1;33m)\u001b[0m\u001b[1;33m\u001b[0m\u001b[1;33m\u001b[0m\u001b[0m\n\u001b[0m\u001b[0;32m   5453\u001b[0m \u001b[1;33m\u001b[0m\u001b[0m\n\u001b[0;32m   5454\u001b[0m             \u001b[1;31m# need to rewrap column in Series to apply key function\u001b[0m\u001b[1;33m\u001b[0m\u001b[1;33m\u001b[0m\u001b[1;33m\u001b[0m\u001b[0m\n",
      "\u001b[1;32md:\\COding\\Python Area\\Streamlit_Pandas\\pystreamlit\\env\\lib\\site-packages\\pandas\\core\\generic.py\u001b[0m in \u001b[0;36m_get_label_or_level_values\u001b[1;34m(self, key, axis)\u001b[0m\n\u001b[0;32m   1681\u001b[0m             \u001b[0mvalues\u001b[0m \u001b[1;33m=\u001b[0m \u001b[0mself\u001b[0m\u001b[1;33m.\u001b[0m\u001b[0maxes\u001b[0m\u001b[1;33m[\u001b[0m\u001b[0maxis\u001b[0m\u001b[1;33m]\u001b[0m\u001b[1;33m.\u001b[0m\u001b[0mget_level_values\u001b[0m\u001b[1;33m(\u001b[0m\u001b[0mkey\u001b[0m\u001b[1;33m)\u001b[0m\u001b[1;33m.\u001b[0m\u001b[0m_values\u001b[0m\u001b[1;33m\u001b[0m\u001b[1;33m\u001b[0m\u001b[0m\n\u001b[0;32m   1682\u001b[0m         \u001b[1;32melse\u001b[0m\u001b[1;33m:\u001b[0m\u001b[1;33m\u001b[0m\u001b[1;33m\u001b[0m\u001b[0m\n\u001b[1;32m-> 1683\u001b[1;33m             \u001b[1;32mraise\u001b[0m \u001b[0mKeyError\u001b[0m\u001b[1;33m(\u001b[0m\u001b[0mkey\u001b[0m\u001b[1;33m)\u001b[0m\u001b[1;33m\u001b[0m\u001b[1;33m\u001b[0m\u001b[0m\n\u001b[0m\u001b[0;32m   1684\u001b[0m \u001b[1;33m\u001b[0m\u001b[0m\n\u001b[0;32m   1685\u001b[0m         \u001b[1;31m# Check for duplicates\u001b[0m\u001b[1;33m\u001b[0m\u001b[1;33m\u001b[0m\u001b[1;33m\u001b[0m\u001b[0m\n",
      "\u001b[1;31mKeyError\u001b[0m: 'moddeptime'"
     ]
    }
   ],
   "source": [
    "\n",
    "onedf=dataframe.loc[dataframe[\"Text Comment\"]==\"A10\"]\n",
    "\n",
    "# sorting and operting on one rotation \n",
    "\n",
    "onedf =onedf.sort_values(\"moddeptime\")\n",
    "\n",
    "\n",
    "onedf[\"deptype\"].iloc[0] =\"baseDep\"\n",
    "onedf[\"deptype\"].iloc[-1] =\"baseArr\"\n",
    "mylist = onedf['Flt Desg'].values.tolist()\n",
    "indices_base_dep = [i for i, x in enumerate(mylist) if x == mylist[0]]\n",
    "indices_base_arr = [i for i, x in enumerate(mylist) if x == mylist[-1]]\n",
    "for india in indices_base_dep:\n",
    "    onedf[\"deptype\"].iloc[india] =\"baseDep\"\n",
    "for xray in indices_base_arr:\n",
    "    onedf[\"deptype\"].iloc[xray] =\"baseArr\"\n",
    "\n",
    "\n",
    "# adding  a duplicate row at the bottom for base arival Aircraft \n",
    "is_Base_Arrival = onedf[\"deptype\"] ==\"baseArr\"\n",
    "onedf_try=onedf[is_Base_Arrival]\n",
    "onedf=onedf.append(onedf_try,ignore_index=True)\n",
    "\n",
    "\n",
    "# modifying the eng_arr and eng_dep for one rotation \n",
    "for xray in range(0,len(onedf)):\n",
    "    if onedf.loc[xray,\"deptype\"] == \"baseDep\":\n",
    "        onedf.loc[xray,\"engg_arr\"] = \"baseAcft\"\n",
    "        onedf.loc[xray,\"engg_dep\"] = onedf.loc[xray,\"moddeptime\"]\n",
    "    elif onedf.loc[xray,\"deptype\"] != \"baseDep\" and onedf.loc[xray,\"deptype\"] != \"baseArr\":\n",
    "        onedf.loc[xray,\"engg_arr\"] = onedf.loc[xray-1,\"mod_arr_time\"] \n",
    "        onedf.loc[xray,\"engg_dep\"] = onedf.loc[xray,\"moddeptime\"] \n",
    "\n"
   ]
  }
 ]
}