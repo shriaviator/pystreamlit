{
 "metadata": {
  "language_info": {
   "codemirror_mode": {
    "name": "ipython",
    "version": 3
   },
   "file_extension": ".py",
   "mimetype": "text/x-python",
   "name": "python",
   "nbconvert_exporter": "python",
   "pygments_lexer": "ipython3",
   "version": "3.8.7-final"
  },
  "orig_nbformat": 2,
  "kernelspec": {
   "name": "python3",
   "display_name": "Python 3",
   "language": "python"
  }
 },
 "nbformat": 4,
 "nbformat_minor": 2,
 "cells": [
  {
   "cell_type": "code",
   "execution_count": 19,
   "metadata": {},
   "outputs": [],
   "source": [
    "import matplotlib.pyplot as plt\n",
    "import numpy as np\n",
    "import pandas as pd\n",
    "import pickle\n",
    "import gspread\n",
    "from oauth2client.service_account import ServiceAccountCredentials\n",
    "import datetime\n",
    "import pickle\n",
    "import re\n",
    "scope = [\"https://spreadsheets.google.com/feeds\", 'https://www.googleapis.com/auth/spreadsheets',\n",
    "         \"https://www.googleapis.com/auth/drive.file\", \"https://www.googleapis.com/auth/drive\"]\n",
    "\n",
    "creds = ServiceAccountCredentials.from_json_keyfile_name(\"crudg.json\", scope)\n",
    "client = gspread.authorize(creds)\n",
    "sheet = client.open(\"flightsched\").get_worksheet(2)\n",
    "dataframe = pd.DataFrame(sheet.get_all_records())\n"
   ]
  },
  {
   "cell_type": "code",
   "execution_count": 20,
   "metadata": {},
   "outputs": [],
   "source": [
    "# Set ipython's max row display\n",
    "pd.set_option('display.max_row', 50)\n",
    "\n",
    "# Set iPython's max column width to 50\n",
    "pd.set_option('display.max_columns', 50)"
   ]
  },
  {
   "cell_type": "code",
   "execution_count": 21,
   "metadata": {
    "tags": []
   },
   "outputs": [],
   "source": [
    "\n",
    "dataframe[\"Modeffdate\"]= pd.to_datetime(dataframe[\"Modeffdate\"], unit=\"s\")\n",
    "dataframe[\"moddisdate\"]= pd.to_datetime(dataframe[\"moddisdate\"], unit=\"s\")\n",
    "dataframe[\"moddeptime\"]= pd.to_datetime(dataframe[\"moddeptime\"], unit=\"s\")\n",
    "dataframe[\"mod_arr_time\"]= pd.to_datetime(dataframe[\"mod_arr_time\"], unit=\"s\")\n",
    "dataframe = dataframe.drop(columns=[\"Dept Time\" ,\"Arrv Time\",\"Subfleet\",\"Service Type\",\"Eff Date\",\"Dis Date\",\"01-Jan-1970\"])\n",
    "dataframe[\"Freq\"] = dataframe[\"Freq\"].astype(str)\n",
    "dataframe[\"Freq\"] = dataframe[\"Freq\"].str.replace(\".\",\"\")\n",
    "dataframe[\"engg_arr\"]= False\n",
    "dataframe[\"engg_dep\"]=False\n",
    "dataframe[\"deptype\"]=False\n",
    "dataframe[\"actual_days\"]=\"\"\n",
    "cols = [ 'Dept Arp', 'engg_arr','engg_dep', 'deptype','Arvl Arp', 'Flt Desg',   'moddeptime', 'mod_arr_time'  ,'Text Comment', 'Freq','Block Time','Modeffdate', 'moddisdate',\"actual_days\"\n",
    ",]\n",
    "dataframe = dataframe[cols]\n",
    "\n",
    "#  modyfying actualdays column for complete dataset \n",
    "\n",
    "for xray in range(0,len(dataframe)):\n",
    "    bravo =  pd.to_datetime(str(dataframe.loc[xray,\"Modeffdate\"]))\n",
    "    while dataframe.loc[xray,\"moddisdate\"] >= bravo:\n",
    "        # one added as day of the week is different in pandas and data \n",
    "        if str(bravo.dayofweek + 1) in dataframe.loc[xray,\"Freq\"]:\n",
    "            dataframe.loc[xray,\"actual_days\"]+= \"/\"+ str(bravo.day)\n",
    "        bravo+= pd.DateOffset(1)\n",
    "\n",
    "# adding columns for each day of month \n",
    "col_name_list=[]\n",
    "nilList=[]\n",
    "StrArr = \"A\"\n",
    "StrDep =\"D\"\n",
    "for india in range(1,32):\n",
    "     col_name_list.append(StrDep + str(india))\n",
    "     col_name_list.append(StrArr + str(india))\n",
    "     nilList.append(False)\n",
    "     nilList.append(False)\n",
    "cols = cols +col_name_list\n",
    "dataframe = pd.concat([dataframe,pd.DataFrame([nilList],index=dataframe.index,columns = col_name_list)], axis=1)\n",
    "\n"
   ]
  },
  {
   "cell_type": "code",
   "execution_count": 22,
   "metadata": {},
   "outputs": [
    {
     "output_type": "execute_result",
     "data": {
      "text/plain": [
       "     Dept Arp  engg_arr  engg_dep  deptype Arvl Arp Flt Desg  \\\n",
       "1297      STV     False     False    False      HYD  6E 0497   \n",
       "\n",
       "              moddeptime        mod_arr_time Text Comment     Freq Block Time  \\\n",
       "1297 1970-01-01 12:00:00 1970-01-01 13:30:00          A83  1234567       1:30   \n",
       "\n",
       "     Modeffdate moddisdate                                        actual_days  \\\n",
       "1297 2021-02-01 2021-02-28  /1/2/3/4/5/6/7/8/9/10/11/12/13/14/15/16/17/18/...   \n",
       "\n",
       "         D1     A1     D2     A2     D3     A3     D4     A4     D5     A5  \\\n",
       "1297  False  False  False  False  False  False  False  False  False  False   \n",
       "\n",
       "         D6  ...    A19    D20    A20    D21    A21    D22    A22    D23  \\\n",
       "1297  False  ...  False  False  False  False  False  False  False  False   \n",
       "\n",
       "        A23    D24    A24    D25    A25    D26    A26    D27    A27    D28  \\\n",
       "1297  False  False  False  False  False  False  False  False  False  False   \n",
       "\n",
       "        A28    D29    A29    D30    A30    D31    A31  \n",
       "1297  False  False  False  False  False  False  False  \n",
       "\n",
       "[1 rows x 76 columns]"
      ],
      "text/html": "<div>\n<style scoped>\n    .dataframe tbody tr th:only-of-type {\n        vertical-align: middle;\n    }\n\n    .dataframe tbody tr th {\n        vertical-align: top;\n    }\n\n    .dataframe thead th {\n        text-align: right;\n    }\n</style>\n<table border=\"1\" class=\"dataframe\">\n  <thead>\n    <tr style=\"text-align: right;\">\n      <th></th>\n      <th>Dept Arp</th>\n      <th>engg_arr</th>\n      <th>engg_dep</th>\n      <th>deptype</th>\n      <th>Arvl Arp</th>\n      <th>Flt Desg</th>\n      <th>moddeptime</th>\n      <th>mod_arr_time</th>\n      <th>Text Comment</th>\n      <th>Freq</th>\n      <th>Block Time</th>\n      <th>Modeffdate</th>\n      <th>moddisdate</th>\n      <th>actual_days</th>\n      <th>D1</th>\n      <th>A1</th>\n      <th>D2</th>\n      <th>A2</th>\n      <th>D3</th>\n      <th>A3</th>\n      <th>D4</th>\n      <th>A4</th>\n      <th>D5</th>\n      <th>A5</th>\n      <th>D6</th>\n      <th>...</th>\n      <th>A19</th>\n      <th>D20</th>\n      <th>A20</th>\n      <th>D21</th>\n      <th>A21</th>\n      <th>D22</th>\n      <th>A22</th>\n      <th>D23</th>\n      <th>A23</th>\n      <th>D24</th>\n      <th>A24</th>\n      <th>D25</th>\n      <th>A25</th>\n      <th>D26</th>\n      <th>A26</th>\n      <th>D27</th>\n      <th>A27</th>\n      <th>D28</th>\n      <th>A28</th>\n      <th>D29</th>\n      <th>A29</th>\n      <th>D30</th>\n      <th>A30</th>\n      <th>D31</th>\n      <th>A31</th>\n    </tr>\n  </thead>\n  <tbody>\n    <tr>\n      <th>1297</th>\n      <td>STV</td>\n      <td>False</td>\n      <td>False</td>\n      <td>False</td>\n      <td>HYD</td>\n      <td>6E 0497</td>\n      <td>1970-01-01 12:00:00</td>\n      <td>1970-01-01 13:30:00</td>\n      <td>A83</td>\n      <td>1234567</td>\n      <td>1:30</td>\n      <td>2021-02-01</td>\n      <td>2021-02-28</td>\n      <td>/1/2/3/4/5/6/7/8/9/10/11/12/13/14/15/16/17/18/...</td>\n      <td>False</td>\n      <td>False</td>\n      <td>False</td>\n      <td>False</td>\n      <td>False</td>\n      <td>False</td>\n      <td>False</td>\n      <td>False</td>\n      <td>False</td>\n      <td>False</td>\n      <td>False</td>\n      <td>...</td>\n      <td>False</td>\n      <td>False</td>\n      <td>False</td>\n      <td>False</td>\n      <td>False</td>\n      <td>False</td>\n      <td>False</td>\n      <td>False</td>\n      <td>False</td>\n      <td>False</td>\n      <td>False</td>\n      <td>False</td>\n      <td>False</td>\n      <td>False</td>\n      <td>False</td>\n      <td>False</td>\n      <td>False</td>\n      <td>False</td>\n      <td>False</td>\n      <td>False</td>\n      <td>False</td>\n      <td>False</td>\n      <td>False</td>\n      <td>False</td>\n      <td>False</td>\n    </tr>\n  </tbody>\n</table>\n<p>1 rows × 76 columns</p>\n</div>"
     },
     "metadata": {},
     "execution_count": 22
    }
   ],
   "source": [
    "onedf=dataframe.loc[(dataframe[\"Text Comment\"]==\"A83\") & (dataframe[\"Dept Arp\"]==\"STV\")]\n",
    "# onedf =onedf.sort_values(by=\"value\")\n",
    "onedf.head(30)"
   ]
  },
  {
   "cell_type": "code",
   "execution_count": 23,
   "metadata": {},
   "outputs": [],
   "source": [
    "test_df = dataframe.head(30)"
   ]
  },
  {
   "cell_type": "code",
   "execution_count": 24,
   "metadata": {},
   "outputs": [],
   "source": [
    "\n",
    "# first day of month set manually need to to check edge cases \n",
    "def remove_duplicate_flights (x_df):\n",
    "      temp_dict ={}\n",
    "      \n",
    "      for xray in range(0,len(x_df)):\n",
    "            if not (str(x_df.loc[xray,'Flt Desg']) in temp_dict):\n",
    "                  temp_dict[x_df.loc[xray,'Flt Desg']] =xray\n",
    "                  alpha = pd.to_datetime(str(x_df.loc[xray,\"Modeffdate\"].date()) +\" \"+ x_df.loc[xray,\"moddeptime\"].strftime('%H:%M:%S'),format=\"%Y-%m-%d %H:%M:%S\").replace(day=1)\n",
    "                  beta = pd.to_datetime(str(x_df.loc[xray,\"Modeffdate\"].date()) +\" \"+ x_df.loc[xray,\"mod_arr_time\"].strftime('%H:%M:%S'),format=\"%Y-%m-%d %H:%M:%S\").replace(day=1)\n",
    "                  for india in range(1,32):\n",
    "                        if str(india) in x_df.loc[xray,'actual_days'].split(\"/\"):\n",
    "                              x_df.loc[xray,\"D\"+str(india)] = alpha\n",
    "                              x_df.loc[xray,\"A\"+str(india)] = beta\n",
    "                        alpha+=pd.DateOffset(1)\n",
    "                        beta+=pd.DateOffset(1)\n",
    "\n",
    "            elif (str(x_df.loc[xray,'Flt Desg']) in temp_dict):\n",
    "                  alpha = pd.to_datetime(str(x_df.loc[xray,\"Modeffdate\"].date()) +\" \"+ x_df.loc[xray,\"moddeptime\"].strftime('%H:%M:%S'),format=\"%Y-%m-%d %H:%M:%S\").replace(day=1)\n",
    "                  beta = pd.to_datetime(str(x_df.loc[xray,\"Modeffdate\"].date()) +\" \"+ x_df.loc[xray,\"mod_arr_time\"].strftime('%H:%M:%S'),format=\"%Y-%m-%d %H:%M:%S\").replace(day=1)              \n",
    "                  zulu = temp_dict[x_df.loc[xray,'Flt Desg']]\n",
    "                  \n",
    "                  for india in range(1,32):\n",
    "                        if str(india) in x_df.loc[xray,'actual_days'].split(\"/\"):\n",
    "                              x_df.loc[zulu,\"D\"+str(india)] = alpha\n",
    "                              x_df.loc[zulu,\"A\"+str(india)] = beta\n",
    "                        alpha+=pd.DateOffset(1)\n",
    "                        beta+=pd.DateOffset(1)\n",
    "\n",
    "      \n",
    "      \n",
    "                 \n",
    "\n",
    "\n",
    "\n",
    "\n",
    "\n"
   ]
  },
  {
   "cell_type": "code",
   "execution_count": 25,
   "metadata": {},
   "outputs": [
    {
     "output_type": "execute_result",
     "data": {
      "text/plain": [
       "     Dept Arp  engg_arr  engg_dep  deptype Arvl Arp Flt Desg  \\\n",
       "415       MAA     False     False    False      HYD  6E 0384   \n",
       "416       HYD     False     False    False      BOM  6E 0384   \n",
       "417       BOM     False     False    False      HYD  6E 6117   \n",
       "418       HYD     False     False    False      MAA  6E 0497   \n",
       "419       MAA     False     False    False      DEL  6E 2752   \n",
       "420       DEL     False     False    False      MAA  6E 2519   \n",
       "1294      HYD     False     False    False      PNQ  6E 6516   \n",
       "1295      HYD     False     False    False      STV  6E 0493   \n",
       "1296      PNQ     False     False    False      HYD  6E 6517   \n",
       "1297      STV     False     False    False      HYD  6E 0497   \n",
       "1298      HYD     False     False    False      LKO  6E 0732   \n",
       "1299      LKO     False     False    False      DED  6E 0732   \n",
       "1300      DED     False     False    False      LKO  6E 0844   \n",
       "1301      LKO     False     False    False      HYD  6E 0844   \n",
       "1302      HYD     False     False    False      BLR  6E 0147   \n",
       "\n",
       "              moddeptime        mod_arr_time Text Comment     Freq Block Time  \\\n",
       "415  1970-01-01 06:40:00 1970-01-01 07:50:00           A2  1234567       1:10   \n",
       "416  1970-01-01 08:55:00 1970-01-01 10:20:00           A2  1234567       1:25   \n",
       "417  1970-01-01 12:00:00 1970-01-01 13:35:00           A2  1234567       1:35   \n",
       "418  1970-01-01 14:45:00 1970-01-01 16:10:00           A2  1234567       1:25   \n",
       "419  1970-01-01 17:05:00 1970-01-01 20:00:00           A2  1234567       2:55   \n",
       "420  1970-01-01 20:45:00 1970-01-01 23:30:00           A2  1234567       2:45   \n",
       "1294 1970-01-01 09:00:00 1970-01-01 10:00:00          A83     1357       1:00   \n",
       "1295 1970-01-01 09:35:00 1970-01-01 11:20:00          A83  1234567       1:45   \n",
       "1296 1970-01-01 10:55:00 1970-01-01 12:05:00          A83     1357       1:10   \n",
       "1297 1970-01-01 12:00:00 1970-01-01 13:30:00          A83  1234567       1:30   \n",
       "1298 1970-01-01 13:15:00 1970-01-01 15:00:00          A83  1234567       1:45   \n",
       "1299 1970-01-01 15:55:00 1970-01-01 17:10:00          A83  1234567       1:15   \n",
       "1300 1970-01-01 18:00:00 1970-01-01 19:00:00          A83  1234567       1:00   \n",
       "1301 1970-01-01 20:00:00 1970-01-01 22:15:00          A83  1234567       2:15   \n",
       "1302 1970-01-01 23:25:00 1970-01-01 00:45:00          A83  1234567       1:20   \n",
       "\n",
       "     Modeffdate moddisdate                                        actual_days  \\\n",
       "415  2021-02-01 2021-02-28  /1/2/3/4/5/6/7/8/9/10/11/12/13/14/15/16/17/18/...   \n",
       "416  2021-02-01 2021-02-28  /1/2/3/4/5/6/7/8/9/10/11/12/13/14/15/16/17/18/...   \n",
       "417  2021-02-01 2021-02-28  /1/2/3/4/5/6/7/8/9/10/11/12/13/14/15/16/17/18/...   \n",
       "418  2021-02-01 2021-02-28  /1/2/3/4/5/6/7/8/9/10/11/12/13/14/15/16/17/18/...   \n",
       "419  2021-02-01 2021-02-28  /1/2/3/4/5/6/7/8/9/10/11/12/13/14/15/16/17/18/...   \n",
       "420  2021-02-01 2021-02-28  /1/2/3/4/5/6/7/8/9/10/11/12/13/14/15/16/17/18/...   \n",
       "1294 2021-02-01 2021-02-28        /1/3/5/7/8/10/12/14/15/17/19/21/22/24/26/28   \n",
       "1295 2021-02-01 2021-02-28  /1/2/3/4/5/6/7/8/9/10/11/12/13/14/15/16/17/18/...   \n",
       "1296 2021-02-01 2021-02-28        /1/3/5/7/8/10/12/14/15/17/19/21/22/24/26/28   \n",
       "1297 2021-02-01 2021-02-28  /1/2/3/4/5/6/7/8/9/10/11/12/13/14/15/16/17/18/...   \n",
       "1298 2021-02-01 2021-02-28  /1/2/3/4/5/6/7/8/9/10/11/12/13/14/15/16/17/18/...   \n",
       "1299 2021-02-01 2021-02-28  /1/2/3/4/5/6/7/8/9/10/11/12/13/14/15/16/17/18/...   \n",
       "1300 2021-02-01 2021-02-28  /1/2/3/4/5/6/7/8/9/10/11/12/13/14/15/16/17/18/...   \n",
       "1301 2021-02-01 2021-02-28  /1/2/3/4/5/6/7/8/9/10/11/12/13/14/15/16/17/18/...   \n",
       "1302 2021-02-01 2021-02-28  /1/2/3/4/5/6/7/8/9/10/11/12/13/14/15/16/17/18/...   \n",
       "\n",
       "         D1     A1     D2     A2     D3     A3     D4     A4     D5     A5  \\\n",
       "415   False  False  False  False  False  False  False  False  False  False   \n",
       "416   False  False  False  False  False  False  False  False  False  False   \n",
       "417   False  False  False  False  False  False  False  False  False  False   \n",
       "418   False  False  False  False  False  False  False  False  False  False   \n",
       "419   False  False  False  False  False  False  False  False  False  False   \n",
       "420   False  False  False  False  False  False  False  False  False  False   \n",
       "1294  False  False  False  False  False  False  False  False  False  False   \n",
       "1295  False  False  False  False  False  False  False  False  False  False   \n",
       "1296  False  False  False  False  False  False  False  False  False  False   \n",
       "1297  False  False  False  False  False  False  False  False  False  False   \n",
       "1298  False  False  False  False  False  False  False  False  False  False   \n",
       "1299  False  False  False  False  False  False  False  False  False  False   \n",
       "1300  False  False  False  False  False  False  False  False  False  False   \n",
       "1301  False  False  False  False  False  False  False  False  False  False   \n",
       "1302  False  False  False  False  False  False  False  False  False  False   \n",
       "\n",
       "         D6  ...    A19    D20    A20    D21    A21    D22    A22    D23  \\\n",
       "415   False  ...  False  False  False  False  False  False  False  False   \n",
       "416   False  ...  False  False  False  False  False  False  False  False   \n",
       "417   False  ...  False  False  False  False  False  False  False  False   \n",
       "418   False  ...  False  False  False  False  False  False  False  False   \n",
       "419   False  ...  False  False  False  False  False  False  False  False   \n",
       "420   False  ...  False  False  False  False  False  False  False  False   \n",
       "1294  False  ...  False  False  False  False  False  False  False  False   \n",
       "1295  False  ...  False  False  False  False  False  False  False  False   \n",
       "1296  False  ...  False  False  False  False  False  False  False  False   \n",
       "1297  False  ...  False  False  False  False  False  False  False  False   \n",
       "1298  False  ...  False  False  False  False  False  False  False  False   \n",
       "1299  False  ...  False  False  False  False  False  False  False  False   \n",
       "1300  False  ...  False  False  False  False  False  False  False  False   \n",
       "1301  False  ...  False  False  False  False  False  False  False  False   \n",
       "1302  False  ...  False  False  False  False  False  False  False  False   \n",
       "\n",
       "        A23    D24    A24    D25    A25    D26    A26    D27    A27    D28  \\\n",
       "415   False  False  False  False  False  False  False  False  False  False   \n",
       "416   False  False  False  False  False  False  False  False  False  False   \n",
       "417   False  False  False  False  False  False  False  False  False  False   \n",
       "418   False  False  False  False  False  False  False  False  False  False   \n",
       "419   False  False  False  False  False  False  False  False  False  False   \n",
       "420   False  False  False  False  False  False  False  False  False  False   \n",
       "1294  False  False  False  False  False  False  False  False  False  False   \n",
       "1295  False  False  False  False  False  False  False  False  False  False   \n",
       "1296  False  False  False  False  False  False  False  False  False  False   \n",
       "1297  False  False  False  False  False  False  False  False  False  False   \n",
       "1298  False  False  False  False  False  False  False  False  False  False   \n",
       "1299  False  False  False  False  False  False  False  False  False  False   \n",
       "1300  False  False  False  False  False  False  False  False  False  False   \n",
       "1301  False  False  False  False  False  False  False  False  False  False   \n",
       "1302  False  False  False  False  False  False  False  False  False  False   \n",
       "\n",
       "        A28    D29    A29    D30    A30    D31    A31  \n",
       "415   False  False  False  False  False  False  False  \n",
       "416   False  False  False  False  False  False  False  \n",
       "417   False  False  False  False  False  False  False  \n",
       "418   False  False  False  False  False  False  False  \n",
       "419   False  False  False  False  False  False  False  \n",
       "420   False  False  False  False  False  False  False  \n",
       "1294  False  False  False  False  False  False  False  \n",
       "1295  False  False  False  False  False  False  False  \n",
       "1296  False  False  False  False  False  False  False  \n",
       "1297  False  False  False  False  False  False  False  \n",
       "1298  False  False  False  False  False  False  False  \n",
       "1299  False  False  False  False  False  False  False  \n",
       "1300  False  False  False  False  False  False  False  \n",
       "1301  False  False  False  False  False  False  False  \n",
       "1302  False  False  False  False  False  False  False  \n",
       "\n",
       "[15 rows x 76 columns]"
      ],
      "text/html": "<div>\n<style scoped>\n    .dataframe tbody tr th:only-of-type {\n        vertical-align: middle;\n    }\n\n    .dataframe tbody tr th {\n        vertical-align: top;\n    }\n\n    .dataframe thead th {\n        text-align: right;\n    }\n</style>\n<table border=\"1\" class=\"dataframe\">\n  <thead>\n    <tr style=\"text-align: right;\">\n      <th></th>\n      <th>Dept Arp</th>\n      <th>engg_arr</th>\n      <th>engg_dep</th>\n      <th>deptype</th>\n      <th>Arvl Arp</th>\n      <th>Flt Desg</th>\n      <th>moddeptime</th>\n      <th>mod_arr_time</th>\n      <th>Text Comment</th>\n      <th>Freq</th>\n      <th>Block Time</th>\n      <th>Modeffdate</th>\n      <th>moddisdate</th>\n      <th>actual_days</th>\n      <th>D1</th>\n      <th>A1</th>\n      <th>D2</th>\n      <th>A2</th>\n      <th>D3</th>\n      <th>A3</th>\n      <th>D4</th>\n      <th>A4</th>\n      <th>D5</th>\n      <th>A5</th>\n      <th>D6</th>\n      <th>...</th>\n      <th>A19</th>\n      <th>D20</th>\n      <th>A20</th>\n      <th>D21</th>\n      <th>A21</th>\n      <th>D22</th>\n      <th>A22</th>\n      <th>D23</th>\n      <th>A23</th>\n      <th>D24</th>\n      <th>A24</th>\n      <th>D25</th>\n      <th>A25</th>\n      <th>D26</th>\n      <th>A26</th>\n      <th>D27</th>\n      <th>A27</th>\n      <th>D28</th>\n      <th>A28</th>\n      <th>D29</th>\n      <th>A29</th>\n      <th>D30</th>\n      <th>A30</th>\n      <th>D31</th>\n      <th>A31</th>\n    </tr>\n  </thead>\n  <tbody>\n    <tr>\n      <th>415</th>\n      <td>MAA</td>\n      <td>False</td>\n      <td>False</td>\n      <td>False</td>\n      <td>HYD</td>\n      <td>6E 0384</td>\n      <td>1970-01-01 06:40:00</td>\n      <td>1970-01-01 07:50:00</td>\n      <td>A2</td>\n      <td>1234567</td>\n      <td>1:10</td>\n      <td>2021-02-01</td>\n      <td>2021-02-28</td>\n      <td>/1/2/3/4/5/6/7/8/9/10/11/12/13/14/15/16/17/18/...</td>\n      <td>False</td>\n      <td>False</td>\n      <td>False</td>\n      <td>False</td>\n      <td>False</td>\n      <td>False</td>\n      <td>False</td>\n      <td>False</td>\n      <td>False</td>\n      <td>False</td>\n      <td>False</td>\n      <td>...</td>\n      <td>False</td>\n      <td>False</td>\n      <td>False</td>\n      <td>False</td>\n      <td>False</td>\n      <td>False</td>\n      <td>False</td>\n      <td>False</td>\n      <td>False</td>\n      <td>False</td>\n      <td>False</td>\n      <td>False</td>\n      <td>False</td>\n      <td>False</td>\n      <td>False</td>\n      <td>False</td>\n      <td>False</td>\n      <td>False</td>\n      <td>False</td>\n      <td>False</td>\n      <td>False</td>\n      <td>False</td>\n      <td>False</td>\n      <td>False</td>\n      <td>False</td>\n    </tr>\n    <tr>\n      <th>416</th>\n      <td>HYD</td>\n      <td>False</td>\n      <td>False</td>\n      <td>False</td>\n      <td>BOM</td>\n      <td>6E 0384</td>\n      <td>1970-01-01 08:55:00</td>\n      <td>1970-01-01 10:20:00</td>\n      <td>A2</td>\n      <td>1234567</td>\n      <td>1:25</td>\n      <td>2021-02-01</td>\n      <td>2021-02-28</td>\n      <td>/1/2/3/4/5/6/7/8/9/10/11/12/13/14/15/16/17/18/...</td>\n      <td>False</td>\n      <td>False</td>\n      <td>False</td>\n      <td>False</td>\n      <td>False</td>\n      <td>False</td>\n      <td>False</td>\n      <td>False</td>\n      <td>False</td>\n      <td>False</td>\n      <td>False</td>\n      <td>...</td>\n      <td>False</td>\n      <td>False</td>\n      <td>False</td>\n      <td>False</td>\n      <td>False</td>\n      <td>False</td>\n      <td>False</td>\n      <td>False</td>\n      <td>False</td>\n      <td>False</td>\n      <td>False</td>\n      <td>False</td>\n      <td>False</td>\n      <td>False</td>\n      <td>False</td>\n      <td>False</td>\n      <td>False</td>\n      <td>False</td>\n      <td>False</td>\n      <td>False</td>\n      <td>False</td>\n      <td>False</td>\n      <td>False</td>\n      <td>False</td>\n      <td>False</td>\n    </tr>\n    <tr>\n      <th>417</th>\n      <td>BOM</td>\n      <td>False</td>\n      <td>False</td>\n      <td>False</td>\n      <td>HYD</td>\n      <td>6E 6117</td>\n      <td>1970-01-01 12:00:00</td>\n      <td>1970-01-01 13:35:00</td>\n      <td>A2</td>\n      <td>1234567</td>\n      <td>1:35</td>\n      <td>2021-02-01</td>\n      <td>2021-02-28</td>\n      <td>/1/2/3/4/5/6/7/8/9/10/11/12/13/14/15/16/17/18/...</td>\n      <td>False</td>\n      <td>False</td>\n      <td>False</td>\n      <td>False</td>\n      <td>False</td>\n      <td>False</td>\n      <td>False</td>\n      <td>False</td>\n      <td>False</td>\n      <td>False</td>\n      <td>False</td>\n      <td>...</td>\n      <td>False</td>\n      <td>False</td>\n      <td>False</td>\n      <td>False</td>\n      <td>False</td>\n      <td>False</td>\n      <td>False</td>\n      <td>False</td>\n      <td>False</td>\n      <td>False</td>\n      <td>False</td>\n      <td>False</td>\n      <td>False</td>\n      <td>False</td>\n      <td>False</td>\n      <td>False</td>\n      <td>False</td>\n      <td>False</td>\n      <td>False</td>\n      <td>False</td>\n      <td>False</td>\n      <td>False</td>\n      <td>False</td>\n      <td>False</td>\n      <td>False</td>\n    </tr>\n    <tr>\n      <th>418</th>\n      <td>HYD</td>\n      <td>False</td>\n      <td>False</td>\n      <td>False</td>\n      <td>MAA</td>\n      <td>6E 0497</td>\n      <td>1970-01-01 14:45:00</td>\n      <td>1970-01-01 16:10:00</td>\n      <td>A2</td>\n      <td>1234567</td>\n      <td>1:25</td>\n      <td>2021-02-01</td>\n      <td>2021-02-28</td>\n      <td>/1/2/3/4/5/6/7/8/9/10/11/12/13/14/15/16/17/18/...</td>\n      <td>False</td>\n      <td>False</td>\n      <td>False</td>\n      <td>False</td>\n      <td>False</td>\n      <td>False</td>\n      <td>False</td>\n      <td>False</td>\n      <td>False</td>\n      <td>False</td>\n      <td>False</td>\n      <td>...</td>\n      <td>False</td>\n      <td>False</td>\n      <td>False</td>\n      <td>False</td>\n      <td>False</td>\n      <td>False</td>\n      <td>False</td>\n      <td>False</td>\n      <td>False</td>\n      <td>False</td>\n      <td>False</td>\n      <td>False</td>\n      <td>False</td>\n      <td>False</td>\n      <td>False</td>\n      <td>False</td>\n      <td>False</td>\n      <td>False</td>\n      <td>False</td>\n      <td>False</td>\n      <td>False</td>\n      <td>False</td>\n      <td>False</td>\n      <td>False</td>\n      <td>False</td>\n    </tr>\n    <tr>\n      <th>419</th>\n      <td>MAA</td>\n      <td>False</td>\n      <td>False</td>\n      <td>False</td>\n      <td>DEL</td>\n      <td>6E 2752</td>\n      <td>1970-01-01 17:05:00</td>\n      <td>1970-01-01 20:00:00</td>\n      <td>A2</td>\n      <td>1234567</td>\n      <td>2:55</td>\n      <td>2021-02-01</td>\n      <td>2021-02-28</td>\n      <td>/1/2/3/4/5/6/7/8/9/10/11/12/13/14/15/16/17/18/...</td>\n      <td>False</td>\n      <td>False</td>\n      <td>False</td>\n      <td>False</td>\n      <td>False</td>\n      <td>False</td>\n      <td>False</td>\n      <td>False</td>\n      <td>False</td>\n      <td>False</td>\n      <td>False</td>\n      <td>...</td>\n      <td>False</td>\n      <td>False</td>\n      <td>False</td>\n      <td>False</td>\n      <td>False</td>\n      <td>False</td>\n      <td>False</td>\n      <td>False</td>\n      <td>False</td>\n      <td>False</td>\n      <td>False</td>\n      <td>False</td>\n      <td>False</td>\n      <td>False</td>\n      <td>False</td>\n      <td>False</td>\n      <td>False</td>\n      <td>False</td>\n      <td>False</td>\n      <td>False</td>\n      <td>False</td>\n      <td>False</td>\n      <td>False</td>\n      <td>False</td>\n      <td>False</td>\n    </tr>\n    <tr>\n      <th>420</th>\n      <td>DEL</td>\n      <td>False</td>\n      <td>False</td>\n      <td>False</td>\n      <td>MAA</td>\n      <td>6E 2519</td>\n      <td>1970-01-01 20:45:00</td>\n      <td>1970-01-01 23:30:00</td>\n      <td>A2</td>\n      <td>1234567</td>\n      <td>2:45</td>\n      <td>2021-02-01</td>\n      <td>2021-02-28</td>\n      <td>/1/2/3/4/5/6/7/8/9/10/11/12/13/14/15/16/17/18/...</td>\n      <td>False</td>\n      <td>False</td>\n      <td>False</td>\n      <td>False</td>\n      <td>False</td>\n      <td>False</td>\n      <td>False</td>\n      <td>False</td>\n      <td>False</td>\n      <td>False</td>\n      <td>False</td>\n      <td>...</td>\n      <td>False</td>\n      <td>False</td>\n      <td>False</td>\n      <td>False</td>\n      <td>False</td>\n      <td>False</td>\n      <td>False</td>\n      <td>False</td>\n      <td>False</td>\n      <td>False</td>\n      <td>False</td>\n      <td>False</td>\n      <td>False</td>\n      <td>False</td>\n      <td>False</td>\n      <td>False</td>\n      <td>False</td>\n      <td>False</td>\n      <td>False</td>\n      <td>False</td>\n      <td>False</td>\n      <td>False</td>\n      <td>False</td>\n      <td>False</td>\n      <td>False</td>\n    </tr>\n    <tr>\n      <th>1294</th>\n      <td>HYD</td>\n      <td>False</td>\n      <td>False</td>\n      <td>False</td>\n      <td>PNQ</td>\n      <td>6E 6516</td>\n      <td>1970-01-01 09:00:00</td>\n      <td>1970-01-01 10:00:00</td>\n      <td>A83</td>\n      <td>1357</td>\n      <td>1:00</td>\n      <td>2021-02-01</td>\n      <td>2021-02-28</td>\n      <td>/1/3/5/7/8/10/12/14/15/17/19/21/22/24/26/28</td>\n      <td>False</td>\n      <td>False</td>\n      <td>False</td>\n      <td>False</td>\n      <td>False</td>\n      <td>False</td>\n      <td>False</td>\n      <td>False</td>\n      <td>False</td>\n      <td>False</td>\n      <td>False</td>\n      <td>...</td>\n      <td>False</td>\n      <td>False</td>\n      <td>False</td>\n      <td>False</td>\n      <td>False</td>\n      <td>False</td>\n      <td>False</td>\n      <td>False</td>\n      <td>False</td>\n      <td>False</td>\n      <td>False</td>\n      <td>False</td>\n      <td>False</td>\n      <td>False</td>\n      <td>False</td>\n      <td>False</td>\n      <td>False</td>\n      <td>False</td>\n      <td>False</td>\n      <td>False</td>\n      <td>False</td>\n      <td>False</td>\n      <td>False</td>\n      <td>False</td>\n      <td>False</td>\n    </tr>\n    <tr>\n      <th>1295</th>\n      <td>HYD</td>\n      <td>False</td>\n      <td>False</td>\n      <td>False</td>\n      <td>STV</td>\n      <td>6E 0493</td>\n      <td>1970-01-01 09:35:00</td>\n      <td>1970-01-01 11:20:00</td>\n      <td>A83</td>\n      <td>1234567</td>\n      <td>1:45</td>\n      <td>2021-02-01</td>\n      <td>2021-02-28</td>\n      <td>/1/2/3/4/5/6/7/8/9/10/11/12/13/14/15/16/17/18/...</td>\n      <td>False</td>\n      <td>False</td>\n      <td>False</td>\n      <td>False</td>\n      <td>False</td>\n      <td>False</td>\n      <td>False</td>\n      <td>False</td>\n      <td>False</td>\n      <td>False</td>\n      <td>False</td>\n      <td>...</td>\n      <td>False</td>\n      <td>False</td>\n      <td>False</td>\n      <td>False</td>\n      <td>False</td>\n      <td>False</td>\n      <td>False</td>\n      <td>False</td>\n      <td>False</td>\n      <td>False</td>\n      <td>False</td>\n      <td>False</td>\n      <td>False</td>\n      <td>False</td>\n      <td>False</td>\n      <td>False</td>\n      <td>False</td>\n      <td>False</td>\n      <td>False</td>\n      <td>False</td>\n      <td>False</td>\n      <td>False</td>\n      <td>False</td>\n      <td>False</td>\n      <td>False</td>\n    </tr>\n    <tr>\n      <th>1296</th>\n      <td>PNQ</td>\n      <td>False</td>\n      <td>False</td>\n      <td>False</td>\n      <td>HYD</td>\n      <td>6E 6517</td>\n      <td>1970-01-01 10:55:00</td>\n      <td>1970-01-01 12:05:00</td>\n      <td>A83</td>\n      <td>1357</td>\n      <td>1:10</td>\n      <td>2021-02-01</td>\n      <td>2021-02-28</td>\n      <td>/1/3/5/7/8/10/12/14/15/17/19/21/22/24/26/28</td>\n      <td>False</td>\n      <td>False</td>\n      <td>False</td>\n      <td>False</td>\n      <td>False</td>\n      <td>False</td>\n      <td>False</td>\n      <td>False</td>\n      <td>False</td>\n      <td>False</td>\n      <td>False</td>\n      <td>...</td>\n      <td>False</td>\n      <td>False</td>\n      <td>False</td>\n      <td>False</td>\n      <td>False</td>\n      <td>False</td>\n      <td>False</td>\n      <td>False</td>\n      <td>False</td>\n      <td>False</td>\n      <td>False</td>\n      <td>False</td>\n      <td>False</td>\n      <td>False</td>\n      <td>False</td>\n      <td>False</td>\n      <td>False</td>\n      <td>False</td>\n      <td>False</td>\n      <td>False</td>\n      <td>False</td>\n      <td>False</td>\n      <td>False</td>\n      <td>False</td>\n      <td>False</td>\n    </tr>\n    <tr>\n      <th>1297</th>\n      <td>STV</td>\n      <td>False</td>\n      <td>False</td>\n      <td>False</td>\n      <td>HYD</td>\n      <td>6E 0497</td>\n      <td>1970-01-01 12:00:00</td>\n      <td>1970-01-01 13:30:00</td>\n      <td>A83</td>\n      <td>1234567</td>\n      <td>1:30</td>\n      <td>2021-02-01</td>\n      <td>2021-02-28</td>\n      <td>/1/2/3/4/5/6/7/8/9/10/11/12/13/14/15/16/17/18/...</td>\n      <td>False</td>\n      <td>False</td>\n      <td>False</td>\n      <td>False</td>\n      <td>False</td>\n      <td>False</td>\n      <td>False</td>\n      <td>False</td>\n      <td>False</td>\n      <td>False</td>\n      <td>False</td>\n      <td>...</td>\n      <td>False</td>\n      <td>False</td>\n      <td>False</td>\n      <td>False</td>\n      <td>False</td>\n      <td>False</td>\n      <td>False</td>\n      <td>False</td>\n      <td>False</td>\n      <td>False</td>\n      <td>False</td>\n      <td>False</td>\n      <td>False</td>\n      <td>False</td>\n      <td>False</td>\n      <td>False</td>\n      <td>False</td>\n      <td>False</td>\n      <td>False</td>\n      <td>False</td>\n      <td>False</td>\n      <td>False</td>\n      <td>False</td>\n      <td>False</td>\n      <td>False</td>\n    </tr>\n    <tr>\n      <th>1298</th>\n      <td>HYD</td>\n      <td>False</td>\n      <td>False</td>\n      <td>False</td>\n      <td>LKO</td>\n      <td>6E 0732</td>\n      <td>1970-01-01 13:15:00</td>\n      <td>1970-01-01 15:00:00</td>\n      <td>A83</td>\n      <td>1234567</td>\n      <td>1:45</td>\n      <td>2021-02-01</td>\n      <td>2021-02-28</td>\n      <td>/1/2/3/4/5/6/7/8/9/10/11/12/13/14/15/16/17/18/...</td>\n      <td>False</td>\n      <td>False</td>\n      <td>False</td>\n      <td>False</td>\n      <td>False</td>\n      <td>False</td>\n      <td>False</td>\n      <td>False</td>\n      <td>False</td>\n      <td>False</td>\n      <td>False</td>\n      <td>...</td>\n      <td>False</td>\n      <td>False</td>\n      <td>False</td>\n      <td>False</td>\n      <td>False</td>\n      <td>False</td>\n      <td>False</td>\n      <td>False</td>\n      <td>False</td>\n      <td>False</td>\n      <td>False</td>\n      <td>False</td>\n      <td>False</td>\n      <td>False</td>\n      <td>False</td>\n      <td>False</td>\n      <td>False</td>\n      <td>False</td>\n      <td>False</td>\n      <td>False</td>\n      <td>False</td>\n      <td>False</td>\n      <td>False</td>\n      <td>False</td>\n      <td>False</td>\n    </tr>\n    <tr>\n      <th>1299</th>\n      <td>LKO</td>\n      <td>False</td>\n      <td>False</td>\n      <td>False</td>\n      <td>DED</td>\n      <td>6E 0732</td>\n      <td>1970-01-01 15:55:00</td>\n      <td>1970-01-01 17:10:00</td>\n      <td>A83</td>\n      <td>1234567</td>\n      <td>1:15</td>\n      <td>2021-02-01</td>\n      <td>2021-02-28</td>\n      <td>/1/2/3/4/5/6/7/8/9/10/11/12/13/14/15/16/17/18/...</td>\n      <td>False</td>\n      <td>False</td>\n      <td>False</td>\n      <td>False</td>\n      <td>False</td>\n      <td>False</td>\n      <td>False</td>\n      <td>False</td>\n      <td>False</td>\n      <td>False</td>\n      <td>False</td>\n      <td>...</td>\n      <td>False</td>\n      <td>False</td>\n      <td>False</td>\n      <td>False</td>\n      <td>False</td>\n      <td>False</td>\n      <td>False</td>\n      <td>False</td>\n      <td>False</td>\n      <td>False</td>\n      <td>False</td>\n      <td>False</td>\n      <td>False</td>\n      <td>False</td>\n      <td>False</td>\n      <td>False</td>\n      <td>False</td>\n      <td>False</td>\n      <td>False</td>\n      <td>False</td>\n      <td>False</td>\n      <td>False</td>\n      <td>False</td>\n      <td>False</td>\n      <td>False</td>\n    </tr>\n    <tr>\n      <th>1300</th>\n      <td>DED</td>\n      <td>False</td>\n      <td>False</td>\n      <td>False</td>\n      <td>LKO</td>\n      <td>6E 0844</td>\n      <td>1970-01-01 18:00:00</td>\n      <td>1970-01-01 19:00:00</td>\n      <td>A83</td>\n      <td>1234567</td>\n      <td>1:00</td>\n      <td>2021-02-01</td>\n      <td>2021-02-28</td>\n      <td>/1/2/3/4/5/6/7/8/9/10/11/12/13/14/15/16/17/18/...</td>\n      <td>False</td>\n      <td>False</td>\n      <td>False</td>\n      <td>False</td>\n      <td>False</td>\n      <td>False</td>\n      <td>False</td>\n      <td>False</td>\n      <td>False</td>\n      <td>False</td>\n      <td>False</td>\n      <td>...</td>\n      <td>False</td>\n      <td>False</td>\n      <td>False</td>\n      <td>False</td>\n      <td>False</td>\n      <td>False</td>\n      <td>False</td>\n      <td>False</td>\n      <td>False</td>\n      <td>False</td>\n      <td>False</td>\n      <td>False</td>\n      <td>False</td>\n      <td>False</td>\n      <td>False</td>\n      <td>False</td>\n      <td>False</td>\n      <td>False</td>\n      <td>False</td>\n      <td>False</td>\n      <td>False</td>\n      <td>False</td>\n      <td>False</td>\n      <td>False</td>\n      <td>False</td>\n    </tr>\n    <tr>\n      <th>1301</th>\n      <td>LKO</td>\n      <td>False</td>\n      <td>False</td>\n      <td>False</td>\n      <td>HYD</td>\n      <td>6E 0844</td>\n      <td>1970-01-01 20:00:00</td>\n      <td>1970-01-01 22:15:00</td>\n      <td>A83</td>\n      <td>1234567</td>\n      <td>2:15</td>\n      <td>2021-02-01</td>\n      <td>2021-02-28</td>\n      <td>/1/2/3/4/5/6/7/8/9/10/11/12/13/14/15/16/17/18/...</td>\n      <td>False</td>\n      <td>False</td>\n      <td>False</td>\n      <td>False</td>\n      <td>False</td>\n      <td>False</td>\n      <td>False</td>\n      <td>False</td>\n      <td>False</td>\n      <td>False</td>\n      <td>False</td>\n      <td>...</td>\n      <td>False</td>\n      <td>False</td>\n      <td>False</td>\n      <td>False</td>\n      <td>False</td>\n      <td>False</td>\n      <td>False</td>\n      <td>False</td>\n      <td>False</td>\n      <td>False</td>\n      <td>False</td>\n      <td>False</td>\n      <td>False</td>\n      <td>False</td>\n      <td>False</td>\n      <td>False</td>\n      <td>False</td>\n      <td>False</td>\n      <td>False</td>\n      <td>False</td>\n      <td>False</td>\n      <td>False</td>\n      <td>False</td>\n      <td>False</td>\n      <td>False</td>\n    </tr>\n    <tr>\n      <th>1302</th>\n      <td>HYD</td>\n      <td>False</td>\n      <td>False</td>\n      <td>False</td>\n      <td>BLR</td>\n      <td>6E 0147</td>\n      <td>1970-01-01 23:25:00</td>\n      <td>1970-01-01 00:45:00</td>\n      <td>A83</td>\n      <td>1234567</td>\n      <td>1:20</td>\n      <td>2021-02-01</td>\n      <td>2021-02-28</td>\n      <td>/1/2/3/4/5/6/7/8/9/10/11/12/13/14/15/16/17/18/...</td>\n      <td>False</td>\n      <td>False</td>\n      <td>False</td>\n      <td>False</td>\n      <td>False</td>\n      <td>False</td>\n      <td>False</td>\n      <td>False</td>\n      <td>False</td>\n      <td>False</td>\n      <td>False</td>\n      <td>...</td>\n      <td>False</td>\n      <td>False</td>\n      <td>False</td>\n      <td>False</td>\n      <td>False</td>\n      <td>False</td>\n      <td>False</td>\n      <td>False</td>\n      <td>False</td>\n      <td>False</td>\n      <td>False</td>\n      <td>False</td>\n      <td>False</td>\n      <td>False</td>\n      <td>False</td>\n      <td>False</td>\n      <td>False</td>\n      <td>False</td>\n      <td>False</td>\n      <td>False</td>\n      <td>False</td>\n      <td>False</td>\n      <td>False</td>\n      <td>False</td>\n      <td>False</td>\n    </tr>\n  </tbody>\n</table>\n<p>15 rows × 76 columns</p>\n</div>"
     },
     "metadata": {},
     "execution_count": 25
    }
   ],
   "source": [
    "# temporray cell \n",
    "onedf=dataframe.loc[(dataframe[\"Text Comment\"] == \"A83\" ) | (dataframe[\"Text Comment\"] == \"A2\" ) ]\n",
    "# onedf =onedf.sort_values(by=\"value\")\n",
    "onedf.head(30)"
   ]
  },
  {
   "cell_type": "code",
   "execution_count": 8,
   "metadata": {},
   "outputs": [],
   "source": [
    "\n",
    "\n",
    "\n",
    "\n",
    "\n",
    "\n",
    "remove_duplicate_flights(dataframe)\n",
    "dataframe = dataframe.drop_duplicates(subset=['Flt Desg','Text Comment'],keep='first')\n",
    "\n",
    "# removing columns\n",
    "dataframe = dataframe.drop(['moddeptime', 'mod_arr_time', 'Freq',\n",
    "                    'Modeffdate', 'moddisdate', 'actual_days','engg_dep'], axis=1)\n",
    "\n",
    "# pivoting the dataset \n",
    "dataframe = pd.melt(dataframe, id_vars=['Dept Arp', 'engg_arr','deptype', 'Arvl Arp', 'Flt Desg',\n",
    "                                'Text Comment', 'Block Time'], value_vars=['D1', 'A1', 'D2', 'A2', 'D3', 'A3', 'D4',\n",
    "                                                                           'A4', 'D5', 'A5', 'D6', 'A6', 'D7', 'A7', 'D8', 'A8', 'D9', 'A9', 'D10',\n",
    "                                                                           'A10', 'D11', 'A11', 'D12', 'A12', 'D13', 'A13', 'D14', 'A14', 'D15',\n",
    "                                                                           'A15', 'D16', 'A16', 'D17', 'A17', 'D18', 'A18', 'D19', 'A19', 'D20',\n",
    "                                                                           'A20', 'D21', 'A21', 'D22', 'A22', 'D23', 'A23', 'D24', 'A24', 'D25',\n",
    "                                                                           'A25', 'D26', 'A26', 'D27', 'A27', 'D28', 'A28', 'D29', 'A29', 'D30',\n",
    "                                                                           'A30', 'D31', 'A31'])\n"
   ]
  },
  {
   "cell_type": "code",
   "execution_count": 9,
   "metadata": {},
   "outputs": [],
   "source": [
    "# Dropping dataframe with value equals false \n",
    "\n",
    "dataframe = dataframe[dataframe.value != False]"
   ]
  },
  {
   "cell_type": "code",
   "execution_count": 10,
   "metadata": {},
   "outputs": [],
   "source": [
    "# List of airports alphabetically \n",
    "dep_airport_list = list(dataframe['Dept Arp'].unique())\n",
    "dep_airport_list.sort()\n",
    "dep_airport_list.append(\"All_Stations\")\n",
    "# List of days daywise\n",
    "days_sorted_list= list(filter(lambda x: \"A\" not in x ,col_name_list))\n",
    "days_sorted_list\n",
    "dep_airport_list\n",
    "dataframe = dataframe.reset_index(drop=True)\n",
    "pickle_List = [dataframe,days_sorted_list,dep_airport_list]"
   ]
  },
  {
   "cell_type": "code",
   "execution_count": 11,
   "metadata": {},
   "outputs": [
    {
     "output_type": "execute_result",
     "data": {
      "text/plain": [
       "True"
      ]
     },
     "metadata": {},
     "execution_count": 11
    }
   ],
   "source": [
    "# Pickle the dataset\n",
    "pickle.dump(pickle_List, open(\"gsheet_pickle.p\", \"wb\"))\n",
    "\n",
    "alpha = pickle.load(open(\"gsheet_pickle.p\", \"rb\"))\n",
    "\n",
    "alpha[0].equals(dataframe)"
   ]
  },
  {
   "cell_type": "code",
   "execution_count": 12,
   "metadata": {},
   "outputs": [
    {
     "output_type": "execute_result",
     "data": {
      "text/plain": [
       "   Dept Arp  engg_arr  deptype Arvl Arp Flt Desg Text Comment Block Time  \\\n",
       "0       IXC     False    False      GOI  6E 0389          A10       2:45   \n",
       "1       GOI     False    False      IXC  6E 0391          A10       2:40   \n",
       "2       BLR     False    False      RPR  6E 0378         A100       2:00   \n",
       "3       RPR     False    False      BLR  6E 0382         A100       1:35   \n",
       "4       BLR     False    False      VGA  6E 0507         A100       1:20   \n",
       "5       VGA     False    False      BLR  6E 0506         A100       1:20   \n",
       "6       BLR     False    False      GOI  6E 0636         A100       1:20   \n",
       "7       GOI     False    False      BLR  6E 0369         A100       1:20   \n",
       "8       CCU     False    False      DIB  6E 0455         A101       1:35   \n",
       "9       DIB     False    False      CCU  6E 0206         A101       2:00   \n",
       "10      CCU     False    False      AMD  6E 6372         A101       3:05   \n",
       "11      CCU     False    False      HYD  6E 0946         A101       2:50   \n",
       "12      AMD     False    False      CCU  6E 6376         A101       2:40   \n",
       "13      HYD     False    False      CCU  6E 0944         A101       2:05   \n",
       "14      DEL     False    False      BDQ  6E 0494         A102       1:55   \n",
       "\n",
       "   variable                value  \n",
       "0        D1  2021-02-01 14:25:00  \n",
       "1        D1  2021-02-01 17:40:00  \n",
       "2        D1  2021-02-01 08:30:00  \n",
       "3        D1  2021-02-01 11:10:00  \n",
       "4        D1  2021-02-01 13:20:00  \n",
       "5        D1  2021-02-01 16:00:00  \n",
       "6        D1  2021-02-01 18:20:00  \n",
       "7        D1  2021-02-01 20:20:00  \n",
       "8        D1  2021-02-01 11:20:00  \n",
       "9        D1  2021-02-01 13:30:00  \n",
       "10       D1  2021-02-01 16:35:00  \n",
       "11       D1  2021-02-01 17:35:00  \n",
       "12       D1  2021-02-01 20:20:00  \n",
       "13       D1  2021-02-01 21:15:00  \n",
       "14       D1  2021-02-01 05:35:00  "
      ],
      "text/html": "<div>\n<style scoped>\n    .dataframe tbody tr th:only-of-type {\n        vertical-align: middle;\n    }\n\n    .dataframe tbody tr th {\n        vertical-align: top;\n    }\n\n    .dataframe thead th {\n        text-align: right;\n    }\n</style>\n<table border=\"1\" class=\"dataframe\">\n  <thead>\n    <tr style=\"text-align: right;\">\n      <th></th>\n      <th>Dept Arp</th>\n      <th>engg_arr</th>\n      <th>deptype</th>\n      <th>Arvl Arp</th>\n      <th>Flt Desg</th>\n      <th>Text Comment</th>\n      <th>Block Time</th>\n      <th>variable</th>\n      <th>value</th>\n    </tr>\n  </thead>\n  <tbody>\n    <tr>\n      <th>0</th>\n      <td>IXC</td>\n      <td>False</td>\n      <td>False</td>\n      <td>GOI</td>\n      <td>6E 0389</td>\n      <td>A10</td>\n      <td>2:45</td>\n      <td>D1</td>\n      <td>2021-02-01 14:25:00</td>\n    </tr>\n    <tr>\n      <th>1</th>\n      <td>GOI</td>\n      <td>False</td>\n      <td>False</td>\n      <td>IXC</td>\n      <td>6E 0391</td>\n      <td>A10</td>\n      <td>2:40</td>\n      <td>D1</td>\n      <td>2021-02-01 17:40:00</td>\n    </tr>\n    <tr>\n      <th>2</th>\n      <td>BLR</td>\n      <td>False</td>\n      <td>False</td>\n      <td>RPR</td>\n      <td>6E 0378</td>\n      <td>A100</td>\n      <td>2:00</td>\n      <td>D1</td>\n      <td>2021-02-01 08:30:00</td>\n    </tr>\n    <tr>\n      <th>3</th>\n      <td>RPR</td>\n      <td>False</td>\n      <td>False</td>\n      <td>BLR</td>\n      <td>6E 0382</td>\n      <td>A100</td>\n      <td>1:35</td>\n      <td>D1</td>\n      <td>2021-02-01 11:10:00</td>\n    </tr>\n    <tr>\n      <th>4</th>\n      <td>BLR</td>\n      <td>False</td>\n      <td>False</td>\n      <td>VGA</td>\n      <td>6E 0507</td>\n      <td>A100</td>\n      <td>1:20</td>\n      <td>D1</td>\n      <td>2021-02-01 13:20:00</td>\n    </tr>\n    <tr>\n      <th>5</th>\n      <td>VGA</td>\n      <td>False</td>\n      <td>False</td>\n      <td>BLR</td>\n      <td>6E 0506</td>\n      <td>A100</td>\n      <td>1:20</td>\n      <td>D1</td>\n      <td>2021-02-01 16:00:00</td>\n    </tr>\n    <tr>\n      <th>6</th>\n      <td>BLR</td>\n      <td>False</td>\n      <td>False</td>\n      <td>GOI</td>\n      <td>6E 0636</td>\n      <td>A100</td>\n      <td>1:20</td>\n      <td>D1</td>\n      <td>2021-02-01 18:20:00</td>\n    </tr>\n    <tr>\n      <th>7</th>\n      <td>GOI</td>\n      <td>False</td>\n      <td>False</td>\n      <td>BLR</td>\n      <td>6E 0369</td>\n      <td>A100</td>\n      <td>1:20</td>\n      <td>D1</td>\n      <td>2021-02-01 20:20:00</td>\n    </tr>\n    <tr>\n      <th>8</th>\n      <td>CCU</td>\n      <td>False</td>\n      <td>False</td>\n      <td>DIB</td>\n      <td>6E 0455</td>\n      <td>A101</td>\n      <td>1:35</td>\n      <td>D1</td>\n      <td>2021-02-01 11:20:00</td>\n    </tr>\n    <tr>\n      <th>9</th>\n      <td>DIB</td>\n      <td>False</td>\n      <td>False</td>\n      <td>CCU</td>\n      <td>6E 0206</td>\n      <td>A101</td>\n      <td>2:00</td>\n      <td>D1</td>\n      <td>2021-02-01 13:30:00</td>\n    </tr>\n    <tr>\n      <th>10</th>\n      <td>CCU</td>\n      <td>False</td>\n      <td>False</td>\n      <td>AMD</td>\n      <td>6E 6372</td>\n      <td>A101</td>\n      <td>3:05</td>\n      <td>D1</td>\n      <td>2021-02-01 16:35:00</td>\n    </tr>\n    <tr>\n      <th>11</th>\n      <td>CCU</td>\n      <td>False</td>\n      <td>False</td>\n      <td>HYD</td>\n      <td>6E 0946</td>\n      <td>A101</td>\n      <td>2:50</td>\n      <td>D1</td>\n      <td>2021-02-01 17:35:00</td>\n    </tr>\n    <tr>\n      <th>12</th>\n      <td>AMD</td>\n      <td>False</td>\n      <td>False</td>\n      <td>CCU</td>\n      <td>6E 6376</td>\n      <td>A101</td>\n      <td>2:40</td>\n      <td>D1</td>\n      <td>2021-02-01 20:20:00</td>\n    </tr>\n    <tr>\n      <th>13</th>\n      <td>HYD</td>\n      <td>False</td>\n      <td>False</td>\n      <td>CCU</td>\n      <td>6E 0944</td>\n      <td>A101</td>\n      <td>2:05</td>\n      <td>D1</td>\n      <td>2021-02-01 21:15:00</td>\n    </tr>\n    <tr>\n      <th>14</th>\n      <td>DEL</td>\n      <td>False</td>\n      <td>False</td>\n      <td>BDQ</td>\n      <td>6E 0494</td>\n      <td>A102</td>\n      <td>1:55</td>\n      <td>D1</td>\n      <td>2021-02-01 05:35:00</td>\n    </tr>\n  </tbody>\n</table>\n</div>"
     },
     "metadata": {},
     "execution_count": 12
    }
   ],
   "source": [
    "\n",
    "# dataframe from pickle list \n",
    "req_df = alpha[0]\n",
    "req_df.describe()\n",
    "req_df.head(15)\n"
   ]
  },
  {
   "cell_type": "code",
   "execution_count": 12,
   "metadata": {},
   "outputs": [],
   "source": [
    "\n"
   ]
  },
  {
   "cell_type": "code",
   "execution_count": 13,
   "metadata": {},
   "outputs": [
    {
     "output_type": "execute_result",
     "data": {
      "text/plain": [
       "      Dept Arp  engg_arr  deptype Arvl Arp Flt Desg Text Comment Block Time  \\\n",
       "2525       UDR     False    False      BOM  6E 5324     A320_789       1:45   \n",
       "37519      DEL     False    False      BLR  6E 2297          A75       2:45   \n",
       "30842      VTZ     False    False      BLR  6E 0524          A56       1:50   \n",
       "24525      TRZ     False    False      MAA  6E 7151       ATR008       1:10   \n",
       "53307      DEL     False    False      CJB  6E 6908         A130       2:55   \n",
       "\n",
       "      variable                value  \n",
       "2525        D2  2021-02-02 13:40:00  \n",
       "37519      D18  2021-02-18 13:35:00  \n",
       "30842      D15  2021-02-15 18:55:00  \n",
       "24525      D12  2021-02-12 22:15:00  \n",
       "53307      A25  2021-02-25 21:35:00  "
      ],
      "text/html": "<div>\n<style scoped>\n    .dataframe tbody tr th:only-of-type {\n        vertical-align: middle;\n    }\n\n    .dataframe tbody tr th {\n        vertical-align: top;\n    }\n\n    .dataframe thead th {\n        text-align: right;\n    }\n</style>\n<table border=\"1\" class=\"dataframe\">\n  <thead>\n    <tr style=\"text-align: right;\">\n      <th></th>\n      <th>Dept Arp</th>\n      <th>engg_arr</th>\n      <th>deptype</th>\n      <th>Arvl Arp</th>\n      <th>Flt Desg</th>\n      <th>Text Comment</th>\n      <th>Block Time</th>\n      <th>variable</th>\n      <th>value</th>\n    </tr>\n  </thead>\n  <tbody>\n    <tr>\n      <th>2525</th>\n      <td>UDR</td>\n      <td>False</td>\n      <td>False</td>\n      <td>BOM</td>\n      <td>6E 5324</td>\n      <td>A320_789</td>\n      <td>1:45</td>\n      <td>D2</td>\n      <td>2021-02-02 13:40:00</td>\n    </tr>\n    <tr>\n      <th>37519</th>\n      <td>DEL</td>\n      <td>False</td>\n      <td>False</td>\n      <td>BLR</td>\n      <td>6E 2297</td>\n      <td>A75</td>\n      <td>2:45</td>\n      <td>D18</td>\n      <td>2021-02-18 13:35:00</td>\n    </tr>\n    <tr>\n      <th>30842</th>\n      <td>VTZ</td>\n      <td>False</td>\n      <td>False</td>\n      <td>BLR</td>\n      <td>6E 0524</td>\n      <td>A56</td>\n      <td>1:50</td>\n      <td>D15</td>\n      <td>2021-02-15 18:55:00</td>\n    </tr>\n    <tr>\n      <th>24525</th>\n      <td>TRZ</td>\n      <td>False</td>\n      <td>False</td>\n      <td>MAA</td>\n      <td>6E 7151</td>\n      <td>ATR008</td>\n      <td>1:10</td>\n      <td>D12</td>\n      <td>2021-02-12 22:15:00</td>\n    </tr>\n    <tr>\n      <th>53307</th>\n      <td>DEL</td>\n      <td>False</td>\n      <td>False</td>\n      <td>CJB</td>\n      <td>6E 6908</td>\n      <td>A130</td>\n      <td>2:55</td>\n      <td>A25</td>\n      <td>2021-02-25 21:35:00</td>\n    </tr>\n  </tbody>\n</table>\n</div>"
     },
     "metadata": {},
     "execution_count": 13
    }
   ],
   "source": [
    "# manual testing \n",
    "test_alpha = req_df.sample(n=5)\n",
    "test_alpha"
   ]
  },
  {
   "cell_type": "code",
   "execution_count": 14,
   "metadata": {},
   "outputs": [
    {
     "output_type": "execute_result",
     "data": {
      "text/plain": [
       "Empty DataFrame\n",
       "Columns: [Dept Arp, engg_arr, deptype, Arvl Arp, Flt Desg, Text Comment, Block Time, variable, value]\n",
       "Index: []"
      ],
      "text/html": "<div>\n<style scoped>\n    .dataframe tbody tr th:only-of-type {\n        vertical-align: middle;\n    }\n\n    .dataframe tbody tr th {\n        vertical-align: top;\n    }\n\n    .dataframe thead th {\n        text-align: right;\n    }\n</style>\n<table border=\"1\" class=\"dataframe\">\n  <thead>\n    <tr style=\"text-align: right;\">\n      <th></th>\n      <th>Dept Arp</th>\n      <th>engg_arr</th>\n      <th>deptype</th>\n      <th>Arvl Arp</th>\n      <th>Flt Desg</th>\n      <th>Text Comment</th>\n      <th>Block Time</th>\n      <th>variable</th>\n      <th>value</th>\n    </tr>\n  </thead>\n  <tbody>\n  </tbody>\n</table>\n</div>"
     },
     "metadata": {},
     "execution_count": 14
    }
   ],
   "source": [
    "# manual testing continued as cell excution creates a new random sample \n",
    "onedf=req_df.loc[(req_df[\"Text Comment\"]==\"A83\") & (req_df[\"Dept Arp\"]==\"STV\")]\n",
    "onedf =onedf.sort_values(by=\"value\")\n",
    "onedf"
   ]
  },
  {
   "cell_type": "code",
   "execution_count": 15,
   "metadata": {},
   "outputs": [
    {
     "output_type": "error",
     "ename": "KeyError",
     "evalue": "'moddeptime'",
     "traceback": [
      "\u001b[1;31m---------------------------------------------------------------------------\u001b[0m",
      "\u001b[1;31mKeyError\u001b[0m                                  Traceback (most recent call last)",
      "\u001b[1;32m<ipython-input-15-6092c3979cff>\u001b[0m in \u001b[0;36m<module>\u001b[1;34m\u001b[0m\n\u001b[0;32m      3\u001b[0m \u001b[1;31m# sorting and operting on one rotation\u001b[0m\u001b[1;33m\u001b[0m\u001b[1;33m\u001b[0m\u001b[1;33m\u001b[0m\u001b[0m\n\u001b[0;32m      4\u001b[0m \u001b[1;33m\u001b[0m\u001b[0m\n\u001b[1;32m----> 5\u001b[1;33m \u001b[0monedf\u001b[0m \u001b[1;33m=\u001b[0m\u001b[0monedf\u001b[0m\u001b[1;33m.\u001b[0m\u001b[0msort_values\u001b[0m\u001b[1;33m(\u001b[0m\u001b[1;34m\"moddeptime\"\u001b[0m\u001b[1;33m)\u001b[0m\u001b[1;33m\u001b[0m\u001b[1;33m\u001b[0m\u001b[0m\n\u001b[0m\u001b[0;32m      6\u001b[0m \u001b[1;33m\u001b[0m\u001b[0m\n\u001b[0;32m      7\u001b[0m \u001b[1;33m\u001b[0m\u001b[0m\n",
      "\u001b[1;32md:\\COding\\Python Area\\Streamlit_Pandas\\pystreamlit\\env\\lib\\site-packages\\pandas\\core\\frame.py\u001b[0m in \u001b[0;36msort_values\u001b[1;34m(self, by, axis, ascending, inplace, kind, na_position, ignore_index, key)\u001b[0m\n\u001b[0;32m   5450\u001b[0m \u001b[1;33m\u001b[0m\u001b[0m\n\u001b[0;32m   5451\u001b[0m             \u001b[0mby\u001b[0m \u001b[1;33m=\u001b[0m \u001b[0mby\u001b[0m\u001b[1;33m[\u001b[0m\u001b[1;36m0\u001b[0m\u001b[1;33m]\u001b[0m\u001b[1;33m\u001b[0m\u001b[1;33m\u001b[0m\u001b[0m\n\u001b[1;32m-> 5452\u001b[1;33m             \u001b[0mk\u001b[0m \u001b[1;33m=\u001b[0m \u001b[0mself\u001b[0m\u001b[1;33m.\u001b[0m\u001b[0m_get_label_or_level_values\u001b[0m\u001b[1;33m(\u001b[0m\u001b[0mby\u001b[0m\u001b[1;33m,\u001b[0m \u001b[0maxis\u001b[0m\u001b[1;33m=\u001b[0m\u001b[0maxis\u001b[0m\u001b[1;33m)\u001b[0m\u001b[1;33m\u001b[0m\u001b[1;33m\u001b[0m\u001b[0m\n\u001b[0m\u001b[0;32m   5453\u001b[0m \u001b[1;33m\u001b[0m\u001b[0m\n\u001b[0;32m   5454\u001b[0m             \u001b[1;31m# need to rewrap column in Series to apply key function\u001b[0m\u001b[1;33m\u001b[0m\u001b[1;33m\u001b[0m\u001b[1;33m\u001b[0m\u001b[0m\n",
      "\u001b[1;32md:\\COding\\Python Area\\Streamlit_Pandas\\pystreamlit\\env\\lib\\site-packages\\pandas\\core\\generic.py\u001b[0m in \u001b[0;36m_get_label_or_level_values\u001b[1;34m(self, key, axis)\u001b[0m\n\u001b[0;32m   1681\u001b[0m             \u001b[0mvalues\u001b[0m \u001b[1;33m=\u001b[0m \u001b[0mself\u001b[0m\u001b[1;33m.\u001b[0m\u001b[0maxes\u001b[0m\u001b[1;33m[\u001b[0m\u001b[0maxis\u001b[0m\u001b[1;33m]\u001b[0m\u001b[1;33m.\u001b[0m\u001b[0mget_level_values\u001b[0m\u001b[1;33m(\u001b[0m\u001b[0mkey\u001b[0m\u001b[1;33m)\u001b[0m\u001b[1;33m.\u001b[0m\u001b[0m_values\u001b[0m\u001b[1;33m\u001b[0m\u001b[1;33m\u001b[0m\u001b[0m\n\u001b[0;32m   1682\u001b[0m         \u001b[1;32melse\u001b[0m\u001b[1;33m:\u001b[0m\u001b[1;33m\u001b[0m\u001b[1;33m\u001b[0m\u001b[0m\n\u001b[1;32m-> 1683\u001b[1;33m             \u001b[1;32mraise\u001b[0m \u001b[0mKeyError\u001b[0m\u001b[1;33m(\u001b[0m\u001b[0mkey\u001b[0m\u001b[1;33m)\u001b[0m\u001b[1;33m\u001b[0m\u001b[1;33m\u001b[0m\u001b[0m\n\u001b[0m\u001b[0;32m   1684\u001b[0m \u001b[1;33m\u001b[0m\u001b[0m\n\u001b[0;32m   1685\u001b[0m         \u001b[1;31m# Check for duplicates\u001b[0m\u001b[1;33m\u001b[0m\u001b[1;33m\u001b[0m\u001b[1;33m\u001b[0m\u001b[0m\n",
      "\u001b[1;31mKeyError\u001b[0m: 'moddeptime'"
     ]
    }
   ],
   "source": [
    "\n",
    "onedf=dataframe.loc[dataframe[\"Text Comment\"]==\"A10\"]\n",
    "\n",
    "# sorting and operting on one rotation \n",
    "\n",
    "onedf =onedf.sort_values(\"moddeptime\")\n",
    "\n",
    "\n",
    "onedf[\"deptype\"].iloc[0] =\"baseDep\"\n",
    "onedf[\"deptype\"].iloc[-1] =\"baseArr\"\n",
    "mylist = onedf['Flt Desg'].values.tolist()\n",
    "indices_base_dep = [i for i, x in enumerate(mylist) if x == mylist[0]]\n",
    "indices_base_arr = [i for i, x in enumerate(mylist) if x == mylist[-1]]\n",
    "for india in indices_base_dep:\n",
    "    onedf[\"deptype\"].iloc[india] =\"baseDep\"\n",
    "for xray in indices_base_arr:\n",
    "    onedf[\"deptype\"].iloc[xray] =\"baseArr\"\n",
    "\n",
    "\n",
    "# adding  a duplicate row at the bottom for base arival Aircraft \n",
    "is_Base_Arrival = onedf[\"deptype\"] ==\"baseArr\"\n",
    "onedf_try=onedf[is_Base_Arrival]\n",
    "onedf=onedf.append(onedf_try,ignore_index=True)\n",
    "\n",
    "\n",
    "# modifying the eng_arr and eng_dep for one rotation \n",
    "for xray in range(0,len(onedf)):\n",
    "    if onedf.loc[xray,\"deptype\"] == \"baseDep\":\n",
    "        onedf.loc[xray,\"engg_arr\"] = \"baseAcft\"\n",
    "        onedf.loc[xray,\"engg_dep\"] = onedf.loc[xray,\"moddeptime\"]\n",
    "    elif onedf.loc[xray,\"deptype\"] != \"baseDep\" and onedf.loc[xray,\"deptype\"] != \"baseArr\":\n",
    "        onedf.loc[xray,\"engg_arr\"] = onedf.loc[xray-1,\"mod_arr_time\"] \n",
    "        onedf.loc[xray,\"engg_dep\"] = onedf.loc[xray,\"moddeptime\"] \n",
    "\n"
   ]
  }
 ]
}