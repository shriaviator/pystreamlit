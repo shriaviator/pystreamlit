{
 "metadata": {
  "language_info": {
   "codemirror_mode": {
    "name": "ipython",
    "version": 3
   },
   "file_extension": ".py",
   "mimetype": "text/x-python",
   "name": "python",
   "nbconvert_exporter": "python",
   "pygments_lexer": "ipython3",
   "version": "3.8.7-final"
  },
  "orig_nbformat": 2,
  "kernelspec": {
   "name": "python3",
   "display_name": "Python 3",
   "language": "python"
  }
 },
 "nbformat": 4,
 "nbformat_minor": 2,
 "cells": [
  {
   "cell_type": "code",
   "execution_count": 1,
   "metadata": {},
   "outputs": [],
   "source": [
    "import matplotlib.pyplot as plt\n",
    "import numpy as np\n",
    "import pandas as pd\n",
    "import pickle\n",
    "import gspread\n",
    "from oauth2client.service_account import ServiceAccountCredentials\n",
    "import datetime\n",
    "import pickle\n",
    "import re\n",
    "scope = [\"https://spreadsheets.google.com/feeds\", 'https://www.googleapis.com/auth/spreadsheets',\n",
    "         \"https://www.googleapis.com/auth/drive.file\", \"https://www.googleapis.com/auth/drive\"]\n",
    "\n",
    "creds = ServiceAccountCredentials.from_json_keyfile_name(\"crudg.json\", scope)\n",
    "client = gspread.authorize(creds)\n",
    "sheet = client.open(\"flightsched\").get_worksheet(2)\n",
    "dataframe = pd.DataFrame(sheet.get_all_records())\n"
   ]
  },
  {
   "cell_type": "code",
   "execution_count": 2,
   "metadata": {
    "tags": []
   },
   "outputs": [],
   "source": [
    "\n",
    "dataframe[\"Modeffdate\"]= pd.to_datetime(dataframe[\"Modeffdate\"], unit=\"s\")\n",
    "dataframe[\"moddisdate\"]= pd.to_datetime(dataframe[\"moddisdate\"], unit=\"s\")\n",
    "dataframe[\"moddeptime\"]= pd.to_datetime(dataframe[\"moddeptime\"], unit=\"s\")\n",
    "dataframe[\"mod_arr_time\"]= pd.to_datetime(dataframe[\"mod_arr_time\"], unit=\"s\")\n",
    "dataframe = dataframe.drop(columns=[\"Dept Time\" ,\"Arrv Time\",\"Subfleet\",\"Service Type\",\"Eff Date\",\"Dis Date\",\"01-Jan-1970\"])\n",
    "dataframe[\"Freq\"] = dataframe[\"Freq\"].astype(str)\n",
    "dataframe[\"Freq\"] = dataframe[\"Freq\"].str.replace(\".\",\"\")\n",
    "dataframe[\"engg_arr\"]= False\n",
    "dataframe[\"engg_dep\"]=False\n",
    "dataframe[\"deptype\"]=False\n",
    "dataframe[\"actual_days\"]=\"\"\n",
    "cols = [ 'Dept Arp', 'engg_arr','engg_dep', 'deptype','Arvl Arp', 'Flt Desg',   'moddeptime', 'mod_arr_time'  ,'Text Comment', 'Freq','Block Time','Modeffdate', 'moddisdate',\"actual_days\"\n",
    ",]\n",
    "dataframe = dataframe[cols]\n",
    "\n",
    "#  modyfying actualdays column for complete dataset \n",
    "\n",
    "for xray in range(0,len(dataframe)):\n",
    "    bravo =  pd.to_datetime(str(dataframe.loc[xray,\"Modeffdate\"]))\n",
    "    while dataframe.loc[xray,\"moddisdate\"] >= bravo:\n",
    "        # one added as day of the week is different in pandas and data \n",
    "        if str(bravo.dayofweek + 1) in dataframe.loc[xray,\"Freq\"]:\n",
    "            dataframe.loc[xray,\"actual_days\"]+= \"/\"+ str(bravo.day)\n",
    "        bravo+= pd.DateOffset(1)\n",
    "\n",
    "# adding columns for each day of month \n",
    "col_name_list=[]\n",
    "nilList=[]\n",
    "StrArr = \"A\"\n",
    "StrDep =\"D\"\n",
    "for india in range(1,32):\n",
    "     col_name_list.append(StrDep + str(india))\n",
    "     col_name_list.append(StrArr + str(india))\n",
    "     nilList.append(False)\n",
    "     nilList.append(False)\n",
    "cols = cols +col_name_list\n",
    "dataframe = pd.concat([dataframe,pd.DataFrame([nilList],index=dataframe.index,columns = col_name_list)], axis=1)\n",
    "\n"
   ]
  },
  {
   "cell_type": "code",
   "execution_count": 6,
   "metadata": {},
   "outputs": [
    {
     "output_type": "execute_result",
     "data": {
      "text/plain": [
       "True"
      ]
     },
     "metadata": {},
     "execution_count": 6
    }
   ],
   "source": [
    "\n",
    "# first day of month set manually need to to check edge cases \n",
    "def remove_duplicate_flights (x_df):\n",
    "      temp_dict ={}\n",
    "      \n",
    "      for xray in range(0,len(x_df)):\n",
    "            if not (str(x_df.loc[xray,'Flt Desg']) in temp_dict):\n",
    "                  temp_dict[x_df.loc[xray,'Flt Desg']] =xray\n",
    "                  alpha = pd.to_datetime(str(x_df.loc[xray,\"Modeffdate\"].date()) +\" \"+ x_df.loc[xray,\"moddeptime\"].strftime('%H:%M:%S'),format=\"%Y-%m-%d %H:%M:%S\").replace(day=1)\n",
    "                  beta = pd.to_datetime(str(x_df.loc[xray,\"Modeffdate\"].date()) +\" \"+ x_df.loc[xray,\"mod_arr_time\"].strftime('%H:%M:%S'),format=\"%Y-%m-%d %H:%M:%S\").replace(day=1)\n",
    "                  for india in range(1,32):\n",
    "                        if str(india) in x_df.loc[xray,'actual_days'].split(\"/\"):\n",
    "                              x_df.loc[xray,\"D\"+str(india)] = alpha\n",
    "                              x_df.loc[xray,\"A\"+str(india)] = beta\n",
    "                        alpha+=pd.DateOffset(1)\n",
    "                        beta+=pd.DateOffset(1)\n",
    "\n",
    "            elif (str(x_df.loc[xray,'Flt Desg']) in temp_dict):\n",
    "                  alpha = pd.to_datetime(str(x_df.loc[xray,\"Modeffdate\"].date()) +\" \"+ x_df.loc[xray,\"moddeptime\"].strftime('%H:%M:%S'),format=\"%Y-%m-%d %H:%M:%S\").replace(day=1)\n",
    "                  beta = pd.to_datetime(str(x_df.loc[xray,\"Modeffdate\"].date()) +\" \"+ x_df.loc[xray,\"mod_arr_time\"].strftime('%H:%M:%S'),format=\"%Y-%m-%d %H:%M:%S\").replace(day=1)              \n",
    "                  zulu = temp_dict[x_df.loc[xray,'Flt Desg']]\n",
    "                  \n",
    "                  for india in range(1,32):\n",
    "                        if str(india) in x_df.loc[xray,'actual_days'].split(\"/\"):\n",
    "                              x_df.loc[zulu,\"D\"+str(india)] = alpha\n",
    "                              x_df.loc[zulu,\"A\"+str(india)] = beta\n",
    "                        alpha+=pd.DateOffset(1)\n",
    "                        beta+=pd.DateOffset(1)\n",
    "\n",
    "      \n",
    "      \n",
    "                 \n",
    "remove_duplicate_flights(dataframe)\n",
    "dataframe = dataframe.drop_duplicates(subset=['Flt Desg'])\n",
    "dataframe = dataframe.reset_index(drop=True)\n",
    "\n",
    "pickle.dump(dataframe, open(\"gsheet_pickle.p\", \"wb\"))\n",
    "\n",
    "alpha = pickle.load(open(\"gsheet_pickle.p\", \"rb\"))\n",
    "\n",
    "alpha.equals(dataframe)\n",
    "\n",
    "\n",
    "\n"
   ]
  },
  {
   "cell_type": "code",
   "execution_count": 5,
   "metadata": {},
   "outputs": [],
   "source": [
    "# manual testing \n",
    "test_alpha = alpha.sample(n=5)"
   ]
  },
  {
   "cell_type": "code",
   "execution_count": 6,
   "metadata": {},
   "outputs": [
    {
     "output_type": "execute_result",
     "data": {
      "text/plain": [
       "    Flt Desg                  A11                  A12                  A13  \\\n",
       "210  6E 5998  2021-02-11 13:00:00  2021-02-12 13:00:00  2021-02-13 13:00:00   \n",
       "211  6E 5997  2021-02-11 16:25:00  2021-02-12 16:25:00  2021-02-13 16:25:00   \n",
       "212  6E 0224  2021-02-11 18:20:00  2021-02-12 18:20:00  2021-02-13 18:20:00   \n",
       "213  6E 0354  2021-02-11 21:25:00  2021-02-12 21:25:00  2021-02-13 21:25:00   \n",
       "\n",
       "                     D17                  D19                  D21  \\\n",
       "210  2021-02-17 10:25:00  2021-02-19 10:25:00  2021-02-21 10:25:00   \n",
       "211  2021-02-17 13:50:00  2021-02-19 13:50:00  2021-02-21 13:50:00   \n",
       "212  2021-02-17 17:40:00  2021-02-19 17:40:00  2021-02-21 17:40:00   \n",
       "213  2021-02-17 21:00:00  2021-02-19 21:00:00  2021-02-21 21:00:00   \n",
       "\n",
       "                     D18                  D20  \n",
       "210  2021-02-18 10:25:00  2021-02-20 10:25:00  \n",
       "211  2021-02-18 13:50:00  2021-02-20 13:50:00  \n",
       "212  2021-02-18 17:10:00  2021-02-20 17:10:00  \n",
       "213  2021-02-18 20:25:00  2021-02-20 20:25:00  "
      ],
      "text/html": "<div>\n<style scoped>\n    .dataframe tbody tr th:only-of-type {\n        vertical-align: middle;\n    }\n\n    .dataframe tbody tr th {\n        vertical-align: top;\n    }\n\n    .dataframe thead th {\n        text-align: right;\n    }\n</style>\n<table border=\"1\" class=\"dataframe\">\n  <thead>\n    <tr style=\"text-align: right;\">\n      <th></th>\n      <th>Flt Desg</th>\n      <th>A11</th>\n      <th>A12</th>\n      <th>A13</th>\n      <th>D17</th>\n      <th>D19</th>\n      <th>D21</th>\n      <th>D18</th>\n      <th>D20</th>\n    </tr>\n  </thead>\n  <tbody>\n    <tr>\n      <th>210</th>\n      <td>6E 5998</td>\n      <td>2021-02-11 13:00:00</td>\n      <td>2021-02-12 13:00:00</td>\n      <td>2021-02-13 13:00:00</td>\n      <td>2021-02-17 10:25:00</td>\n      <td>2021-02-19 10:25:00</td>\n      <td>2021-02-21 10:25:00</td>\n      <td>2021-02-18 10:25:00</td>\n      <td>2021-02-20 10:25:00</td>\n    </tr>\n    <tr>\n      <th>211</th>\n      <td>6E 5997</td>\n      <td>2021-02-11 16:25:00</td>\n      <td>2021-02-12 16:25:00</td>\n      <td>2021-02-13 16:25:00</td>\n      <td>2021-02-17 13:50:00</td>\n      <td>2021-02-19 13:50:00</td>\n      <td>2021-02-21 13:50:00</td>\n      <td>2021-02-18 13:50:00</td>\n      <td>2021-02-20 13:50:00</td>\n    </tr>\n    <tr>\n      <th>212</th>\n      <td>6E 0224</td>\n      <td>2021-02-11 18:20:00</td>\n      <td>2021-02-12 18:20:00</td>\n      <td>2021-02-13 18:20:00</td>\n      <td>2021-02-17 17:40:00</td>\n      <td>2021-02-19 17:40:00</td>\n      <td>2021-02-21 17:40:00</td>\n      <td>2021-02-18 17:10:00</td>\n      <td>2021-02-20 17:10:00</td>\n    </tr>\n    <tr>\n      <th>213</th>\n      <td>6E 0354</td>\n      <td>2021-02-11 21:25:00</td>\n      <td>2021-02-12 21:25:00</td>\n      <td>2021-02-13 21:25:00</td>\n      <td>2021-02-17 21:00:00</td>\n      <td>2021-02-19 21:00:00</td>\n      <td>2021-02-21 21:00:00</td>\n      <td>2021-02-18 20:25:00</td>\n      <td>2021-02-20 20:25:00</td>\n    </tr>\n  </tbody>\n</table>\n</div>"
     },
     "metadata": {},
     "execution_count": 6
    }
   ],
   "source": [
    "# manual testing continued as cell excution creates a new random sample \n",
    "onedf=dataframe.loc[dataframe[\"Text Comment\"]==\"A145\"]\n",
    "onedf.loc[:,[\"Flt Desg\",\"A11\",\"A12\",\"A13\",\"D17\",\"D19\",\"D21\",\"D18\",\"D20\"]]"
   ]
  },
  {
   "cell_type": "code",
   "execution_count": 7,
   "metadata": {},
   "outputs": [],
   "source": [
    "\n",
    "\n",
    "\n",
    "onedf=dataframe.loc[dataframe[\"Text Comment\"]==\"A10\"]\n",
    "\n",
    "# sorting and operting on one rotation \n",
    "\n",
    "onedf =onedf.sort_values(\"moddeptime\")\n",
    "\n",
    "\n",
    "onedf[\"deptype\"].iloc[0] =\"baseDep\"\n",
    "onedf[\"deptype\"].iloc[-1] =\"baseArr\"\n",
    "mylist = onedf['Flt Desg'].values.tolist()\n",
    "indices_base_dep = [i for i, x in enumerate(mylist) if x == mylist[0]]\n",
    "indices_base_arr = [i for i, x in enumerate(mylist) if x == mylist[-1]]\n",
    "for india in indices_base_dep:\n",
    "    onedf[\"deptype\"].iloc[india] =\"baseDep\"\n",
    "for xray in indices_base_arr:\n",
    "    onedf[\"deptype\"].iloc[xray] =\"baseArr\"\n",
    "\n",
    "\n",
    "# adding  a duplicate row at the bottom for base arival Aircraft \n",
    "is_Base_Arrival = onedf[\"deptype\"] ==\"baseArr\"\n",
    "onedf_try=onedf[is_Base_Arrival]\n",
    "onedf=onedf.append(onedf_try,ignore_index=True)\n",
    "\n",
    "\n",
    "# modifying the eng_arr and eng_dep for one rotation \n",
    "for xray in range(0,len(onedf)):\n",
    "    if onedf.loc[xray,\"deptype\"] == \"baseDep\":\n",
    "        onedf.loc[xray,\"engg_arr\"] = \"baseAcft\"\n",
    "        onedf.loc[xray,\"engg_dep\"] = onedf.loc[xray,\"moddeptime\"]\n",
    "    elif onedf.loc[xray,\"deptype\"] != \"baseDep\" and onedf.loc[xray,\"deptype\"] != \"baseArr\":\n",
    "        onedf.loc[xray,\"engg_arr\"] = onedf.loc[xray-1,\"mod_arr_time\"] \n",
    "        onedf.loc[xray,\"engg_dep\"] = onedf.loc[xray,\"moddeptime\"] \n",
    "\n"
   ]
  }
 ]
}