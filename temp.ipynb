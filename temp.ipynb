{
 "metadata": {
  "language_info": {
   "codemirror_mode": {
    "name": "ipython",
    "version": 3
   },
   "file_extension": ".py",
   "mimetype": "text/x-python",
   "name": "python",
   "nbconvert_exporter": "python",
   "pygments_lexer": "ipython3",
   "version": "3.8.7"
  },
  "orig_nbformat": 2,
  "kernelspec": {
   "name": "pythonjvsc74a57bd07c8d79756ca17c58910fa5424452d004a4786d8270f2193ff07a87017b701dc4",
   "display_name": "Python 3.8.7  ('env': venv)"
  },
  "metadata": {
   "interpreter": {
    "hash": "7c8d79756ca17c58910fa5424452d004a4786d8270f2193ff07a87017b701dc4"
   }
  }
 },
 "nbformat": 4,
 "nbformat_minor": 2,
 "cells": [
  {
   "cell_type": "code",
   "execution_count": null,
   "metadata": {},
   "outputs": [],
   "source": [
    "%%time\n",
    "import matplotlib.pyplot as plt\n",
    "import numpy as np\n",
    "import pandas as pd\n",
    "import pickle\n",
    "import gspread\n",
    "from oauth2client.service_account import ServiceAccountCredentials\n",
    "import datetime\n",
    "import pickle\n",
    "import re\n",
    "from altair.vegalite.v4.schema.channels import Tooltip\n",
    "import altair as alt"
   ]
  },
  {
   "cell_type": "code",
   "execution_count": 60,
   "metadata": {},
   "outputs": [
    {
     "output_type": "execute_result",
     "data": {
      "text/plain": [
       "[datetime.date(2021, 4, 1),\n",
       " datetime.date(2021, 4, 2),\n",
       " datetime.date(2021, 4, 3),\n",
       " datetime.date(2021, 4, 4),\n",
       " datetime.date(2021, 4, 5),\n",
       " datetime.date(2021, 4, 6),\n",
       " datetime.date(2021, 4, 7),\n",
       " datetime.date(2021, 4, 8),\n",
       " datetime.date(2021, 4, 9),\n",
       " datetime.date(2021, 4, 10),\n",
       " datetime.date(2021, 4, 11),\n",
       " datetime.date(2021, 4, 12),\n",
       " datetime.date(2021, 4, 13),\n",
       " datetime.date(2021, 4, 14),\n",
       " datetime.date(2021, 4, 15),\n",
       " datetime.date(2021, 4, 16),\n",
       " datetime.date(2021, 4, 17),\n",
       " datetime.date(2021, 4, 18),\n",
       " datetime.date(2021, 4, 19),\n",
       " datetime.date(2021, 4, 20),\n",
       " datetime.date(2021, 4, 21),\n",
       " datetime.date(2021, 4, 22),\n",
       " datetime.date(2021, 4, 23),\n",
       " datetime.date(2021, 4, 24),\n",
       " datetime.date(2021, 4, 25),\n",
       " datetime.date(2021, 4, 26),\n",
       " datetime.date(2021, 4, 27),\n",
       " datetime.date(2021, 4, 28),\n",
       " datetime.date(2021, 4, 29),\n",
       " datetime.date(2021, 4, 30)]"
      ]
     },
     "metadata": {},
     "execution_count": 60
    }
   ],
   "source": [
    "alpha = pickle.load(open(\"apr_21.p\", \"rb\"))\n",
    "day_sorted_list = np.sort(alpha[\"aocs_dep\"].dt.date.dropna().unique()).tolist()\n",
    "day_sorted_list = [x for x in day_sorted_list if x.month == 4]\n",
    "dep_airport_list = np.sort(alpha[\"Dept_Arp\"].unique())\n",
    "day_sorted_list"
   ]
  },
  {
   "cell_type": "code",
   "execution_count": 62,
   "metadata": {},
   "outputs": [
    {
     "output_type": "execute_result",
     "data": {
      "text/plain": [
       "Empty DataFrame\n",
       "Columns: [Dept_Arp, engg_arr, Flt_Desg, Text_Comment, Subfleet, Arvl_Arp, aocs_dep, engg_dep, aocs_arr, deptype, Block_Time, Service_Type]\n",
       "Index: []"
      ],
      "text/html": "<div>\n<style scoped>\n    .dataframe tbody tr th:only-of-type {\n        vertical-align: middle;\n    }\n\n    .dataframe tbody tr th {\n        vertical-align: top;\n    }\n\n    .dataframe thead th {\n        text-align: right;\n    }\n</style>\n<table border=\"1\" class=\"dataframe\">\n  <thead>\n    <tr style=\"text-align: right;\">\n      <th></th>\n      <th>Dept_Arp</th>\n      <th>engg_arr</th>\n      <th>Flt_Desg</th>\n      <th>Text_Comment</th>\n      <th>Subfleet</th>\n      <th>Arvl_Arp</th>\n      <th>aocs_dep</th>\n      <th>engg_dep</th>\n      <th>aocs_arr</th>\n      <th>deptype</th>\n      <th>Block_Time</th>\n      <th>Service_Type</th>\n    </tr>\n  </thead>\n  <tbody>\n  </tbody>\n</table>\n</div>"
     },
     "metadata": {},
     "execution_count": 62
    }
   ],
   "source": [
    "test_df = alpha.loc[(alpha[\"Dept_Arp\"] == \"BLR\") &\n",
    "                            (alpha[\"engg_arr\"].dt.day == day_sorted_list[0].day) & (alpha[\"deptype\"] == \"baseArr\") &   (alpha[\"engg_dep\"].dt.month == 4)]\n",
    "test_df.head()"
   ]
  },
  {
   "cell_type": "code",
   "execution_count": null,
   "metadata": {},
   "outputs": [],
   "source": [
    "dep_count_list=[]\n",
    "for india in day_sorted_list:\n",
    "        test_df = alpha.loc[(alpha[\"Dept_Arp\"] == \"BLR\") &\n",
    "                            (alpha[\"engg_dep\"].dt.day == india.day) & (alpha[\"deptype\"] == \"Transit\")&   (alpha[\"engg_dep\"].dt.month == 4)]\n",
    "        dep_count_list.append(\n",
    "            [india.day, \"Transit\", test_df[\"engg_dep\"].count()])                    "
   ]
  },
  {
   "cell_type": "code",
   "execution_count": null,
   "metadata": {},
   "outputs": [],
   "source": [
    "chart_data = pd.DataFrame(dep_count_list, columns=[\n",
    "        'DepDay', 'DepType', \"Dep_Count\"])\n",
    "chart_data"
   ]
  },
  {
   "cell_type": "code",
   "execution_count": null,
   "metadata": {},
   "outputs": [],
   "source": [
    "alt.renderers.enable('mimetype')"
   ]
  },
  {
   "cell_type": "code",
   "execution_count": null,
   "metadata": {},
   "outputs": [],
   "source": [
    "#  day_sorted_list = [x.day for x in day_sorted_list ]\n",
    "alt.Chart(chart_data).mark_line(point=True).encode(\n",
    "        x=alt.X('DepDay', sort=day_sorted_list, title='Days Of The Month'\n",
    "                ),\n",
    "        y=alt.Y('Dep_Count:Q', title='Count'),\n",
    "\n",
    "        color='DepType:N',\n",
    "\n",
    "        tooltip=[alt.Tooltip('Dep_Count'),\n",
    "                 alt.Tooltip(\"DepDay\"),\n",
    "                 alt.Tooltip(\"DepType\")],\n",
    "\n",
    "    ).properties(\n",
    "        title='Operation Details Per Day in Station',\n",
    "        width=1100,\n",
    "    height=400\n",
    "      \n",
    "    )\n",
    "\n",
    "text_chart = my_chart.mark_text(\n",
    "        align='left',\n",
    "        baseline='top',\n",
    "\n",
    "    ).encode(\n",
    "        text='Dep_Count'\n",
    "    )\n",
    "\n",
    "alt.layer(my_chart, text_chart).interactive()\n"
   ]
  },
  {
   "cell_type": "code",
   "execution_count": null,
   "metadata": {},
   "outputs": [],
   "source": [
    "day_sorted_list"
   ]
  },
  {
   "cell_type": "code",
   "execution_count": 55,
   "metadata": {},
   "outputs": [
    {
     "output_type": "execute_result",
     "data": {
      "text/plain": [
       "30"
      ]
     },
     "metadata": {},
     "execution_count": 55
    }
   ],
   "source": [
    "#  datetime.datetime.strptime(\"Apr-21\", \"%b-%y\")\n",
    "pd.to_datetime(\"Apr-21\",format= \"%b-%y\").daysinmonth"
   ]
  },
  {
   "cell_type": "code",
   "execution_count": 58,
   "metadata": {},
   "outputs": [
    {
     "output_type": "execute_result",
     "data": {
      "text/plain": [
       "1"
      ]
     },
     "metadata": {},
     "execution_count": 58
    }
   ],
   "source": [
    "testDate =pd.date_range(start=(pd.to_datetime(\"Apr-21\",format= \"%b-%y\")), freq=\"D\",periods= (pd.to_datetime(\"Apr-21\",format= \"%b-%y\").daysinmonth)).tolist()\n",
    "testDate[0].day"
   ]
  }
 ]
}