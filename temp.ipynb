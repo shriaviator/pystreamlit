{
 "cells": [
  {
   "cell_type": "code",
   "execution_count": 2,
   "metadata": {
    "execution": {
     "iopub.execute_input": "2021-05-05T04:55:19.904675Z",
     "iopub.status.busy": "2021-05-05T04:55:19.904675Z",
     "iopub.status.idle": "2021-05-05T04:55:28.375137Z",
     "shell.execute_reply": "2021-05-05T04:55:28.373141Z",
     "shell.execute_reply.started": "2021-05-05T04:55:19.904675Z"
    },
    "tags": []
   },
   "outputs": [
    {
     "output_type": "execute_result",
     "data": {
      "text/plain": [
       "   A/C No  Flt Desg  Freq Dept Arp Dept Time Arvl Arp Arrv Time Equip  \\\n",
       "0       1       149     6      HYD     10:10      IXB     12:30   321   \n",
       "1       1       619     6      IXB     13:05      HYD     15:20   321   \n",
       "\n",
       "  Block Time  Eff Date  Dis Date  \n",
       "0       2:20  1-May-21  1-May-21  \n",
       "1       2:15  1-May-21  1-May-21  "
      ],
      "text/html": "<div>\n<style scoped>\n    .dataframe tbody tr th:only-of-type {\n        vertical-align: middle;\n    }\n\n    .dataframe tbody tr th {\n        vertical-align: top;\n    }\n\n    .dataframe thead th {\n        text-align: right;\n    }\n</style>\n<table border=\"1\" class=\"dataframe\">\n  <thead>\n    <tr style=\"text-align: right;\">\n      <th></th>\n      <th>A/C No</th>\n      <th>Flt Desg</th>\n      <th>Freq</th>\n      <th>Dept Arp</th>\n      <th>Dept Time</th>\n      <th>Arvl Arp</th>\n      <th>Arrv Time</th>\n      <th>Equip</th>\n      <th>Block Time</th>\n      <th>Eff Date</th>\n      <th>Dis Date</th>\n    </tr>\n  </thead>\n  <tbody>\n    <tr>\n      <th>0</th>\n      <td>1</td>\n      <td>149</td>\n      <td>6</td>\n      <td>HYD</td>\n      <td>10:10</td>\n      <td>IXB</td>\n      <td>12:30</td>\n      <td>321</td>\n      <td>2:20</td>\n      <td>1-May-21</td>\n      <td>1-May-21</td>\n    </tr>\n    <tr>\n      <th>1</th>\n      <td>1</td>\n      <td>619</td>\n      <td>6</td>\n      <td>IXB</td>\n      <td>13:05</td>\n      <td>HYD</td>\n      <td>15:20</td>\n      <td>321</td>\n      <td>2:15</td>\n      <td>1-May-21</td>\n      <td>1-May-21</td>\n    </tr>\n  </tbody>\n</table>\n</div>"
     },
     "metadata": {},
     "execution_count": 2
    }
   ],
   "source": [
    "import gspread\n",
    "import pandas as pd\n",
    "\n",
    "gc = gspread.service_account(filename=\"./crudg.json\")\n",
    "sheet = gc.open(\"flightsched\").get_worksheet(3)\n",
    "dataframe = pd.DataFrame(sheet.get_all_records())\n",
    "dataframe.head(2)"
   ]
  },
  {
   "cell_type": "code",
   "execution_count": 3,
   "metadata": {
    "tags": []
   },
   "outputs": [
    {
     "output_type": "stream",
     "name": "stdout",
     "text": [
      "Wall time: 185 ms\n"
     ]
    }
   ],
   "source": [
    "%%time\n",
    "%load_ext line_profiler"
   ]
  },
  {
   "cell_type": "markdown",
   "metadata": {},
   "source": [
    "- [x] memory usage: 4.5+ MB for month of April needs to be  reduced \n",
    "- [x] action data types specified reduced space to 2.3 mb \n",
    "- [ ] there are negative transit time , same needs to be manually confirmed if they are being caused by source error or code error \n",
    "- [ ] what happens to daterange when start date and end date are same \n",
    "- [ ] import opininated code formatter black \n",
    "- [ ] trying to solve negative transit times need to check percentage of negative transit times "
   ]
  },
  {
   "cell_type": "code",
   "execution_count": 4,
   "metadata": {
    "execution": {
     "iopub.execute_input": "2021-05-05T04:55:56.904225Z",
     "iopub.status.busy": "2021-05-05T04:55:56.903227Z",
     "iopub.status.idle": "2021-05-05T04:55:56.924225Z",
     "shell.execute_reply": "2021-05-05T04:55:56.923228Z",
     "shell.execute_reply.started": "2021-05-05T04:55:56.904225Z"
    },
    "tags": []
   },
   "outputs": [],
   "source": [
    "import IPython\n",
    "\n",
    "# the below code ensures multiple outputs are then in lab cells\n",
    "from IPython.core.interactiveshell import InteractiveShell\n",
    "\n",
    "InteractiveShell.ast_node_interactivity = \"all\""
   ]
  },
  {
   "cell_type": "code",
   "execution_count": 27,
   "metadata": {
    "execution": {
     "iopub.execute_input": "2021-05-05T04:55:59.728076Z",
     "iopub.status.busy": "2021-05-05T04:55:59.727068Z",
     "iopub.status.idle": "2021-05-05T04:56:11.902557Z",
     "shell.execute_reply": "2021-05-05T04:56:11.902557Z",
     "shell.execute_reply.started": "2021-05-05T04:55:59.728076Z"
    },
    "tags": []
   },
   "outputs": [
    {
     "output_type": "stream",
     "name": "stdout",
     "text": [
      "Wall time: 0 ns\n"
     ]
    }
   ],
   "source": [
    "%%time\n",
    "import matplotlib.pyplot as plt\n",
    "import numpy as np\n",
    "import pandas as pd\n",
    "import pickle\n",
    "import gspread\n",
    "\n",
    "import datetime\n",
    "import pickle\n",
    "import re\n",
    "from altair.vegalite.v4.schema.channels import Tooltip\n",
    "import altair as alt\n",
    "import networkx as nx\n",
    "import itertools\n",
    "import math\n",
    "import random\n",
    "from collections import defaultdict"
   ]
  },
  {
   "cell_type": "code",
   "execution_count": 6,
   "metadata": {
    "tags": []
   },
   "outputs": [
    {
     "output_type": "execute_result",
     "data": {
      "text/plain": [
       "DataTransformerRegistry.enable('default')"
      ]
     },
     "metadata": {},
     "execution_count": 6
    },
    {
     "output_type": "execute_result",
     "data": {
      "text/plain": [
       "RendererRegistry.enable('mimetype')"
      ]
     },
     "metadata": {},
     "execution_count": 6
    }
   ],
   "source": [
    "# altair disable max rows\n",
    "alt.data_transformers.disable_max_rows()\n",
    "# altair enble chart\n",
    "alt.renderers.enable(\"mimetype\")"
   ]
  },
  {
   "cell_type": "code",
   "execution_count": 7,
   "metadata": {
    "execution": {
     "iopub.execute_input": "2021-05-05T04:56:16.703826Z",
     "iopub.status.busy": "2021-05-05T04:56:16.702821Z",
     "iopub.status.idle": "2021-05-05T04:56:16.711823Z",
     "shell.execute_reply": "2021-05-05T04:56:16.710824Z",
     "shell.execute_reply.started": "2021-05-05T04:56:16.703826Z"
    },
    "tags": []
   },
   "outputs": [],
   "source": [
    "# Set ipython's max row display\n",
    "pd.set_option(\"display.max_row\", 50)\n",
    "\n",
    "# Set iPython's max column width to 50\n",
    "pd.set_option(\"display.max_columns\", 50)"
   ]
  },
  {
   "cell_type": "code",
   "execution_count": 8,
   "metadata": {
    "execution": {
     "iopub.execute_input": "2021-05-05T04:56:19.511794Z",
     "iopub.status.busy": "2021-05-05T04:56:19.510795Z",
     "iopub.status.idle": "2021-05-05T04:56:19.595791Z",
     "shell.execute_reply": "2021-05-05T04:56:19.593791Z",
     "shell.execute_reply.started": "2021-05-05T04:56:19.511794Z"
    },
    "tags": []
   },
   "outputs": [],
   "source": [
    "alpha = pickle.load(open(\"apr_21.p\", \"rb\"))\n",
    "# alpha.info()"
   ]
  },
  {
   "cell_type": "code",
   "execution_count": 9,
   "metadata": {
    "execution": {
     "iopub.execute_input": "2021-05-05T04:56:21.703761Z",
     "iopub.status.busy": "2021-05-05T04:56:21.702762Z",
     "iopub.status.idle": "2021-05-05T04:56:22.644408Z",
     "shell.execute_reply": "2021-05-05T04:56:22.644408Z",
     "shell.execute_reply.started": "2021-05-05T04:56:21.703761Z"
    },
    "tags": []
   },
   "outputs": [
    {
     "output_type": "execute_result",
     "data": {
      "text/plain": [
       "Timestamp('2021-04-01 00:00:00')"
      ]
     },
     "metadata": {},
     "execution_count": 9
    },
    {
     "output_type": "execute_result",
     "data": {
      "text/plain": [
       "   Dept_Arp            engg_arr            engg_dep    transit_time Flt_Desg  \\\n",
       "0       VTZ 2021-04-01 07:05:00 2021-04-01 07:35:00 0 days 00:30:00  6E 0647   \n",
       "1       VTZ 2021-04-01 07:35:00 2021-04-01 08:05:00 0 days 00:30:00  6E 0608   \n",
       "2       VTZ 2021-04-01 08:10:00 2021-04-01 08:40:00 0 days 00:30:00  6E 0803   \n",
       "3       VTZ 2021-04-01 08:20:00 2021-04-01 08:50:00 0 days 00:30:00  6E 0133   \n",
       "4       VTZ 2021-04-01 09:45:00 2021-04-01 10:15:00 0 days 00:30:00  6E 6038   \n",
       "5       VTZ 2021-04-01 12:25:00 2021-04-01 13:00:00 0 days 00:35:00  6E 6809   \n",
       "6       VTZ 2021-04-01 14:05:00 2021-04-01 14:30:00 0 days 00:25:00  6E 6001   \n",
       "7       VTZ 2021-04-01 16:10:00 2021-04-01 16:40:00 0 days 00:30:00  6E 0783   \n",
       "8       VTZ 2021-04-01 17:00:00 2021-04-01 17:20:00 0 days 00:20:00  6E 7129   \n",
       "9       VTZ 2021-04-01 17:30:00 2021-04-01 18:40:00 0 days 01:10:00  6E 2772   \n",
       "10      VTZ 2021-04-01 18:25:00 2021-04-01 18:55:00 0 days 00:30:00  6E 0216   \n",
       "11      VTZ 2021-04-01 18:35:00 2021-04-01 19:00:00 0 days 00:25:00  6E 7967   \n",
       "12      VTZ 2021-04-01 21:05:00 2021-04-01 22:10:00 0 days 01:05:00  6E 0742   \n",
       "\n",
       "   Text_Comment Subfleet Arvl_Arp            aocs_arr  deptype  \\\n",
       "0          A170   6E 32S      DEL 2021-04-01 10:00:00  Transit   \n",
       "1          A141   6E 32S      HYD 2021-04-01 09:15:00  Transit   \n",
       "2       A321_05   6E 321      MAA 2021-04-01 10:10:00  Transit   \n",
       "3          A130   6E 32S      BLR 2021-04-01 10:30:00  Transit   \n",
       "4      A323_019   6E 320      CCU 2021-04-01 11:50:00  Transit   \n",
       "5          A092   6E 32S      HYD 2021-04-01 14:15:00  Transit   \n",
       "6          A040   6E 32S      MAA 2021-04-01 15:45:00  Transit   \n",
       "7          A092   6E 32S      HYD 2021-04-01 18:00:00  Transit   \n",
       "8        ATR051   6E ATR      VGA 2021-04-01 18:25:00  Transit   \n",
       "9          A058   6E 32S      DEL 2021-04-01 21:05:00  Transit   \n",
       "10         A200   6E 32S      BLR 2021-04-01 20:35:00  Transit   \n",
       "11       ATR004   6E ATR      RJA 2021-04-01 19:55:00  Transit   \n",
       "12         A223   6E 320      HYD 2021-04-01 23:25:00  Transit   \n",
       "\n",
       "        Block_Time Service_Type   cal_date  \n",
       "0  0 days 02:25:00            J 2021-04-01  \n",
       "1  0 days 01:10:00            J 2021-04-01  \n",
       "2  0 days 01:30:00            J 2021-04-01  \n",
       "3  0 days 01:40:00            J 2021-04-01  \n",
       "4  0 days 01:35:00            J 2021-04-01  \n",
       "5  0 days 01:15:00            J 2021-04-01  \n",
       "6  0 days 01:15:00            J 2021-04-01  \n",
       "7  0 days 01:20:00            J 2021-04-01  \n",
       "8  0 days 01:05:00            J 2021-04-01  \n",
       "9  0 days 02:25:00            J 2021-04-01  \n",
       "10 0 days 01:40:00            J 2021-04-01  \n",
       "11 0 days 00:55:00            J 2021-04-01  \n",
       "12 0 days 01:15:00            J 2021-04-01  "
      ],
      "text/html": "<div>\n<style scoped>\n    .dataframe tbody tr th:only-of-type {\n        vertical-align: middle;\n    }\n\n    .dataframe tbody tr th {\n        vertical-align: top;\n    }\n\n    .dataframe thead th {\n        text-align: right;\n    }\n</style>\n<table border=\"1\" class=\"dataframe\">\n  <thead>\n    <tr style=\"text-align: right;\">\n      <th></th>\n      <th>Dept_Arp</th>\n      <th>engg_arr</th>\n      <th>engg_dep</th>\n      <th>transit_time</th>\n      <th>Flt_Desg</th>\n      <th>Text_Comment</th>\n      <th>Subfleet</th>\n      <th>Arvl_Arp</th>\n      <th>aocs_arr</th>\n      <th>deptype</th>\n      <th>Block_Time</th>\n      <th>Service_Type</th>\n      <th>cal_date</th>\n    </tr>\n  </thead>\n  <tbody>\n    <tr>\n      <th>0</th>\n      <td>VTZ</td>\n      <td>2021-04-01 07:05:00</td>\n      <td>2021-04-01 07:35:00</td>\n      <td>0 days 00:30:00</td>\n      <td>6E 0647</td>\n      <td>A170</td>\n      <td>6E 32S</td>\n      <td>DEL</td>\n      <td>2021-04-01 10:00:00</td>\n      <td>Transit</td>\n      <td>0 days 02:25:00</td>\n      <td>J</td>\n      <td>2021-04-01</td>\n    </tr>\n    <tr>\n      <th>1</th>\n      <td>VTZ</td>\n      <td>2021-04-01 07:35:00</td>\n      <td>2021-04-01 08:05:00</td>\n      <td>0 days 00:30:00</td>\n      <td>6E 0608</td>\n      <td>A141</td>\n      <td>6E 32S</td>\n      <td>HYD</td>\n      <td>2021-04-01 09:15:00</td>\n      <td>Transit</td>\n      <td>0 days 01:10:00</td>\n      <td>J</td>\n      <td>2021-04-01</td>\n    </tr>\n    <tr>\n      <th>2</th>\n      <td>VTZ</td>\n      <td>2021-04-01 08:10:00</td>\n      <td>2021-04-01 08:40:00</td>\n      <td>0 days 00:30:00</td>\n      <td>6E 0803</td>\n      <td>A321_05</td>\n      <td>6E 321</td>\n      <td>MAA</td>\n      <td>2021-04-01 10:10:00</td>\n      <td>Transit</td>\n      <td>0 days 01:30:00</td>\n      <td>J</td>\n      <td>2021-04-01</td>\n    </tr>\n    <tr>\n      <th>3</th>\n      <td>VTZ</td>\n      <td>2021-04-01 08:20:00</td>\n      <td>2021-04-01 08:50:00</td>\n      <td>0 days 00:30:00</td>\n      <td>6E 0133</td>\n      <td>A130</td>\n      <td>6E 32S</td>\n      <td>BLR</td>\n      <td>2021-04-01 10:30:00</td>\n      <td>Transit</td>\n      <td>0 days 01:40:00</td>\n      <td>J</td>\n      <td>2021-04-01</td>\n    </tr>\n    <tr>\n      <th>4</th>\n      <td>VTZ</td>\n      <td>2021-04-01 09:45:00</td>\n      <td>2021-04-01 10:15:00</td>\n      <td>0 days 00:30:00</td>\n      <td>6E 6038</td>\n      <td>A323_019</td>\n      <td>6E 320</td>\n      <td>CCU</td>\n      <td>2021-04-01 11:50:00</td>\n      <td>Transit</td>\n      <td>0 days 01:35:00</td>\n      <td>J</td>\n      <td>2021-04-01</td>\n    </tr>\n    <tr>\n      <th>5</th>\n      <td>VTZ</td>\n      <td>2021-04-01 12:25:00</td>\n      <td>2021-04-01 13:00:00</td>\n      <td>0 days 00:35:00</td>\n      <td>6E 6809</td>\n      <td>A092</td>\n      <td>6E 32S</td>\n      <td>HYD</td>\n      <td>2021-04-01 14:15:00</td>\n      <td>Transit</td>\n      <td>0 days 01:15:00</td>\n      <td>J</td>\n      <td>2021-04-01</td>\n    </tr>\n    <tr>\n      <th>6</th>\n      <td>VTZ</td>\n      <td>2021-04-01 14:05:00</td>\n      <td>2021-04-01 14:30:00</td>\n      <td>0 days 00:25:00</td>\n      <td>6E 6001</td>\n      <td>A040</td>\n      <td>6E 32S</td>\n      <td>MAA</td>\n      <td>2021-04-01 15:45:00</td>\n      <td>Transit</td>\n      <td>0 days 01:15:00</td>\n      <td>J</td>\n      <td>2021-04-01</td>\n    </tr>\n    <tr>\n      <th>7</th>\n      <td>VTZ</td>\n      <td>2021-04-01 16:10:00</td>\n      <td>2021-04-01 16:40:00</td>\n      <td>0 days 00:30:00</td>\n      <td>6E 0783</td>\n      <td>A092</td>\n      <td>6E 32S</td>\n      <td>HYD</td>\n      <td>2021-04-01 18:00:00</td>\n      <td>Transit</td>\n      <td>0 days 01:20:00</td>\n      <td>J</td>\n      <td>2021-04-01</td>\n    </tr>\n    <tr>\n      <th>8</th>\n      <td>VTZ</td>\n      <td>2021-04-01 17:00:00</td>\n      <td>2021-04-01 17:20:00</td>\n      <td>0 days 00:20:00</td>\n      <td>6E 7129</td>\n      <td>ATR051</td>\n      <td>6E ATR</td>\n      <td>VGA</td>\n      <td>2021-04-01 18:25:00</td>\n      <td>Transit</td>\n      <td>0 days 01:05:00</td>\n      <td>J</td>\n      <td>2021-04-01</td>\n    </tr>\n    <tr>\n      <th>9</th>\n      <td>VTZ</td>\n      <td>2021-04-01 17:30:00</td>\n      <td>2021-04-01 18:40:00</td>\n      <td>0 days 01:10:00</td>\n      <td>6E 2772</td>\n      <td>A058</td>\n      <td>6E 32S</td>\n      <td>DEL</td>\n      <td>2021-04-01 21:05:00</td>\n      <td>Transit</td>\n      <td>0 days 02:25:00</td>\n      <td>J</td>\n      <td>2021-04-01</td>\n    </tr>\n    <tr>\n      <th>10</th>\n      <td>VTZ</td>\n      <td>2021-04-01 18:25:00</td>\n      <td>2021-04-01 18:55:00</td>\n      <td>0 days 00:30:00</td>\n      <td>6E 0216</td>\n      <td>A200</td>\n      <td>6E 32S</td>\n      <td>BLR</td>\n      <td>2021-04-01 20:35:00</td>\n      <td>Transit</td>\n      <td>0 days 01:40:00</td>\n      <td>J</td>\n      <td>2021-04-01</td>\n    </tr>\n    <tr>\n      <th>11</th>\n      <td>VTZ</td>\n      <td>2021-04-01 18:35:00</td>\n      <td>2021-04-01 19:00:00</td>\n      <td>0 days 00:25:00</td>\n      <td>6E 7967</td>\n      <td>ATR004</td>\n      <td>6E ATR</td>\n      <td>RJA</td>\n      <td>2021-04-01 19:55:00</td>\n      <td>Transit</td>\n      <td>0 days 00:55:00</td>\n      <td>J</td>\n      <td>2021-04-01</td>\n    </tr>\n    <tr>\n      <th>12</th>\n      <td>VTZ</td>\n      <td>2021-04-01 21:05:00</td>\n      <td>2021-04-01 22:10:00</td>\n      <td>0 days 01:05:00</td>\n      <td>6E 0742</td>\n      <td>A223</td>\n      <td>6E 320</td>\n      <td>HYD</td>\n      <td>2021-04-01 23:25:00</td>\n      <td>Transit</td>\n      <td>0 days 01:15:00</td>\n      <td>J</td>\n      <td>2021-04-01</td>\n    </tr>\n  </tbody>\n</table>\n</div>"
     },
     "metadata": {},
     "execution_count": 9
    }
   ],
   "source": [
    "alpha[\"cal_date\"][0]\n",
    "reqDf = alpha.loc[\n",
    "    (alpha[\"Dept_Arp\"] == \"VTZ\") & (alpha[\"cal_date\"] == alpha[\"cal_date\"][0])\n",
    "]\n",
    "reqDf = reqDf.sort_values(by=[\"engg_dep\"])\n",
    "reqDf = reqDf.loc[reqDf[\"transit_time\"] > pd.to_timedelta(\"15.5us\")]\n",
    "reqDf = reqDf[\n",
    "    [\n",
    "        \"Dept_Arp\",\n",
    "        \"engg_arr\",\n",
    "        \"engg_dep\",\n",
    "        \"transit_time\",\n",
    "        \"Flt_Desg\",\n",
    "        \"Text_Comment\",\n",
    "        \"Subfleet\",\n",
    "        \"Arvl_Arp\",\n",
    "        \"aocs_arr\",\n",
    "        \"deptype\",\n",
    "        \"Block_Time\",\n",
    "        \"Service_Type\",\n",
    "        \"cal_date\",\n",
    "    ]\n",
    "]\n",
    "reqDf = reqDf.reset_index(drop=True)\n",
    "reqDf"
   ]
  },
  {
   "cell_type": "code",
   "execution_count": 10,
   "metadata": {
    "execution": {
     "iopub.execute_input": "2021-05-05T04:56:27.079839Z",
     "iopub.status.busy": "2021-05-05T04:56:27.078832Z",
     "iopub.status.idle": "2021-05-05T04:56:27.200565Z",
     "shell.execute_reply": "2021-05-05T04:56:27.198569Z",
     "shell.execute_reply.started": "2021-05-05T04:56:27.079839Z"
    },
    "tags": []
   },
   "outputs": [],
   "source": [
    "jNodeList = reqDf.reset_index(drop=True).to_dict(\"index\").items()\n",
    "# next(jNodeList)\n"
   ]
  },
  {
   "cell_type": "code",
   "execution_count": 11,
   "metadata": {
    "execution": {
     "iopub.execute_input": "2021-05-05T04:56:29.431792Z",
     "iopub.status.busy": "2021-05-05T04:56:29.430794Z",
     "iopub.status.idle": "2021-05-05T04:56:29.450792Z",
     "shell.execute_reply": "2021-05-05T04:56:29.449792Z",
     "shell.execute_reply.started": "2021-05-05T04:56:29.431792Z"
    },
    "tags": []
   },
   "outputs": [],
   "source": [
    "G = nx.DiGraph()\n",
    "G.add_nodes_from(jNodeList)"
   ]
  },
  {
   "cell_type": "code",
   "execution_count": 12,
   "metadata": {
    "execution": {
     "iopub.execute_input": "2021-05-05T04:56:33.951714Z",
     "iopub.status.busy": "2021-05-05T04:56:33.950714Z",
     "iopub.status.idle": "2021-05-05T04:56:34.034238Z",
     "shell.execute_reply": "2021-05-05T04:56:34.032240Z",
     "shell.execute_reply.started": "2021-05-05T04:56:33.951714Z"
    },
    "tags": []
   },
   "outputs": [],
   "source": [
    "reqList = list(itertools.permutations(G.nodes(data=True), 2))\n",
    "\n",
    "filtList = list(filter(lambda x: x[0][1][\"engg_dep\"] < x[1][1][\"engg_arr\"], reqList))\n",
    "\n",
    "finalEdgeList = [((x[0][0]), x[1][0]) for x in filtList]\n",
    "# finalEdgeList"
   ]
  },
  {
   "cell_type": "code",
   "execution_count": 13,
   "metadata": {
    "execution": {
     "iopub.execute_input": "2021-05-05T04:56:37.991807Z",
     "iopub.status.busy": "2021-05-05T04:56:37.990807Z",
     "iopub.status.idle": "2021-05-05T04:56:38.003805Z",
     "shell.execute_reply": "2021-05-05T04:56:38.001813Z",
     "shell.execute_reply.started": "2021-05-05T04:56:37.991807Z"
    },
    "tags": []
   },
   "outputs": [],
   "source": [
    "G.add_edges_from(finalEdgeList)"
   ]
  },
  {
   "cell_type": "code",
   "execution_count": 14,
   "metadata": {
    "execution": {
     "iopub.execute_input": "2021-05-05T04:56:43.255685Z",
     "iopub.status.busy": "2021-05-05T04:56:43.254685Z",
     "iopub.status.idle": "2021-05-05T04:56:43.280683Z",
     "shell.execute_reply": "2021-05-05T04:56:43.278685Z",
     "shell.execute_reply.started": "2021-05-05T04:56:43.255685Z"
    },
    "tags": []
   },
   "outputs": [
    {
     "output_type": "execute_result",
     "data": {
      "text/plain": [
       "[0, 1]"
      ]
     },
     "metadata": {},
     "execution_count": 14
    },
    {
     "output_type": "execute_result",
     "data": {
      "text/plain": [
       "[12]"
      ]
     },
     "metadata": {},
     "execution_count": 14
    },
    {
     "output_type": "execute_result",
     "data": {
      "text/plain": [
       "[1, 0, 3, 2, 4, 5, 6, 7, 8, 11, 10, 9, 12]"
      ]
     },
     "metadata": {},
     "execution_count": 14
    },
    {
     "output_type": "execute_result",
     "data": {
      "text/plain": [
       "Timestamp('2021-04-01 21:05:00')"
      ]
     },
     "metadata": {},
     "execution_count": 14
    }
   ],
   "source": [
    "roots = [v for v, d in G.in_degree() if d == 0]\n",
    "tips = [v for v, d in G.out_degree() if d == 0]\n",
    "topsortedList = list(nx.algorithms.dag.topological_sort(G))\n",
    "roots\n",
    "tips\n",
    "topsortedList\n",
    "G.nodes[9][\"aocs_arr\"]"
   ]
  },
  {
   "cell_type": "code",
   "execution_count": 15,
   "metadata": {
    "execution": {
     "iopub.execute_input": "2021-05-05T04:57:41.439338Z",
     "iopub.status.busy": "2021-05-05T04:57:41.438331Z",
     "iopub.status.idle": "2021-05-05T04:57:41.475331Z",
     "shell.execute_reply": "2021-05-05T04:57:41.473335Z",
     "shell.execute_reply.started": "2021-05-05T04:57:41.439338Z"
    },
    "tags": []
   },
   "outputs": [
    {
     "output_type": "execute_result",
     "data": {
      "text/plain": [
       "[9, 10, 11, 12]"
      ]
     },
     "metadata": {},
     "execution_count": 15
    },
    {
     "output_type": "execute_result",
     "data": {
      "text/plain": [
       "[(9, {}), (10, {}), (11, {}), (12, {})]"
      ]
     },
     "metadata": {},
     "execution_count": 15
    },
    {
     "output_type": "execute_result",
     "data": {
      "text/plain": [
       "[9, 10, 11, 12]"
      ]
     },
     "metadata": {},
     "execution_count": 15
    },
    {
     "output_type": "execute_result",
     "data": {
      "text/plain": [
       "[]"
      ]
     },
     "metadata": {},
     "execution_count": 15
    },
    {
     "output_type": "execute_result",
     "data": {
      "text/plain": [
       "[]"
      ]
     },
     "metadata": {},
     "execution_count": 15
    }
   ],
   "source": [
    "list(G.neighbors(8))\n",
    "list(G.adj[8].items())\n",
    "list(G.successors(8))\n",
    "sorted(G.neighbors(12), key=lambda x: G.nodes[x][\"engg_arr\"])\n",
    "list(G.neighbors(12))"
   ]
  },
  {
   "source": [
    "- [ ]  check if all nodes have been covered else \n",
    "- [ ] edge case One station vtz date first april aloocation of fights between 1700 and 1900 theoritical required manpower 3  actual required manpower 2 "
   ],
   "cell_type": "markdown",
   "metadata": {}
  },
  {
   "cell_type": "code",
   "execution_count": null,
   "metadata": {},
   "outputs": [],
   "source": []
  },
  {
   "cell_type": "code",
   "execution_count": 16,
   "metadata": {
    "execution": {
     "iopub.execute_input": "2021-05-05T04:59:36.540848Z",
     "iopub.status.busy": "2021-05-05T04:59:36.540733Z",
     "iopub.status.idle": "2021-05-05T04:59:37.437685Z",
     "shell.execute_reply": "2021-05-05T04:59:37.248930Z",
     "shell.execute_reply.started": "2021-05-05T04:59:36.540789Z"
    },
    "tags": []
   },
   "outputs": [
    {
     "output_type": "execute_result",
     "data": {
      "text/plain": [
       "{0: [0, 2, 4, 5, 6, 7, 8, 9, 12], 1: [1, 3, 10]}"
      ]
     },
     "metadata": {},
     "execution_count": 16
    }
   ],
   "source": [
    "%%black\n",
    "def DfsUtil(startvertex, visited, paramPath):\n",
    "\n",
    "    visited[\"visitStatus\"]  = True\n",
    "    paramPath.append(startvertex)\n",
    "    if list(G.neighbors(startvertex)) == []:\n",
    "        return\n",
    "\n",
    "        \n",
    "\n",
    "    nextToVisit = sorted(G.neighbors(startvertex), key=lambda x: G.nodes[x][\"engg_arr\"])\n",
    "    nextToVisit = [xray for xray in nextToVisit if  visited[xray][0]]\n",
    "    # print(nextToVisit)\n",
    "    if nextToVisit == []:\n",
    "        return\n",
    "\n",
    "    nextToVisit = nextToVisit[0]\n",
    "    if nextToVisit not in visited:\n",
    "        DfsUtil(nextToVisit, visited, paramPath)\n",
    "\n",
    "\n",
    "def DFS(Graph):\n",
    "    roots = [v for v, d in G.in_degree() if d == 0]\n",
    "    def def_value():\n",
    "        return {\"visitStatus\" :False,\"visitPath\":[]}\n",
    "    rootpathDict = defaultdict(def_value)\n",
    "    flagAllNodevisited = set(G.nodes()).difference(set(sorted({x for v in testOne.values() for x in v})))) == set\n",
    "\n",
    "    # first pass via roots \n",
    "    for xray in roots:\n",
    "        graphPath = []\n",
    "        DfsUtil(xray, rootpathDict, graphPath)\n",
    "        rootpathDict[\"visitPath\"] = graphPath\n",
    "    # second pass via nodes left after first path \n",
    "    if  :\n",
    "        return rootpathDict\n",
    "    else :\n",
    "\n",
    "\n",
    "\n",
    "\n",
    "    \n",
    "\n",
    "\n",
    "testOne = DFS(G)\n",
    "testOne"
   ]
  },
  {
   "cell_type": "code",
   "execution_count": 37,
   "metadata": {},
   "outputs": [
    {
     "output_type": "execute_result",
     "data": {
      "text/plain": [
       "{11}"
      ]
     },
     "metadata": {},
     "execution_count": 37
    },
    {
     "output_type": "execute_result",
     "data": {
      "text/plain": [
       "True"
      ]
     },
     "metadata": {},
     "execution_count": 37
    }
   ],
   "source": [
    "\n",
    "set(G.nodes()).difference(set(sorted({x for v in testOne.values() for x in v})))\n",
    "def def_value():\n",
    "        return {\"visitStatus\" :False,\"visitPath\":[]}\n",
    "rootpathDict = defaultdict(def_value)\n",
    "\n",
    "\n",
    "\n",
    "\n",
    "\n"
   ]
  },
  {
   "cell_type": "code",
   "execution_count": 28,
   "metadata": {},
   "outputs": [
    {
     "output_type": "execute_result",
     "data": {
      "text/plain": [
       "[0, 1, 2, 3, 4, 5, 6, 7, 8, 9, 10, 11, 12]"
      ]
     },
     "metadata": {},
     "execution_count": 28
    },
    {
     "output_type": "execute_result",
     "data": {
      "text/plain": [
       "[False, []]"
      ]
     },
     "metadata": {},
     "execution_count": 28
    }
   ],
   "source": [
    "list(G.nodes(data=False))\n",
    "\n",
    "d[\"a\"]\n"
   ]
  },
  {
   "cell_type": "markdown",
   "metadata": {},
   "source": [
    "- checking for negative times "
   ]
  },
  {
   "cell_type": "code",
   "execution_count": null,
   "metadata": {
    "tags": []
   },
   "outputs": [],
   "source": [
    "negAlpha = alpha.loc[\n",
    "    ~(alpha[\"transit_time\"] > pd.to_timedelta(\"15.5us\"))\n",
    "    & (alpha[\"deptype\"] == \"Transit\")\n",
    "]\n",
    "# negAlpha[\"Text_Comment\"].unique().tolist()"
   ]
  },
  {
   "cell_type": "code",
   "execution_count": null,
   "metadata": {
    "tags": []
   },
   "outputs": [],
   "source": [
    "negAlpha.head(5)\n",
    "testdate = negAlpha[\"cal_date\"][184]"
   ]
  },
  {
   "cell_type": "code",
   "execution_count": null,
   "metadata": {
    "tags": []
   },
   "outputs": [],
   "source": [
    "x_df = alpha.loc[(alpha[\"Text_Comment\"] == \"A001\") & (alpha[\"cal_date\"] == testdate)]\n",
    "x_df"
   ]
  },
  {
   "cell_type": "markdown",
   "metadata": {},
   "source": [
    "- [ ] when bolean masking transit time > 0 micro seconds also removes the NAt also error "
   ]
  },
  {
   "cell_type": "code",
   "execution_count": null,
   "metadata": {
    "tags": []
   },
   "outputs": [],
   "source": [
    "groupedDf = alpha.copy()\n",
    "groupedDf = (\n",
    "    groupedDf.groupby([\"cal_date\", \"deptype\", \"Dept_Arp\"])\n",
    "    .size()\n",
    "    .reset_index(name=\"count\")\n",
    ")\n",
    "\n",
    "groupedDf[\"count\"] = pd.to_numeric(groupedDf[\"count\"])\n",
    "groupedDf.info()"
   ]
  },
  {
   "cell_type": "code",
   "execution_count": null,
   "metadata": {
    "tags": []
   },
   "outputs": [],
   "source": [
    "pd.Timedelta(\"30 min\")"
   ]
  },
  {
   "cell_type": "code",
   "execution_count": null,
   "metadata": {
    "tags": []
   },
   "outputs": [],
   "source": [
    "df = groupedDf.loc[groupedDf[\"deptype\"] == \"Transit\"].copy()"
   ]
  },
  {
   "cell_type": "code",
   "execution_count": null,
   "metadata": {
    "tags": []
   },
   "outputs": [],
   "source": [
    "listAirports = df[\"Dept_Arp\"].unique().tolist()\n",
    "randomlistAirports = random.sample(listAirports, 5)\n",
    "randomlistAirports\n",
    "sortedDf = df.loc[df[\"Dept_Arp\"].isin(randomlistAirports)]\n",
    "sortedDf"
   ]
  },
  {
   "cell_type": "code",
   "execution_count": null,
   "metadata": {
    "tags": []
   },
   "outputs": [],
   "source": [
    "def getMonthChart(\n",
    "    dataframe: pd.DataFrame, stationList: list = None\n",
    ") -> alt.vegalite.v4.api.VConcatChart:\n",
    "    \"\"\"[summary]\n",
    "\n",
    "    Args:\n",
    "        month ([type]): [description]\n",
    "        station ([type]): [description]\n",
    "\n",
    "    Returns:\n",
    "        [type]: [description]\n",
    "    TODO : chart height claculation based on\n",
    "    \"\"\"\n",
    "    # checking Area\n",
    "    # test-One ensuring the type of keyword parameter and throwing error\n",
    "    if stationList != None:\n",
    "        assert isinstance(\n",
    "            stationList, list\n",
    "        ), \"stationList should be a (pythonType(List))\"\n",
    "    # ensuring argument is of type pandas datafrme\n",
    "    assert isinstance(\n",
    "        dataframe, pd.DataFrame\n",
    "    ), \"dataframe should be of type #pandas Dataframe #\"\n",
    "\n",
    "    groupedDf = dataframe.copy()\n",
    "    groupedDf = (\n",
    "        groupedDf.groupby([\"cal_date\", \"deptype\", \"Dept_Arp\"])\n",
    "        .size()\n",
    "        .reset_index(name=\"count\")\n",
    "    )\n",
    "\n",
    "    if stationList != None:\n",
    "        # test three if stationList is subset of avilable stations\n",
    "        assert set(stationList).issubset(\n",
    "            set(dataframe[\"Dept_Arp\"].unique())\n",
    "        ), \"statonlist station not in dataframe['Dept_Arp']\"\n",
    "\n",
    "        groupedDf = groupedDf.loc[groupedDf[\"Dept_Arp\"].isin(stationList)]\n",
    "\n",
    "    listOperationsType = groupedDf[\"deptype\"].unique().tolist()\n",
    "    # claulating chart size for chart Height\n",
    "\n",
    "    chartHeight = math.ceil(len(groupedDf[\"Dept_Arp\"].unique()) / 5) * 100\n",
    "\n",
    "    # base Chart\n",
    "    base = alt.Chart().encode(\n",
    "        alt.X(\n",
    "            \"monthdate(cal_date):O\",\n",
    "            title=\"Days Of The Month\",\n",
    "            scale=alt.Scale(paddingInner=0),\n",
    "        ),\n",
    "        alt.Y(\"Dept_Arp:N\", title=\"Airport\", scale=alt.Scale(paddingInner=0)),\n",
    "    )\n",
    "\n",
    "    # rect chart\n",
    "    alpha = base.mark_rect().encode(\n",
    "        color=alt.Color(\"count:Q\", legend=alt.Legend(direction=\"horizontal\")),\n",
    "        tooltip=[\n",
    "            alt.Tooltip(\"cal_date\", title=\"Date\"),\n",
    "            alt.Tooltip(\"count\", title=\"No-of-Ops\"),\n",
    "            alt.Tooltip(\"deptype\", title=\"Type-Ops\"),\n",
    "            alt.Tooltip(\"Dept_Arp\", title=\"Aiport\"),\n",
    "        ],\n",
    "    )\n",
    "\n",
    "    # text chart\n",
    "    beta = base.mark_text(align=\"center\", baseline=\"middle\").encode(text=\"count:Q\")\n",
    "\n",
    "    # chart with data as one of Transit . base Dep , base base Arr\n",
    "    chartOne = (\n",
    "        alt.layer(\n",
    "            alpha,\n",
    "            beta,\n",
    "            data=groupedDf.loc[groupedDf[\"deptype\"] == listOperationsType[0]].copy(),\n",
    "        )\n",
    "        .properties(\n",
    "            title=str(listOperationsType[0]) + \" Ops in Station\",\n",
    "            width=1000,\n",
    "            height=chartHeight,\n",
    "        )\n",
    "        .interactive()\n",
    "    )\n",
    "    # chart with data as one of Transit . base Dep , base base Arr\n",
    "    chartTwo = (\n",
    "        alt.layer(\n",
    "            alpha,\n",
    "            beta,\n",
    "            data=groupedDf.loc[groupedDf[\"deptype\"] == listOperationsType[1]].copy(),\n",
    "        )\n",
    "        .properties(\n",
    "            title=str(listOperationsType[1]) + \" Ops in Station\",\n",
    "            width=1000,\n",
    "            height=chartHeight,\n",
    "        )\n",
    "        .interactive()\n",
    "    )\n",
    "    # chart with data as one of Transit . base Dep , base base Arr\n",
    "    chartThree = (\n",
    "        alt.layer(\n",
    "            alpha,\n",
    "            beta,\n",
    "            data=groupedDf.loc[groupedDf[\"deptype\"] == listOperationsType[2]].copy(),\n",
    "        )\n",
    "        .properties(\n",
    "            title=str(listOperationsType[2]) + \" Ops in Station\",\n",
    "            width=1000,\n",
    "            height=chartHeight,\n",
    "        )\n",
    "        .interactive()\n",
    "    )\n",
    "    return alt.vconcat(chartOne, chartTwo, chartThree)"
   ]
  },
  {
   "cell_type": "code",
   "execution_count": null,
   "metadata": {
    "tags": []
   },
   "outputs": [],
   "source": [
    "finalChart = getMonthChart(alpha, stationList=randomlistAirports)"
   ]
  },
  {
   "cell_type": "code",
   "execution_count": null,
   "metadata": {
    "tags": []
   },
   "outputs": [],
   "source": [
    "finalChart"
   ]
  },
  {
   "cell_type": "code",
   "execution_count": null,
   "metadata": {
    "tags": []
   },
   "outputs": [],
   "source": [
    "#  datetime.datetime.strptime(\"Apr-21\", \"%b-%y\")\n",
    "pd.to_datetime(\"Apr-21\", format=\"%b-%y\").daysinmonth"
   ]
  }
 ],
 "metadata": {
  "kernelspec": {
   "name": "python388jvsc74a57bd02ff8848109dac4860e952d77496e8c8b2cfe340b64909aed14eae3c6b5233e12",
   "display_name": "Python 3.8.8 64-bit ('py38DS': conda)"
  },
  "language_info": {
   "file_extension": ".py",
   "mimetype": "text/x-python",
   "name": "python",
   "version": "3.8.8"
  },
  "metadata": {
   "interpreter": {
    "hash": "7c8d79756ca17c58910fa5424452d004a4786d8270f2193ff07a87017b701dc4"
   }
  }
 },
 "nbformat": 4,
 "nbformat_minor": 4
}