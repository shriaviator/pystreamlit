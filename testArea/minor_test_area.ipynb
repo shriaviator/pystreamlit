{
 "cells": [
  {
   "source": [
    "- [ ] sheet 2 intl departure needs to be taken into account \n",
    "- [ ] eng arrival and base departure needs to be finalised\n",
    "- [ ] move entire code into seperate repositiory \n",
    "- [ ] understand stremlit "
   ],
   "cell_type": "markdown",
   "metadata": {}
  },
  {
   "cell_type": "code",
   "execution_count": 1,
   "metadata": {},
   "outputs": [],
   "source": [
    "import matplotlib.pyplot as plt\n",
    "import numpy as np\n",
    "import pandas as pd\n",
    "import pickle\n",
    "import gspread\n",
    "from oauth2client.service_account import ServiceAccountCredentials\n",
    "import datetime\n",
    "import pickle\n",
    "import re\n",
    "from vega_datasets import data\n",
    "\n",
    "temp_list = pickle.load(open(\"gsheet_pickle.p\", \"rb\"))\n",
    "# importing from pickle \n",
    "alpha = temp_list[0]\n",
    "# seperate master datframe being created for all details after all modification\n",
    "master_df = pd.DataFrame(columns =['Dept Arp', 'engg_arr', 'engg_dep', 'deptype', 'Arvl Arp', 'Flt Desg',\n",
    "       'Block Time', 'aocs_dep', 'aocs_arr', 'Text Comment'])\n",
    "\n",
    "\n"
   ]
  },
  {
   "cell_type": "code",
   "execution_count": 2,
   "metadata": {},
   "outputs": [
    {
     "output_type": "execute_result",
     "data": {
      "text/plain": [
       "  Dept Arp  engg_arr  deptype Arvl Arp Flt Desg Text Comment Block Time  \\\n",
       "0      IXC     False    False      GOI  6E 0389          A10       2:45   \n",
       "1      GOI     False    False      IXC  6E 0391          A10       2:40   \n",
       "2      BLR     False    False      RPR  6E 0378         A100       2:00   \n",
       "3      RPR     False    False      BLR  6E 0382         A100       1:35   \n",
       "4      BLR     False    False      VGA  6E 0507         A100       1:20   \n",
       "\n",
       "  variable                value  \n",
       "0       D1  2021-02-01 14:25:00  \n",
       "1       D1  2021-02-01 17:40:00  \n",
       "2       D1  2021-02-01 08:30:00  \n",
       "3       D1  2021-02-01 11:10:00  \n",
       "4       D1  2021-02-01 13:20:00  "
      ],
      "text/html": "<div>\n<style scoped>\n    .dataframe tbody tr th:only-of-type {\n        vertical-align: middle;\n    }\n\n    .dataframe tbody tr th {\n        vertical-align: top;\n    }\n\n    .dataframe thead th {\n        text-align: right;\n    }\n</style>\n<table border=\"1\" class=\"dataframe\">\n  <thead>\n    <tr style=\"text-align: right;\">\n      <th></th>\n      <th>Dept Arp</th>\n      <th>engg_arr</th>\n      <th>deptype</th>\n      <th>Arvl Arp</th>\n      <th>Flt Desg</th>\n      <th>Text Comment</th>\n      <th>Block Time</th>\n      <th>variable</th>\n      <th>value</th>\n    </tr>\n  </thead>\n  <tbody>\n    <tr>\n      <th>0</th>\n      <td>IXC</td>\n      <td>False</td>\n      <td>False</td>\n      <td>GOI</td>\n      <td>6E 0389</td>\n      <td>A10</td>\n      <td>2:45</td>\n      <td>D1</td>\n      <td>2021-02-01 14:25:00</td>\n    </tr>\n    <tr>\n      <th>1</th>\n      <td>GOI</td>\n      <td>False</td>\n      <td>False</td>\n      <td>IXC</td>\n      <td>6E 0391</td>\n      <td>A10</td>\n      <td>2:40</td>\n      <td>D1</td>\n      <td>2021-02-01 17:40:00</td>\n    </tr>\n    <tr>\n      <th>2</th>\n      <td>BLR</td>\n      <td>False</td>\n      <td>False</td>\n      <td>RPR</td>\n      <td>6E 0378</td>\n      <td>A100</td>\n      <td>2:00</td>\n      <td>D1</td>\n      <td>2021-02-01 08:30:00</td>\n    </tr>\n    <tr>\n      <th>3</th>\n      <td>RPR</td>\n      <td>False</td>\n      <td>False</td>\n      <td>BLR</td>\n      <td>6E 0382</td>\n      <td>A100</td>\n      <td>1:35</td>\n      <td>D1</td>\n      <td>2021-02-01 11:10:00</td>\n    </tr>\n    <tr>\n      <th>4</th>\n      <td>BLR</td>\n      <td>False</td>\n      <td>False</td>\n      <td>VGA</td>\n      <td>6E 0507</td>\n      <td>A100</td>\n      <td>1:20</td>\n      <td>D1</td>\n      <td>2021-02-01 13:20:00</td>\n    </tr>\n  </tbody>\n</table>\n</div>"
     },
     "metadata": {},
     "execution_count": 2
    }
   ],
   "source": [
    "alpha.head()\n"
   ]
  },
  {
   "cell_type": "code",
   "execution_count": 3,
   "metadata": {},
   "outputs": [],
   "source": [
    "# pseudo code \n",
    "# sort as per column \"D2 \"\n",
    "# last row copy and add a new row for base arrival case \n",
    "# first row  make engg equal to D2 \n",
    "# all middle rows make engg arrival  previous row A2 \n",
    "# add a day column at the last reprenting the day "
   ]
  },
  {
   "cell_type": "code",
   "execution_count": 4,
   "metadata": {},
   "outputs": [],
   "source": [
    "\n",
    "def make_last_row(onedf ,arr_D):\n",
    "    temp_false_list = []\n",
    "    for india in range(onedf.shape[1]):\n",
    "        temp_false_list.append(False)\n",
    "    temp_false_list\n",
    "    onedf.loc[len(onedf)] = temp_false_list\n",
    "    onedf.loc[(len(onedf)-1), \"Dept Arp\" ] =onedf.loc[(len(onedf)-2), \"Arvl Arp\" ]\n",
    "    onedf.loc[(len(onedf)-1), \"engg_arr\" ] =onedf.loc[(len(onedf)-2), arr_D]\n",
    "    onedf.loc[(len(onedf)-1), \"Text Comment\" ] =onedf.loc[(len(onedf)-2), \"Text Comment\" ]\n",
    "    return onedf\n",
    "# right_df = make_last_row(right_df,arrDay)\n",
    "# right_df\n",
    "\n",
    "\n",
    "\n"
   ]
  },
  {
   "cell_type": "code",
   "execution_count": 5,
   "metadata": {},
   "outputs": [],
   "source": [
    "def AddBaseArrDep(onedf ,dep_day,arr_day):\n",
    "    '''\n",
    "    Modify first and last row for base Departure and base arrival model \n",
    "    '''\n",
    "    for xray in range(0,len(onedf)):\n",
    "        if xray  == 0:\n",
    "            onedf.loc[xray,\"deptype\"] = \"baseDep\"\n",
    "            onedf.loc[xray,\"engg_arr\"] = \"baseAcft\"\n",
    "            onedf.loc[xray,\"engg_dep\"] = onedf.loc[xray,dep_day]\n",
    "        elif xray == len(onedf)-1:\n",
    "            \n",
    "            onedf.loc[xray,\"deptype\"] = \"baseArr\"\n",
    "           \n",
    "        else:\n",
    "            onedf.loc[xray,\"engg_arr\"] = onedf.loc[(xray-1),arr_day]\n",
    "            onedf.loc[xray,\"engg_dep\"] = onedf.loc[(xray),dep_day]\n",
    "            onedf.loc[xray,\"deptype\"] = \"Transit\"\n",
    "    return onedf\n",
    "\n",
    "\n",
    "\n",
    "# onedf.columns\n",
    "\n",
    "\n",
    "\n",
    "\n"
   ]
  },
  {
   "cell_type": "code",
   "execution_count": 6,
   "metadata": {},
   "outputs": [],
   "source": [
    "# depDay = \"D4\"\n",
    "# arrDay = \"A4\"\n",
    "# textcomment is constant and is under manual \n",
    "# x_df =alpha.loc[(alpha[\"Text Comment\"]==\"A10\") & ((alpha[\"variable\"]==depDay) | (alpha[\"variable\"]==arrDay) )]\n",
    "# removing false entries and sorting as false entries cannot be sorted \n",
    "\n",
    "def df_flat_function(test_df , dep_D,arr_D):\n",
    "    test_df = test_df.sort_values(by=\"value\")\n",
    "    test_df =test_df.pivot(index = ['Dept Arp', 'engg_arr', 'deptype', 'Arvl Arp', 'Flt Desg','Text Comment', 'Block Time'] ,columns = \"variable\" ,values = 'value')\n",
    "    test_df = test_df.sort_values(by=dep_D)\n",
    "    flattened = pd.DataFrame(test_df.to_records())\n",
    "    flattened[\"engg_dep\"]=False\n",
    "    flattened =  flattened[['Dept Arp', 'engg_arr','engg_dep' ,'deptype', 'Arvl Arp', 'Flt Desg','Block Time', dep_D, arr_D,'Text Comment']]\n",
    "    \n",
    "    \n",
    "    return flattened\n",
    "\n",
    "\n",
    "# right_df"
   ]
  },
  {
   "cell_type": "code",
   "execution_count": 7,
   "metadata": {},
   "outputs": [],
   "source": [
    "# looping over for one month and keeping the comment constant manually \n",
    "# for india in range(1,32):\n",
    "#     depDay = \"D\"+str(india)\n",
    "#     arrDay = \"A\" +str(india)\n",
    "    \n",
    "#     x_df =alpha.loc[(alpha[\"Text Comment\"]==\"A10\") & ((alpha[\"variable\"]==depDay) | (alpha[\"variable\"]==arrDay) )]\n",
    "#     if ((depDay in x_df[\"variable\"].unique()) and (arrDay in x_df[\"variable\"].unique())):\n",
    "#         right_df = df_flat_function(x_df ,depDay,arrDay)\n",
    "#         make_last_row(right_df,arrDay)\n",
    "#         AddBaseArrDep(right_df,depDay,arrDay)\n",
    "#         right_df = right_df.rename(columns={depDay:'aocs_dep',arrDay:\"aocs_arr\"})\n",
    "#         master_df= master_df.append(right_df,ignore_index=True)\n",
    "\n"
   ]
  },
  {
   "cell_type": "code",
   "execution_count": 8,
   "metadata": {},
   "outputs": [
    {
     "output_type": "execute_result",
     "data": {
      "text/plain": [
       "Empty DataFrame\n",
       "Columns: [Dept Arp, engg_arr, engg_dep, deptype, Arvl Arp, Flt Desg, Block Time, aocs_dep, aocs_arr, Text Comment]\n",
       "Index: []"
      ],
      "text/html": "<div>\n<style scoped>\n    .dataframe tbody tr th:only-of-type {\n        vertical-align: middle;\n    }\n\n    .dataframe tbody tr th {\n        vertical-align: top;\n    }\n\n    .dataframe thead th {\n        text-align: right;\n    }\n</style>\n<table border=\"1\" class=\"dataframe\">\n  <thead>\n    <tr style=\"text-align: right;\">\n      <th></th>\n      <th>Dept Arp</th>\n      <th>engg_arr</th>\n      <th>engg_dep</th>\n      <th>deptype</th>\n      <th>Arvl Arp</th>\n      <th>Flt Desg</th>\n      <th>Block Time</th>\n      <th>aocs_dep</th>\n      <th>aocs_arr</th>\n      <th>Text Comment</th>\n    </tr>\n  </thead>\n  <tbody>\n  </tbody>\n</table>\n</div>"
     },
     "metadata": {},
     "execution_count": 8
    }
   ],
   "source": [
    "\n",
    "master_df.head(40)"
   ]
  },
  {
   "cell_type": "code",
   "execution_count": 9,
   "metadata": {},
   "outputs": [
    {
     "output_type": "stream",
     "name": "stdout",
     "text": [
      "Wall time: 20min 29s\n"
     ]
    }
   ],
   "source": [
    "%%time\n",
    "\n",
    "for iran in list(alpha[\"Text Comment\"].unique()):\n",
    "    for india in range(1,32):\n",
    "        depDay = \"D\"+str(india)\n",
    "        arrDay = \"A\" +str(india)\n",
    "    \n",
    "        x_df =alpha.loc[(alpha[\"Text Comment\"]== iran) & ((alpha[\"variable\"]==depDay) | (alpha[\"variable\"]==arrDay) )]\n",
    "        if ((depDay in x_df[\"variable\"].unique()) and (arrDay in x_df[\"variable\"].unique())):\n",
    "                right_df = df_flat_function(x_df ,depDay,arrDay)\n",
    "                make_last_row(right_df,arrDay)\n",
    "                AddBaseArrDep(right_df,depDay,arrDay)\n",
    "                right_df = right_df.rename(columns={depDay:'aocs_dep',arrDay:\"aocs_arr\"})\n",
    "                master_df= master_df.append(right_df,ignore_index=True)\n",
    "\n"
   ]
  },
  {
   "cell_type": "code",
   "execution_count": 13,
   "metadata": {},
   "outputs": [
    {
     "output_type": "execute_result",
     "data": {
      "text/plain": [
       "['Dept Arp',\n",
       " 'engg_arr',\n",
       " 'engg_dep',\n",
       " 'deptype',\n",
       " 'Arvl Arp',\n",
       " 'Flt Desg',\n",
       " 'Block Time',\n",
       " 'aocs_dep',\n",
       " 'aocs_arr',\n",
       " 'Text Comment',\n",
       " 'depDay']"
      ]
     },
     "metadata": {},
     "execution_count": 13
    }
   ],
   "source": [
    "master_df.head()\n",
    "master_df.columns.tolist()"
   ]
  },
  {
   "cell_type": "code",
   "execution_count": 11,
   "metadata": {},
   "outputs": [
    {
     "output_type": "execute_result",
     "data": {
      "text/plain": [
       "261"
      ]
     },
     "metadata": {},
     "execution_count": 11
    }
   ],
   "source": [
    "len(list(alpha[\"Text Comment\"].unique()))\n",
    "    \n"
   ]
  },
  {
   "cell_type": "code",
   "execution_count": 12,
   "metadata": {},
   "outputs": [],
   "source": [
    "newdf = master_df\n",
    "newdf[\"depDay\"]=False\n",
    "for xray in range(0,len(newdf)):\n",
    "    if newdf.loc[xray,\"engg_dep\"] != False:\n",
    "        newdf.loc[xray,\"depDay\"] = \"D\" +str(newdf.loc[xray,\"engg_dep\"].day)\n",
    "    elif newdf.loc[xray,\"engg_dep\"] == False:\n",
    "        newdf.loc[xray,\"depDay\"] = \"D\" +str(newdf.loc[xray,\"engg_arr\"].day)"
   ]
  },
  {
   "cell_type": "code",
   "execution_count": 14,
   "metadata": {},
   "outputs": [
    {
     "output_type": "execute_result",
     "data": {
      "text/plain": [
       "True"
      ]
     },
     "metadata": {},
     "execution_count": 14
    }
   ],
   "source": [
    "pickle.dump(newdf, open(\"minortest_pickle.p\", \"wb\"))\n",
    "\n",
    "gamma = pickle.load(open(\"minortest_pickle.p\", \"rb\"))\n",
    "\n",
    "gamma.equals(newdf)"
   ]
  },
  {
   "cell_type": "code",
   "execution_count": 15,
   "metadata": {},
   "outputs": [
    {
     "output_type": "stream",
     "name": "stdout",
     "text": [
      "<class 'pandas.core.frame.DataFrame'>\nRangeIndex: 37650 entries, 0 to 37649\nData columns (total 11 columns):\n #   Column        Non-Null Count  Dtype \n---  ------        --------------  ----- \n 0   Dept Arp      37650 non-null  object\n 1   engg_arr      37650 non-null  object\n 2   engg_dep      37650 non-null  object\n 3   deptype       37650 non-null  object\n 4   Arvl Arp      37650 non-null  object\n 5   Flt Desg      37650 non-null  object\n 6   Block Time    37650 non-null  object\n 7   aocs_dep      37650 non-null  object\n 8   aocs_arr      37650 non-null  object\n 9   Text Comment  37650 non-null  object\n 10  depDay        37650 non-null  object\ndtypes: object(11)\nmemory usage: 3.2+ MB\n"
     ]
    }
   ],
   "source": [
    "gamma.info()"
   ]
  },
  {
   "cell_type": "code",
   "execution_count": 16,
   "metadata": {},
   "outputs": [
    {
     "output_type": "execute_result",
     "data": {
      "text/plain": [
       "      Dept Arp             engg_arr             engg_dep  deptype Arvl Arp  \\\n",
       "6485       LKO  2021-02-08 13:10:00  2021-02-08 13:40:00  Transit      BOM   \n",
       "30906      BLR  2021-02-15 21:15:00                False  baseArr    False   \n",
       "7934       HYD  2021-02-13 07:20:00  2021-02-13 08:10:00  Transit      DEL   \n",
       "10721      NAG  2021-02-05 22:05:00                False  baseArr    False   \n",
       "36942      AMD  2021-02-27 14:10:00  2021-02-27 14:35:00  Transit      BHO   \n",
       "\n",
       "      Flt Desg Block Time             aocs_dep             aocs_arr  \\\n",
       "6485   6E 0673       2:30  2021-02-08 13:40:00  2021-02-08 16:10:00   \n",
       "30906    False      False                False                False   \n",
       "7934   6E 2023       2:10  2021-02-13 08:10:00  2021-02-13 10:20:00   \n",
       "10721    False      False                False                False   \n",
       "36942  6E 7166       1:30  2021-02-27 14:35:00  2021-02-27 16:05:00   \n",
       "\n",
       "      Text Comment depDay  \n",
       "6485          A144     D8  \n",
       "30906           A9    D15  \n",
       "7934          A152    D13  \n",
       "10721          A30     D5  \n",
       "36942        AMD01    D27  "
      ],
      "text/html": "<div>\n<style scoped>\n    .dataframe tbody tr th:only-of-type {\n        vertical-align: middle;\n    }\n\n    .dataframe tbody tr th {\n        vertical-align: top;\n    }\n\n    .dataframe thead th {\n        text-align: right;\n    }\n</style>\n<table border=\"1\" class=\"dataframe\">\n  <thead>\n    <tr style=\"text-align: right;\">\n      <th></th>\n      <th>Dept Arp</th>\n      <th>engg_arr</th>\n      <th>engg_dep</th>\n      <th>deptype</th>\n      <th>Arvl Arp</th>\n      <th>Flt Desg</th>\n      <th>Block Time</th>\n      <th>aocs_dep</th>\n      <th>aocs_arr</th>\n      <th>Text Comment</th>\n      <th>depDay</th>\n    </tr>\n  </thead>\n  <tbody>\n    <tr>\n      <th>6485</th>\n      <td>LKO</td>\n      <td>2021-02-08 13:10:00</td>\n      <td>2021-02-08 13:40:00</td>\n      <td>Transit</td>\n      <td>BOM</td>\n      <td>6E 0673</td>\n      <td>2:30</td>\n      <td>2021-02-08 13:40:00</td>\n      <td>2021-02-08 16:10:00</td>\n      <td>A144</td>\n      <td>D8</td>\n    </tr>\n    <tr>\n      <th>30906</th>\n      <td>BLR</td>\n      <td>2021-02-15 21:15:00</td>\n      <td>False</td>\n      <td>baseArr</td>\n      <td>False</td>\n      <td>False</td>\n      <td>False</td>\n      <td>False</td>\n      <td>False</td>\n      <td>A9</td>\n      <td>D15</td>\n    </tr>\n    <tr>\n      <th>7934</th>\n      <td>HYD</td>\n      <td>2021-02-13 07:20:00</td>\n      <td>2021-02-13 08:10:00</td>\n      <td>Transit</td>\n      <td>DEL</td>\n      <td>6E 2023</td>\n      <td>2:10</td>\n      <td>2021-02-13 08:10:00</td>\n      <td>2021-02-13 10:20:00</td>\n      <td>A152</td>\n      <td>D13</td>\n    </tr>\n    <tr>\n      <th>10721</th>\n      <td>NAG</td>\n      <td>2021-02-05 22:05:00</td>\n      <td>False</td>\n      <td>baseArr</td>\n      <td>False</td>\n      <td>False</td>\n      <td>False</td>\n      <td>False</td>\n      <td>False</td>\n      <td>A30</td>\n      <td>D5</td>\n    </tr>\n    <tr>\n      <th>36942</th>\n      <td>AMD</td>\n      <td>2021-02-27 14:10:00</td>\n      <td>2021-02-27 14:35:00</td>\n      <td>Transit</td>\n      <td>BHO</td>\n      <td>6E 7166</td>\n      <td>1:30</td>\n      <td>2021-02-27 14:35:00</td>\n      <td>2021-02-27 16:05:00</td>\n      <td>AMD01</td>\n      <td>D27</td>\n    </tr>\n  </tbody>\n</table>\n</div>"
     },
     "metadata": {},
     "execution_count": 16
    }
   ],
   "source": [
    "# Manual Testing \n",
    "\n",
    "test_alpha = gamma.sample(n=5)\n",
    "test_alpha"
   ]
  }
 ],
 "metadata": {
  "kernelspec": {
   "name": "pythonjvsc74a57bd07c8d79756ca17c58910fa5424452d004a4786d8270f2193ff07a87017b701dc4",
   "display_name": "Python 3.8.7  ('env': venv)"
  },
  "language_info": {
   "codemirror_mode": {
    "name": "ipython",
    "version": 3
   },
   "file_extension": ".py",
   "mimetype": "text/x-python",
   "name": "python",
   "nbconvert_exporter": "python",
   "pygments_lexer": "ipython3",
   "version": "3.8.7"
  },
  "metadata": {
   "interpreter": {
    "hash": "7c8d79756ca17c58910fa5424452d004a4786d8270f2193ff07a87017b701dc4"
   }
  }
 },
 "nbformat": 4,
 "nbformat_minor": 2
}