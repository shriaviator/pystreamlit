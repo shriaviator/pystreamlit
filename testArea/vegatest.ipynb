{
 "metadata": {
  "language_info": {
   "codemirror_mode": {
    "name": "ipython",
    "version": 3
   },
   "file_extension": ".py",
   "mimetype": "text/x-python",
   "name": "python",
   "nbconvert_exporter": "python",
   "pygments_lexer": "ipython3",
   "version": "3.8.7-final"
  },
  "orig_nbformat": 2,
  "kernelspec": {
   "name": "python3",
   "display_name": "Python 3.8.7 64-bit ('env': venv)",
   "metadata": {
    "interpreter": {
     "hash": "7c8d79756ca17c58910fa5424452d004a4786d8270f2193ff07a87017b701dc4"
    }
   }
  }
 },
 "nbformat": 4,
 "nbformat_minor": 2,
 "cells": [
  {
   "cell_type": "code",
   "execution_count": 1,
   "metadata": {},
   "outputs": [],
   "source": [
    "from vega_datasets import data\n",
    "import altair as alt\n",
    "import pandas as pd\n",
    "import pickle\n"
   ]
  },
  {
   "cell_type": "code",
   "execution_count": 3,
   "metadata": {},
   "outputs": [],
   "source": [
    "test_pickle = pickle.load(open(\"minortest_pickle.p\", \"rb\"))\n",
    "streamlit_pickle = pickle.load(open(\"gsheet_pickle.p\", \"rb\"))\n",
    "day_sorted_list = streamlit_pickle[1]\n",
    "alpha = test_pickle"
   ]
  },
  {
   "cell_type": "code",
   "execution_count": 4,
   "metadata": {},
   "outputs": [
    {
     "output_type": "execute_result",
     "data": {
      "text/plain": [
       "[['D1', 'Transit', 52],\n",
       " ['D1', 'baseDep', 37],\n",
       " ['D1', 'bbaseArr', 35],\n",
       " ['D2', 'Transit', 39],\n",
       " ['D2', 'baseDep', 35],\n",
       " ['D2', 'bbaseArr', 33],\n",
       " ['D3', 'Transit', 47],\n",
       " ['D3', 'baseDep', 35],\n",
       " ['D3', 'bbaseArr', 34],\n",
       " ['D4', 'Transit', 52],\n",
       " ['D4', 'baseDep', 37],\n",
       " ['D4', 'bbaseArr', 35],\n",
       " ['D5', 'Transit', 53],\n",
       " ['D5', 'baseDep', 37],\n",
       " ['D5', 'bbaseArr', 35],\n",
       " ['D6', 'Transit', 74],\n",
       " ['D6', 'baseDep', 43],\n",
       " ['D6', 'bbaseArr', 42],\n",
       " ['D7', 'Transit', 75],\n",
       " ['D7', 'baseDep', 43],\n",
       " ['D7', 'bbaseArr', 42],\n",
       " ['D8', 'Transit', 73],\n",
       " ['D8', 'baseDep', 43],\n",
       " ['D8', 'bbaseArr', 42],\n",
       " ['D9', 'Transit', 58],\n",
       " ['D9', 'baseDep', 41],\n",
       " ['D9', 'bbaseArr', 41],\n",
       " ['D10', 'Transit', 73],\n",
       " ['D10', 'baseDep', 43],\n",
       " ['D10', 'bbaseArr', 42],\n",
       " ['D11', 'Transit', 74],\n",
       " ['D11', 'baseDep', 43],\n",
       " ['D11', 'bbaseArr', 42],\n",
       " ['D12', 'Transit', 74],\n",
       " ['D12', 'baseDep', 43],\n",
       " ['D12', 'bbaseArr', 42],\n",
       " ['D13', 'Transit', 74],\n",
       " ['D13', 'baseDep', 43],\n",
       " ['D13', 'bbaseArr', 42],\n",
       " ['D14', 'Transit', 75],\n",
       " ['D14', 'baseDep', 43],\n",
       " ['D14', 'bbaseArr', 42],\n",
       " ['D15', 'Transit', 73],\n",
       " ['D15', 'baseDep', 43],\n",
       " ['D15', 'bbaseArr', 42],\n",
       " ['D16', 'Transit', 58],\n",
       " ['D16', 'baseDep', 41],\n",
       " ['D16', 'bbaseArr', 41],\n",
       " ['D17', 'Transit', 74],\n",
       " ['D17', 'baseDep', 43],\n",
       " ['D17', 'bbaseArr', 42],\n",
       " ['D18', 'Transit', 74],\n",
       " ['D18', 'baseDep', 43],\n",
       " ['D18', 'bbaseArr', 42],\n",
       " ['D19', 'Transit', 75],\n",
       " ['D19', 'baseDep', 43],\n",
       " ['D19', 'bbaseArr', 42],\n",
       " ['D20', 'Transit', 74],\n",
       " ['D20', 'baseDep', 43],\n",
       " ['D20', 'bbaseArr', 42],\n",
       " ['D21', 'Transit', 76],\n",
       " ['D21', 'baseDep', 43],\n",
       " ['D21', 'bbaseArr', 42],\n",
       " ['D22', 'Transit', 74],\n",
       " ['D22', 'baseDep', 43],\n",
       " ['D22', 'bbaseArr', 42],\n",
       " ['D23', 'Transit', 58],\n",
       " ['D23', 'baseDep', 41],\n",
       " ['D23', 'bbaseArr', 41],\n",
       " ['D24', 'Transit', 74],\n",
       " ['D24', 'baseDep', 43],\n",
       " ['D24', 'bbaseArr', 42],\n",
       " ['D25', 'Transit', 74],\n",
       " ['D25', 'baseDep', 43],\n",
       " ['D25', 'bbaseArr', 42],\n",
       " ['D26', 'Transit', 75],\n",
       " ['D26', 'baseDep', 43],\n",
       " ['D26', 'bbaseArr', 42],\n",
       " ['D27', 'Transit', 74],\n",
       " ['D27', 'baseDep', 43],\n",
       " ['D27', 'bbaseArr', 42],\n",
       " ['D28', 'Transit', 76],\n",
       " ['D28', 'baseDep', 43],\n",
       " ['D28', 'bbaseArr', 42],\n",
       " ['D29', 'Transit', 0],\n",
       " ['D29', 'baseDep', 0],\n",
       " ['D29', 'bbaseArr', 0],\n",
       " ['D30', 'Transit', 0],\n",
       " ['D30', 'baseDep', 0],\n",
       " ['D30', 'bbaseArr', 0],\n",
       " ['D31', 'Transit', 0],\n",
       " ['D31', 'baseDep', 0],\n",
       " ['D31', 'bbaseArr', 0]]"
      ]
     },
     "metadata": {},
     "execution_count": 4
    }
   ],
   "source": [
    "my_data = []\n",
    "for india in day_sorted_list:\n",
    "    test_df = alpha.loc[(alpha[\"Dept Arp\"] == \"BLR\") &\n",
    "                            (alpha[\"depDay\"] == india) & (alpha[\"deptype\"] == \"Transit\") ]\n",
    "    \n",
    "    my_data.append([india,\"Transit\",test_df[\"depDay\"].count()])\n",
    "    test_df = alpha.loc[(alpha[\"Dept Arp\"] == \"BLR\") &\n",
    "                            (alpha[\"depDay\"] == india) & (alpha[\"deptype\"] == \"baseDep\") ]\n",
    "    \n",
    "    my_data.append([india,\"baseDep\",test_df[\"depDay\"].count()])\n",
    "    test_df = alpha.loc[(alpha[\"Dept Arp\"] == \"BLR\") &\n",
    "                            (alpha[\"depDay\"] == india) & (alpha[\"deptype\"] == \"baseArr\") ]\n",
    "    \n",
    "    my_data.append([india,\"bbaseArr\",test_df[\"depDay\"].count()])\n",
    "\n",
    "\n",
    "my_data"
   ]
  },
  {
   "cell_type": "code",
   "execution_count": 5,
   "metadata": {},
   "outputs": [
    {
     "output_type": "execute_result",
     "data": {
      "text/plain": [
       "   DepDay   DepType  Dep_Count\n",
       "0      D1   Transit         52\n",
       "1      D1   baseDep         37\n",
       "2      D1  bbaseArr         35\n",
       "3      D2   Transit         39\n",
       "4      D2   baseDep         35\n",
       "..    ...       ...        ...\n",
       "88    D30   baseDep          0\n",
       "89    D30  bbaseArr          0\n",
       "90    D31   Transit          0\n",
       "91    D31   baseDep          0\n",
       "92    D31  bbaseArr          0\n",
       "\n",
       "[93 rows x 3 columns]"
      ],
      "text/html": "<div>\n<style scoped>\n    .dataframe tbody tr th:only-of-type {\n        vertical-align: middle;\n    }\n\n    .dataframe tbody tr th {\n        vertical-align: top;\n    }\n\n    .dataframe thead th {\n        text-align: right;\n    }\n</style>\n<table border=\"1\" class=\"dataframe\">\n  <thead>\n    <tr style=\"text-align: right;\">\n      <th></th>\n      <th>DepDay</th>\n      <th>DepType</th>\n      <th>Dep_Count</th>\n    </tr>\n  </thead>\n  <tbody>\n    <tr>\n      <th>0</th>\n      <td>D1</td>\n      <td>Transit</td>\n      <td>52</td>\n    </tr>\n    <tr>\n      <th>1</th>\n      <td>D1</td>\n      <td>baseDep</td>\n      <td>37</td>\n    </tr>\n    <tr>\n      <th>2</th>\n      <td>D1</td>\n      <td>bbaseArr</td>\n      <td>35</td>\n    </tr>\n    <tr>\n      <th>3</th>\n      <td>D2</td>\n      <td>Transit</td>\n      <td>39</td>\n    </tr>\n    <tr>\n      <th>4</th>\n      <td>D2</td>\n      <td>baseDep</td>\n      <td>35</td>\n    </tr>\n    <tr>\n      <th>...</th>\n      <td>...</td>\n      <td>...</td>\n      <td>...</td>\n    </tr>\n    <tr>\n      <th>88</th>\n      <td>D30</td>\n      <td>baseDep</td>\n      <td>0</td>\n    </tr>\n    <tr>\n      <th>89</th>\n      <td>D30</td>\n      <td>bbaseArr</td>\n      <td>0</td>\n    </tr>\n    <tr>\n      <th>90</th>\n      <td>D31</td>\n      <td>Transit</td>\n      <td>0</td>\n    </tr>\n    <tr>\n      <th>91</th>\n      <td>D31</td>\n      <td>baseDep</td>\n      <td>0</td>\n    </tr>\n    <tr>\n      <th>92</th>\n      <td>D31</td>\n      <td>bbaseArr</td>\n      <td>0</td>\n    </tr>\n  </tbody>\n</table>\n<p>93 rows × 3 columns</p>\n</div>"
     },
     "metadata": {},
     "execution_count": 5
    }
   ],
   "source": [
    "\n",
    "df = pd.DataFrame(my_data, columns = ['DepDay', 'DepType' ,\"Dep_Count\"])\n",
    "df"
   ]
  },
  {
   "cell_type": "code",
   "execution_count": 10,
   "metadata": {},
   "outputs": [
    {
     "output_type": "execute_result",
     "data": {
      "text/html": "\n<div id=\"altair-viz-6b6357c706204e03bd89b7c0790b2a05\"></div>\n<script type=\"text/javascript\">\n  (function(spec, embedOpt){\n    let outputDiv = document.currentScript.previousElementSibling;\n    if (outputDiv.id !== \"altair-viz-6b6357c706204e03bd89b7c0790b2a05\") {\n      outputDiv = document.getElementById(\"altair-viz-6b6357c706204e03bd89b7c0790b2a05\");\n    }\n    const paths = {\n      \"vega\": \"https://cdn.jsdelivr.net/npm//vega@5?noext\",\n      \"vega-lib\": \"https://cdn.jsdelivr.net/npm//vega-lib?noext\",\n      \"vega-lite\": \"https://cdn.jsdelivr.net/npm//vega-lite@4.8.1?noext\",\n      \"vega-embed\": \"https://cdn.jsdelivr.net/npm//vega-embed@6?noext\",\n    };\n\n    function loadScript(lib) {\n      return new Promise(function(resolve, reject) {\n        var s = document.createElement('script');\n        s.src = paths[lib];\n        s.async = true;\n        s.onload = () => resolve(paths[lib]);\n        s.onerror = () => reject(`Error loading script: ${paths[lib]}`);\n        document.getElementsByTagName(\"head\")[0].appendChild(s);\n      });\n    }\n\n    function showError(err) {\n      outputDiv.innerHTML = `<div class=\"error\" style=\"color:red;\">${err}</div>`;\n      throw err;\n    }\n\n    function displayChart(vegaEmbed) {\n      vegaEmbed(outputDiv, spec, embedOpt)\n        .catch(err => showError(`Javascript Error: ${err.message}<br>This usually means there's a typo in your chart specification. See the javascript console for the full traceback.`));\n    }\n\n    if(typeof define === \"function\" && define.amd) {\n      requirejs.config({paths});\n      require([\"vega-embed\"], displayChart, err => showError(`Error loading script: ${err.message}`));\n    } else if (typeof vegaEmbed === \"function\") {\n      displayChart(vegaEmbed);\n    } else {\n      loadScript(\"vega\")\n        .then(() => loadScript(\"vega-lite\"))\n        .then(() => loadScript(\"vega-embed\"))\n        .catch(showError)\n        .then(() => displayChart(vegaEmbed));\n    }\n  })({\"config\": {\"view\": {\"continuousWidth\": 400, \"continuousHeight\": 300}}, \"data\": {\"name\": \"data-238e74d99f2e9b5d37b71fdf0625b73a\"}, \"mark\": \"line\", \"encoding\": {\"color\": {\"type\": \"nominal\", \"field\": \"DepType\"}, \"strokeDash\": {\"type\": \"nominal\", \"field\": \"DepType\"}, \"x\": {\"type\": \"nominal\", \"field\": \"DepDay\", \"sort\": [\"D1\", \"D2\", \"D3\", \"D4\", \"D5\", \"D6\", \"D7\", \"D8\", \"D9\", \"D10\", \"D11\", \"D12\", \"D13\", \"D14\", \"D15\", \"D16\", \"D17\", \"D18\", \"D19\", \"D20\", \"D21\", \"D22\", \"D23\", \"D24\", \"D25\", \"D26\", \"D27\", \"D28\", \"D29\", \"D30\", \"D31\"]}, \"y\": {\"type\": \"quantitative\", \"field\": \"Dep_Count\"}}, \"$schema\": \"https://vega.github.io/schema/vega-lite/v4.8.1.json\", \"datasets\": {\"data-238e74d99f2e9b5d37b71fdf0625b73a\": [{\"DepDay\": \"D1\", \"DepType\": \"Transit\", \"Dep_Count\": 52}, {\"DepDay\": \"D1\", \"DepType\": \"baseDep\", \"Dep_Count\": 37}, {\"DepDay\": \"D1\", \"DepType\": \"bbaseArr\", \"Dep_Count\": 35}, {\"DepDay\": \"D2\", \"DepType\": \"Transit\", \"Dep_Count\": 39}, {\"DepDay\": \"D2\", \"DepType\": \"baseDep\", \"Dep_Count\": 35}, {\"DepDay\": \"D2\", \"DepType\": \"bbaseArr\", \"Dep_Count\": 33}, {\"DepDay\": \"D3\", \"DepType\": \"Transit\", \"Dep_Count\": 47}, {\"DepDay\": \"D3\", \"DepType\": \"baseDep\", \"Dep_Count\": 35}, {\"DepDay\": \"D3\", \"DepType\": \"bbaseArr\", \"Dep_Count\": 34}, {\"DepDay\": \"D4\", \"DepType\": \"Transit\", \"Dep_Count\": 52}, {\"DepDay\": \"D4\", \"DepType\": \"baseDep\", \"Dep_Count\": 37}, {\"DepDay\": \"D4\", \"DepType\": \"bbaseArr\", \"Dep_Count\": 35}, {\"DepDay\": \"D5\", \"DepType\": \"Transit\", \"Dep_Count\": 53}, {\"DepDay\": \"D5\", \"DepType\": \"baseDep\", \"Dep_Count\": 37}, {\"DepDay\": \"D5\", \"DepType\": \"bbaseArr\", \"Dep_Count\": 35}, {\"DepDay\": \"D6\", \"DepType\": \"Transit\", \"Dep_Count\": 74}, {\"DepDay\": \"D6\", \"DepType\": \"baseDep\", \"Dep_Count\": 43}, {\"DepDay\": \"D6\", \"DepType\": \"bbaseArr\", \"Dep_Count\": 42}, {\"DepDay\": \"D7\", \"DepType\": \"Transit\", \"Dep_Count\": 75}, {\"DepDay\": \"D7\", \"DepType\": \"baseDep\", \"Dep_Count\": 43}, {\"DepDay\": \"D7\", \"DepType\": \"bbaseArr\", \"Dep_Count\": 42}, {\"DepDay\": \"D8\", \"DepType\": \"Transit\", \"Dep_Count\": 73}, {\"DepDay\": \"D8\", \"DepType\": \"baseDep\", \"Dep_Count\": 43}, {\"DepDay\": \"D8\", \"DepType\": \"bbaseArr\", \"Dep_Count\": 42}, {\"DepDay\": \"D9\", \"DepType\": \"Transit\", \"Dep_Count\": 58}, {\"DepDay\": \"D9\", \"DepType\": \"baseDep\", \"Dep_Count\": 41}, {\"DepDay\": \"D9\", \"DepType\": \"bbaseArr\", \"Dep_Count\": 41}, {\"DepDay\": \"D10\", \"DepType\": \"Transit\", \"Dep_Count\": 73}, {\"DepDay\": \"D10\", \"DepType\": \"baseDep\", \"Dep_Count\": 43}, {\"DepDay\": \"D10\", \"DepType\": \"bbaseArr\", \"Dep_Count\": 42}, {\"DepDay\": \"D11\", \"DepType\": \"Transit\", \"Dep_Count\": 74}, {\"DepDay\": \"D11\", \"DepType\": \"baseDep\", \"Dep_Count\": 43}, {\"DepDay\": \"D11\", \"DepType\": \"bbaseArr\", \"Dep_Count\": 42}, {\"DepDay\": \"D12\", \"DepType\": \"Transit\", \"Dep_Count\": 74}, {\"DepDay\": \"D12\", \"DepType\": \"baseDep\", \"Dep_Count\": 43}, {\"DepDay\": \"D12\", \"DepType\": \"bbaseArr\", \"Dep_Count\": 42}, {\"DepDay\": \"D13\", \"DepType\": \"Transit\", \"Dep_Count\": 74}, {\"DepDay\": \"D13\", \"DepType\": \"baseDep\", \"Dep_Count\": 43}, {\"DepDay\": \"D13\", \"DepType\": \"bbaseArr\", \"Dep_Count\": 42}, {\"DepDay\": \"D14\", \"DepType\": \"Transit\", \"Dep_Count\": 75}, {\"DepDay\": \"D14\", \"DepType\": \"baseDep\", \"Dep_Count\": 43}, {\"DepDay\": \"D14\", \"DepType\": \"bbaseArr\", \"Dep_Count\": 42}, {\"DepDay\": \"D15\", \"DepType\": \"Transit\", \"Dep_Count\": 73}, {\"DepDay\": \"D15\", \"DepType\": \"baseDep\", \"Dep_Count\": 43}, {\"DepDay\": \"D15\", \"DepType\": \"bbaseArr\", \"Dep_Count\": 42}, {\"DepDay\": \"D16\", \"DepType\": \"Transit\", \"Dep_Count\": 58}, {\"DepDay\": \"D16\", \"DepType\": \"baseDep\", \"Dep_Count\": 41}, {\"DepDay\": \"D16\", \"DepType\": \"bbaseArr\", \"Dep_Count\": 41}, {\"DepDay\": \"D17\", \"DepType\": \"Transit\", \"Dep_Count\": 74}, {\"DepDay\": \"D17\", \"DepType\": \"baseDep\", \"Dep_Count\": 43}, {\"DepDay\": \"D17\", \"DepType\": \"bbaseArr\", \"Dep_Count\": 42}, {\"DepDay\": \"D18\", \"DepType\": \"Transit\", \"Dep_Count\": 74}, {\"DepDay\": \"D18\", \"DepType\": \"baseDep\", \"Dep_Count\": 43}, {\"DepDay\": \"D18\", \"DepType\": \"bbaseArr\", \"Dep_Count\": 42}, {\"DepDay\": \"D19\", \"DepType\": \"Transit\", \"Dep_Count\": 75}, {\"DepDay\": \"D19\", \"DepType\": \"baseDep\", \"Dep_Count\": 43}, {\"DepDay\": \"D19\", \"DepType\": \"bbaseArr\", \"Dep_Count\": 42}, {\"DepDay\": \"D20\", \"DepType\": \"Transit\", \"Dep_Count\": 74}, {\"DepDay\": \"D20\", \"DepType\": \"baseDep\", \"Dep_Count\": 43}, {\"DepDay\": \"D20\", \"DepType\": \"bbaseArr\", \"Dep_Count\": 42}, {\"DepDay\": \"D21\", \"DepType\": \"Transit\", \"Dep_Count\": 76}, {\"DepDay\": \"D21\", \"DepType\": \"baseDep\", \"Dep_Count\": 43}, {\"DepDay\": \"D21\", \"DepType\": \"bbaseArr\", \"Dep_Count\": 42}, {\"DepDay\": \"D22\", \"DepType\": \"Transit\", \"Dep_Count\": 74}, {\"DepDay\": \"D22\", \"DepType\": \"baseDep\", \"Dep_Count\": 43}, {\"DepDay\": \"D22\", \"DepType\": \"bbaseArr\", \"Dep_Count\": 42}, {\"DepDay\": \"D23\", \"DepType\": \"Transit\", \"Dep_Count\": 58}, {\"DepDay\": \"D23\", \"DepType\": \"baseDep\", \"Dep_Count\": 41}, {\"DepDay\": \"D23\", \"DepType\": \"bbaseArr\", \"Dep_Count\": 41}, {\"DepDay\": \"D24\", \"DepType\": \"Transit\", \"Dep_Count\": 74}, {\"DepDay\": \"D24\", \"DepType\": \"baseDep\", \"Dep_Count\": 43}, {\"DepDay\": \"D24\", \"DepType\": \"bbaseArr\", \"Dep_Count\": 42}, {\"DepDay\": \"D25\", \"DepType\": \"Transit\", \"Dep_Count\": 74}, {\"DepDay\": \"D25\", \"DepType\": \"baseDep\", \"Dep_Count\": 43}, {\"DepDay\": \"D25\", \"DepType\": \"bbaseArr\", \"Dep_Count\": 42}, {\"DepDay\": \"D26\", \"DepType\": \"Transit\", \"Dep_Count\": 75}, {\"DepDay\": \"D26\", \"DepType\": \"baseDep\", \"Dep_Count\": 43}, {\"DepDay\": \"D26\", \"DepType\": \"bbaseArr\", \"Dep_Count\": 42}, {\"DepDay\": \"D27\", \"DepType\": \"Transit\", \"Dep_Count\": 74}, {\"DepDay\": \"D27\", \"DepType\": \"baseDep\", \"Dep_Count\": 43}, {\"DepDay\": \"D27\", \"DepType\": \"bbaseArr\", \"Dep_Count\": 42}, {\"DepDay\": \"D28\", \"DepType\": \"Transit\", \"Dep_Count\": 76}, {\"DepDay\": \"D28\", \"DepType\": \"baseDep\", \"Dep_Count\": 43}, {\"DepDay\": \"D28\", \"DepType\": \"bbaseArr\", \"Dep_Count\": 42}, {\"DepDay\": \"D29\", \"DepType\": \"Transit\", \"Dep_Count\": 0}, {\"DepDay\": \"D29\", \"DepType\": \"baseDep\", \"Dep_Count\": 0}, {\"DepDay\": \"D29\", \"DepType\": \"bbaseArr\", \"Dep_Count\": 0}, {\"DepDay\": \"D30\", \"DepType\": \"Transit\", \"Dep_Count\": 0}, {\"DepDay\": \"D30\", \"DepType\": \"baseDep\", \"Dep_Count\": 0}, {\"DepDay\": \"D30\", \"DepType\": \"bbaseArr\", \"Dep_Count\": 0}, {\"DepDay\": \"D31\", \"DepType\": \"Transit\", \"Dep_Count\": 0}, {\"DepDay\": \"D31\", \"DepType\": \"baseDep\", \"Dep_Count\": 0}, {\"DepDay\": \"D31\", \"DepType\": \"bbaseArr\", \"Dep_Count\": 0}]}}, {\"mode\": \"vega-lite\"});\n</script>",
      "text/plain": [
       "alt.Chart(...)"
      ]
     },
     "metadata": {},
     "execution_count": 10
    }
   ],
   "source": [
    "alt.Chart(df).mark_line().encode(\n",
    "    x=alt.X('DepDay', sort=day_sorted_list,\n",
    "            ),\n",
    "    y='Dep_Count',\n",
    "    color='DepType',\n",
    "    strokeDash='DepType',\n",
    ")"
   ]
  },
  {
   "cell_type": "code",
   "execution_count": null,
   "metadata": {},
   "outputs": [],
   "source": []
  }
 ]
}