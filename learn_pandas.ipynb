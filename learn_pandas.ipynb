{
 "cells": [
  {
   "source": [
    "- [ ] sheet 2 intl departure needs to be taken into account \n",
    "- [ ] eng arrival and base departure needs to be finalised\n",
    "- [ ] move entire code into seperate repositiory \n",
    "- [ ] understand stremlit "
   ],
   "cell_type": "markdown",
   "metadata": {}
  },
  {
   "cell_type": "code",
   "execution_count": 1,
   "metadata": {},
   "outputs": [],
   "source": [
    "import matplotlib.pyplot as plt\n",
    "import numpy as np\n",
    "import pandas as pd\n",
    "import pickle\n",
    "import gspread\n",
    "from oauth2client.service_account import ServiceAccountCredentials\n",
    "import datetime\n",
    "import pickle\n",
    "import re\n",
    "\n",
    "alpha = pickle.load(open(\"gsheet_pickle.p\", \"rb\"))\n",
    "# dropping columns for final assymbly \n",
    "alpha =alpha.drop(['moddeptime', 'mod_arr_time','Freq','Modeffdate', 'moddisdate', 'actual_days'], axis = 1)\n",
    "alpha = pd.melt(alpha, id_vars=['Dept Arp', 'engg_arr', 'engg_dep', 'deptype', 'Arvl Arp', 'Flt Desg',\n",
    "       'Text Comment', 'Block Time'], value_vars=['D1', 'A1', 'D2', 'A2', 'D3', 'A3', 'D4',\n",
    "       'A4', 'D5', 'A5', 'D6', 'A6', 'D7', 'A7', 'D8', 'A8', 'D9', 'A9', 'D10',\n",
    "       'A10', 'D11', 'A11', 'D12', 'A12', 'D13', 'A13', 'D14', 'A14', 'D15',\n",
    "       'A15', 'D16', 'A16', 'D17', 'A17', 'D18', 'A18', 'D19', 'A19', 'D20',\n",
    "       'A20', 'D21', 'A21', 'D22', 'A22', 'D23', 'A23', 'D24', 'A24', 'D25',\n",
    "       'A25', 'D26', 'A26', 'D27', 'A27', 'D28', 'A28', 'D29', 'A29', 'D30',\n",
    "       'A30', 'D31', 'A31'])\n",
    "\n",
    "\n",
    "\n"
   ]
  },
  {
   "cell_type": "code",
   "execution_count": 2,
   "metadata": {},
   "outputs": [
    {
     "output_type": "execute_result",
     "data": {
      "text/plain": [
       "4"
      ]
     },
     "metadata": {},
     "execution_count": 2
    }
   ],
   "source": [
    "test_df =alpha.loc[(alpha[\"Dept Arp\"]==\"IXU\") & (alpha[\"variable\"]==\"D23\")]\n",
    "# removing false entries and sorting as false entries cannot be sorted \n",
    "\n",
    "\n",
    "test_df = test_df[test_df.value != False].sort_values(by=\"value\")\n",
    "\n",
    "myname = test_df[\"value\"].count()\n",
    "myname\n"
   ]
  },
  {
   "cell_type": "code",
   "execution_count": 6,
   "metadata": {},
   "outputs": [
    {
     "output_type": "stream",
     "name": "stdout",
     "text": [
      "['D1', 'D2', 'D3', 'D4', 'D5', 'D6', 'D7', 'D8', 'D9', 'D10', 'D11', 'D12', 'D13', 'D14', 'D15', 'D16', 'D17', 'D18', 'D19', 'D20', 'D21', 'D22', 'D23', 'D24', 'D25', 'D26', 'D27', 'D28', 'D29', 'D30', 'D31']\n"
     ]
    },
    {
     "output_type": "execute_result",
     "data": {
      "text/plain": [
       "[89,\n",
       " 75,\n",
       " 82,\n",
       " 90,\n",
       " 90,\n",
       " 117,\n",
       " 118,\n",
       " 116,\n",
       " 99,\n",
       " 116,\n",
       " 117,\n",
       " 117,\n",
       " 117,\n",
       " 118,\n",
       " 116,\n",
       " 99,\n",
       " 117,\n",
       " 117,\n",
       " 118,\n",
       " 117,\n",
       " 119,\n",
       " 117,\n",
       " 99,\n",
       " 117,\n",
       " 117,\n",
       " 118,\n",
       " 117,\n",
       " 119,\n",
       " 0,\n",
       " 0,\n",
       " 0]"
      ]
     },
     "metadata": {},
     "execution_count": 6
    }
   ],
   "source": [
    "my_list_ray = ['D1', 'A1', 'D2', 'A2', 'D3', 'A3', 'D4',\n",
    "       'A4', 'D5', 'A5', 'D6', 'A6', 'D7', 'A7', 'D8', 'A8', 'D9', 'A9', 'D10',\n",
    "       'A10', 'D11', 'A11', 'D12', 'A12', 'D13', 'A13', 'D14', 'A14', 'D15',\n",
    "       'A15', 'D16', 'A16', 'D17', 'A17', 'D18', 'A18', 'D19', 'A19', 'D20',\n",
    "       'A20', 'D21', 'A21', 'D22', 'A22', 'D23', 'A23', 'D24', 'A24', 'D25',\n",
    "       'A25', 'D26', 'A26', 'D27', 'A27', 'D28', 'A28', 'D29', 'A29', 'D30',\n",
    "       'A30', 'D31', 'A31']\n",
    "filter_my_list_ray= list(filter(lambda x: \"A\" not in x ,my_list_ray))\n",
    "print(list(filter_my_list_ray))\n",
    "dep_count_list=[]\n",
    "\n",
    "\n",
    "\n",
    "for india in filter_my_list_ray:\n",
    "    test_df =alpha.loc[(alpha[\"Dept Arp\"]==\"BLR\") & (alpha[\"variable\"]==india)]\n",
    "    test_df = test_df[test_df.value != False].sort_values(by=\"value\")\n",
    "    dep_count_list.append(test_df[\"value\"].count())\n",
    "\n",
    "\n",
    "\n",
    "\n",
    "dep_count_list\n"
   ]
  },
  {
   "cell_type": "code",
   "execution_count": 4,
   "metadata": {},
   "outputs": [
    {
     "output_type": "execute_result",
     "data": {
      "text/plain": [
       "[]"
      ]
     },
     "metadata": {},
     "execution_count": 4
    }
   ],
   "source": [
    "dep_count_list\n"
   ]
  },
  {
   "cell_type": "code",
   "execution_count": null,
   "metadata": {},
   "outputs": [],
   "source": []
  }
 ],
 "metadata": {
  "kernelspec": {
   "display_name": "Python 3",
   "language": "python",
   "name": "python3"
  },
  "language_info": {
   "codemirror_mode": {
    "name": "ipython",
    "version": 3
   },
   "file_extension": ".py",
   "mimetype": "text/x-python",
   "name": "python",
   "nbconvert_exporter": "python",
   "pygments_lexer": "ipython3",
   "version": "3.8.7-final"
  }
 },
 "nbformat": 4,
 "nbformat_minor": 2
}