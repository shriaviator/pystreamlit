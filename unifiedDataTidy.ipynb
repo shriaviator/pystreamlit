{
 "cells": [
  {
   "cell_type": "code",
   "execution_count": 1,
   "metadata": {
    "execution": {
     "iopub.execute_input": "2021-04-22T17:10:22.313134Z",
     "iopub.status.busy": "2021-04-22T17:10:22.313134Z",
     "iopub.status.idle": "2021-04-22T17:10:22.328758Z",
     "shell.execute_reply": "2021-04-22T17:10:22.328758Z",
     "shell.execute_reply.started": "2021-04-22T17:10:22.313134Z"
    }
   },
   "outputs": [],
   "source": [
    "# %config Completer.use_jedi = False"
   ]
  },
  {
   "cell_type": "markdown",
   "metadata": {},
   "source": [
    "- [x] why is the count value when basic sorting is done different from gsheets wala value \n",
    "- the reasoning is while pivoting melting and lots of rows were lost \n",
    "- [ ] TODO-Add error testing to make sure the columns are in the exact same order\n",
    "- [x] The above row is from the first method of trying there is a variance in the number of rows a huge variance\n",
    "- the reasoning is while pivoting melting and lots of rows were lost \n",
    "- [ ] TODO-Based on Freq eff date and disc date make a counter as unit tests to check data is correct\n",
    "- [ ] TODO-the progrmamming needs to be converted from a procedural to functional programmming paradigm\n",
    "-[ ] TODO - performace hit on adding columns invidually in sliced dataframe versus to total dataframe\n",
    "- [ ] text comment a134phase 6e2015 01 feb is a edge case for single flight per day per rotation \n",
    "- [ ] TODO : each set of textcomment and day needs to tested for testcomment set data is compliant \n",
    "- df2._is_view\n",
    "- df._is_copy\n",
    "-[ ] assigning the deptype column the pandas way rather the numpy way \n"
   ]
  },
  {
   "cell_type": "code",
   "execution_count": 2,
   "metadata": {
    "execution": {
     "iopub.execute_input": "2021-05-01T08:20:24.651637Z",
     "iopub.status.busy": "2021-05-01T08:20:24.651637Z",
     "iopub.status.idle": "2021-05-01T08:20:29.422154Z",
     "shell.execute_reply": "2021-05-01T08:20:29.420154Z",
     "shell.execute_reply.started": "2021-05-01T08:20:24.651637Z"
    },
    "tags": []
   },
   "outputs": [
    {
     "name": "stdout",
     "output_type": "stream",
     "text": [
      "Wall time: 4.75 s\n"
     ]
    }
   ],
   "source": [
    "%%time\n",
    "import datetime\n",
    "import pickle\n",
    "import re\n",
    "import gspread\n",
    "import matplotlib.pyplot as plt\n",
    "import numpy as np\n",
    "import pandas as pd\n",
    "\n",
    "\n",
    "\n",
    "gc = gspread.service_account(filename='./crudg.json')\n",
    "sheet = gc.open(\"flightsched\").get_worksheet(3)\n",
    "dataframe = pd.DataFrame(sheet.get_all_records())\n"
   ]
  },
  {
   "cell_type": "code",
   "execution_count": 3,
   "metadata": {
    "execution": {
     "iopub.execute_input": "2021-05-01T08:20:34.478775Z",
     "iopub.status.busy": "2021-05-01T08:20:34.478775Z",
     "iopub.status.idle": "2021-05-01T08:20:34.489771Z",
     "shell.execute_reply": "2021-05-01T08:20:34.488771Z",
     "shell.execute_reply.started": "2021-05-01T08:20:34.478775Z"
    },
    "tags": []
   },
   "outputs": [],
   "source": [
    "# Set ipython's max row display\n",
    "pd.set_option('display.max_row', 50)\n",
    "\n",
    "# Set iPython's max column width to 50\n",
    "pd.set_option('display.max_columns', 50)"
   ]
  },
  {
   "cell_type": "code",
   "execution_count": 4,
   "metadata": {
    "execution": {
     "iopub.execute_input": "2021-05-01T08:21:01.942194Z",
     "iopub.status.busy": "2021-05-01T08:21:01.941193Z",
     "iopub.status.idle": "2021-05-01T08:21:02.339489Z",
     "shell.execute_reply": "2021-05-01T08:21:02.336493Z",
     "shell.execute_reply.started": "2021-05-01T08:21:01.942194Z"
    },
    "tags": []
   },
   "outputs": [
    {
     "data": {
      "text/html": [
       "<div>\n",
       "<style scoped>\n",
       "    .dataframe tbody tr th:only-of-type {\n",
       "        vertical-align: middle;\n",
       "    }\n",
       "\n",
       "    .dataframe tbody tr th {\n",
       "        vertical-align: top;\n",
       "    }\n",
       "\n",
       "    .dataframe thead th {\n",
       "        text-align: right;\n",
       "    }\n",
       "</style>\n",
       "<table border=\"1\" class=\"dataframe\">\n",
       "  <thead>\n",
       "    <tr style=\"text-align: right;\">\n",
       "      <th></th>\n",
       "      <th>A/C No</th>\n",
       "      <th>Flt Desg</th>\n",
       "      <th>Freq</th>\n",
       "      <th>Dept Arp</th>\n",
       "      <th>Dept Time</th>\n",
       "      <th>Arvl Arp</th>\n",
       "      <th>Arrv Time</th>\n",
       "      <th>Equip</th>\n",
       "      <th>Block Time</th>\n",
       "      <th>Eff Date</th>\n",
       "      <th>Dis Date</th>\n",
       "    </tr>\n",
       "  </thead>\n",
       "  <tbody>\n",
       "    <tr>\n",
       "      <th>0</th>\n",
       "      <td>1</td>\n",
       "      <td>149</td>\n",
       "      <td>6</td>\n",
       "      <td>HYD</td>\n",
       "      <td>10:10</td>\n",
       "      <td>IXB</td>\n",
       "      <td>12:30</td>\n",
       "      <td>321</td>\n",
       "      <td>2:20</td>\n",
       "      <td>1-May-21</td>\n",
       "      <td>1-May-21</td>\n",
       "    </tr>\n",
       "    <tr>\n",
       "      <th>1</th>\n",
       "      <td>1</td>\n",
       "      <td>619</td>\n",
       "      <td>6</td>\n",
       "      <td>IXB</td>\n",
       "      <td>13:05</td>\n",
       "      <td>HYD</td>\n",
       "      <td>15:20</td>\n",
       "      <td>321</td>\n",
       "      <td>2:15</td>\n",
       "      <td>1-May-21</td>\n",
       "      <td>1-May-21</td>\n",
       "    </tr>\n",
       "    <tr>\n",
       "      <th>2</th>\n",
       "      <td>1</td>\n",
       "      <td>6009</td>\n",
       "      <td>6</td>\n",
       "      <td>HYD</td>\n",
       "      <td>16:15</td>\n",
       "      <td>GOI</td>\n",
       "      <td>17:35</td>\n",
       "      <td>321</td>\n",
       "      <td>1:20</td>\n",
       "      <td>1-May-21</td>\n",
       "      <td>1-May-21</td>\n",
       "    </tr>\n",
       "    <tr>\n",
       "      <th>3</th>\n",
       "      <td>1</td>\n",
       "      <td>6645</td>\n",
       "      <td>6</td>\n",
       "      <td>GOI</td>\n",
       "      <td>18:05</td>\n",
       "      <td>HYD</td>\n",
       "      <td>19:25</td>\n",
       "      <td>321</td>\n",
       "      <td>1:20</td>\n",
       "      <td>1-May-21</td>\n",
       "      <td>1-May-21</td>\n",
       "    </tr>\n",
       "    <tr>\n",
       "      <th>4</th>\n",
       "      <td>1</td>\n",
       "      <td>149</td>\n",
       "      <td>7</td>\n",
       "      <td>HYD</td>\n",
       "      <td>10:10</td>\n",
       "      <td>IXB</td>\n",
       "      <td>12:30</td>\n",
       "      <td>321</td>\n",
       "      <td>2:20</td>\n",
       "      <td>2-May-21</td>\n",
       "      <td>2-May-21</td>\n",
       "    </tr>\n",
       "  </tbody>\n",
       "</table>\n",
       "</div>"
      ],
      "text/plain": [
       "   A/C No  Flt Desg  Freq Dept Arp Dept Time Arvl Arp Arrv Time Equip  \\\n",
       "0       1       149     6      HYD     10:10      IXB     12:30   321   \n",
       "1       1       619     6      IXB     13:05      HYD     15:20   321   \n",
       "2       1      6009     6      HYD     16:15      GOI     17:35   321   \n",
       "3       1      6645     6      GOI     18:05      HYD     19:25   321   \n",
       "4       1       149     7      HYD     10:10      IXB     12:30   321   \n",
       "\n",
       "  Block Time  Eff Date  Dis Date  \n",
       "0       2:20  1-May-21  1-May-21  \n",
       "1       2:15  1-May-21  1-May-21  \n",
       "2       1:20  1-May-21  1-May-21  \n",
       "3       1:20  1-May-21  1-May-21  \n",
       "4       2:20  2-May-21  2-May-21  "
      ]
     },
     "execution_count": 4,
     "metadata": {},
     "output_type": "execute_result"
    }
   ],
   "source": [
    "dataframe.head()"
   ]
  },
  {
   "cell_type": "code",
   "execution_count": 4,
   "metadata": {
    "execution": {
     "iopub.execute_input": "2021-04-22T17:10:46.999801Z",
     "iopub.status.busy": "2021-04-22T17:10:46.984164Z",
     "iopub.status.idle": "2021-04-22T17:10:47.285101Z",
     "shell.execute_reply": "2021-04-22T17:10:47.285101Z",
     "shell.execute_reply.started": "2021-04-22T17:10:46.999801Z"
    }
   },
   "outputs": [
    {
     "name": "stdout",
     "output_type": "stream",
     "text": [
      "Wall time: 0 ns\n"
     ]
    }
   ],
   "source": [
    "%%time\n",
    "def formatTidyData(paramDataframe):\n",
    "    '''\n",
    "    input: dataframe \n",
    "    \n",
    "    transform: take each row of input dataframe / make each row of output for each valid date between eff and             discontinue date \n",
    "\n",
    "    output dataframe \n",
    "    '''\n",
    "    Row_list = paramDataframe.values.tolist()\n",
    "    masterList = []\n",
    "    for xray in Row_list:\n",
    "        startDate = xray[9] + \"-\" + xray[4]\n",
    "        startDate = pd.to_datetime(startDate,\n",
    "                                   format='%d-%m-%y-%h:%M',\n",
    "                                   infer_datetime_format=True,\n",
    "                                   utc=False)\n",
    "        endDate = xray[10] + \"-\" + xray[4]\n",
    "        endDate = pd.to_datetime(endDate,\n",
    "                                 format='%d-%m-%y-%h:%M',\n",
    "                                 infer_datetime_format=True,\n",
    "                                 utc=False)\n",
    "        #TODO : refactor startDate and Date can be directly given as strings\n",
    "        requiredRange = pd.date_range(startDate, endDate, freq='D').tolist()\n",
    "        daysList = str(xray[2]).replace(\".\", \"\")\n",
    "\n",
    "        for alpha in requiredRange:\n",
    "            # weekday starts at 0 hence 1 is added\n",
    "            if str(alpha.weekday() + 1) in daysList:\n",
    "                # TODO : refactor use .replace method to set required minutes and hours\n",
    "                depDate = str(alpha.date()) + \"-\" + xray[4]\n",
    "                depDate = pd.to_datetime(depDate,\n",
    "                                         format='%d-%m-%y-%h:%M',\n",
    "                                         infer_datetime_format=True,\n",
    "                                         utc=False)\n",
    "                arrDate = str(alpha.date()) + \"-\" + xray[6]\n",
    "                arrDate = pd.to_datetime(arrDate,\n",
    "                                         format='%d-%m-%y-%h:%M',\n",
    "                                         infer_datetime_format=True,\n",
    "                                         utc=False)\n",
    "                masterList.append([\n",
    "                    xray[0], xray[1], xray[3], xray[5], xray[7], xray[8],\n",
    "                    xray[11], depDate, arrDate\n",
    "                ])\n",
    "    return pd.DataFrame(masterList,\n",
    "                        columns=[\n",
    "                            \"Text_Comment\", \"Flt_Desg\", \"Dept_Arp\", \"Arvl_Arp\",\n",
    "                            \"Subfleet\", \"Block_Time\", \"Service_Type\",\n",
    "                            \"aocs_dep\", \"aocs_arr\"\n",
    "                        ])\n",
    "\n",
    "\n",
    "#Wall time: 34.8 s\n",
    "# 44.8 s ± 4.3 s per loop (mean ± std. dev. of 7 runs, 1 loop each) with time it\n",
    "# 41.6 s ± 6.39 s per loop (mean ± std. dev. of 7 runs, 1 loop each)"
   ]
  },
  {
   "cell_type": "code",
   "execution_count": 5,
   "metadata": {
    "execution": {
     "iopub.execute_input": "2021-04-22T17:10:47.285101Z",
     "iopub.status.busy": "2021-04-22T17:10:47.285101Z",
     "iopub.status.idle": "2021-04-22T17:11:25.198201Z",
     "shell.execute_reply": "2021-04-22T17:11:25.198201Z",
     "shell.execute_reply.started": "2021-04-22T17:10:47.285101Z"
    },
    "tags": []
   },
   "outputs": [
    {
     "name": "stdout",
     "output_type": "stream",
     "text": [
      "Wall time: 37.7 s\n"
     ]
    }
   ],
   "source": [
    "%%time\n",
    "testpd = formatTidyData(dataframe)"
   ]
  },
  {
   "cell_type": "markdown",
   "metadata": {},
   "source": [
    "- a manual step of doing it one month at a time for performance reasons "
   ]
  },
  {
   "cell_type": "code",
   "execution_count": 6,
   "metadata": {
    "execution": {
     "iopub.execute_input": "2021-04-22T17:11:25.198201Z",
     "iopub.status.busy": "2021-04-22T17:11:25.198201Z",
     "iopub.status.idle": "2021-04-22T17:11:25.552488Z",
     "shell.execute_reply": "2021-04-22T17:11:25.552488Z",
     "shell.execute_reply.started": "2021-04-22T17:11:25.198201Z"
    },
    "tags": []
   },
   "outputs": [],
   "source": [
    "testpd = testpd.loc[testpd[\"aocs_dep\"].dt.month == 4]\n",
    "testpd = testpd.copy()"
   ]
  },
  {
   "cell_type": "code",
   "execution_count": 7,
   "metadata": {
    "execution": {
     "iopub.execute_input": "2021-04-22T17:11:25.552488Z",
     "iopub.status.busy": "2021-04-22T17:11:25.552488Z",
     "iopub.status.idle": "2021-04-22T17:11:25.599370Z",
     "shell.execute_reply": "2021-04-22T17:11:25.599370Z",
     "shell.execute_reply.started": "2021-04-22T17:11:25.552488Z"
    }
   },
   "outputs": [],
   "source": [
    "# testpd = testpd.head(300)"
   ]
  },
  {
   "cell_type": "code",
   "execution_count": 8,
   "metadata": {
    "execution": {
     "iopub.execute_input": "2021-04-22T17:11:25.599370Z",
     "iopub.status.busy": "2021-04-22T17:11:25.599370Z",
     "iopub.status.idle": "2021-04-22T17:11:26.301446Z",
     "shell.execute_reply": "2021-04-22T17:11:26.301446Z",
     "shell.execute_reply.started": "2021-04-22T17:11:25.599370Z"
    },
    "tags": []
   },
   "outputs": [
    {
     "name": "stdout",
     "output_type": "stream",
     "text": [
      "Wall time: 533 ms\n"
     ]
    }
   ],
   "source": [
    "%%time\n",
    "# list(array of all days in our data )\n",
    "uniqueDates = np.sort(testpd[\"aocs_dep\"].dt.date.unique())\n",
    "#list of all unique airports\n",
    "aiportList = np.sort(testpd[\"Dept_Arp\"].unique())\n",
    "\n",
    "# list of Comment List which are unique\n",
    "textCommentList = testpd[\"Text_Comment\"].unique()\n",
    "#list of all unique flightNumbers\n",
    "flightNumberUniqueList = np.sort(testpd[\"Flt_Desg\"].unique())\n",
    "\n",
    "# adding column \"engg_arr\" and \"deptype\"\n",
    "testpd[\"engg_arr\"] = np.nan\n",
    "testpd[\"engg_dep\"] = np.nan\n",
    "testpd[\"deptype\"] = np.nan\n",
    "testpd[\"cal_date\"] = testpd[\"aocs_dep\"].dt.day\n",
    "\n",
    "# making block time as time delta in python\n",
    "testpd[\"Block_Time\"] = testpd[\"Block_Time\"].astype(\"str\")\n",
    "splitString = testpd[\"Block_Time\"].str.split(':', expand=True).astype(int)\n",
    "testpd[\"Block_Time\"] = pd.to_timedelta(\n",
    "    splitString[0], unit='h') + pd.to_timedelta(splitString[1], unit='m')\n",
    "\n",
    "# Adding datatypes of columns for performance improbement\n",
    "testpd = testpd.astype({\n",
    "    \"deptype\": \"string\",\n",
    "    \"engg_arr\": \"datetime64[ns]\",\n",
    "    \"engg_dep\": \"datetime64[ns]\",\n",
    "    \"Flt_Desg\": \"string\",\n",
    "    \"Block_Time\": \"timedelta64[ns]\"\n",
    "})\n",
    "\n",
    "# reorder columns\n",
    "testpd = testpd[[\n",
    "    'Dept_Arp', 'engg_arr', 'Flt_Desg', 'Text_Comment', 'Subfleet', 'Arvl_Arp',\n",
    "    'aocs_dep', 'engg_dep', 'aocs_arr', 'deptype', 'Block_Time', 'Service_Type',\n",
    "    'cal_date'\n",
    "]]\n",
    "\n",
    "# Index(['Dept Arp', 'engg_arr', 'Flt Desg', 'A/C No', 'Equip', 'Arvl Arp',\n",
    "#        'engg_dep', 'aocs_arr', 'deptype', 'Block Time', 'cal_date'],\n",
    "#       dtype='object')\n",
    "# testpd.info()\n",
    "# paramdf = paramdf[['Dept_Arp', 'engg_arr', 'Flt_Desg', 'Text_Comment', 'Subfleet','Arvl_Arp',  'aocs_dep','engg_dep', 'aocs_arr','deptype',  'Block_Time','Service_Type']]"
   ]
  },
  {
   "cell_type": "code",
   "execution_count": 9,
   "metadata": {
    "execution": {
     "iopub.execute_input": "2021-04-22T17:11:26.301446Z",
     "iopub.status.busy": "2021-04-22T17:11:26.301446Z",
     "iopub.status.idle": "2021-04-22T17:11:26.339249Z",
     "shell.execute_reply": "2021-04-22T17:11:26.339249Z",
     "shell.execute_reply.started": "2021-04-22T17:11:26.301446Z"
    },
    "tags": []
   },
   "outputs": [],
   "source": [
    "# %%cython --annotate\n",
    "# import numpy as np\n",
    "\n",
    "\n",
    "def addlastRowArrDep(paramdf):\n",
    "    # temporary make columns consistent\n",
    "    #  this is costing a lot on performance\n",
    "    #  paramdf = paramdf[['Dept_Arp', 'engg_arr', 'Flt_Desg', 'Text_Comment', 'Subfleet','Arvl_Arp',  'aocs_dep','engg_dep', 'aocs_arr','deptype',  'Block_Time','Service_Type']]\n",
    "    # edge case of only one departure for one text comment\n",
    "    converted = paramdf.to_numpy()\n",
    "    emptyarray = np.full((1, 13), np.nan)\n",
    "    if (converted.shape[0] == 1):\n",
    "        temparray = converted\n",
    "        #  temparray[0][9]= \"baseDep\"\n",
    "        temparray[0][7] = temparray[0][6]\n",
    "        return temparray\n",
    "    else:\n",
    "        temparray = np.append(converted, emptyarray, axis=0)\n",
    "        lentemparray = temparray.shape[0]\n",
    "        temparray[lentemparray - 1][0:2] = temparray[lentemparray - 2][5:7]\n",
    "        temparray[lentemparray - 1][2:5] = temparray[lentemparray - 2][2:5]\n",
    "        for xray in range(0, lentemparray):\n",
    "            if xray == 0:\n",
    "                pass\n",
    "                # TODO : this is not required and can be elimnated\n",
    "                # onedf.at[xray,\"deptype\"] = \"baseDep\"\n",
    "                # temparray[xray][9]= \"baseDep\"\n",
    "                # onedf.at[xray,\"engg_dep\"] = onedf.at[xray,\"aocs_dep\"]\n",
    "                # TODO : this is not required and can be elimnated\n",
    "                # temparray[xray][7] = temparray[xray][6]\n",
    "            elif xray == lentemparray - 1:\n",
    "                pass\n",
    "                # onedf.at[xray,\"deptype\"] = \"baseArr\"\n",
    "                # temparray[xray][9]= \"baseArr\"\n",
    "            else:\n",
    "                # onedf.at[xray,\"engg_arr\"] = onedf.at[(xray-1),\"aocs_arr\"]\n",
    "                temparray[xray][1] = temparray[xray - 1][8]\n",
    "                # onedf.at[xray,\"engg_dep\"] = onedf.at[(xray),\"aocs_dep\"]\n",
    "                # TODO : this is not required and can be elimnated\n",
    "                # temparray[xray][7] = temparray[xray][6]\n",
    "                # onedf.at[xray,\"deptype\"] = \"Transit\"\n",
    "                # temparray[xray][9]= \"Transit\"\n",
    "        return temparray"
   ]
  },
  {
   "cell_type": "code",
   "execution_count": 10,
   "metadata": {
    "execution": {
     "iopub.execute_input": "2021-04-22T17:11:26.354865Z",
     "iopub.status.busy": "2021-04-22T17:11:26.354865Z",
     "iopub.status.idle": "2021-04-22T17:11:26.539837Z",
     "shell.execute_reply": "2021-04-22T17:11:26.539837Z",
     "shell.execute_reply.started": "2021-04-22T17:11:26.354865Z"
    }
   },
   "outputs": [],
   "source": [
    "# %%time\n",
    "# y_df =testpd.loc[(testpd[\"Text_Comment\"]== textCommentList[0] ) & (testpd[\"aocs_dep\"].dt.date==uniqueDates[3])]\n",
    "# y_df= y_df.copy()\n",
    "# y_df =  make_last_row(y_df)\n",
    "# y_df = AddBaseArrDep(y_df)\n",
    "# y_df = y_df[['Dept_Arp', 'engg_arr', 'Flt_Desg', 'Text_Comment', 'Subfleet','Arvl_Arp',  'aocs_dep','engg_dep', 'aocs_arr','deptype',  'Block_Time','Service_Type']]\n",
    "# y_df"
   ]
  },
  {
   "cell_type": "code",
   "execution_count": 11,
   "metadata": {
    "execution": {
     "iopub.execute_input": "2021-04-22T17:11:26.539837Z",
     "iopub.status.busy": "2021-04-22T17:11:26.539837Z",
     "iopub.status.idle": "2021-04-22T17:11:26.718258Z",
     "shell.execute_reply": "2021-04-22T17:11:26.718258Z",
     "shell.execute_reply.started": "2021-04-22T17:11:26.539837Z"
    }
   },
   "outputs": [],
   "source": [
    "# %%time\n",
    "# zuludf =  testpd.loc[(testpd[\"Text_Comment\"]== textCommentList[0] ) & (testpd[\"aocs_dep\"].dt.date==uniqueDates[3])]\n",
    "# zuludf=zuludf.copy()\n",
    "# temparray = addlastRowArrDep(zuludf)\n",
    "# masterArray =[]\n",
    "# [masterArray.append(zulu)  for zulu in temparray ]\n",
    "# pd.DataFrame(masterArray, columns = ['Dept_Arp', 'engg_arr', 'Flt_Desg', 'Text_Comment', 'Subfleet','Arvl_Arp',  'aocs_dep','engg_dep', 'aocs_arr','deptype',  'Block_Time','Service_Type'])"
   ]
  },
  {
   "cell_type": "code",
   "execution_count": 12,
   "metadata": {
    "execution": {
     "iopub.execute_input": "2021-04-22T17:11:26.740430Z",
     "iopub.status.busy": "2021-04-22T17:11:26.724778Z",
     "iopub.status.idle": "2021-04-22T17:11:26.856344Z",
     "shell.execute_reply": "2021-04-22T17:11:26.856344Z",
     "shell.execute_reply.started": "2021-04-22T17:11:26.740430Z"
    }
   },
   "outputs": [],
   "source": [
    "# %load_ext line_profiler"
   ]
  },
  {
   "cell_type": "code",
   "execution_count": 13,
   "metadata": {
    "execution": {
     "iopub.execute_input": "2021-04-22T17:11:26.887591Z",
     "iopub.status.busy": "2021-04-22T17:11:26.856344Z",
     "iopub.status.idle": "2021-04-22T17:11:27.019176Z",
     "shell.execute_reply": "2021-04-22T17:11:27.019176Z",
     "shell.execute_reply.started": "2021-04-22T17:11:26.887591Z"
    }
   },
   "outputs": [],
   "source": [
    "# %%timeit\n",
    "# x_df =paramdf.loc[(paramdf[\"Text_Comment\"]== xray) & (paramdf[\"aocs_dep\"].dt.date==alpha)]"
   ]
  },
  {
   "cell_type": "code",
   "execution_count": 14,
   "metadata": {
    "execution": {
     "iopub.execute_input": "2021-04-22T17:11:27.025695Z",
     "iopub.status.busy": "2021-04-22T17:11:27.025695Z",
     "iopub.status.idle": "2021-04-22T17:11:27.172902Z",
     "shell.execute_reply": "2021-04-22T17:11:27.172902Z",
     "shell.execute_reply.started": "2021-04-22T17:11:27.025695Z"
    }
   },
   "outputs": [],
   "source": [
    "#  %lprun -f addlastRowArrDep addlastRowArrDep(zuludf)\n",
    "# #  Total time: 0.0045326 s\n",
    "# # Total time: 0.0025298 s\n",
    "# # Total time: 0.0020349 s\n",
    "# # Total time: 0.0011861 s\n",
    "# # Total time: 0.0011546 s\n",
    "# # Total time: 0.001126 s"
   ]
  },
  {
   "cell_type": "code",
   "execution_count": 15,
   "metadata": {
    "execution": {
     "iopub.execute_input": "2021-04-22T17:11:27.172902Z",
     "iopub.status.busy": "2021-04-22T17:11:27.172902Z",
     "iopub.status.idle": "2021-04-22T17:11:27.342307Z",
     "shell.execute_reply": "2021-04-22T17:11:27.342307Z",
     "shell.execute_reply.started": "2021-04-22T17:11:27.172902Z"
    },
    "tags": []
   },
   "outputs": [],
   "source": [
    "def masterDfMaker(paramdf):\n",
    "\n",
    "    # list of Comment List which are unique\n",
    "    textCommentList = paramdf[\"Text_Comment\"].unique()\n",
    "    # list(array of all days in our data )\n",
    "    uniqueDates = np.sort(testpd[\"aocs_dep\"].dt.day.unique())\n",
    "\n",
    "    masterList = []\n",
    "    for xray in textCommentList:\n",
    "        for alpha in uniqueDates:\n",
    "            # filtering dataframe on CommentValue and uniqueDateValue\n",
    "            x_df = paramdf.loc[(paramdf[\"Text_Comment\"] == xray) &\n",
    "                               (paramdf[\"cal_date\"] == alpha)]\n",
    "            # check if dataframe is empty\n",
    "            if len(x_df) == 0:\n",
    "                continue\n",
    "            # sorting by aocs_dep for safety\n",
    "            x_df = x_df.sort_values(by=[\"aocs_dep\"], ascending=True)\n",
    "            x_df = addlastRowArrDep(x_df)\n",
    "            [masterList.append(zulu) for zulu in x_df]\n",
    "    return masterList\n",
    "\n",
    "\n",
    "# TODO line with .loc is eating 91 percent of the time need to be evaluated\n",
    "\n",
    "# Wall time: 3min 44s\n",
    "# Wall time: 5min 35s month April\n",
    "# Wall time: 6min 6s\n",
    "# Compiler : 202 ms\n",
    "# Wall time: 4min 36s\n",
    "# Last executed at 2021-04-22 09:37:07 in 52.77s now this is achievement"
   ]
  },
  {
   "cell_type": "code",
   "execution_count": 16,
   "metadata": {
    "execution": {
     "iopub.execute_input": "2021-04-22T17:11:27.357883Z",
     "iopub.status.busy": "2021-04-22T17:11:27.342307Z",
     "iopub.status.idle": "2021-04-22T17:12:20.868587Z",
     "shell.execute_reply": "2021-04-22T17:12:20.868587Z",
     "shell.execute_reply.started": "2021-04-22T17:11:27.357883Z"
    },
    "tags": []
   },
   "outputs": [],
   "source": [
    "masterList = masterDfMaker(testpd)"
   ]
  },
  {
   "cell_type": "code",
   "execution_count": 17,
   "metadata": {
    "execution": {
     "iopub.execute_input": "2021-04-22T17:12:20.868587Z",
     "iopub.status.busy": "2021-04-22T17:12:20.868587Z",
     "iopub.status.idle": "2021-04-22T17:12:21.617544Z",
     "shell.execute_reply": "2021-04-22T17:12:21.617544Z",
     "shell.execute_reply.started": "2021-04-22T17:12:20.868587Z"
    },
    "tags": []
   },
   "outputs": [
    {
     "name": "stdout",
     "output_type": "stream",
     "text": [
      "Wall time: 495 ms\n"
     ]
    },
    {
     "data": {
      "text/html": [
       "<div>\n",
       "<style scoped>\n",
       "    .dataframe tbody tr th:only-of-type {\n",
       "        vertical-align: middle;\n",
       "    }\n",
       "\n",
       "    .dataframe tbody tr th {\n",
       "        vertical-align: top;\n",
       "    }\n",
       "\n",
       "    .dataframe thead th {\n",
       "        text-align: right;\n",
       "    }\n",
       "</style>\n",
       "<table border=\"1\" class=\"dataframe\">\n",
       "  <thead>\n",
       "    <tr style=\"text-align: right;\">\n",
       "      <th></th>\n",
       "      <th>Dept_Arp</th>\n",
       "      <th>engg_arr</th>\n",
       "      <th>Flt_Desg</th>\n",
       "      <th>Text_Comment</th>\n",
       "      <th>Subfleet</th>\n",
       "      <th>Arvl_Arp</th>\n",
       "      <th>aocs_dep</th>\n",
       "      <th>engg_dep</th>\n",
       "      <th>aocs_arr</th>\n",
       "      <th>deptype</th>\n",
       "      <th>Block_Time</th>\n",
       "      <th>Service_Type</th>\n",
       "      <th>cal_date</th>\n",
       "    </tr>\n",
       "  </thead>\n",
       "  <tbody>\n",
       "    <tr>\n",
       "      <th>0</th>\n",
       "      <td>BLR</td>\n",
       "      <td>NaT</td>\n",
       "      <td>6E 6269</td>\n",
       "      <td>A001</td>\n",
       "      <td>6E 32S</td>\n",
       "      <td>MAA</td>\n",
       "      <td>2021-04-01 07:10:00</td>\n",
       "      <td>NaT</td>\n",
       "      <td>2021-04-01 08:15:00</td>\n",
       "      <td>&lt;NA&gt;</td>\n",
       "      <td>0 days 01:05:00</td>\n",
       "      <td>J</td>\n",
       "      <td>1.0</td>\n",
       "    </tr>\n",
       "    <tr>\n",
       "      <th>1</th>\n",
       "      <td>MAA</td>\n",
       "      <td>2021-04-01 08:15:00</td>\n",
       "      <td>6E 0991</td>\n",
       "      <td>A001</td>\n",
       "      <td>6E 32S</td>\n",
       "      <td>DEL</td>\n",
       "      <td>2021-04-01 08:50:00</td>\n",
       "      <td>NaT</td>\n",
       "      <td>2021-04-01 11:50:00</td>\n",
       "      <td>&lt;NA&gt;</td>\n",
       "      <td>0 days 03:00:00</td>\n",
       "      <td>J</td>\n",
       "      <td>1.0</td>\n",
       "    </tr>\n",
       "    <tr>\n",
       "      <th>2</th>\n",
       "      <td>DEL</td>\n",
       "      <td>2021-04-01 11:50:00</td>\n",
       "      <td>6E 0657</td>\n",
       "      <td>A001</td>\n",
       "      <td>6E 32S</td>\n",
       "      <td>PAT</td>\n",
       "      <td>2021-04-01 12:40:00</td>\n",
       "      <td>NaT</td>\n",
       "      <td>2021-04-01 14:20:00</td>\n",
       "      <td>&lt;NA&gt;</td>\n",
       "      <td>0 days 01:40:00</td>\n",
       "      <td>J</td>\n",
       "      <td>1.0</td>\n",
       "    </tr>\n",
       "    <tr>\n",
       "      <th>3</th>\n",
       "      <td>PAT</td>\n",
       "      <td>2021-04-01 14:20:00</td>\n",
       "      <td>6E 0286</td>\n",
       "      <td>A001</td>\n",
       "      <td>6E 32S</td>\n",
       "      <td>DEL</td>\n",
       "      <td>2021-04-01 14:50:00</td>\n",
       "      <td>NaT</td>\n",
       "      <td>2021-04-01 16:25:00</td>\n",
       "      <td>&lt;NA&gt;</td>\n",
       "      <td>0 days 01:35:00</td>\n",
       "      <td>J</td>\n",
       "      <td>1.0</td>\n",
       "    </tr>\n",
       "    <tr>\n",
       "      <th>4</th>\n",
       "      <td>DEL</td>\n",
       "      <td>2021-04-01 16:25:00</td>\n",
       "      <td>6E 0286</td>\n",
       "      <td>A001</td>\n",
       "      <td>6E 32S</td>\n",
       "      <td>PNQ</td>\n",
       "      <td>2021-04-01 17:20:00</td>\n",
       "      <td>NaT</td>\n",
       "      <td>2021-04-01 19:15:00</td>\n",
       "      <td>&lt;NA&gt;</td>\n",
       "      <td>0 days 01:55:00</td>\n",
       "      <td>J</td>\n",
       "      <td>1.0</td>\n",
       "    </tr>\n",
       "    <tr>\n",
       "      <th>5</th>\n",
       "      <td>PNQ</td>\n",
       "      <td>2021-04-01 19:15:00</td>\n",
       "      <td>6E 0103</td>\n",
       "      <td>A001</td>\n",
       "      <td>6E 32S</td>\n",
       "      <td>BLR</td>\n",
       "      <td>2021-04-01 19:50:00</td>\n",
       "      <td>NaT</td>\n",
       "      <td>2021-04-01 21:30:00</td>\n",
       "      <td>&lt;NA&gt;</td>\n",
       "      <td>0 days 01:40:00</td>\n",
       "      <td>J</td>\n",
       "      <td>1.0</td>\n",
       "    </tr>\n",
       "    <tr>\n",
       "      <th>6</th>\n",
       "      <td>BLR</td>\n",
       "      <td>2021-04-01 19:50:00</td>\n",
       "      <td>6E 0103</td>\n",
       "      <td>A001</td>\n",
       "      <td>6E 32S</td>\n",
       "      <td>NaN</td>\n",
       "      <td>NaT</td>\n",
       "      <td>NaT</td>\n",
       "      <td>NaT</td>\n",
       "      <td>NaN</td>\n",
       "      <td>NaT</td>\n",
       "      <td>NaN</td>\n",
       "      <td>NaN</td>\n",
       "    </tr>\n",
       "    <tr>\n",
       "      <th>7</th>\n",
       "      <td>BLR</td>\n",
       "      <td>NaT</td>\n",
       "      <td>6E 6269</td>\n",
       "      <td>A001</td>\n",
       "      <td>6E 32S</td>\n",
       "      <td>MAA</td>\n",
       "      <td>2021-04-02 07:10:00</td>\n",
       "      <td>NaT</td>\n",
       "      <td>2021-04-02 08:15:00</td>\n",
       "      <td>&lt;NA&gt;</td>\n",
       "      <td>0 days 01:05:00</td>\n",
       "      <td>J</td>\n",
       "      <td>2.0</td>\n",
       "    </tr>\n",
       "    <tr>\n",
       "      <th>8</th>\n",
       "      <td>MAA</td>\n",
       "      <td>2021-04-02 08:15:00</td>\n",
       "      <td>6E 0991</td>\n",
       "      <td>A001</td>\n",
       "      <td>6E 32S</td>\n",
       "      <td>DEL</td>\n",
       "      <td>2021-04-02 08:50:00</td>\n",
       "      <td>NaT</td>\n",
       "      <td>2021-04-02 11:50:00</td>\n",
       "      <td>&lt;NA&gt;</td>\n",
       "      <td>0 days 03:00:00</td>\n",
       "      <td>J</td>\n",
       "      <td>2.0</td>\n",
       "    </tr>\n",
       "    <tr>\n",
       "      <th>9</th>\n",
       "      <td>DEL</td>\n",
       "      <td>2021-04-02 11:50:00</td>\n",
       "      <td>6E 0657</td>\n",
       "      <td>A001</td>\n",
       "      <td>6E 32S</td>\n",
       "      <td>PAT</td>\n",
       "      <td>2021-04-02 12:40:00</td>\n",
       "      <td>NaT</td>\n",
       "      <td>2021-04-02 14:20:00</td>\n",
       "      <td>&lt;NA&gt;</td>\n",
       "      <td>0 days 01:40:00</td>\n",
       "      <td>J</td>\n",
       "      <td>2.0</td>\n",
       "    </tr>\n",
       "    <tr>\n",
       "      <th>10</th>\n",
       "      <td>PAT</td>\n",
       "      <td>2021-04-02 14:20:00</td>\n",
       "      <td>6E 0286</td>\n",
       "      <td>A001</td>\n",
       "      <td>6E 32S</td>\n",
       "      <td>DEL</td>\n",
       "      <td>2021-04-02 14:50:00</td>\n",
       "      <td>NaT</td>\n",
       "      <td>2021-04-02 16:25:00</td>\n",
       "      <td>&lt;NA&gt;</td>\n",
       "      <td>0 days 01:35:00</td>\n",
       "      <td>J</td>\n",
       "      <td>2.0</td>\n",
       "    </tr>\n",
       "    <tr>\n",
       "      <th>11</th>\n",
       "      <td>DEL</td>\n",
       "      <td>2021-04-02 16:25:00</td>\n",
       "      <td>6E 0286</td>\n",
       "      <td>A001</td>\n",
       "      <td>6E 32S</td>\n",
       "      <td>PNQ</td>\n",
       "      <td>2021-04-02 17:20:00</td>\n",
       "      <td>NaT</td>\n",
       "      <td>2021-04-02 19:15:00</td>\n",
       "      <td>&lt;NA&gt;</td>\n",
       "      <td>0 days 01:55:00</td>\n",
       "      <td>J</td>\n",
       "      <td>2.0</td>\n",
       "    </tr>\n",
       "    <tr>\n",
       "      <th>12</th>\n",
       "      <td>PNQ</td>\n",
       "      <td>2021-04-02 19:15:00</td>\n",
       "      <td>6E 0103</td>\n",
       "      <td>A001</td>\n",
       "      <td>6E 32S</td>\n",
       "      <td>BLR</td>\n",
       "      <td>2021-04-02 19:50:00</td>\n",
       "      <td>NaT</td>\n",
       "      <td>2021-04-02 21:30:00</td>\n",
       "      <td>&lt;NA&gt;</td>\n",
       "      <td>0 days 01:40:00</td>\n",
       "      <td>J</td>\n",
       "      <td>2.0</td>\n",
       "    </tr>\n",
       "    <tr>\n",
       "      <th>13</th>\n",
       "      <td>BLR</td>\n",
       "      <td>2021-04-02 19:50:00</td>\n",
       "      <td>6E 0103</td>\n",
       "      <td>A001</td>\n",
       "      <td>6E 32S</td>\n",
       "      <td>NaN</td>\n",
       "      <td>NaT</td>\n",
       "      <td>NaT</td>\n",
       "      <td>NaT</td>\n",
       "      <td>NaN</td>\n",
       "      <td>NaT</td>\n",
       "      <td>NaN</td>\n",
       "      <td>NaN</td>\n",
       "    </tr>\n",
       "    <tr>\n",
       "      <th>14</th>\n",
       "      <td>BLR</td>\n",
       "      <td>NaT</td>\n",
       "      <td>6E 6269</td>\n",
       "      <td>A001</td>\n",
       "      <td>6E 32S</td>\n",
       "      <td>MAA</td>\n",
       "      <td>2021-04-03 07:10:00</td>\n",
       "      <td>NaT</td>\n",
       "      <td>2021-04-03 08:15:00</td>\n",
       "      <td>&lt;NA&gt;</td>\n",
       "      <td>0 days 01:05:00</td>\n",
       "      <td>J</td>\n",
       "      <td>3.0</td>\n",
       "    </tr>\n",
       "    <tr>\n",
       "      <th>15</th>\n",
       "      <td>MAA</td>\n",
       "      <td>2021-04-03 08:15:00</td>\n",
       "      <td>6E 0991</td>\n",
       "      <td>A001</td>\n",
       "      <td>6E 32S</td>\n",
       "      <td>DEL</td>\n",
       "      <td>2021-04-03 08:50:00</td>\n",
       "      <td>NaT</td>\n",
       "      <td>2021-04-03 11:50:00</td>\n",
       "      <td>&lt;NA&gt;</td>\n",
       "      <td>0 days 03:00:00</td>\n",
       "      <td>J</td>\n",
       "      <td>3.0</td>\n",
       "    </tr>\n",
       "    <tr>\n",
       "      <th>16</th>\n",
       "      <td>DEL</td>\n",
       "      <td>2021-04-03 11:50:00</td>\n",
       "      <td>6E 0657</td>\n",
       "      <td>A001</td>\n",
       "      <td>6E 32S</td>\n",
       "      <td>PAT</td>\n",
       "      <td>2021-04-03 12:40:00</td>\n",
       "      <td>NaT</td>\n",
       "      <td>2021-04-03 14:20:00</td>\n",
       "      <td>&lt;NA&gt;</td>\n",
       "      <td>0 days 01:40:00</td>\n",
       "      <td>J</td>\n",
       "      <td>3.0</td>\n",
       "    </tr>\n",
       "    <tr>\n",
       "      <th>17</th>\n",
       "      <td>PAT</td>\n",
       "      <td>2021-04-03 14:20:00</td>\n",
       "      <td>6E 0286</td>\n",
       "      <td>A001</td>\n",
       "      <td>6E 32S</td>\n",
       "      <td>DEL</td>\n",
       "      <td>2021-04-03 14:50:00</td>\n",
       "      <td>NaT</td>\n",
       "      <td>2021-04-03 16:25:00</td>\n",
       "      <td>&lt;NA&gt;</td>\n",
       "      <td>0 days 01:35:00</td>\n",
       "      <td>J</td>\n",
       "      <td>3.0</td>\n",
       "    </tr>\n",
       "    <tr>\n",
       "      <th>18</th>\n",
       "      <td>DEL</td>\n",
       "      <td>2021-04-03 16:25:00</td>\n",
       "      <td>6E 0286</td>\n",
       "      <td>A001</td>\n",
       "      <td>6E 32S</td>\n",
       "      <td>PNQ</td>\n",
       "      <td>2021-04-03 17:20:00</td>\n",
       "      <td>NaT</td>\n",
       "      <td>2021-04-03 19:15:00</td>\n",
       "      <td>&lt;NA&gt;</td>\n",
       "      <td>0 days 01:55:00</td>\n",
       "      <td>J</td>\n",
       "      <td>3.0</td>\n",
       "    </tr>\n",
       "    <tr>\n",
       "      <th>19</th>\n",
       "      <td>PNQ</td>\n",
       "      <td>2021-04-03 19:15:00</td>\n",
       "      <td>6E 0103</td>\n",
       "      <td>A001</td>\n",
       "      <td>6E 32S</td>\n",
       "      <td>BLR</td>\n",
       "      <td>2021-04-03 19:50:00</td>\n",
       "      <td>NaT</td>\n",
       "      <td>2021-04-03 21:30:00</td>\n",
       "      <td>&lt;NA&gt;</td>\n",
       "      <td>0 days 01:40:00</td>\n",
       "      <td>J</td>\n",
       "      <td>3.0</td>\n",
       "    </tr>\n",
       "    <tr>\n",
       "      <th>20</th>\n",
       "      <td>BLR</td>\n",
       "      <td>2021-04-03 19:50:00</td>\n",
       "      <td>6E 0103</td>\n",
       "      <td>A001</td>\n",
       "      <td>6E 32S</td>\n",
       "      <td>NaN</td>\n",
       "      <td>NaT</td>\n",
       "      <td>NaT</td>\n",
       "      <td>NaT</td>\n",
       "      <td>NaN</td>\n",
       "      <td>NaT</td>\n",
       "      <td>NaN</td>\n",
       "      <td>NaN</td>\n",
       "    </tr>\n",
       "    <tr>\n",
       "      <th>21</th>\n",
       "      <td>BLR</td>\n",
       "      <td>NaT</td>\n",
       "      <td>6E 6269</td>\n",
       "      <td>A001</td>\n",
       "      <td>6E 32S</td>\n",
       "      <td>MAA</td>\n",
       "      <td>2021-04-04 07:10:00</td>\n",
       "      <td>NaT</td>\n",
       "      <td>2021-04-04 08:15:00</td>\n",
       "      <td>&lt;NA&gt;</td>\n",
       "      <td>0 days 01:05:00</td>\n",
       "      <td>J</td>\n",
       "      <td>4.0</td>\n",
       "    </tr>\n",
       "    <tr>\n",
       "      <th>22</th>\n",
       "      <td>MAA</td>\n",
       "      <td>2021-04-04 08:15:00</td>\n",
       "      <td>6E 0991</td>\n",
       "      <td>A001</td>\n",
       "      <td>6E 32S</td>\n",
       "      <td>DEL</td>\n",
       "      <td>2021-04-04 08:50:00</td>\n",
       "      <td>NaT</td>\n",
       "      <td>2021-04-04 11:50:00</td>\n",
       "      <td>&lt;NA&gt;</td>\n",
       "      <td>0 days 03:00:00</td>\n",
       "      <td>J</td>\n",
       "      <td>4.0</td>\n",
       "    </tr>\n",
       "    <tr>\n",
       "      <th>23</th>\n",
       "      <td>DEL</td>\n",
       "      <td>2021-04-04 11:50:00</td>\n",
       "      <td>6E 0657</td>\n",
       "      <td>A001</td>\n",
       "      <td>6E 32S</td>\n",
       "      <td>PAT</td>\n",
       "      <td>2021-04-04 12:40:00</td>\n",
       "      <td>NaT</td>\n",
       "      <td>2021-04-04 14:20:00</td>\n",
       "      <td>&lt;NA&gt;</td>\n",
       "      <td>0 days 01:40:00</td>\n",
       "      <td>J</td>\n",
       "      <td>4.0</td>\n",
       "    </tr>\n",
       "    <tr>\n",
       "      <th>24</th>\n",
       "      <td>PAT</td>\n",
       "      <td>2021-04-04 14:20:00</td>\n",
       "      <td>6E 0286</td>\n",
       "      <td>A001</td>\n",
       "      <td>6E 32S</td>\n",
       "      <td>DEL</td>\n",
       "      <td>2021-04-04 14:50:00</td>\n",
       "      <td>NaT</td>\n",
       "      <td>2021-04-04 16:25:00</td>\n",
       "      <td>&lt;NA&gt;</td>\n",
       "      <td>0 days 01:35:00</td>\n",
       "      <td>J</td>\n",
       "      <td>4.0</td>\n",
       "    </tr>\n",
       "    <tr>\n",
       "      <th>25</th>\n",
       "      <td>DEL</td>\n",
       "      <td>2021-04-04 16:25:00</td>\n",
       "      <td>6E 0286</td>\n",
       "      <td>A001</td>\n",
       "      <td>6E 32S</td>\n",
       "      <td>PNQ</td>\n",
       "      <td>2021-04-04 17:20:00</td>\n",
       "      <td>NaT</td>\n",
       "      <td>2021-04-04 19:15:00</td>\n",
       "      <td>&lt;NA&gt;</td>\n",
       "      <td>0 days 01:55:00</td>\n",
       "      <td>J</td>\n",
       "      <td>4.0</td>\n",
       "    </tr>\n",
       "    <tr>\n",
       "      <th>26</th>\n",
       "      <td>PNQ</td>\n",
       "      <td>2021-04-04 19:15:00</td>\n",
       "      <td>6E 0103</td>\n",
       "      <td>A001</td>\n",
       "      <td>6E 32S</td>\n",
       "      <td>BLR</td>\n",
       "      <td>2021-04-04 19:50:00</td>\n",
       "      <td>NaT</td>\n",
       "      <td>2021-04-04 21:30:00</td>\n",
       "      <td>&lt;NA&gt;</td>\n",
       "      <td>0 days 01:40:00</td>\n",
       "      <td>J</td>\n",
       "      <td>4.0</td>\n",
       "    </tr>\n",
       "    <tr>\n",
       "      <th>27</th>\n",
       "      <td>BLR</td>\n",
       "      <td>2021-04-04 19:50:00</td>\n",
       "      <td>6E 0103</td>\n",
       "      <td>A001</td>\n",
       "      <td>6E 32S</td>\n",
       "      <td>NaN</td>\n",
       "      <td>NaT</td>\n",
       "      <td>NaT</td>\n",
       "      <td>NaT</td>\n",
       "      <td>NaN</td>\n",
       "      <td>NaT</td>\n",
       "      <td>NaN</td>\n",
       "      <td>NaN</td>\n",
       "    </tr>\n",
       "    <tr>\n",
       "      <th>28</th>\n",
       "      <td>BLR</td>\n",
       "      <td>NaT</td>\n",
       "      <td>6E 6269</td>\n",
       "      <td>A001</td>\n",
       "      <td>6E 32S</td>\n",
       "      <td>MAA</td>\n",
       "      <td>2021-04-05 07:10:00</td>\n",
       "      <td>NaT</td>\n",
       "      <td>2021-04-05 08:15:00</td>\n",
       "      <td>&lt;NA&gt;</td>\n",
       "      <td>0 days 01:05:00</td>\n",
       "      <td>J</td>\n",
       "      <td>5.0</td>\n",
       "    </tr>\n",
       "    <tr>\n",
       "      <th>29</th>\n",
       "      <td>MAA</td>\n",
       "      <td>2021-04-05 08:15:00</td>\n",
       "      <td>6E 0991</td>\n",
       "      <td>A001</td>\n",
       "      <td>6E 32S</td>\n",
       "      <td>DEL</td>\n",
       "      <td>2021-04-05 08:50:00</td>\n",
       "      <td>NaT</td>\n",
       "      <td>2021-04-05 11:50:00</td>\n",
       "      <td>&lt;NA&gt;</td>\n",
       "      <td>0 days 03:00:00</td>\n",
       "      <td>J</td>\n",
       "      <td>5.0</td>\n",
       "    </tr>\n",
       "  </tbody>\n",
       "</table>\n",
       "</div>"
      ],
      "text/plain": [
       "   Dept_Arp            engg_arr Flt_Desg Text_Comment Subfleet Arvl_Arp  \\\n",
       "0       BLR                 NaT  6E 6269         A001   6E 32S      MAA   \n",
       "1       MAA 2021-04-01 08:15:00  6E 0991         A001   6E 32S      DEL   \n",
       "2       DEL 2021-04-01 11:50:00  6E 0657         A001   6E 32S      PAT   \n",
       "3       PAT 2021-04-01 14:20:00  6E 0286         A001   6E 32S      DEL   \n",
       "4       DEL 2021-04-01 16:25:00  6E 0286         A001   6E 32S      PNQ   \n",
       "5       PNQ 2021-04-01 19:15:00  6E 0103         A001   6E 32S      BLR   \n",
       "6       BLR 2021-04-01 19:50:00  6E 0103         A001   6E 32S      NaN   \n",
       "7       BLR                 NaT  6E 6269         A001   6E 32S      MAA   \n",
       "8       MAA 2021-04-02 08:15:00  6E 0991         A001   6E 32S      DEL   \n",
       "9       DEL 2021-04-02 11:50:00  6E 0657         A001   6E 32S      PAT   \n",
       "10      PAT 2021-04-02 14:20:00  6E 0286         A001   6E 32S      DEL   \n",
       "11      DEL 2021-04-02 16:25:00  6E 0286         A001   6E 32S      PNQ   \n",
       "12      PNQ 2021-04-02 19:15:00  6E 0103         A001   6E 32S      BLR   \n",
       "13      BLR 2021-04-02 19:50:00  6E 0103         A001   6E 32S      NaN   \n",
       "14      BLR                 NaT  6E 6269         A001   6E 32S      MAA   \n",
       "15      MAA 2021-04-03 08:15:00  6E 0991         A001   6E 32S      DEL   \n",
       "16      DEL 2021-04-03 11:50:00  6E 0657         A001   6E 32S      PAT   \n",
       "17      PAT 2021-04-03 14:20:00  6E 0286         A001   6E 32S      DEL   \n",
       "18      DEL 2021-04-03 16:25:00  6E 0286         A001   6E 32S      PNQ   \n",
       "19      PNQ 2021-04-03 19:15:00  6E 0103         A001   6E 32S      BLR   \n",
       "20      BLR 2021-04-03 19:50:00  6E 0103         A001   6E 32S      NaN   \n",
       "21      BLR                 NaT  6E 6269         A001   6E 32S      MAA   \n",
       "22      MAA 2021-04-04 08:15:00  6E 0991         A001   6E 32S      DEL   \n",
       "23      DEL 2021-04-04 11:50:00  6E 0657         A001   6E 32S      PAT   \n",
       "24      PAT 2021-04-04 14:20:00  6E 0286         A001   6E 32S      DEL   \n",
       "25      DEL 2021-04-04 16:25:00  6E 0286         A001   6E 32S      PNQ   \n",
       "26      PNQ 2021-04-04 19:15:00  6E 0103         A001   6E 32S      BLR   \n",
       "27      BLR 2021-04-04 19:50:00  6E 0103         A001   6E 32S      NaN   \n",
       "28      BLR                 NaT  6E 6269         A001   6E 32S      MAA   \n",
       "29      MAA 2021-04-05 08:15:00  6E 0991         A001   6E 32S      DEL   \n",
       "\n",
       "              aocs_dep engg_dep            aocs_arr deptype      Block_Time  \\\n",
       "0  2021-04-01 07:10:00      NaT 2021-04-01 08:15:00    <NA> 0 days 01:05:00   \n",
       "1  2021-04-01 08:50:00      NaT 2021-04-01 11:50:00    <NA> 0 days 03:00:00   \n",
       "2  2021-04-01 12:40:00      NaT 2021-04-01 14:20:00    <NA> 0 days 01:40:00   \n",
       "3  2021-04-01 14:50:00      NaT 2021-04-01 16:25:00    <NA> 0 days 01:35:00   \n",
       "4  2021-04-01 17:20:00      NaT 2021-04-01 19:15:00    <NA> 0 days 01:55:00   \n",
       "5  2021-04-01 19:50:00      NaT 2021-04-01 21:30:00    <NA> 0 days 01:40:00   \n",
       "6                  NaT      NaT                 NaT     NaN             NaT   \n",
       "7  2021-04-02 07:10:00      NaT 2021-04-02 08:15:00    <NA> 0 days 01:05:00   \n",
       "8  2021-04-02 08:50:00      NaT 2021-04-02 11:50:00    <NA> 0 days 03:00:00   \n",
       "9  2021-04-02 12:40:00      NaT 2021-04-02 14:20:00    <NA> 0 days 01:40:00   \n",
       "10 2021-04-02 14:50:00      NaT 2021-04-02 16:25:00    <NA> 0 days 01:35:00   \n",
       "11 2021-04-02 17:20:00      NaT 2021-04-02 19:15:00    <NA> 0 days 01:55:00   \n",
       "12 2021-04-02 19:50:00      NaT 2021-04-02 21:30:00    <NA> 0 days 01:40:00   \n",
       "13                 NaT      NaT                 NaT     NaN             NaT   \n",
       "14 2021-04-03 07:10:00      NaT 2021-04-03 08:15:00    <NA> 0 days 01:05:00   \n",
       "15 2021-04-03 08:50:00      NaT 2021-04-03 11:50:00    <NA> 0 days 03:00:00   \n",
       "16 2021-04-03 12:40:00      NaT 2021-04-03 14:20:00    <NA> 0 days 01:40:00   \n",
       "17 2021-04-03 14:50:00      NaT 2021-04-03 16:25:00    <NA> 0 days 01:35:00   \n",
       "18 2021-04-03 17:20:00      NaT 2021-04-03 19:15:00    <NA> 0 days 01:55:00   \n",
       "19 2021-04-03 19:50:00      NaT 2021-04-03 21:30:00    <NA> 0 days 01:40:00   \n",
       "20                 NaT      NaT                 NaT     NaN             NaT   \n",
       "21 2021-04-04 07:10:00      NaT 2021-04-04 08:15:00    <NA> 0 days 01:05:00   \n",
       "22 2021-04-04 08:50:00      NaT 2021-04-04 11:50:00    <NA> 0 days 03:00:00   \n",
       "23 2021-04-04 12:40:00      NaT 2021-04-04 14:20:00    <NA> 0 days 01:40:00   \n",
       "24 2021-04-04 14:50:00      NaT 2021-04-04 16:25:00    <NA> 0 days 01:35:00   \n",
       "25 2021-04-04 17:20:00      NaT 2021-04-04 19:15:00    <NA> 0 days 01:55:00   \n",
       "26 2021-04-04 19:50:00      NaT 2021-04-04 21:30:00    <NA> 0 days 01:40:00   \n",
       "27                 NaT      NaT                 NaT     NaN             NaT   \n",
       "28 2021-04-05 07:10:00      NaT 2021-04-05 08:15:00    <NA> 0 days 01:05:00   \n",
       "29 2021-04-05 08:50:00      NaT 2021-04-05 11:50:00    <NA> 0 days 03:00:00   \n",
       "\n",
       "   Service_Type  cal_date  \n",
       "0             J       1.0  \n",
       "1             J       1.0  \n",
       "2             J       1.0  \n",
       "3             J       1.0  \n",
       "4             J       1.0  \n",
       "5             J       1.0  \n",
       "6           NaN       NaN  \n",
       "7             J       2.0  \n",
       "8             J       2.0  \n",
       "9             J       2.0  \n",
       "10            J       2.0  \n",
       "11            J       2.0  \n",
       "12            J       2.0  \n",
       "13          NaN       NaN  \n",
       "14            J       3.0  \n",
       "15            J       3.0  \n",
       "16            J       3.0  \n",
       "17            J       3.0  \n",
       "18            J       3.0  \n",
       "19            J       3.0  \n",
       "20          NaN       NaN  \n",
       "21            J       4.0  \n",
       "22            J       4.0  \n",
       "23            J       4.0  \n",
       "24            J       4.0  \n",
       "25            J       4.0  \n",
       "26            J       4.0  \n",
       "27          NaN       NaN  \n",
       "28            J       5.0  \n",
       "29            J       5.0  "
      ]
     },
     "execution_count": 17,
     "metadata": {},
     "output_type": "execute_result"
    }
   ],
   "source": [
    "%%time\n",
    "cleanDf = pd.DataFrame(masterList,\n",
    "                       columns=[\n",
    "                           'Dept_Arp', 'engg_arr', 'Flt_Desg', 'Text_Comment',\n",
    "                           'Subfleet', 'Arvl_Arp', 'aocs_dep', 'engg_dep',\n",
    "                           'aocs_arr', 'deptype', 'Block_Time', 'Service_Type',\n",
    "                           'cal_date'\n",
    "                       ])\n",
    "cleanDf.head(30)\n",
    "# current time using nparray 50 ms using array\n",
    "# current time using pythonlist  = Wall time: 175 ms\n",
    "# Wall time: 493 ms\n",
    "# 40045 rows × 12 columns using the numpy method\n",
    "# Wall time: 274 ms old method\n",
    "# 40044 rows × 12 columns old numpy method"
   ]
  },
  {
   "cell_type": "code",
   "execution_count": 18,
   "metadata": {
    "execution": {
     "iopub.execute_input": "2021-04-22T17:12:21.617544Z",
     "iopub.status.busy": "2021-04-22T17:12:21.617544Z",
     "iopub.status.idle": "2021-04-22T17:12:22.520204Z",
     "shell.execute_reply": "2021-04-22T17:12:22.520204Z",
     "shell.execute_reply.started": "2021-04-22T17:12:21.617544Z"
    },
    "tags": []
   },
   "outputs": [
    {
     "name": "stdout",
     "output_type": "stream",
     "text": [
      "Wall time: 871 ms\n"
     ]
    }
   ],
   "source": [
    "%%time\n",
    "cleanDf = cleanDf.copy()\n",
    "# copying data from one column to other\n",
    "cleanDf[\"engg_dep\"] = cleanDf[\"aocs_dep\"]\n",
    "# drop column aocs_dep\n",
    "cleanDf = cleanDf.drop(columns=\"aocs_dep\")\n",
    "# adding columns cal_date and transit_time\n",
    "# already added before during refactor\n",
    "# cleanDf[\"cal_date\"]= np.nan\n",
    "cleanDf[\"transit_time\"] = np.nan\n",
    "# avoidy loc error hency copy\n",
    "cleanDf = cleanDf.copy()\n",
    "# cal_date calue for base dep/ pd isnull for time is something new\n",
    "cleanDf.loc[pd.isnull(cleanDf[\"engg_arr\"]),\n",
    "            \"cal_date\"] = cleanDf[\"engg_dep\"].dt.date\n",
    "# cal_date calue for base arr/\n",
    "cleanDf.loc[pd.isnull(cleanDf[\"engg_dep\"]),\n",
    "            \"cal_date\"] = cleanDf[\"engg_arr\"].dt.date\n",
    "# cal_date calue for transit using the notnull operator\n",
    "cleanDf.loc[(pd.notnull(cleanDf[\"engg_arr\"]) & pd.notnull(cleanDf[\"engg_dep\"])),\n",
    "            \"cal_date\"] = cleanDf[\"engg_dep\"].dt.date\n",
    "# departuretype as basedep\n",
    "cleanDf.loc[pd.isnull(cleanDf[\"engg_arr\"]), \"deptype\"] = \"baseDep\"\n",
    "#departure type as baseArr\n",
    "cleanDf.loc[pd.isnull(cleanDf[\"engg_dep\"]), \"deptype\"] = \"baseArr\"\n",
    "#deparure type as transit\n",
    "cleanDf.loc[(pd.notnull(cleanDf[\"engg_arr\"]) & pd.notnull(cleanDf[\"engg_dep\"])),\n",
    "            \"deptype\"] = \"Transit\"\n",
    "# setting type in a column cal_date\n",
    "cleanDf[\"cal_date\"] = cleanDf[\"cal_date\"].astype(\"datetime64[ns]\")\n",
    "# calculating transit time\n",
    "cleanDf.loc[cleanDf['deptype'] == \"Transit\",\n",
    "            \"transit_time\"] = cleanDf[\"engg_dep\"] - cleanDf[\"engg_arr\"]\n",
    "# setting transitime column type\n",
    "cleanDf[\"transit_time\"] = cleanDf[\"transit_time\"].astype(\"timedelta64[ns]\")\n",
    "cleanDf= cleanDf.astype({\"deptype\":\"category\",\"Service_Type\":\"category\",\"Dept_Arp\":\"category\",\"Arvl_Arp\":\"category\",\"Text_Comment\":\"category\",\"Subfleet\":\"category\",\"engg_arr\":\"datetime64[ns]\",\"engg_dep\":\"datetime64[ns]\",\"Flt_Desg\":\"category\",\"Block_Time\":\"timedelta64[ns]\"})\n",
    "\n",
    "# observed improvement of from 4.3 mb to 2.3 mb after setting of category "
   ]
  },
  {
   "cell_type": "markdown",
   "metadata": {},
   "source": [
    "- [ ] A juypter notebook needs to be tested for two things memory and performance "
   ]
  },
  {
   "cell_type": "code",
   "execution_count": 19,
   "metadata": {
    "execution": {
     "iopub.execute_input": "2021-04-22T17:12:22.520204Z",
     "iopub.status.busy": "2021-04-22T17:12:22.520204Z",
     "iopub.status.idle": "2021-04-22T17:12:22.937046Z",
     "shell.execute_reply": "2021-04-22T17:12:22.937046Z",
     "shell.execute_reply.started": "2021-04-22T17:12:22.520204Z"
    },
    "tags": []
   },
   "outputs": [
    {
     "name": "stdout",
     "output_type": "stream",
     "text": [
      "<class 'pandas.core.frame.DataFrame'>\n",
      "RangeIndex: 41993 entries, 0 to 41992\n",
      "Data columns (total 13 columns):\n",
      " #   Column        Non-Null Count  Dtype          \n",
      "---  ------        --------------  -----          \n",
      " 0   Dept_Arp      41993 non-null  category       \n",
      " 1   engg_arr      35001 non-null  datetime64[ns] \n",
      " 2   Flt_Desg      41993 non-null  category       \n",
      " 3   Text_Comment  41993 non-null  category       \n",
      " 4   Subfleet      41993 non-null  category       \n",
      " 5   Arvl_Arp      35643 non-null  category       \n",
      " 6   engg_dep      35643 non-null  datetime64[ns] \n",
      " 7   aocs_arr      35643 non-null  datetime64[ns] \n",
      " 8   deptype       41993 non-null  category       \n",
      " 9   Block_Time    35643 non-null  timedelta64[ns]\n",
      " 10  Service_Type  35643 non-null  category       \n",
      " 11  cal_date      41993 non-null  datetime64[ns] \n",
      " 12  transit_time  28651 non-null  timedelta64[ns]\n",
      "dtypes: category(7), datetime64[ns](4), timedelta64[ns](2)\n",
      "memory usage: 2.3 MB\n"
     ]
    }
   ],
   "source": [
    "cleanDf.info()"
   ]
  },
  {
   "cell_type": "code",
   "execution_count": 21,
   "metadata": {
    "execution": {
     "iopub.execute_input": "2021-04-22T17:12:36.190275Z",
     "iopub.status.busy": "2021-04-22T17:12:36.190275Z",
     "iopub.status.idle": "2021-04-22T17:12:36.243707Z",
     "shell.execute_reply": "2021-04-22T17:12:36.243707Z",
     "shell.execute_reply.started": "2021-04-22T17:12:36.190275Z"
    },
    "tags": []
   },
   "outputs": [
    {
     "data": {
      "text/plain": [
       "True"
      ]
     },
     "execution_count": 21,
     "metadata": {},
     "output_type": "execute_result"
    }
   ],
   "source": [
    "# pickle_List = [dataframe,days_sorted_list,dep_airport_list]\n",
    "pickle.dump(cleanDf, open(\"apr_21.p\", \"wb\"))\n",
    "\n",
    "gamma = pickle.load(open(\"apr_21.p\", \"rb\"))\n",
    "\n",
    "gamma.equals(cleanDf)"
   ]
  },
  {
   "cell_type": "markdown",
   "metadata": {},
   "source": [
    "- comparing the original method and the current method i.e unifieddatatidy vs gsheets"
   ]
  },
  {
   "cell_type": "code",
   "execution_count": null,
   "metadata": {
    "collapsed": true,
    "execution": {
     "iopub.status.busy": "2021-04-21T13:50:56.596276Z",
     "iopub.status.idle": "2021-04-21T13:50:56.597275Z",
     "shell.execute_reply": "2021-04-21T13:50:56.597275Z"
    },
    "jupyter": {
     "outputs_hidden": true
    }
   },
   "outputs": [],
   "source": [
    "alpha = pickle.load(open(\"gsheet_pickle.p\", \"rb\"))"
   ]
  },
  {
   "cell_type": "code",
   "execution_count": null,
   "metadata": {
    "collapsed": true,
    "execution": {
     "iopub.status.busy": "2021-04-21T13:50:56.608277Z",
     "iopub.status.idle": "2021-04-21T13:50:56.610276Z",
     "shell.execute_reply": "2021-04-21T13:50:56.610276Z"
    },
    "jupyter": {
     "outputs_hidden": true
    }
   },
   "outputs": [],
   "source": [
    "# testpd.info()\n",
    "# onedf=testpd.loc[(testpd[\"Text_Comment\"]==\"ATR_55\")]\n",
    "# onedf.info()\n",
    "fourpd = testpd[\"Text_Comment\"].value_counts().reset_index().sort_values(\n",
    "    'index')\n",
    "fourpd = fourpd.reset_index(drop=True)\n",
    "fourpd = fourpd.rename(columns={\"Text_Comment\": \"jebahComment\"})"
   ]
  },
  {
   "cell_type": "code",
   "execution_count": null,
   "metadata": {
    "collapsed": true,
    "execution": {
     "iopub.status.busy": "2021-04-21T13:50:56.615274Z",
     "iopub.status.idle": "2021-04-21T13:50:56.616276Z",
     "shell.execute_reply": "2021-04-21T13:50:56.615274Z"
    },
    "jupyter": {
     "outputs_hidden": true
    }
   },
   "outputs": [],
   "source": [
    "greta = alpha[0]\n",
    "\n",
    "threePd = greta[\"Text Comment\"].value_counts().reset_index().sort_values(\n",
    "    'index')\n",
    "threePd[\"Text Comment\"] = threePd[\"Text Comment\"].astype(int).floordiv(2)\n",
    "threePd = threePd.reset_index(drop=True)\n",
    "threePd = threePd.rename(columns={\"Text Comment\": \"GretaComment\"})\n",
    "#"
   ]
  },
  {
   "cell_type": "code",
   "execution_count": null,
   "metadata": {
    "collapsed": true,
    "execution": {
     "iopub.status.busy": "2021-04-21T13:50:56.618277Z",
     "iopub.status.idle": "2021-04-21T13:50:56.624287Z",
     "shell.execute_reply": "2021-04-21T13:50:56.624287Z"
    },
    "jupyter": {
     "outputs_hidden": true
    }
   },
   "outputs": [],
   "source": [
    "fourpd[\"GretaComment\"] = threePd[\"GretaComment\"]\n",
    "fourpd[\"reqdiff\"] = fourpd[\"GretaComment\"] - fourpd[\"jebahComment\"]\n",
    "fourpd = fourpd[fourpd.reqdiff != 0].sort_values(\"reqdiff\").reset_index(\n",
    "    drop=True)\n",
    "fourpd"
   ]
  },
  {
   "cell_type": "markdown",
   "metadata": {},
   "source": [
    "- Trying to work with generator "
   ]
  },
  {
   "cell_type": "code",
   "execution_count": null,
   "metadata": {
    "collapsed": true,
    "execution": {
     "iopub.status.busy": "2021-04-21T13:50:56.628308Z",
     "iopub.status.idle": "2021-04-21T13:50:56.630281Z",
     "shell.execute_reply": "2021-04-21T13:50:56.629288Z"
    },
    "jupyter": {
     "outputs_hidden": true
    },
    "tags": []
   },
   "outputs": [],
   "source": [
    "testDate = pd.date_range(start='1/1/2021', freq=\"MS\",\n",
    "                         periods=12).strftime(\"%b-%y\").tolist()\n",
    "testDate"
   ]
  },
  {
   "cell_type": "code",
   "execution_count": null,
   "metadata": {
    "collapsed": true,
    "execution": {
     "iopub.status.busy": "2021-04-21T13:50:56.632280Z",
     "iopub.status.idle": "2021-04-21T13:50:56.634295Z",
     "shell.execute_reply": "2021-04-21T13:50:56.633276Z"
    },
    "jupyter": {
     "outputs_hidden": true
    },
    "tags": []
   },
   "outputs": [],
   "source": [
    "cleanDf.loc[:, \"engg_dep\"].min()"
   ]
  }
 ],
 "metadata": {
  "kernelspec": {
   "display_name": "Python 3",
   "language": "python",
   "name": "python3"
  },
  "language_info": {
   "codemirror_mode": {
    "name": "ipython",
    "version": 3
   },
   "file_extension": ".py",
   "mimetype": "text/x-python",
   "name": "python",
   "nbconvert_exporter": "python",
   "pygments_lexer": "ipython3",
   "version": "3.8.8"
  },
  "metadata": {
   "interpreter": {
    "hash": "afcac8b82a4a147eb1dcb51ea19ba64dd006e8399179ca0c87ce692baf1ba76a"
   }
  },
  "toc-showtags": true,
  "varInspector": {
   "cols": {
    "lenName": 16,
    "lenType": 16,
    "lenVar": 40
   },
   "kernels_config": {
    "python": {
     "delete_cmd_postfix": "",
     "delete_cmd_prefix": "del ",
     "library": "var_list.py",
     "varRefreshCmd": "print(var_dic_list())"
    },
    "r": {
     "delete_cmd_postfix": ") ",
     "delete_cmd_prefix": "rm(",
     "library": "var_list.r",
     "varRefreshCmd": "cat(var_dic_list()) "
    }
   },
   "types_to_exclude": [
    "module",
    "function",
    "builtin_function_or_method",
    "instance",
    "_Feature"
   ],
   "window_display": false
  }
 },
 "nbformat": 4,
 "nbformat_minor": 4
}