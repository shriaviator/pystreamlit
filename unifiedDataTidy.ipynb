{
 "cells": [
  {
   "cell_type": "markdown",
   "metadata": {},
   "source": [
    "- [ ] why is the count value when basic sorting is done different from gsheets wala value \n",
    "- [ ] TODO-Add error testing to make sure the columns are in the exact same order\n",
    "- [ ] The above row is from the first method of trying there is a variance in the number of rows a huge variance\n",
    "- [ ] TODO-Based on Freq eff date and disc date make a counter as unit tests to check data is correct\n",
    "- [ ] TODO-the progrmamming needs to be converted from a procedural to functional programmming paradigm\n",
    "-[ ] TODO - performace hit on adding columns invidually in sliced dataframe versus to total dataframe\n",
    "- [ ] text comment a134phase 6e2015 01 feb is a edge case for single flight per day per rotation \n",
    "- [ ] TODO : each set of textcomment and day needs to tested for testcomment set data is compliant \n",
    "- [ ]   :interrobang: 🤒\n",
    "- #Improvement Action:\n",
    "- #Resultant Time:\"\n",
    "- df2._is_view\n",
    "- df._is_copy\n"
   ]
  },
  {
   "cell_type": "code",
   "execution_count": 2,
   "metadata": {
    "execution": {
     "iopub.execute_input": "2021-04-15T04:14:49.970164Z",
     "iopub.status.busy": "2021-04-15T04:14:49.969159Z",
     "iopub.status.idle": "2021-04-15T04:14:55.870348Z",
     "shell.execute_reply": "2021-04-15T04:14:55.868348Z",
     "shell.execute_reply.started": "2021-04-15T04:14:49.970164Z"
    },
    "tags": []
   },
   "outputs": [
    {
     "name": "stdout",
     "output_type": "stream",
     "text": [
      "Wall time: 5.88 s\n"
     ]
    }
   ],
   "source": [
    "%%time\n",
    "import matplotlib.pyplot as plt\n",
    "import numpy as np\n",
    "import pandas as pd\n",
    "import pickle\n",
    "import gspread\n",
    "from oauth2client.service_account import ServiceAccountCredentials\n",
    "import datetime\n",
    "import pickle\n",
    "import re\n",
    "scope = [\"https://spreadsheets.google.com/feeds\", 'https://www.googleapis.com/auth/spreadsheets',\n",
    "         \"https://www.googleapis.com/auth/drive.file\", \"https://www.googleapis.com/auth/drive\"]\n",
    "\n",
    "creds = ServiceAccountCredentials.from_json_keyfile_name(\"crudg.json\", scope)\n",
    "client = gspread.authorize(creds)\n",
    "sheet = client.open(\"flightsched\").get_worksheet(2)\n",
    "dataframe = pd.DataFrame(sheet.get_all_records())\n",
    "# Improvement Action :\n",
    "# Resultant Time:\n"
   ]
  },
  {
   "cell_type": "code",
   "execution_count": 2,
   "metadata": {
    "tags": []
   },
   "outputs": [],
   "source": [
    "# Set ipython's max row display\n",
    "pd.set_option('display.max_row', 50)\n",
    "\n",
    "# Set iPython's max column width to 50\n",
    "pd.set_option('display.max_columns', 50)"
   ]
  },
  {
   "cell_type": "code",
   "execution_count": 16,
   "metadata": {
    "execution": {
     "iopub.execute_input": "2021-04-15T04:55:44.605564Z",
     "iopub.status.busy": "2021-04-15T04:55:44.604559Z",
     "iopub.status.idle": "2021-04-15T04:55:44.628557Z",
     "shell.execute_reply": "2021-04-15T04:55:44.627558Z",
     "shell.execute_reply.started": "2021-04-15T04:55:44.605564Z"
    },
    "tags": []
   },
   "outputs": [
    {
     "data": {
      "text/plain": [
       "7"
      ]
     },
     "execution_count": 16,
     "metadata": {},
     "output_type": "execute_result"
    }
   ],
   "source": [
    "dataframe.head()\n",
    "# bad idea to use loc for scalar access \n",
    "startDate = dataframe.loc[0,:][9]\n",
    "endDate = dataframe.loc[0,:][10]\n",
    "testDate =pd.date_range(start=startDate, end= endDate ,freq=\"D\").tolist()\n",
    "int(dataframe.loc[0,:][4].split(\":\")[0])"
   ]
  },
  {
   "cell_type": "code",
   "execution_count": 11,
   "metadata": {
    "collapsed": true,
    "jupyter": {
     "outputs_hidden": true
    }
   },
   "outputs": [
    {
     "name": "stdout",
     "output_type": "stream",
     "text": [
      "Wall time: 0 ns\n"
     ]
    }
   ],
   "source": [
    "%%time\n",
    "def formatTidyData(paramDataframe):\n",
    "    '''\n",
    "    input: dataframe \n",
    "    \n",
    "    transform: take each row of input dataframe / make each row of output for each valid date between eff and             discontinue date \n",
    "\n",
    "    output dataframe \n",
    "    '''\n",
    "    Row_list =paramDataframe.values.tolist()\n",
    "    masterList =[]\n",
    "    for xray in Row_list:\n",
    "            startDate = xray[9]+\"-\"+xray[4]\n",
    "            startDate = pd.to_datetime(startDate,format='%d-%m-%y-%h:%M', infer_datetime_format=True, utc=False)\n",
    "            endDate = xray[10]+\"-\"+xray[4]\n",
    "            endDate = pd.to_datetime(endDate,format='%d-%m-%y-%h:%M', infer_datetime_format=True, utc=False)\n",
    "            #TODO : refactor startDate and Date can be directly given as strings \n",
    "            requiredRange =pd.date_range(startDate, endDate, freq='D').tolist()\n",
    "            daysList = str(xray[2]).replace(\".\",\"\")\n",
    "            \n",
    "            for alpha in requiredRange:\n",
    "                # weekday starts at 0 hence 1 is added \n",
    "                if str(alpha.weekday()+1) in daysList:\n",
    "                    # TODO : refactor use .replace method to set required minutes and hours \n",
    "                    depDate = str(alpha.date())+\"-\"+xray[4]\n",
    "                    depDate = pd.to_datetime(depDate,format='%d-%m-%y-%h:%M', infer_datetime_format=True, utc=False)\n",
    "                    arrDate = str(alpha.date())+\"-\"+xray[6]\n",
    "                    arrDate = pd.to_datetime(arrDate,format='%d-%m-%y-%h:%M', infer_datetime_format=True, utc=False)\n",
    "                    masterList.append([xray[0],xray[1],xray[3],xray[5],xray[7],xray[8],xray[11],depDate,arrDate])\n",
    "    return pd.DataFrame(masterList,columns=[\"Text_Comment\",\"Flt_Desg\",\"Dept_Arp\",\"Arvl_Arp\",\"Subfleet\",\"Block_Time\",\"Service_Type\",\"aocs_dep\",\"aocs_arr\"])\n",
    "\n",
    "        \n",
    "\n",
    "#Wall time: 34.8 s\n",
    "# 44.8 s ± 4.3 s per loop (mean ± std. dev. of 7 runs, 1 loop each) with time it\n",
    "# 41.6 s ± 6.39 s per loop (mean ± std. dev. of 7 runs, 1 loop each)"
   ]
  },
  {
   "cell_type": "code",
   "execution_count": 12,
   "metadata": {
    "collapsed": true,
    "jupyter": {
     "outputs_hidden": true
    }
   },
   "outputs": [
    {
     "name": "stdout",
     "output_type": "stream",
     "text": [
      "Wall time: 45.7 s\n"
     ]
    }
   ],
   "source": [
    "%%time\n",
    "testpd = formatTidyData(dataframe)\n"
   ]
  },
  {
   "cell_type": "code",
   "execution_count": 13,
   "metadata": {
    "collapsed": true,
    "jupyter": {
     "outputs_hidden": true
    }
   },
   "outputs": [
    {
     "data": {
      "text/html": [
       "<div>\n",
       "<style scoped>\n",
       "    .dataframe tbody tr th:only-of-type {\n",
       "        vertical-align: middle;\n",
       "    }\n",
       "\n",
       "    .dataframe tbody tr th {\n",
       "        vertical-align: top;\n",
       "    }\n",
       "\n",
       "    .dataframe thead th {\n",
       "        text-align: right;\n",
       "    }\n",
       "</style>\n",
       "<table border=\"1\" class=\"dataframe\">\n",
       "  <thead>\n",
       "    <tr style=\"text-align: right;\">\n",
       "      <th></th>\n",
       "      <th>Text_Comment</th>\n",
       "      <th>Flt_Desg</th>\n",
       "      <th>Dept_Arp</th>\n",
       "      <th>Arvl_Arp</th>\n",
       "      <th>Subfleet</th>\n",
       "      <th>Block_Time</th>\n",
       "      <th>Service_Type</th>\n",
       "      <th>aocs_dep</th>\n",
       "      <th>aocs_arr</th>\n",
       "    </tr>\n",
       "  </thead>\n",
       "  <tbody>\n",
       "    <tr>\n",
       "      <th>0</th>\n",
       "      <td>A001</td>\n",
       "      <td>6E 6269</td>\n",
       "      <td>BLR</td>\n",
       "      <td>MAA</td>\n",
       "      <td>6E 32S</td>\n",
       "      <td>1:05</td>\n",
       "      <td>J</td>\n",
       "      <td>2021-03-28 07:10:00</td>\n",
       "      <td>2021-03-28 08:15:00</td>\n",
       "    </tr>\n",
       "    <tr>\n",
       "      <th>1</th>\n",
       "      <td>A001</td>\n",
       "      <td>6E 6269</td>\n",
       "      <td>BLR</td>\n",
       "      <td>MAA</td>\n",
       "      <td>6E 32S</td>\n",
       "      <td>1:05</td>\n",
       "      <td>J</td>\n",
       "      <td>2021-03-29 07:10:00</td>\n",
       "      <td>2021-03-29 08:15:00</td>\n",
       "    </tr>\n",
       "    <tr>\n",
       "      <th>2</th>\n",
       "      <td>A001</td>\n",
       "      <td>6E 6269</td>\n",
       "      <td>BLR</td>\n",
       "      <td>MAA</td>\n",
       "      <td>6E 32S</td>\n",
       "      <td>1:05</td>\n",
       "      <td>J</td>\n",
       "      <td>2021-03-30 07:10:00</td>\n",
       "      <td>2021-03-30 08:15:00</td>\n",
       "    </tr>\n",
       "    <tr>\n",
       "      <th>3</th>\n",
       "      <td>A001</td>\n",
       "      <td>6E 6269</td>\n",
       "      <td>BLR</td>\n",
       "      <td>MAA</td>\n",
       "      <td>6E 32S</td>\n",
       "      <td>1:05</td>\n",
       "      <td>J</td>\n",
       "      <td>2021-03-31 07:10:00</td>\n",
       "      <td>2021-03-31 08:15:00</td>\n",
       "    </tr>\n",
       "    <tr>\n",
       "      <th>4</th>\n",
       "      <td>A001</td>\n",
       "      <td>6E 6269</td>\n",
       "      <td>BLR</td>\n",
       "      <td>MAA</td>\n",
       "      <td>6E 32S</td>\n",
       "      <td>1:05</td>\n",
       "      <td>J</td>\n",
       "      <td>2021-04-01 07:10:00</td>\n",
       "      <td>2021-04-01 08:15:00</td>\n",
       "    </tr>\n",
       "  </tbody>\n",
       "</table>\n",
       "</div>"
      ],
      "text/plain": [
       "  Text_Comment Flt_Desg Dept_Arp Arvl_Arp Subfleet Block_Time Service_Type  \\\n",
       "0         A001  6E 6269      BLR      MAA   6E 32S       1:05            J   \n",
       "1         A001  6E 6269      BLR      MAA   6E 32S       1:05            J   \n",
       "2         A001  6E 6269      BLR      MAA   6E 32S       1:05            J   \n",
       "3         A001  6E 6269      BLR      MAA   6E 32S       1:05            J   \n",
       "4         A001  6E 6269      BLR      MAA   6E 32S       1:05            J   \n",
       "\n",
       "             aocs_dep            aocs_arr  \n",
       "0 2021-03-28 07:10:00 2021-03-28 08:15:00  \n",
       "1 2021-03-29 07:10:00 2021-03-29 08:15:00  \n",
       "2 2021-03-30 07:10:00 2021-03-30 08:15:00  \n",
       "3 2021-03-31 07:10:00 2021-03-31 08:15:00  \n",
       "4 2021-04-01 07:10:00 2021-04-01 08:15:00  "
      ]
     },
     "execution_count": 13,
     "metadata": {},
     "output_type": "execute_result"
    }
   ],
   "source": [
    "testpd.head()"
   ]
  },
  {
   "cell_type": "code",
   "execution_count": 14,
   "metadata": {
    "collapsed": true,
    "jupyter": {
     "outputs_hidden": true
    }
   },
   "outputs": [
    {
     "name": "stdout",
     "output_type": "stream",
     "text": [
      "Wall time: 1.13 s\n"
     ]
    }
   ],
   "source": [
    "%%time\n",
    "# list(array of all days in our data )\n",
    "uniqueDates = np.sort(testpd[\"aocs_dep\"].dt.date.unique())\n",
    "#list of all unique airports \n",
    "aiportList = np.sort(testpd[\"Dept_Arp\"].unique())\n",
    "\n",
    "# list of Comment List which are unique \n",
    "textCommentList = testpd[\"Text_Comment\"].unique()\n",
    "#list of all unique flightNumbers\n",
    "flightNumberUniqueList = np.sort(testpd[\"Flt_Desg\"].unique())\n",
    "\n",
    "# adding column \"engg_arr\" and \"deptype\"\n",
    "testpd[\"engg_arr\"]= np.nan\n",
    "testpd[\"engg_dep\"]= np.nan\n",
    "testpd[\"deptype\"]= np.nan\n",
    "\n",
    "\n",
    "# making block time as time delta in python \n",
    "testpd[\"Block_Time\"]= testpd[\"Block_Time\"].astype(\"str\")\n",
    "splitString = testpd[\"Block_Time\"].str.split(':', expand=True).astype(int)\n",
    "testpd[\"Block_Time\"] = pd.to_timedelta(splitString[0], unit='h') + pd.to_timedelta(splitString[1], unit='m')\n",
    "\n",
    "\n",
    "# Adding datatypes of columns for performance improbement \n",
    "testpd= testpd.astype({\"deptype\":\"string\",\"engg_arr\":\"datetime64[ns]\",\"engg_dep\":\"datetime64[ns]\",\"Flt_Desg\":\"string\",\"Block_Time\":\"timedelta64[ns]\"})\n",
    "\n",
    "# reorder columns\n",
    "testpd= testpd[['Dept_Arp', 'engg_arr', 'Flt_Desg', 'Text_Comment', 'Subfleet','Arvl_Arp',  'aocs_dep','engg_dep', 'aocs_arr','deptype',  'Block_Time','Service_Type']]\n",
    "\n",
    "# testpd.info()\n"
   ]
  },
  {
   "cell_type": "code",
   "execution_count": 15,
   "metadata": {
    "collapsed": true,
    "jupyter": {
     "outputs_hidden": true
    }
   },
   "outputs": [],
   "source": [
    "# make last row \n",
    "\n",
    "# def make_last_row(onedf):\n",
    "#     deepcopy = onedf.copy()\n",
    "#     temp_false_list = []\n",
    "#     if len(deepcopy) == 1:\n",
    "#         return deepcopy\n",
    "#     else:\n",
    "#         for india in range(onedf.shape[1]):\n",
    "#             temp_false_list.append(np.nan)\n",
    "#         deepcopy.loc[len(onedf)] = temp_false_list\n",
    "#         # tempSeries = pd.DataFrame(temp_false_list, columns)\n",
    "\n",
    "#         # deepcopy = pd.concat([deepcopy,tempSeries], ignore_index=True)\n",
    "#         deepcopy.reset_index(drop=True, inplace=True)\n",
    "#         deepcopy.at[(len(deepcopy)-1), \"Dept_Arp\" ] =deepcopy.at[(len(deepcopy)-2), \"Arvl_Arp\" ]\n",
    "#         deepcopy.at[(len(deepcopy)-1), \"Flt_Desg\" ] =deepcopy.at[(len(deepcopy)-2), \"Flt_Desg\" ]\n",
    "#         deepcopy.at[(len(deepcopy)-1), \"engg_arr\" ] =deepcopy.at[(len(deepcopy)-2), \"aocs_dep\"]\n",
    "#         deepcopy.at[(len(deepcopy)-1), \"Text_Comment\" ] =deepcopy.at[(len(onedf)-2), \"Text_Comment\"]\n",
    "#         deepcopy.at[(len(deepcopy)-1), \"Subfleet\" ] =deepcopy.at[(len(onedf)-2), \"Subfleet\"]\n",
    "        \n",
    "#         return deepcopy\n",
    "\n",
    "\n",
    "\n",
    "\n"
   ]
  },
  {
   "cell_type": "code",
   "execution_count": 16,
   "metadata": {
    "collapsed": true,
    "jupyter": {
     "outputs_hidden": true
    }
   },
   "outputs": [],
   "source": [
    "\n",
    "# def AddBaseArrDep(paramdf):\n",
    "#     '''\n",
    "#     Modify first and last row for base Departure and base arrival model \n",
    "#     '''\n",
    "#     onedf = paramdf.copy()\n",
    "#     onedf.reset_index(drop=True, inplace=True)\n",
    "#     if len(onedf)==1:\n",
    "#         # edge case of only one departure for one text comment\n",
    "#         onedf.at[0,\"deptype\"] = \"baseDep\"\n",
    "#         onedf.at[0,\"engg_dep\"] = onedf.at[0,\"aocs_dep\"]\n",
    "#         return onedf\n",
    "#     else:\n",
    "\n",
    "#         for xray in range(0,len(onedf)):\n",
    "#             if xray  == 0:\n",
    "#                 onedf.at[xray,\"deptype\"] = \"baseDep\"\n",
    "#                 onedf.at[xray,\"engg_dep\"] = onedf.at[xray,\"aocs_dep\"]\n",
    "#             elif xray == len(onedf)-1:\n",
    "#                 onedf.at[xray,\"deptype\"] = \"baseArr\"\n",
    "#             else:\n",
    "#                 onedf.at[xray,\"engg_arr\"] = onedf.at[(xray-1),\"aocs_arr\"]\n",
    "#                 onedf.at[xray,\"engg_dep\"] = onedf.at[(xray),\"aocs_dep\"]\n",
    "#                 onedf.at[xray,\"deptype\"] = \"Transit\"\n",
    "#         return onedf\n",
    "\n",
    "\n",
    "\n"
   ]
  },
  {
   "cell_type": "code",
   "execution_count": 17,
   "metadata": {
    "collapsed": true,
    "jupyter": {
     "outputs_hidden": true
    }
   },
   "outputs": [],
   "source": [
    " \n",
    " def addlastRowArrDep(paramdf):\n",
    "     # temporary make columns consistent \n",
    "     paramdf = paramdf[['Dept_Arp', 'engg_arr', 'Flt_Desg', 'Text_Comment', 'Subfleet','Arvl_Arp',  'aocs_dep','engg_dep', 'aocs_arr','deptype',  'Block_Time','Service_Type']]\n",
    "     # edge case of only one departure for one text comment\n",
    "     if  (len(paramdf.to_numpy()) == 1):\n",
    "         temparray= paramdf.to_numpy()\n",
    "         temparray[0][9]= \"baseDep\"\n",
    "         temparray[0][7] = temparray[0][6]\n",
    "         return temparray\n",
    "     else:\n",
    "            temparray = np.append(\n",
    "                paramdf.to_numpy(),np.full((1, 12), np.nan),axis=0)\n",
    "            temparray[len(temparray)-1][0:2]=temparray[len(temparray)-2][5:7]\n",
    "            temparray[len(temparray)-1][2:5]=temparray[len(temparray)-2][2:5]\n",
    "            for xray in range(0,len(temparray)):\n",
    "                if xray == 0:\n",
    "                    # onedf.at[xray,\"deptype\"] = \"baseDep\"\n",
    "                    temparray[xray][9]= \"baseDep\"\n",
    "                    # onedf.at[xray,\"engg_dep\"] = onedf.at[xray,\"aocs_dep\"]\n",
    "                    temparray[xray][7] = temparray[xray][6]\n",
    "                elif  xray == len(temparray)-1:\n",
    "                    # onedf.at[xray,\"deptype\"] = \"baseArr\"\n",
    "                    temparray[xray][9]= \"baseArr\"\n",
    "                else:\n",
    "                    # onedf.at[xray,\"engg_arr\"] = onedf.at[(xray-1),\"aocs_arr\"]\n",
    "                    temparray[xray][1] = temparray[xray-1][8]\n",
    "                    # onedf.at[xray,\"engg_dep\"] = onedf.at[(xray),\"aocs_dep\"]\n",
    "                    temparray[xray][7] = temparray[xray][6]\n",
    "                    # onedf.at[xray,\"deptype\"] = \"Transit\"\n",
    "                    temparray[xray][9]= \"Transit\"\n",
    "            return temparray    \n",
    "\n",
    "\n",
    "\n",
    "\n",
    "\n",
    "\n"
   ]
  },
  {
   "cell_type": "code",
   "execution_count": 18,
   "metadata": {
    "collapsed": true,
    "jupyter": {
     "outputs_hidden": true
    }
   },
   "outputs": [],
   "source": [
    "# %%time\n",
    "# y_df =testpd.loc[(testpd[\"Text_Comment\"]== textCommentList[0] ) & (testpd[\"aocs_dep\"].dt.date==uniqueDates[3])]\n",
    "# y_df= y_df.copy()\n",
    "# y_df =  make_last_row(y_df)\n",
    "# y_df = AddBaseArrDep(y_df)\n",
    "# y_df = y_df[['Dept_Arp', 'engg_arr', 'Flt_Desg', 'Text_Comment', 'Subfleet','Arvl_Arp',  'aocs_dep','engg_dep', 'aocs_arr','deptype',  'Block_Time','Service_Type']]\n",
    "# y_df"
   ]
  },
  {
   "cell_type": "code",
   "execution_count": 19,
   "metadata": {
    "collapsed": true,
    "jupyter": {
     "outputs_hidden": true
    }
   },
   "outputs": [],
   "source": [
    "# %%time\n",
    "# zuludf =  testpd.loc[(testpd[\"Text_Comment\"]== textCommentList[0] ) & (testpd[\"aocs_dep\"].dt.date==uniqueDates[3])]\n",
    "# zuludf=zuludf.copy()\n",
    "# temparray = addlastRowArrDep(zuludf)\n",
    "# masterArray =[]           \n",
    "# [masterArray.append(zulu)  for zulu in temparray ]\n",
    "# pd.DataFrame(masterArray, columns = ['Dept_Arp', 'engg_arr', 'Flt_Desg', 'Text_Comment', 'Subfleet','Arvl_Arp',  'aocs_dep','engg_dep', 'aocs_arr','deptype',  'Block_Time','Service_Type'])\n",
    "\n",
    "\n"
   ]
  },
  {
   "cell_type": "code",
   "execution_count": 20,
   "metadata": {
    "collapsed": true,
    "jupyter": {
     "outputs_hidden": true
    }
   },
   "outputs": [
    {
     "name": "stdout",
     "output_type": "stream",
     "text": [
      "Wall time: 5min 35s\n"
     ]
    }
   ],
   "source": [
    "%%time\n",
    "masterList=[]\n",
    "for xray in textCommentList:\n",
    "    for alpha in uniqueDates:\n",
    "        # filtering dataframe on CommentValue and uniqueDateValue\n",
    "        x_df =testpd.loc[(testpd[\"Text_Comment\"]== xray) & (testpd[\"aocs_dep\"].dt.date==alpha)]\n",
    "        # check if dataframe is empty\n",
    "        if len(x_df) == 0:\n",
    "            continue\n",
    "        # sorting by aocs_dep for safety \n",
    "        x_df= x_df.sort_values(by=[\"aocs_dep\"], ascending=True)\n",
    "        # # calling function \"make_last_row\"\n",
    "        # x_df = make_last_row(x_df)\n",
    "        # # calling function\n",
    "        # x_df  = AddBaseArrDep(x_df)\n",
    "        # # to do -: \n",
    "        # for zulu in x_df.values.tolist():\n",
    "        #     masterList.append(zulu)\n",
    "        # for performance shifting to np array \n",
    "        x_df = addlastRowArrDep(x_df)\n",
    "        [masterList.append(zulu)  for zulu in x_df ] \n",
    "\n",
    "\n",
    "\n",
    "\n",
    "\n",
    "\n",
    "#Wall time: 6min 25s with proper categories defined \n",
    "# Wall time: 6min 25s string\n",
    "# Wall time: 5min 25s accesor changed to at \n",
    "# Wall time: 4min 55s 3 categories given as string \n",
    "# Wall time: 6min 16s inplace = True\n",
    "# <timed exec>:10: SettingWithCopyWarning: \n",
    "# A value is trying to be set on a copy of a slice from a DataFrame\n",
    "\n",
    "# See the caveats in the documentation: https://pandas.pydata.org/pandas-docs/stable/user_guide/indexing.html#returning-a-view-versus-a-copy\n",
    "# Wall time: 3min 44s\n",
    "# Wall time: 4min 1s\n",
    "\n",
    "#Wall time: 3min 44s inplace = True removed instaed of to values two numpy used\n",
    "#Wall time: 5min 13s old method \n",
    "# Wall time: 5min 35s month April"
   ]
  },
  {
   "cell_type": "code",
   "execution_count": 21,
   "metadata": {
    "collapsed": true,
    "jupyter": {
     "outputs_hidden": true
    }
   },
   "outputs": [
    {
     "name": "stdout",
     "output_type": "stream",
     "text": [
      "Wall time: 660 ms\n"
     ]
    },
    {
     "data": {
      "text/html": [
       "<div>\n",
       "<style scoped>\n",
       "    .dataframe tbody tr th:only-of-type {\n",
       "        vertical-align: middle;\n",
       "    }\n",
       "\n",
       "    .dataframe tbody tr th {\n",
       "        vertical-align: top;\n",
       "    }\n",
       "\n",
       "    .dataframe thead th {\n",
       "        text-align: right;\n",
       "    }\n",
       "</style>\n",
       "<table border=\"1\" class=\"dataframe\">\n",
       "  <thead>\n",
       "    <tr style=\"text-align: right;\">\n",
       "      <th></th>\n",
       "      <th>Dept_Arp</th>\n",
       "      <th>engg_arr</th>\n",
       "      <th>Flt_Desg</th>\n",
       "      <th>Text_Comment</th>\n",
       "      <th>Subfleet</th>\n",
       "      <th>Arvl_Arp</th>\n",
       "      <th>aocs_dep</th>\n",
       "      <th>engg_dep</th>\n",
       "      <th>aocs_arr</th>\n",
       "      <th>deptype</th>\n",
       "      <th>Block_Time</th>\n",
       "      <th>Service_Type</th>\n",
       "    </tr>\n",
       "  </thead>\n",
       "  <tbody>\n",
       "    <tr>\n",
       "      <th>0</th>\n",
       "      <td>BLR</td>\n",
       "      <td>NaT</td>\n",
       "      <td>6E 6269</td>\n",
       "      <td>A001</td>\n",
       "      <td>6E 32S</td>\n",
       "      <td>MAA</td>\n",
       "      <td>2021-03-28 07:10:00</td>\n",
       "      <td>2021-03-28 07:10:00</td>\n",
       "      <td>2021-03-28 08:15:00</td>\n",
       "      <td>baseDep</td>\n",
       "      <td>0 days 01:05:00</td>\n",
       "      <td>J</td>\n",
       "    </tr>\n",
       "    <tr>\n",
       "      <th>1</th>\n",
       "      <td>MAA</td>\n",
       "      <td>2021-03-28 08:15:00</td>\n",
       "      <td>6E 0991</td>\n",
       "      <td>A001</td>\n",
       "      <td>6E 32S</td>\n",
       "      <td>DEL</td>\n",
       "      <td>2021-03-28 08:50:00</td>\n",
       "      <td>2021-03-28 08:50:00</td>\n",
       "      <td>2021-03-28 11:50:00</td>\n",
       "      <td>Transit</td>\n",
       "      <td>0 days 03:00:00</td>\n",
       "      <td>J</td>\n",
       "    </tr>\n",
       "    <tr>\n",
       "      <th>2</th>\n",
       "      <td>DEL</td>\n",
       "      <td>2021-03-28 11:50:00</td>\n",
       "      <td>6E 0657</td>\n",
       "      <td>A001</td>\n",
       "      <td>6E 32S</td>\n",
       "      <td>PAT</td>\n",
       "      <td>2021-03-28 12:40:00</td>\n",
       "      <td>2021-03-28 12:40:00</td>\n",
       "      <td>2021-03-28 14:20:00</td>\n",
       "      <td>Transit</td>\n",
       "      <td>0 days 01:40:00</td>\n",
       "      <td>J</td>\n",
       "    </tr>\n",
       "    <tr>\n",
       "      <th>3</th>\n",
       "      <td>PAT</td>\n",
       "      <td>2021-03-28 14:20:00</td>\n",
       "      <td>6E 0286</td>\n",
       "      <td>A001</td>\n",
       "      <td>6E 32S</td>\n",
       "      <td>DEL</td>\n",
       "      <td>2021-03-28 14:50:00</td>\n",
       "      <td>2021-03-28 14:50:00</td>\n",
       "      <td>2021-03-28 16:25:00</td>\n",
       "      <td>Transit</td>\n",
       "      <td>0 days 01:35:00</td>\n",
       "      <td>J</td>\n",
       "    </tr>\n",
       "    <tr>\n",
       "      <th>4</th>\n",
       "      <td>DEL</td>\n",
       "      <td>2021-03-28 16:25:00</td>\n",
       "      <td>6E 0286</td>\n",
       "      <td>A001</td>\n",
       "      <td>6E 32S</td>\n",
       "      <td>PNQ</td>\n",
       "      <td>2021-03-28 17:20:00</td>\n",
       "      <td>2021-03-28 17:20:00</td>\n",
       "      <td>2021-03-28 19:15:00</td>\n",
       "      <td>Transit</td>\n",
       "      <td>0 days 01:55:00</td>\n",
       "      <td>J</td>\n",
       "    </tr>\n",
       "    <tr>\n",
       "      <th>...</th>\n",
       "      <td>...</td>\n",
       "      <td>...</td>\n",
       "      <td>...</td>\n",
       "      <td>...</td>\n",
       "      <td>...</td>\n",
       "      <td>...</td>\n",
       "      <td>...</td>\n",
       "      <td>...</td>\n",
       "      <td>...</td>\n",
       "      <td>...</td>\n",
       "      <td>...</td>\n",
       "      <td>...</td>\n",
       "    </tr>\n",
       "    <tr>\n",
       "      <th>47582</th>\n",
       "      <td>BLR</td>\n",
       "      <td>2021-04-30 15:20:00</td>\n",
       "      <td>6E 7162</td>\n",
       "      <td>ATR_001</td>\n",
       "      <td>6E ATR</td>\n",
       "      <td>HBX</td>\n",
       "      <td>2021-04-30 15:55:00</td>\n",
       "      <td>2021-04-30 15:55:00</td>\n",
       "      <td>2021-04-30 17:25:00</td>\n",
       "      <td>Transit</td>\n",
       "      <td>0 days 01:30:00</td>\n",
       "      <td>J</td>\n",
       "    </tr>\n",
       "    <tr>\n",
       "      <th>47583</th>\n",
       "      <td>HBX</td>\n",
       "      <td>2021-04-30 17:25:00</td>\n",
       "      <td>6E 7995</td>\n",
       "      <td>ATR_001</td>\n",
       "      <td>6E ATR</td>\n",
       "      <td>GOI</td>\n",
       "      <td>2021-04-30 17:55:00</td>\n",
       "      <td>2021-04-30 17:55:00</td>\n",
       "      <td>2021-04-30 18:40:00</td>\n",
       "      <td>Transit</td>\n",
       "      <td>0 days 00:45:00</td>\n",
       "      <td>J</td>\n",
       "    </tr>\n",
       "    <tr>\n",
       "      <th>47584</th>\n",
       "      <td>GOI</td>\n",
       "      <td>2021-04-30 18:40:00</td>\n",
       "      <td>6E 7996</td>\n",
       "      <td>ATR_001</td>\n",
       "      <td>6E ATR</td>\n",
       "      <td>HBX</td>\n",
       "      <td>2021-04-30 19:10:00</td>\n",
       "      <td>2021-04-30 19:10:00</td>\n",
       "      <td>2021-04-30 20:00:00</td>\n",
       "      <td>Transit</td>\n",
       "      <td>0 days 00:50:00</td>\n",
       "      <td>J</td>\n",
       "    </tr>\n",
       "    <tr>\n",
       "      <th>47585</th>\n",
       "      <td>HBX</td>\n",
       "      <td>2021-04-30 20:00:00</td>\n",
       "      <td>6E 7161</td>\n",
       "      <td>ATR_001</td>\n",
       "      <td>6E ATR</td>\n",
       "      <td>BLR</td>\n",
       "      <td>2021-04-30 20:30:00</td>\n",
       "      <td>2021-04-30 20:30:00</td>\n",
       "      <td>2021-04-30 21:45:00</td>\n",
       "      <td>Transit</td>\n",
       "      <td>0 days 01:15:00</td>\n",
       "      <td>J</td>\n",
       "    </tr>\n",
       "    <tr>\n",
       "      <th>47586</th>\n",
       "      <td>BLR</td>\n",
       "      <td>2021-04-30 20:30:00</td>\n",
       "      <td>6E 7161</td>\n",
       "      <td>ATR_001</td>\n",
       "      <td>6E ATR</td>\n",
       "      <td>NaN</td>\n",
       "      <td>NaT</td>\n",
       "      <td>NaT</td>\n",
       "      <td>NaT</td>\n",
       "      <td>baseArr</td>\n",
       "      <td>NaT</td>\n",
       "      <td>NaN</td>\n",
       "    </tr>\n",
       "  </tbody>\n",
       "</table>\n",
       "<p>47587 rows × 12 columns</p>\n",
       "</div>"
      ],
      "text/plain": [
       "      Dept_Arp            engg_arr Flt_Desg Text_Comment Subfleet Arvl_Arp  \\\n",
       "0          BLR                 NaT  6E 6269         A001   6E 32S      MAA   \n",
       "1          MAA 2021-03-28 08:15:00  6E 0991         A001   6E 32S      DEL   \n",
       "2          DEL 2021-03-28 11:50:00  6E 0657         A001   6E 32S      PAT   \n",
       "3          PAT 2021-03-28 14:20:00  6E 0286         A001   6E 32S      DEL   \n",
       "4          DEL 2021-03-28 16:25:00  6E 0286         A001   6E 32S      PNQ   \n",
       "...        ...                 ...      ...          ...      ...      ...   \n",
       "47582      BLR 2021-04-30 15:20:00  6E 7162      ATR_001   6E ATR      HBX   \n",
       "47583      HBX 2021-04-30 17:25:00  6E 7995      ATR_001   6E ATR      GOI   \n",
       "47584      GOI 2021-04-30 18:40:00  6E 7996      ATR_001   6E ATR      HBX   \n",
       "47585      HBX 2021-04-30 20:00:00  6E 7161      ATR_001   6E ATR      BLR   \n",
       "47586      BLR 2021-04-30 20:30:00  6E 7161      ATR_001   6E ATR      NaN   \n",
       "\n",
       "                 aocs_dep            engg_dep            aocs_arr  deptype  \\\n",
       "0     2021-03-28 07:10:00 2021-03-28 07:10:00 2021-03-28 08:15:00  baseDep   \n",
       "1     2021-03-28 08:50:00 2021-03-28 08:50:00 2021-03-28 11:50:00  Transit   \n",
       "2     2021-03-28 12:40:00 2021-03-28 12:40:00 2021-03-28 14:20:00  Transit   \n",
       "3     2021-03-28 14:50:00 2021-03-28 14:50:00 2021-03-28 16:25:00  Transit   \n",
       "4     2021-03-28 17:20:00 2021-03-28 17:20:00 2021-03-28 19:15:00  Transit   \n",
       "...                   ...                 ...                 ...      ...   \n",
       "47582 2021-04-30 15:55:00 2021-04-30 15:55:00 2021-04-30 17:25:00  Transit   \n",
       "47583 2021-04-30 17:55:00 2021-04-30 17:55:00 2021-04-30 18:40:00  Transit   \n",
       "47584 2021-04-30 19:10:00 2021-04-30 19:10:00 2021-04-30 20:00:00  Transit   \n",
       "47585 2021-04-30 20:30:00 2021-04-30 20:30:00 2021-04-30 21:45:00  Transit   \n",
       "47586                 NaT                 NaT                 NaT  baseArr   \n",
       "\n",
       "           Block_Time Service_Type  \n",
       "0     0 days 01:05:00            J  \n",
       "1     0 days 03:00:00            J  \n",
       "2     0 days 01:40:00            J  \n",
       "3     0 days 01:35:00            J  \n",
       "4     0 days 01:55:00            J  \n",
       "...               ...          ...  \n",
       "47582 0 days 01:30:00            J  \n",
       "47583 0 days 00:45:00            J  \n",
       "47584 0 days 00:50:00            J  \n",
       "47585 0 days 01:15:00            J  \n",
       "47586             NaT          NaN  \n",
       "\n",
       "[47587 rows x 12 columns]"
      ]
     },
     "execution_count": 21,
     "metadata": {},
     "output_type": "execute_result"
    }
   ],
   "source": [
    "%%time\n",
    "cleanDf = pd.DataFrame(masterList,columns=['Dept_Arp', 'engg_arr', 'Flt_Desg', 'Text_Comment', 'Subfleet','Arvl_Arp',  'aocs_dep','engg_dep', 'aocs_arr','deptype',  'Block_Time','Service_Type'])\n",
    "cleanDf\n",
    "# current time using nparray 50 ms using array \n",
    "# current time using pythonlist  = Wall time: 175 ms\n",
    "# Wall time: 412 ms with first performance improvement\n",
    "# Wall time: 525 ms with all non time as strngs\n",
    "# Wall time: 343 ms accesor changed to at \n",
    "# Wall time: 543 ms with some as string\n",
    "# Wall time: 493 ms\n",
    "# 40045 rows × 12 columns using the numpy method \n",
    "# Wall time: 274 ms old method \n",
    "# 40044 rows × 12 columns old numpy method"
   ]
  },
  {
   "cell_type": "code",
   "execution_count": null,
   "metadata": {
    "collapsed": true,
    "jupyter": {
     "outputs_hidden": true
    }
   },
   "outputs": [],
   "source": []
  },
  {
   "cell_type": "code",
   "execution_count": 15,
   "metadata": {
    "collapsed": true,
    "jupyter": {
     "outputs_hidden": true
    },
    "tags": []
   },
   "outputs": [
    {
     "data": {
      "text/plain": [
       "Dept_Arp                 object\n",
       "engg_arr         datetime64[ns]\n",
       "Flt_Desg                 object\n",
       "Text_Comment             object\n",
       "Subfleet                 object\n",
       "Arvl_Arp                 object\n",
       "aocs_dep         datetime64[ns]\n",
       "engg_dep         datetime64[ns]\n",
       "aocs_arr         datetime64[ns]\n",
       "deptype                  object\n",
       "Block_Time      timedelta64[ns]\n",
       "Service_Type             object\n",
       "dtype: object"
      ]
     },
     "execution_count": 15,
     "metadata": {},
     "output_type": "execute_result"
    }
   ],
   "source": [
    "# %%timeit\n",
    "cleanDf.dtypes"
   ]
  },
  {
   "cell_type": "code",
   "execution_count": 16,
   "metadata": {
    "collapsed": true,
    "jupyter": {
     "outputs_hidden": true
    }
   },
   "outputs": [],
   "source": [
    "# Adding datatypes of columns for performance improbement \n",
    "# testpd= testpd.astype({\"deptype\":\"category\",\"Service_Type\":\"category\",\"Dept_Arp\":\"category\",\"Arvl_Arp\":\"category\",\"Text_Comment\":\"category\",\"Subfleet\":\"category\",\"engg_arr\":\"datetime64[ns]\",\"engg_dep\":\"datetime64[ns]\",\"Flt_Desg\":\"category\",\"Block_Time\":\"timedelta64[ns]\"})"
   ]
  },
  {
   "cell_type": "markdown",
   "metadata": {},
   "source": [
    "- [ ] A juypter notebook needs to be tested for two things memory and performance "
   ]
  },
  {
   "cell_type": "code",
   "execution_count": 22,
   "metadata": {
    "collapsed": true,
    "jupyter": {
     "outputs_hidden": true
    }
   },
   "outputs": [
    {
     "data": {
      "text/plain": [
       "True"
      ]
     },
     "execution_count": 22,
     "metadata": {},
     "output_type": "execute_result"
    }
   ],
   "source": [
    "# pickle_List = [dataframe,days_sorted_list,dep_airport_list]\n",
    "pickle.dump(cleanDf, open(\"apr_21.p\", \"wb\"))\n",
    "\n",
    "gamma = pickle.load(open(\"apr_21.p\", \"rb\"))\n",
    "\n",
    "gamma.equals(cleanDf)"
   ]
  },
  {
   "cell_type": "code",
   "execution_count": 19,
   "metadata": {
    "collapsed": true,
    "jupyter": {
     "outputs_hidden": true
    }
   },
   "outputs": [],
   "source": [
    "alpha = pickle.load(open(\"gsheet_pickle.p\", \"rb\"))\n"
   ]
  },
  {
   "cell_type": "code",
   "execution_count": 20,
   "metadata": {
    "collapsed": true,
    "jupyter": {
     "outputs_hidden": true
    }
   },
   "outputs": [],
   "source": [
    "# testpd.info()\n",
    "# onedf=testpd.loc[(testpd[\"Text_Comment\"]==\"ATR_55\")]\n",
    "# onedf.info()\n",
    "fourpd = testpd[\"Text_Comment\"].value_counts().reset_index().sort_values('index')\n",
    "fourpd = fourpd.reset_index(drop=True)\n",
    "fourpd= fourpd.rename(columns={\"Text_Comment\":\"jebahComment\"})\n",
    "\n"
   ]
  },
  {
   "cell_type": "code",
   "execution_count": 21,
   "metadata": {
    "collapsed": true,
    "jupyter": {
     "outputs_hidden": true
    }
   },
   "outputs": [],
   "source": [
    "greta =alpha[0]\n",
    "\n",
    "threePd=greta[\"Text Comment\"].value_counts().reset_index().sort_values('index')\n",
    "threePd[\"Text Comment\"]=threePd[\"Text Comment\"].astype(int).floordiv(2)\n",
    "threePd = threePd.reset_index(drop=True)\n",
    "threePd = threePd.rename(columns={\"Text Comment\":\"GretaComment\"})\n",
    "# \n"
   ]
  },
  {
   "cell_type": "code",
   "execution_count": 22,
   "metadata": {
    "collapsed": true,
    "jupyter": {
     "outputs_hidden": true
    }
   },
   "outputs": [
    {
     "data": {
      "text/html": [
       "<div>\n",
       "<style scoped>\n",
       "    .dataframe tbody tr th:only-of-type {\n",
       "        vertical-align: middle;\n",
       "    }\n",
       "\n",
       "    .dataframe tbody tr th {\n",
       "        vertical-align: top;\n",
       "    }\n",
       "\n",
       "    .dataframe thead th {\n",
       "        text-align: right;\n",
       "    }\n",
       "</style>\n",
       "<table border=\"1\" class=\"dataframe\">\n",
       "  <thead>\n",
       "    <tr style=\"text-align: right;\">\n",
       "      <th></th>\n",
       "      <th>index</th>\n",
       "      <th>jebahComment</th>\n",
       "      <th>GretaComment</th>\n",
       "      <th>reqdiff</th>\n",
       "    </tr>\n",
       "  </thead>\n",
       "  <tbody>\n",
       "    <tr>\n",
       "      <th>0</th>\n",
       "      <td>A124</td>\n",
       "      <td>364</td>\n",
       "      <td>252</td>\n",
       "      <td>-112</td>\n",
       "    </tr>\n",
       "    <tr>\n",
       "      <th>1</th>\n",
       "      <td>A126</td>\n",
       "      <td>224</td>\n",
       "      <td>112</td>\n",
       "      <td>-112</td>\n",
       "    </tr>\n",
       "    <tr>\n",
       "      <th>2</th>\n",
       "      <td>A320_31</td>\n",
       "      <td>112</td>\n",
       "      <td>56</td>\n",
       "      <td>-56</td>\n",
       "    </tr>\n",
       "    <tr>\n",
       "      <th>3</th>\n",
       "      <td>A4</td>\n",
       "      <td>168</td>\n",
       "      <td>112</td>\n",
       "      <td>-56</td>\n",
       "    </tr>\n",
       "    <tr>\n",
       "      <th>4</th>\n",
       "      <td>ATR021</td>\n",
       "      <td>216</td>\n",
       "      <td>160</td>\n",
       "      <td>-56</td>\n",
       "    </tr>\n",
       "    <tr>\n",
       "      <th>...</th>\n",
       "      <td>...</td>\n",
       "      <td>...</td>\n",
       "      <td>...</td>\n",
       "      <td>...</td>\n",
       "    </tr>\n",
       "    <tr>\n",
       "      <th>46</th>\n",
       "      <td>A19</td>\n",
       "      <td>72</td>\n",
       "      <td>48</td>\n",
       "      <td>-24</td>\n",
       "    </tr>\n",
       "    <tr>\n",
       "      <th>47</th>\n",
       "      <td>A99</td>\n",
       "      <td>104</td>\n",
       "      <td>80</td>\n",
       "      <td>-24</td>\n",
       "    </tr>\n",
       "    <tr>\n",
       "      <th>48</th>\n",
       "      <td>A320_831</td>\n",
       "      <td>184</td>\n",
       "      <td>164</td>\n",
       "      <td>-20</td>\n",
       "    </tr>\n",
       "    <tr>\n",
       "      <th>49</th>\n",
       "      <td>A103</td>\n",
       "      <td>96</td>\n",
       "      <td>80</td>\n",
       "      <td>-16</td>\n",
       "    </tr>\n",
       "    <tr>\n",
       "      <th>50</th>\n",
       "      <td>A107</td>\n",
       "      <td>200</td>\n",
       "      <td>192</td>\n",
       "      <td>-8</td>\n",
       "    </tr>\n",
       "  </tbody>\n",
       "</table>\n",
       "<p>51 rows × 4 columns</p>\n",
       "</div>"
      ],
      "text/plain": [
       "       index  jebahComment  GretaComment  reqdiff\n",
       "0       A124           364           252     -112\n",
       "1       A126           224           112     -112\n",
       "2    A320_31           112            56      -56\n",
       "3         A4           168           112      -56\n",
       "4     ATR021           216           160      -56\n",
       "..       ...           ...           ...      ...\n",
       "46       A19            72            48      -24\n",
       "47       A99           104            80      -24\n",
       "48  A320_831           184           164      -20\n",
       "49      A103            96            80      -16\n",
       "50      A107           200           192       -8\n",
       "\n",
       "[51 rows x 4 columns]"
      ]
     },
     "execution_count": 22,
     "metadata": {},
     "output_type": "execute_result"
    }
   ],
   "source": [
    "fourpd[\"GretaComment\"]=threePd[\"GretaComment\"]\n",
    "fourpd[\"reqdiff\"]= fourpd[\"GretaComment\"]- fourpd[\"jebahComment\"]\n",
    "fourpd=fourpd[fourpd.reqdiff != 0].sort_values(\"reqdiff\").reset_index(drop=True)\n",
    "fourpd\n",
    "\n"
   ]
  },
  {
   "cell_type": "markdown",
   "metadata": {},
   "source": [
    "- Trying to work with generator "
   ]
  },
  {
   "cell_type": "code",
   "execution_count": 46,
   "metadata": {
    "tags": []
   },
   "outputs": [
    {
     "data": {
      "text/plain": [
       "['Jan-21',\n",
       " 'Feb-21',\n",
       " 'Mar-21',\n",
       " 'Apr-21',\n",
       " 'May-21',\n",
       " 'Jun-21',\n",
       " 'Jul-21',\n",
       " 'Aug-21',\n",
       " 'Sep-21',\n",
       " 'Oct-21',\n",
       " 'Nov-21',\n",
       " 'Dec-21']"
      ]
     },
     "execution_count": 46,
     "metadata": {},
     "output_type": "execute_result"
    }
   ],
   "source": [
    "testDate =pd.date_range(start='1/1/2021', freq=\"MS\",periods=12).strftime(\"%b-%y\").tolist()\n",
    "testDate"
   ]
  },
  {
   "cell_type": "code",
   "execution_count": 45,
   "metadata": {
    "tags": []
   },
   "outputs": [
    {
     "data": {
      "text/plain": [
       "Timestamp('2021-03-28 00:05:00')"
      ]
     },
     "execution_count": 45,
     "metadata": {},
     "output_type": "execute_result"
    }
   ],
   "source": [
    "cleanDf.loc[:,\"engg_dep\"].min()"
   ]
  }
 ],
 "metadata": {
  "kernelspec": {
   "display_name": "Python 3",
   "language": "python",
   "name": "python3"
  },
  "language_info": {
   "codemirror_mode": {
    "name": "ipython",
    "version": 3
   },
   "file_extension": ".py",
   "mimetype": "text/x-python",
   "name": "python",
   "nbconvert_exporter": "python",
   "pygments_lexer": "ipython3",
   "version": "3.8.7"
  },
  "metadata": {
   "interpreter": {
    "hash": "7c8d79756ca17c58910fa5424452d004a4786d8270f2193ff07a87017b701dc4"
   }
  },
  "toc-showtags": true,
  "varInspector": {
   "cols": {
    "lenName": 16,
    "lenType": 16,
    "lenVar": 40
   },
   "kernels_config": {
    "python": {
     "delete_cmd_postfix": "",
     "delete_cmd_prefix": "del ",
     "library": "var_list.py",
     "varRefreshCmd": "print(var_dic_list())"
    },
    "r": {
     "delete_cmd_postfix": ") ",
     "delete_cmd_prefix": "rm(",
     "library": "var_list.r",
     "varRefreshCmd": "cat(var_dic_list()) "
    }
   },
   "types_to_exclude": [
    "module",
    "function",
    "builtin_function_or_method",
    "instance",
    "_Feature"
   ],
   "window_display": false
  }
 },
 "nbformat": 4,
 "nbformat_minor": 4
}
